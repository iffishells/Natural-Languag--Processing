{
 "cells": [
  {
   "cell_type": "markdown",
   "metadata": {},
   "source": [
    "## **Lemmatization**"
   ]
  },
  {
   "cell_type": "code",
   "execution_count": 34,
   "metadata": {},
   "outputs": [],
   "source": [
    "import nltk\n",
    "from nltk.stem import WordNetLemmatizer\n",
    "from nltk.corpus import stopwords\n",
    "from nltk.stem import PorterStemmer\n"
   ]
  },
  {
   "cell_type": "code",
   "execution_count": 35,
   "metadata": {},
   "outputs": [],
   "source": [
    "\n",
    "paragraph = \"\"\"Thank you all so very much. Thank you to the Academy. \n",
    "               Thank you to all of you in this room. I have to congratulate \n",
    "               the other incredible nominees this year. The Revenant was \n",
    "               the product of the tireless efforts of an unbelievable cast\n",
    "               and crew. First off, to my brother in this endeavor, Mr. Tom \n",
    "               Hardy. Tom, your talent on screen can only be surpassed by \n",
    "               your friendship off screen … thank you for creating a t\n",
    "               ranscendent cinematic experience. Thank you to everybody at \n",
    "               Fox and New Regency … my entire team. I have to thank \n",
    "               everyone from the very onset of my career … To my parents; \n",
    "               none of this would be possible without you. And to my \n",
    "               friends, I love you dearly; you know who you are. And lastly,\n",
    "               I just want to say this: Making The Revenant was about\n",
    "               man's relationship to the natural world. A world that we\n",
    "               collectively felt in 2015 as the hottest year in recorded\n",
    "               history. Our production needed to move to the southern\n",
    "               tip of this planet just to be able to find snow. Climate\n",
    "               change is real, it is happening right now. It is the most\n",
    "               urgent threat facing our entire species, and we need to work\n",
    "               collectively together and stop procrastinating. We need to\n",
    "               support leaders around the world who do not speak for the \n",
    "               big polluters, but who speak for all of humanity, for the\n",
    "               indigenous people of the world, for the billions and \n",
    "               billions of underprivileged people out there who would be\n",
    "               most affected by this. For our children’s children, and \n",
    "               for those people out there whose voices have been drowned\n",
    "               out by the politics of greed. I thank you all for this \n",
    "               amazing award tonight. Let us not take this planet for \n",
    "               granted. I do not take tonight for granted. Thank you so very much.\"\"\"\n",
    "# paragraph = ''' \n",
    "# <!DOCTYPE html>\n",
    "# <!--[if IEMobile 7 ]> <html lang=\"en-US\" class=\"no-js iem7\"> <![endif]-->\n",
    "# <!--[if lt IE 7]> <html class=\"ie6 lt-ie10 lt-ie9 lt-ie8 lt-ie7 no-js\" lang=\"en-US\"> <![endif]-->\n",
    "# <!--[if IE 7]>    <html class=\"ie7 lt-ie10 lt-ie9 lt-ie8 no-js\" lang=\"en-US\"> <![endif]-->\n",
    "# <!--[if IE 8]>    <html class=\"ie8 lt-ie10 lt-ie9 no-js\" lang=\"en-US\"> <![endif]-->\n",
    "# <!--[if IE 9]>    <html class=\"ie9 lt-ie10 no-js\" lang=\"en-US\"> <![endif]-->\n",
    "# <!--[if (gte IE 9)|(gt IEMobile 7)|!(IEMobile)|!(IE)]><!--><html class=\"no-js\" lang=\"en-US\"><!--<![endif]-->\n",
    "\n",
    "# <head>\n",
    "# \t<meta http-equiv=\"X-UA-Compatible\" content=\"IE=Edge\" />\n",
    "# <meta http-equiv=\"content-type\" content=\"text/html; charset=UTF-8;charset=utf-8\">\n",
    "# <meta name=\"viewport\" content=\"width=device-width, initial-scale=1, user-scalable=1\" />\n",
    "# <meta name=\"HandheldFriendly\" content=\"true\"/>\n",
    "\n",
    "# <link rel=\"canonical\" href=\"https://duckduckgo.com/chrome_newtab\">\n",
    "\n",
    "# <link rel=\"stylesheet\" href=\"/s1961.css\" type=\"text/css\">\n",
    "\n",
    "# <link rel=\"stylesheet\" href=\"/t1961.css\" type=\"text/css\">\n",
    "\n",
    "\n",
    "\n",
    "# <link rel=\"preload\" href=\"/font/ProximaNova-Reg-webfont.woff2\" as=\"font\" type=\"font/woff2\" crossorigin=\"anonymous\"/>\n",
    "# <link rel=\"preload\" href=\"/font/ProximaNova-Sbold-webfont.woff2\" as=\"font\" type=\"font/woff2\" crossorigin=\"anonymous\"/>\n",
    "# <link rel=\"preload\" href=\"/font/ProximaNova-ExtraBold-webfont.woff2\" as=\"font\" type=\"font/woff2\" crossorigin=\"anonymous\"/>\n",
    "\n",
    "# <link rel=\"shortcut icon\" href=\"/favicon.ico\" type=\"image/x-icon\"/>\n",
    "# <link rel=\"apple-touch-icon\" href=\"/assets/icons/meta/DDG-iOS-icon_60x60.png\"/>\n",
    "# <link rel=\"apple-touch-icon\" sizes=\"76x76\" href=\"/assets/icons/meta/DDG-iOS-icon_76x76.png\"/>\n",
    "# <link rel=\"apple-touch-icon\" sizes=\"120x120\" href=\"/assets/icons/meta/DDG-iOS-icon_120x120.png\"/>\n",
    "# <link rel=\"apple-touch-icon\" sizes=\"152x152\" href=\"/assets/icons/meta/DDG-iOS-icon_152x152.png\"/>\n",
    "# <link rel=\"image_src\" href=\"/assets/icons/meta/DDG-icon_256x256.png\"/>\n",
    "# <link rel=\"manifest\" href=\"/manifest.json\"/>\n",
    "\n",
    "# <meta name=\"twitter:card\" content=\"summary\">\n",
    "# <meta name=\"twitter:site\" value=\"@duckduckgo\">\n",
    "\n",
    "# <meta property=\"og:url\" content=\"https://duckduckgo.com/chrome_newtab\" />\n",
    "# <meta property=\"og:site_name\" content=\"DuckDuckGo\" />\n",
    "# <meta property=\"og:image\" content=\"https://duckduckgo.com/assets/logo_social-media.png\">\n",
    "\n",
    "\n",
    "# \t<title>New Tab</title>\n",
    "# <meta property=\"og:title\" content=\"New Tab\" />\n",
    "\n",
    "\n",
    "\n",
    "# </head>\n",
    "# <body id=\"pg-chrome_newtab\" class=\"page-chrome_newtab body--home\">\n",
    "# \t<script type=\"text/javascript\" src=\"/tl1.js\"></script>\n",
    "# <script type=\"text/javascript\" src=\"/lib/l119.js\"></script>\n",
    "# <script type=\"text/javascript\" src=\"/locale/en_US/duckduckgo14.js\"></script>\n",
    "# <script type=\"text/javascript\" src=\"/util/u531.js\"></script>\n",
    "# <script type=\"text/javascript\" src=\"/d2916.js\"></script>\n",
    "\n",
    "\n",
    "# <script type=\"text/javascript\" src=\"/t1688.js\"></script>\n",
    "\n",
    "\n",
    "# <script type=\"text/javascript\" src=\"/ti1.js\"></script>\n",
    "\n",
    "\n",
    "\n",
    "# \t<div class=\"site-wrapper  site-wrapper--static  js-site-wrapper\">\n",
    "\t\n",
    "\t\t\n",
    "\t\n",
    "\n",
    "# \t\t\t\t\t\t<div class=\"newtab__wrapper js-newtab-page\">\n",
    "#     \t\t<div class=\"logo-wrap--home\">\n",
    "# \t\t\t<a id=\"logo_homepage_link\" class=\"logo_homepage\" href=\"/about\">\n",
    "# \t\t\t\tAbout DuckDuckGo\n",
    "# \t\t\t\t<span class=\"logo_homepage__tt\">Duck it!</span>\n",
    "# \t\t\t</a>\n",
    "# \t\t</div>\n",
    "\n",
    "\n",
    "#     <div class=\"search-wrap--home\">\n",
    "#         <form id=\"search_form_homepage\" class=\"search  search--home  js-search-form\" name=\"x\" method=\"POST\" action=\"https://html.duckduckgo.com/html\">\n",
    "#     <input id=\"search_form_input_homepage\" class=\"search__input  js-search-input\" type=\"text\" autocomplete=\"off\" name=\"q\" tabindex=\"1\" value=\"\">\n",
    "#     <input id=\"search_button_homepage\" class=\"search__button  js-search-button\" type=\"submit\" tabindex=\"2\" value=\"S\" />\n",
    "#     <input id=\"search_form_input_clear\" class=\"search__clear  empty  js-search-clear\" type=\"button\" tabindex=\"3\" value=\"X\" />\n",
    "#     <div id=\"search_elements_hidden\" class=\"search__hidden  js-search-hidden\"></div>\n",
    "# </form>\n",
    "\n",
    "#     </div>\n",
    "# </div>\n",
    "\n",
    "\n",
    "\t\n",
    "\t\t\n",
    "\t\n",
    "# \t</div> <!-- site-wrapper -->\n",
    "# </body>\n",
    "# </html>\n",
    "# '''"
   ]
  },
  {
   "cell_type": "code",
   "execution_count": 36,
   "metadata": {},
   "outputs": [],
   "source": [
    "sentance = nltk.sent_tokenize(paragraph)\n",
    "lemmatization = WordNetLemmatizer()\n",
    "stemmer = PorterStemmer()"
   ]
  },
  {
   "cell_type": "code",
   "execution_count": 37,
   "metadata": {},
   "outputs": [
    {
     "name": "stdout",
     "output_type": "stream",
     "text": [
      "['Thank you all so very much.', 'Thank you to the Academy.', 'Thank you to all of you in this room.', 'I have to congratulate \\n               the other incredible nominees this year.', 'The Revenant was \\n               the product of the tireless efforts of an unbelievable cast\\n               and crew.', 'First off, to my brother in this endeavor, Mr. Tom \\n               Hardy.', 'Tom, your talent on screen can only be surpassed by \\n               your friendship off screen … thank you for creating a t\\n               ranscendent cinematic experience.', 'Thank you to everybody at \\n               Fox and New Regency … my entire team.', 'I have to thank \\n               everyone from the very onset of my career … To my parents; \\n               none of this would be possible without you.', 'And to my \\n               friends, I love you dearly; you know who you are.', \"And lastly,\\n               I just want to say this: Making The Revenant was about\\n               man's relationship to the natural world.\", 'A world that we\\n               collectively felt in 2015 as the hottest year in recorded\\n               history.', 'Our production needed to move to the southern\\n               tip of this planet just to be able to find snow.', 'Climate\\n               change is real, it is happening right now.', 'It is the most\\n               urgent threat facing our entire species, and we need to work\\n               collectively together and stop procrastinating.', 'We need to\\n               support leaders around the world who do not speak for the \\n               big polluters, but who speak for all of humanity, for the\\n               indigenous people of the world, for the billions and \\n               billions of underprivileged people out there who would be\\n               most affected by this.', 'For our children’s children, and \\n               for those people out there whose voices have been drowned\\n               out by the politics of greed.', 'I thank you all for this \\n               amazing award tonight.', 'Let us not take this planet for \\n               granted.', 'I do not take tonight for granted.', 'Thank you so very much.']\n"
     ]
    }
   ],
   "source": [
    "print(sentance)"
   ]
  },
  {
   "cell_type": "markdown",
   "metadata": {},
   "source": [
    "##  Difference between Stemmer and lemmization"
   ]
  },
  {
   "cell_type": "code",
   "execution_count": 40,
   "metadata": {},
   "outputs": [],
   "source": [
    "for i in range(len(sentance)):\n",
    "    words  = nltk.word_tokenize(sentance[i])\n",
    "    word = [lemmatization.lemmatize(word) for word in words if word not in set(stopwords.words(\"english\"))]\n",
    "    sentance[i]=\" \".join(word)"
   ]
  },
  {
   "cell_type": "code",
   "execution_count": 41,
   "metadata": {},
   "outputs": [
    {
     "data": {
      "text/plain": [
       "['thank much .',\n",
       " 'thank academi .',\n",
       " 'thank room .',\n",
       " 'I congratul incred nomine year .',\n",
       " 'reven product tireless effort unbeliev cast crew .',\n",
       " 'first , brother endeavor , mr. tom hardi .',\n",
       " 'tom , talent screen surpass friendship screen … thank creat ranscend cinemat experi .',\n",
       " 'thank everybodi fox new regenc … entir team .',\n",
       " 'I thank everyon onset career … To parent ; none would possibl without .',\n",
       " 'friend , I love dearli ; know .',\n",
       " \"lastli , I want say : make reven man 's relationship natur world .\",\n",
       " 'A world collect felt 2015 hottest year record histori .',\n",
       " 'product need move southern tip planet abl find snow .',\n",
       " 'climat chang real , happen right .',\n",
       " 'It urgent threat face entir speci , need work collect togeth stop procrastin .',\n",
       " 'We need support leader around world speak big pollut , speak human , indigen peopl world , billion billion underprivileg peopl would affect .',\n",
       " 'child ’ child , peopl whose voic drown polit greed .',\n",
       " 'I thank amaz award tonight .',\n",
       " 'let u take planet grant .',\n",
       " 'I take tonight grant .',\n",
       " 'thank much .']"
      ]
     },
     "execution_count": 41,
     "metadata": {},
     "output_type": "execute_result"
    }
   ],
   "source": [
    "sentance"
   ]
  },
  {
   "cell_type": "code",
   "execution_count": 44,
   "metadata": {},
   "outputs": [],
   "source": [
    "for i in range(len(sentance)):\n",
    "    words  = nltk.word_tokenize(sentance[i])\n",
    "    word = [stemmer.stem(word)  for word in words if word not in set(stopwords.words(\"english\"))]\n",
    "    sentance[i]=\" \".join(word)"
   ]
  },
  {
   "cell_type": "code",
   "execution_count": 46,
   "metadata": {},
   "outputs": [
    {
     "data": {
      "text/plain": [
       "['thank much .',\n",
       " 'thank academi .',\n",
       " 'thank room .',\n",
       " 'I congratul incr nomin year .',\n",
       " 'reven product tireless effort unbeliev cast crew .',\n",
       " 'first , brother endeavor , mr. tom hardi .',\n",
       " 'tom , talent screen surpass friendship screen … thank creat ranscend cinemat experi .',\n",
       " 'thank everybodi fox new regenc … entir team .',\n",
       " 'I thank everyon onset career … To parent ; none would possibl without .',\n",
       " 'friend , I love dearli ; know .',\n",
       " \"lastli , I want say : make reven man 's relationship natur world .\",\n",
       " 'A world collect felt 2015 hottest year record histori .',\n",
       " 'product need move southern tip planet abl find snow .',\n",
       " 'climat chang real , happen right .',\n",
       " 'It urgent threat face entir speci , need work collect togeth stop procrastin .',\n",
       " 'We need support leader around world speak big pollut , speak human , indigen peopl world , billion billion underprivileg peopl would affect .',\n",
       " 'child ’ child , peopl whose voic drown polit greed .',\n",
       " 'I thank amaz award tonight .',\n",
       " 'let u take planet grant .',\n",
       " 'I take tonight grant .',\n",
       " 'thank much .']"
      ]
     },
     "execution_count": 46,
     "metadata": {},
     "output_type": "execute_result"
    }
   ],
   "source": [
    "sentance"
   ]
  },
  {
   "cell_type": "code",
   "execution_count": null,
   "metadata": {},
   "outputs": [],
   "source": []
  }
 ],
 "metadata": {
  "kernelspec": {
   "display_name": "Python 3",
   "language": "python",
   "name": "python3"
  },
  "language_info": {
   "codemirror_mode": {
    "name": "ipython",
    "version": 3
   },
   "file_extension": ".py",
   "mimetype": "text/x-python",
   "name": "python",
   "nbconvert_exporter": "python",
   "pygments_lexer": "ipython3",
   "version": "3.8.3"
  }
 },
 "nbformat": 4,
 "nbformat_minor": 4
}
