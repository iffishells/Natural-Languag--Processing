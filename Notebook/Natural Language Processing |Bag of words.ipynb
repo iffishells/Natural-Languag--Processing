{
 "cells": [
  {
   "cell_type": "markdown",
   "metadata": {},
   "source": [
    "## Bag of words\n",
    "Bag of words is the process that conver the text data into vector. "
   ]
  },
  {
   "cell_type": "code",
   "execution_count": 2,
   "metadata": {},
   "outputs": [],
   "source": [
    "import nltk\n",
    "from nltk.stem import PorterStemmer  ## for stem the words\n",
    "from nltk.corpus import stopwords    ## for remove the stopword\n",
    "from nltk.stem import WordNetLemmatizer ## for remove the stopword using lemmizatation\n",
    "import re  ## Regular expression for clean the data"
   ]
  },
  {
   "cell_type": "code",
   "execution_count": 3,
   "metadata": {},
   "outputs": [],
   "source": [
    "\n",
    "paragraph = \"\"\"I have three visions for India. In 3000 years of our history, people from all over \n",
    "               the world have come and invaded us, captured our lands, conquered our minds. \n",
    "               From Alexander onwards, the Greeks, the Turks, the Moguls, the Portuguese, the British,\n",
    "               the French, the Dutch, all of them came and looted us, took over what was ours. \n",
    "               Yet we have not done this to any other nation. We have not conquered anyone. \n",
    "               We have not grabbed their land, their culture, \n",
    "               their history and tried to enforce our way of life on them. \n",
    "               Why? Because we respect the freedom of others.That is why my \n",
    "               first vision is that of freedom. I believe that India got its first vision of \n",
    "               this in 1857, when we started the War of Independence. It is this freedom that\n",
    "               we must protect and nurture and build on. If we are not free, no one will respect us.\n",
    "               My second vision for India’s development. For fifty years we have been a developing nation.\n",
    "               It is time we see ourselves as a developed nation. We are among the top 5 nations of the world\n",
    "               in terms of GDP. We have a 10 percent growth rate in most areas. Our poverty levels are falling.\n",
    "               Our achievements are being globally recognised today. Yet we lack the self-confidence to\n",
    "               see ourselves as a developed nation, self-reliant and self-assured. Isn’t this incorrect?\n",
    "               I have a third vision. India must stand up to the world. Because I believe that unless India \n",
    "               stands up to the world, no one will respect us. Only strength respects strength. We must be \n",
    "               strong not only as a military power but also as an economic power. Both must go hand-in-hand. \n",
    "               My good fortune was to have worked with three great minds. Dr. Vikram Sarabhai of the Dept. of \n",
    "               space, Professor Satish Dhawan, who succeeded him and Dr. Brahm Prakash, father of nuclear material.\n",
    "               I was lucky to have worked with all three of them closely and consider this the great opportunity of my life. \n",
    "               I see four milestones in my career\"\"\""
   ]
  },
  {
   "cell_type": "markdown",
   "metadata": {},
   "source": [
    "## **Cleaning the Text**"
   ]
  },
  {
   "cell_type": "code",
   "execution_count": 30,
   "metadata": {},
   "outputs": [],
   "source": [
    "## cleaning the Text\n",
    "sentance = nltk.sent_tokenize(paragraph)\n",
    "stemmer =  PorterStemmer()\n",
    "lm = WordNetLemmatizer()\n",
    "corpus = []"
   ]
  },
  {
   "cell_type": "code",
   "execution_count": 31,
   "metadata": {
    "scrolled": true
   },
   "outputs": [
    {
     "name": "stdout",
     "output_type": "stream",
     "text": [
      "['I have three visions for India.', 'In 3000 years of our history, people from all over \\n               the world have come and invaded us, captured our lands, conquered our minds.', 'From Alexander onwards, the Greeks, the Turks, the Moguls, the Portuguese, the British,\\n               the French, the Dutch, all of them came and looted us, took over what was ours.', 'Yet we have not done this to any other nation.', 'We have not conquered anyone.', 'We have not grabbed their land, their culture, \\n               their history and tried to enforce our way of life on them.', 'Why?', 'Because we respect the freedom of others.That is why my \\n               first vision is that of freedom.', 'I believe that India got its first vision of \\n               this in 1857, when we started the War of Independence.', 'It is this freedom that\\n               we must protect and nurture and build on.', 'If we are not free, no one will respect us.', 'My second vision for India’s development.', 'For fifty years we have been a developing nation.', 'It is time we see ourselves as a developed nation.', 'We are among the top 5 nations of the world\\n               in terms of GDP.', 'We have a 10 percent growth rate in most areas.', 'Our poverty levels are falling.', 'Our achievements are being globally recognised today.', 'Yet we lack the self-confidence to\\n               see ourselves as a developed nation, self-reliant and self-assured.', 'Isn’t this incorrect?', 'I have a third vision.', 'India must stand up to the world.', 'Because I believe that unless India \\n               stands up to the world, no one will respect us.', 'Only strength respects strength.', 'We must be \\n               strong not only as a military power but also as an economic power.', 'Both must go hand-in-hand.', 'My good fortune was to have worked with three great minds.', 'Dr. Vikram Sarabhai of the Dept.', 'of \\n               space, Professor Satish Dhawan, who succeeded him and Dr. Brahm Prakash, father of nuclear material.', 'I was lucky to have worked with all three of them closely and consider this the great opportunity of my life.', 'I see four milestones in my career']\n"
     ]
    }
   ],
   "source": [
    "print(sentance)"
   ]
  },
  {
   "cell_type": "code",
   "execution_count": 35,
   "metadata": {},
   "outputs": [
    {
     "name": "stdout",
     "output_type": "stream",
     "text": [
      "I have three visions for India \n",
      "['i', 'have', 'three', 'visions', 'for', 'india']\n",
      "['three', 'vision', 'india']\n",
      "In      years of our history  people from all over                 the world have come and invaded us  captured our lands  conquered our minds \n",
      "['in', 'years', 'of', 'our', 'history', 'people', 'from', 'all', 'over', 'the', 'world', 'have', 'come', 'and', 'invaded', 'us', 'captured', 'our', 'lands', 'conquered', 'our', 'minds']\n",
      "['year', 'history', 'people', 'world', 'come', 'invaded', 'u', 'captured', 'land', 'conquered', 'mind']\n",
      "From Alexander onwards  the Greeks  the Turks  the Moguls  the Portuguese  the British                 the French  the Dutch  all of them came and looted us  took over what was ours \n",
      "['from', 'alexander', 'onwards', 'the', 'greeks', 'the', 'turks', 'the', 'moguls', 'the', 'portuguese', 'the', 'british', 'the', 'french', 'the', 'dutch', 'all', 'of', 'them', 'came', 'and', 'looted', 'us', 'took', 'over', 'what', 'was', 'ours']\n",
      "['alexander', 'onwards', 'greek', 'turk', 'mogul', 'portuguese', 'british', 'french', 'dutch', 'came', 'looted', 'u', 'took']\n",
      "Yet we have not done this to any other nation \n",
      "['yet', 'we', 'have', 'not', 'done', 'this', 'to', 'any', 'other', 'nation']\n",
      "['yet', 'done', 'nation']\n",
      "We have not conquered anyone \n",
      "['we', 'have', 'not', 'conquered', 'anyone']\n",
      "['conquered', 'anyone']\n",
      "We have not grabbed their land  their culture                  their history and tried to enforce our way of life on them \n",
      "['we', 'have', 'not', 'grabbed', 'their', 'land', 'their', 'culture', 'their', 'history', 'and', 'tried', 'to', 'enforce', 'our', 'way', 'of', 'life', 'on', 'them']\n",
      "['grabbed', 'land', 'culture', 'history', 'tried', 'enforce', 'way', 'life']\n",
      "Why \n",
      "['why']\n",
      "[]\n",
      "Because we respect the freedom of others That is why my                 first vision is that of freedom \n",
      "['because', 'we', 'respect', 'the', 'freedom', 'of', 'others', 'that', 'is', 'why', 'my', 'first', 'vision', 'is', 'that', 'of', 'freedom']\n",
      "['respect', 'freedom', 'others', 'first', 'vision', 'freedom']\n",
      "I believe that India got its first vision of                 this in       when we started the War of Independence \n",
      "['i', 'believe', 'that', 'india', 'got', 'its', 'first', 'vision', 'of', 'this', 'in', 'when', 'we', 'started', 'the', 'war', 'of', 'independence']\n",
      "['believe', 'india', 'got', 'first', 'vision', 'started', 'war', 'independence']\n",
      "It is this freedom that                we must protect and nurture and build on \n",
      "['it', 'is', 'this', 'freedom', 'that', 'we', 'must', 'protect', 'and', 'nurture', 'and', 'build', 'on']\n",
      "['freedom', 'must', 'protect', 'nurture', 'build']\n",
      "If we are not free  no one will respect us \n",
      "['if', 'we', 'are', 'not', 'free', 'no', 'one', 'will', 'respect', 'us']\n",
      "['free', 'one', 'respect', 'u']\n",
      "My second vision for India s development \n",
      "['my', 'second', 'vision', 'for', 'india', 's', 'development']\n",
      "['second', 'vision', 'india', 'development']\n",
      "For fifty years we have been a developing nation \n",
      "['for', 'fifty', 'years', 'we', 'have', 'been', 'a', 'developing', 'nation']\n",
      "['fifty', 'year', 'developing', 'nation']\n",
      "It is time we see ourselves as a developed nation \n",
      "['it', 'is', 'time', 'we', 'see', 'ourselves', 'as', 'a', 'developed', 'nation']\n",
      "['time', 'see', 'developed', 'nation']\n",
      "We are among the top   nations of the world                in terms of GDP \n",
      "['we', 'are', 'among', 'the', 'top', 'nations', 'of', 'the', 'world', 'in', 'terms', 'of', 'gdp']\n",
      "['among', 'top', 'nation', 'world', 'term', 'gdp']\n",
      "We have a    percent growth rate in most areas \n",
      "['we', 'have', 'a', 'percent', 'growth', 'rate', 'in', 'most', 'areas']\n",
      "['percent', 'growth', 'rate', 'area']\n",
      "Our poverty levels are falling \n",
      "['our', 'poverty', 'levels', 'are', 'falling']\n",
      "['poverty', 'level', 'falling']\n",
      "Our achievements are being globally recognised today \n",
      "['our', 'achievements', 'are', 'being', 'globally', 'recognised', 'today']\n",
      "['achievement', 'globally', 'recognised', 'today']\n",
      "Yet we lack the self confidence to                see ourselves as a developed nation  self reliant and self assured \n",
      "['yet', 'we', 'lack', 'the', 'self', 'confidence', 'to', 'see', 'ourselves', 'as', 'a', 'developed', 'nation', 'self', 'reliant', 'and', 'self', 'assured']\n",
      "['yet', 'lack', 'self', 'confidence', 'see', 'developed', 'nation', 'self', 'reliant', 'self', 'assured']\n",
      "Isn t this incorrect \n",
      "['isn', 't', 'this', 'incorrect']\n",
      "['incorrect']\n",
      "I have a third vision \n",
      "['i', 'have', 'a', 'third', 'vision']\n",
      "['third', 'vision']\n",
      "India must stand up to the world \n",
      "['india', 'must', 'stand', 'up', 'to', 'the', 'world']\n",
      "['india', 'must', 'stand', 'world']\n",
      "Because I believe that unless India                 stands up to the world  no one will respect us \n",
      "['because', 'i', 'believe', 'that', 'unless', 'india', 'stands', 'up', 'to', 'the', 'world', 'no', 'one', 'will', 'respect', 'us']\n",
      "['believe', 'unless', 'india', 'stand', 'world', 'one', 'respect', 'u']\n",
      "Only strength respects strength \n",
      "['only', 'strength', 'respects', 'strength']\n",
      "['strength', 'respect', 'strength']\n",
      "We must be                 strong not only as a military power but also as an economic power \n",
      "['we', 'must', 'be', 'strong', 'not', 'only', 'as', 'a', 'military', 'power', 'but', 'also', 'as', 'an', 'economic', 'power']\n",
      "['must', 'strong', 'military', 'power', 'also', 'economic', 'power']\n",
      "Both must go hand in hand \n",
      "['both', 'must', 'go', 'hand', 'in', 'hand']\n",
      "['must', 'go', 'hand', 'hand']\n",
      "My good fortune was to have worked with three great minds \n",
      "['my', 'good', 'fortune', 'was', 'to', 'have', 'worked', 'with', 'three', 'great', 'minds']\n",
      "['good', 'fortune', 'worked', 'three', 'great', 'mind']\n",
      "Dr  Vikram Sarabhai of the Dept \n",
      "['dr', 'vikram', 'sarabhai', 'of', 'the', 'dept']\n",
      "['dr', 'vikram', 'sarabhai', 'dept']\n",
      "of                 space  Professor Satish Dhawan  who succeeded him and Dr  Brahm Prakash  father of nuclear material \n",
      "['of', 'space', 'professor', 'satish', 'dhawan', 'who', 'succeeded', 'him', 'and', 'dr', 'brahm', 'prakash', 'father', 'of', 'nuclear', 'material']\n",
      "['space', 'professor', 'satish', 'dhawan', 'succeeded', 'dr', 'brahm', 'prakash', 'father', 'nuclear', 'material']\n",
      "I was lucky to have worked with all three of them closely and consider this the great opportunity of my life \n",
      "['i', 'was', 'lucky', 'to', 'have', 'worked', 'with', 'all', 'three', 'of', 'them', 'closely', 'and', 'consider', 'this', 'the', 'great', 'opportunity', 'of', 'my', 'life']\n",
      "['lucky', 'worked', 'three', 'closely', 'consider', 'great', 'opportunity', 'life']\n",
      "I see four milestones in my career\n",
      "['i', 'see', 'four', 'milestones', 'in', 'my', 'career']\n",
      "['see', 'four', 'milestone', 'career']\n",
      "['three vision india', 'year history people world come invaded u captured land conquered mind', 'alexander onwards greek turk mogul portuguese british french dutch came looted u took', 'yet done nation', 'conquered anyone', 'grabbed land culture history tried enforce way life', '', 'respect freedom others first vision freedom', 'believe india got first vision started war independence', 'freedom must protect nurture build', 'free one respect u', 'second vision india development', 'fifty year developing nation', 'time see developed nation', 'among top nation world term gdp', 'percent growth rate area', 'poverty level falling', 'achievement globally recognised today', 'yet lack self confidence see developed nation self reliant self assured', 'incorrect', 'third vision', 'india must stand world', 'believe unless india stand world one respect u', 'strength respect strength', 'must strong military power also economic power', 'must go hand hand', 'good fortune worked three great mind', 'dr vikram sarabhai dept', 'space professor satish dhawan succeeded dr brahm prakash father nuclear material', 'lucky worked three closely consider great opportunity life', 'see four milestone career', 'three vision india', 'year history people world come invaded u captured land conquered mind', 'alexander onwards greek turk mogul portuguese british french dutch came looted u took', 'yet done nation', 'conquered anyone', 'grabbed land culture history tried enforce way life', '', 'respect freedom others first vision freedom', 'believe india got first vision started war independence', 'freedom must protect nurture build', 'free one respect u', 'second vision india development', 'fifty year developing nation', 'time see developed nation', 'among top nation world term gdp', 'percent growth rate area', 'poverty level falling', 'achievement globally recognised today', 'yet lack self confidence see developed nation self reliant self assured', 'incorrect', 'third vision', 'india must stand world', 'believe unless india stand world one respect u', 'strength respect strength', 'must strong military power also economic power', 'must go hand hand', 'good fortune worked three great mind', 'dr vikram sarabhai dept', 'space professor satish dhawan succeeded dr brahm prakash father nuclear material', 'lucky worked three closely consider great opportunity life', 'see four milestone career']\n"
     ]
    }
   ],
   "source": [
    "for i in range(len(sentance)):\n",
    "    review = re.sub(\"[^a-zA-Z]\" , \" \",sentance[i]) ## except a-z word remove with \" \"\n",
    "    print(review)\n",
    "    review = review.lower()\n",
    "    review = review.split()\n",
    "    print(review)\n",
    "    review = [lm.lemmatize(word) for word in review if word not in set(stopwords.words(\"english\"))]\n",
    "    print(review)\n",
    "    review = \" \".join(review)\n",
    "    corpus.append(review)\n",
    "print(corpus)"
   ]
  },
  {
   "cell_type": "code",
   "execution_count": 36,
   "metadata": {},
   "outputs": [],
   "source": [
    "## Creating the bag of words"
   ]
  },
  {
   "cell_type": "code",
   "execution_count": 40,
   "metadata": {},
   "outputs": [],
   "source": [
    "from sklearn.feature_extraction.text import CountVectorizer\n",
    "cv = CountVectorizer()\n",
    "X = cv.fit_transform(corpus).toarray() # now this is ready to ML Model "
   ]
  },
  {
   "cell_type": "code",
   "execution_count": 41,
   "metadata": {},
   "outputs": [
    {
     "name": "stdout",
     "output_type": "stream",
     "text": [
      "[[0 0 0 ... 0 0 0]\n",
      " [0 0 0 ... 1 1 0]\n",
      " [0 1 0 ... 0 0 0]\n",
      " ...\n",
      " [0 0 0 ... 0 0 0]\n",
      " [0 0 0 ... 0 0 0]\n",
      " [0 0 0 ... 0 0 0]]\n"
     ]
    }
   ],
   "source": [
    "print(X)"
   ]
  },
  {
   "cell_type": "code",
   "execution_count": 42,
   "metadata": {},
   "outputs": [],
   "source": [
    "## One issue With Bag of words all the words have same representation for example \"ali is instelligent boy\" \n",
    "## Here ali has 1 and intelligent has 1 both have same representation we can't intrepret which is important\n",
    "## let assume for our important is intelligent  we can't predict whose one more important"
   ]
  },
  {
   "cell_type": "code",
   "execution_count": null,
   "metadata": {},
   "outputs": [],
   "source": []
  }
 ],
 "metadata": {
  "kernelspec": {
   "display_name": "Python 3",
   "language": "python",
   "name": "python3"
  },
  "language_info": {
   "codemirror_mode": {
    "name": "ipython",
    "version": 3
   },
   "file_extension": ".py",
   "mimetype": "text/x-python",
   "name": "python",
   "nbconvert_exporter": "python",
   "pygments_lexer": "ipython3",
   "version": "3.8.3"
  }
 },
 "nbformat": 4,
 "nbformat_minor": 4
}
