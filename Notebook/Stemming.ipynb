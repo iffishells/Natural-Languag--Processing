{
 "cells": [
  {
   "cell_type": "markdown",
   "metadata": {},
   "source": [
    "## **Stemming**"
   ]
  },
  {
   "cell_type": "code",
   "execution_count": 51,
   "metadata": {},
   "outputs": [],
   "source": [
    "import nltk\n",
    "from nltk.stem import PorterStemmer\n",
    "from nltk.corpus import stopwords"
   ]
  },
  {
   "cell_type": "code",
   "execution_count": 52,
   "metadata": {},
   "outputs": [],
   "source": [
    "\n",
    "paragraph = \"\"\"I have three visions for India. In 3000 years of our history, people from all over \n",
    "               the world have come and invaded us, captured our lands, conquered our minds. \n",
    "               From Alexander onwards, the Greeks, the Turks, the Moguls, the Portuguese, the British,\n",
    "               the French, the Dutch, all of them came and looted us, took over what was ours. \n",
    "               Yet we have not done this to any other nation. We have not conquered anyone. \n",
    "               We have not grabbed their land, their culture, \n",
    "               their history and tried to enforce our way of life on them. \n",
    "               Why? Because we respect the freedom of others.That is why my \n",
    "               first vision is that of freedom. I believe that India got its first vision of \n",
    "               this in 1857, when we started the War of Independence. It is this freedom that\n",
    "               we must protect and nurture and build on. If we are not free, no one will respect us.\n",
    "               My second vision for India’s development. For fifty years we have been a developing nation.\n",
    "               It is time we see ourselves as a developed nation. We are among the top 5 nations of the world\n",
    "               in terms of GDP. We have a 10 percent growth rate in most areas. Our poverty levels are falling.\n",
    "               Our achievements are being globally recognised today. Yet we lack the self-confidence to\n",
    "               see ourselves as a developed nation, self-reliant and self-assured. Isn’t this incorrect?\n",
    "               I have a third vision. India must stand up to the world. Because I believe that unless India \n",
    "               stands up to the world, no one will respect us. Only strength respects strength. We must be \n",
    "               strong not only as a military power but also as an economic power. Both must go hand-in-hand. \n",
    "               My good fortune was to have worked with three great minds. Dr. Vikram Sarabhai of the Dept. of \n",
    "               space, Professor Satish Dhawan, who succeeded him and Dr. Brahm Prakash, father of nuclear material.\n",
    "               I was lucky to have worked with all three of them closely and consider this the great opportunity of my life. \n",
    "               I see four milestones in my career\"\"\""
   ]
  },
  {
   "cell_type": "code",
   "execution_count": 53,
   "metadata": {},
   "outputs": [],
   "source": [
    "sentance = nl.sent_tokenize(paragraph)\n",
    "stemmer = PorterStemmer()\n",
    "\n",
    "# print(nl.word_tokenize(sentance[0]))\n",
    "# token =  nl.word_tokenize([sentance[0]])"
   ]
  },
  {
   "cell_type": "code",
   "execution_count": 63,
   "metadata": {},
   "outputs": [],
   "source": [
    "for i in range(len(sentance)):\n",
    "#     print(sentance[i])\n",
    "    token = nl.word_tokenize(sentance[i])\n",
    "#     print(token)\n",
    "    token = [stemmer.stem(word) for word in token if word not in set(stopwords.words(\"english\")) ]\n",
    "    sentance[i] = \" \".join(token)"
   ]
  },
  {
   "cell_type": "code",
   "execution_count": 65,
   "metadata": {},
   "outputs": [
    {
     "name": "stdout",
     "output_type": "stream",
     "text": [
      "{'ve', 'how', 'your', 'a', \"wouldn't\", 'does', 'couldn', 'of', 'y', 'do', 'to', 'they', 'further', \"hasn't\", 'isn', \"should've\", 'and', 'on', \"don't\", \"mightn't\", 'above', 'yourselves', 'no', 're', 'don', 'while', 'off', 'then', 'now', 'it', 'only', 'ain', 'had', 'who', 'when', 'haven', 'me', 'doing', 'its', \"that'll\", 'you', 'myself', 'with', 'down', 'll', 'too', 'aren', 'few', 'shan', 'will', 'wasn', 'each', 'until', 'am', \"you'd\", 'whom', 'nor', \"weren't\", 'through', 'same', 'hasn', 'own', 'so', 'their', 'because', \"shouldn't\", 'here', 'being', \"isn't\", 'very', 'under', 'in', 'this', 'again', 'after', \"wasn't\", 'between', 'o', 'm', 'once', 'doesn', 'but', 'them', 'won', 'having', 'did', 'been', \"haven't\", 'these', 'other', 'just', 'has', \"you've\", 'or', 'during', 'her', 'where', 's', \"couldn't\", 'didn', 'mightn', 'mustn', 'himself', 'all', 'shouldn', 'the', 'wouldn', \"shan't\", \"it's\", 'are', 'some', 'can', \"won't\", \"needn't\", 'needn', \"aren't\", 'theirs', 'by', 'if', 'why', 'for', 'his', 'ma', 'is', 'd', 'we', 'ourselves', 'out', 'both', \"doesn't\", 'not', 'hers', 'into', 'what', 'such', \"you'll\", 'as', 'he', 'i', 'be', 'against', 't', \"hadn't\", 'than', \"mustn't\", 'about', 'weren', 'was', \"didn't\", 'more', 'our', 'have', 'were', 'my', 'those', 'up', 'there', 'before', 'should', 'yourself', 'she', 'which', \"you're\", 'yours', 'most', 'itself', 'below', 'him', \"she's\", 'herself', 'themselves', 'over', 'any', 'an', 'hadn', 'that', 'ours', 'from', 'at'}\n"
     ]
    }
   ],
   "source": [
    "print(set(stopwords.words(\"english\")))"
   ]
  },
  {
   "cell_type": "code",
   "execution_count": 66,
   "metadata": {},
   "outputs": [
    {
     "data": {
      "text/plain": [
       "['I three vision india .',\n",
       " 'In 3000 year histori , peopl world come invad us , captur land , conquer mind .',\n",
       " 'alexand onward , greek , turk , mogul , portugu , british , french , dutch , came loot us , took .',\n",
       " 'yet done nation .',\n",
       " 'We conquer anyon .',\n",
       " 'We grab land , cultur , histori tri enforc way life .',\n",
       " 'whi ?',\n",
       " 'becau respect freedom others.that first vision freedom .',\n",
       " 'I believ india got first vision 1857 , start war independ .',\n",
       " 'It freedom must protect nurtur build .',\n",
       " 'If free , one respect us .',\n",
       " 'My second vision india ’ develop .',\n",
       " 'fifti year develop nation .',\n",
       " 'It time see develop nation .',\n",
       " 'We among top 5 nation world term gdp .',\n",
       " 'We 10 percent growth rate area .',\n",
       " 'poverti level fall .',\n",
       " 'achiev global recogni today .',\n",
       " 'yet lack self-confid see develop nation , self-r self-assur .',\n",
       " '’ incorrect ?',\n",
       " 'I third vision .',\n",
       " 'india must stand world .',\n",
       " 'becau I believ unless india stand world , one respect us .',\n",
       " 'onli strength respect strength .',\n",
       " 'We must strong militari power also econom power .',\n",
       " 'must go hand-in-hand .',\n",
       " 'My good fortun work three great mind .',\n",
       " 'dr. vikram sarabhai dept .',\n",
       " 'space , professor satish dhawan , succeed dr. brahm prakash , father nuclear materi .',\n",
       " 'I lucki work three close consid great opportun life .',\n",
       " 'I see four mileston career']"
      ]
     },
     "execution_count": 66,
     "metadata": {},
     "output_type": "execute_result"
    }
   ],
   "source": [
    "sentance"
   ]
  },
  {
   "cell_type": "code",
   "execution_count": null,
   "metadata": {},
   "outputs": [],
   "source": []
  },
  {
   "cell_type": "code",
   "execution_count": null,
   "metadata": {},
   "outputs": [],
   "source": []
  }
 ],
 "metadata": {
  "kernelspec": {
   "display_name": "Python 3",
   "language": "python",
   "name": "python3"
  },
  "language_info": {
   "codemirror_mode": {
    "name": "ipython",
    "version": 3
   },
   "file_extension": ".py",
   "mimetype": "text/x-python",
   "name": "python",
   "nbconvert_exporter": "python",
   "pygments_lexer": "ipython3",
   "version": "3.8.3"
  }
 },
 "nbformat": 4,
 "nbformat_minor": 4
}
