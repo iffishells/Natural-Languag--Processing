{
 "cells": [
  {
   "cell_type": "code",
   "execution_count": 3,
   "id": "55d279e5",
   "metadata": {},
   "outputs": [
    {
     "name": "stdout",
     "output_type": "stream",
     "text": [
      " 01-LDAdefault.py\t\t'05-perplexity .py'\r\n",
      " 02-TopicModelingUCIDataset.py\t AssignmentTopicModeling.ipynb\r\n",
      " 03-LDAwithHyperParameters.py\t Datasets\r\n",
      " 04-OnlineLDA.py\t\t Topic-Modeling.ipynb\r\n"
     ]
    }
   ],
   "source": [
    "!ls"
   ]
  },
  {
   "cell_type": "code",
   "execution_count": 31,
   "id": "1f15ead1",
   "metadata": {},
   "outputs": [],
   "source": [
    "import pandas as pd\n",
    "import numpy as np\n",
    "from sklearn.feature_extraction.text import TfidfVectorizer\n",
    "from sklearn.decomposition import LatentDirichletAllocation\n",
    "\n",
    "\n",
    "\n",
    "\n",
    "\n",
    "df = pd.read_csv(\"Datasets/dataset2.csv\")\n",
    "\n",
    "\n",
    "\n"
   ]
  },
  {
   "cell_type": "code",
   "execution_count": 32,
   "id": "45259450",
   "metadata": {},
   "outputs": [
    {
     "data": {
      "text/html": [
       "<div>\n",
       "<style scoped>\n",
       "    .dataframe tbody tr th:only-of-type {\n",
       "        vertical-align: middle;\n",
       "    }\n",
       "\n",
       "    .dataframe tbody tr th {\n",
       "        vertical-align: top;\n",
       "    }\n",
       "\n",
       "    .dataframe thead th {\n",
       "        text-align: right;\n",
       "    }\n",
       "</style>\n",
       "<table border=\"1\" class=\"dataframe\">\n",
       "  <thead>\n",
       "    <tr style=\"text-align: right;\">\n",
       "      <th></th>\n",
       "      <th>Review</th>\n",
       "      <th>Unnamed: 1</th>\n",
       "      <th>Unnamed: 2</th>\n",
       "      <th>Unnamed: 3</th>\n",
       "      <th>Unnamed: 4</th>\n",
       "      <th>Unnamed: 5</th>\n",
       "      <th>Unnamed: 6</th>\n",
       "      <th>Unnamed: 7</th>\n",
       "      <th>Unnamed: 8</th>\n",
       "      <th>Unnamed: 9</th>\n",
       "      <th>Unnamed: 10</th>\n",
       "      <th>Unnamed: 11</th>\n",
       "      <th>Unnamed: 12</th>\n",
       "      <th>Unnamed: 13</th>\n",
       "      <th>Unnamed: 14</th>\n",
       "      <th>Unnamed: 15</th>\n",
       "      <th>Unnamed: 16</th>\n",
       "    </tr>\n",
       "  </thead>\n",
       "  <tbody>\n",
       "    <tr>\n",
       "      <th>0</th>\n",
       "      <td>Everything from the weather</td>\n",
       "      <td>staff</td>\n",
       "      <td>food</td>\n",
       "      <td>property</td>\n",
       "      <td>fire pits</td>\n",
       "      <td>d�cor</td>\n",
       "      <td>spa</td>\n",
       "      <td>rooms and beach were top notch</td>\n",
       "      <td>NaN</td>\n",
       "      <td>NaN</td>\n",
       "      <td>NaN</td>\n",
       "      <td>NaN</td>\n",
       "      <td>NaN</td>\n",
       "      <td>NaN</td>\n",
       "      <td>NaN</td>\n",
       "      <td>NaN</td>\n",
       "      <td>NaN</td>\n",
       "    </tr>\n",
       "    <tr>\n",
       "      <th>1</th>\n",
       "      <td>The hotel it is fantastic built by the sea, li...</td>\n",
       "      <td>NaN</td>\n",
       "      <td>NaN</td>\n",
       "      <td>NaN</td>\n",
       "      <td>NaN</td>\n",
       "      <td>NaN</td>\n",
       "      <td>NaN</td>\n",
       "      <td>NaN</td>\n",
       "      <td>NaN</td>\n",
       "      <td>NaN</td>\n",
       "      <td>NaN</td>\n",
       "      <td>NaN</td>\n",
       "      <td>NaN</td>\n",
       "      <td>NaN</td>\n",
       "      <td>NaN</td>\n",
       "      <td>NaN</td>\n",
       "      <td>NaN</td>\n",
       "    </tr>\n",
       "    <tr>\n",
       "      <th>2</th>\n",
       "      <td>One dream! Cozy  and comfortable Hotel!  The b...</td>\n",
       "      <td>since reception to the end of the stay! We we...</td>\n",
       "      <td>as I have gluten aversion</td>\n",
       "      <td>NaN</td>\n",
       "      <td>all the employees already knew and were waiti...</td>\n",
       "      <td>we were received in the fire pits</td>\n",
       "      <td>with some wine and all the guests were invite...</td>\n",
       "      <td>NaN</td>\n",
       "      <td>NaN</td>\n",
       "      <td>NaN</td>\n",
       "      <td>NaN</td>\n",
       "      <td>NaN</td>\n",
       "      <td>NaN</td>\n",
       "      <td>NaN</td>\n",
       "      <td>NaN</td>\n",
       "      <td>NaN</td>\n",
       "      <td>NaN</td>\n",
       "    </tr>\n",
       "    <tr>\n",
       "      <th>3</th>\n",
       "      <td>Hotel concept is hard to grasp. They communica...</td>\n",
       "      <td>NaN</td>\n",
       "      <td>NaN</td>\n",
       "      <td>NaN</td>\n",
       "      <td>NaN</td>\n",
       "      <td>NaN</td>\n",
       "      <td>NaN</td>\n",
       "      <td>NaN</td>\n",
       "      <td>NaN</td>\n",
       "      <td>NaN</td>\n",
       "      <td>NaN</td>\n",
       "      <td>NaN</td>\n",
       "      <td>NaN</td>\n",
       "      <td>NaN</td>\n",
       "      <td>NaN</td>\n",
       "      <td>NaN</td>\n",
       "      <td>NaN</td>\n",
       "    </tr>\n",
       "    <tr>\n",
       "      <th>4</th>\n",
       "      <td>This is a wonderful hotel</td>\n",
       "      <td>for a romantic escape. Every room has a theme</td>\n",
       "      <td>and is incredible</td>\n",
       "      <td>overlooking the sea</td>\n",
       "      <td>the sustainable concept of the hotel is excel...</td>\n",
       "      <td>modern design</td>\n",
       "      <td>the staff and owners will make your stay memo...</td>\n",
       "      <td>NaN</td>\n",
       "      <td>NaN</td>\n",
       "      <td>NaN</td>\n",
       "      <td>NaN</td>\n",
       "      <td>NaN</td>\n",
       "      <td>NaN</td>\n",
       "      <td>NaN</td>\n",
       "      <td>NaN</td>\n",
       "      <td>NaN</td>\n",
       "      <td>NaN</td>\n",
       "    </tr>\n",
       "  </tbody>\n",
       "</table>\n",
       "</div>"
      ],
      "text/plain": [
       "                                              Review  \\\n",
       "0                        Everything from the weather   \n",
       "1  The hotel it is fantastic built by the sea, li...   \n",
       "2  One dream! Cozy  and comfortable Hotel!  The b...   \n",
       "3  Hotel concept is hard to grasp. They communica...   \n",
       "4                          This is a wonderful hotel   \n",
       "\n",
       "                                          Unnamed: 1  \\\n",
       "0                                              staff   \n",
       "1                                                NaN   \n",
       "2   since reception to the end of the stay! We we...   \n",
       "3                                                NaN   \n",
       "4      for a romantic escape. Every room has a theme   \n",
       "\n",
       "                   Unnamed: 2            Unnamed: 3  \\\n",
       "0                        food              property   \n",
       "1                         NaN                   NaN   \n",
       "2   as I have gluten aversion                   NaN   \n",
       "3                         NaN                   NaN   \n",
       "4           and is incredible   overlooking the sea   \n",
       "\n",
       "                                          Unnamed: 4  \\\n",
       "0                                          fire pits   \n",
       "1                                                NaN   \n",
       "2   all the employees already knew and were waiti...   \n",
       "3                                                NaN   \n",
       "4   the sustainable concept of the hotel is excel...   \n",
       "\n",
       "                           Unnamed: 5  \\\n",
       "0                               d�cor   \n",
       "1                                 NaN   \n",
       "2   we were received in the fire pits   \n",
       "3                                 NaN   \n",
       "4                       modern design   \n",
       "\n",
       "                                          Unnamed: 6  \\\n",
       "0                                                spa   \n",
       "1                                                NaN   \n",
       "2   with some wine and all the guests were invite...   \n",
       "3                                                NaN   \n",
       "4   the staff and owners will make your stay memo...   \n",
       "\n",
       "                        Unnamed: 7 Unnamed: 8 Unnamed: 9 Unnamed: 10  \\\n",
       "0   rooms and beach were top notch        NaN        NaN         NaN   \n",
       "1                              NaN        NaN        NaN         NaN   \n",
       "2                              NaN        NaN        NaN         NaN   \n",
       "3                              NaN        NaN        NaN         NaN   \n",
       "4                              NaN        NaN        NaN         NaN   \n",
       "\n",
       "  Unnamed: 11 Unnamed: 12 Unnamed: 13 Unnamed: 14 Unnamed: 15 Unnamed: 16  \n",
       "0         NaN         NaN         NaN         NaN         NaN         NaN  \n",
       "1         NaN         NaN         NaN         NaN         NaN         NaN  \n",
       "2         NaN         NaN         NaN         NaN         NaN         NaN  \n",
       "3         NaN         NaN         NaN         NaN         NaN         NaN  \n",
       "4         NaN         NaN         NaN         NaN         NaN         NaN  "
      ]
     },
     "execution_count": 32,
     "metadata": {},
     "output_type": "execute_result"
    }
   ],
   "source": [
    "df.head()"
   ]
  },
  {
   "cell_type": "code",
   "execution_count": 33,
   "id": "18d50b76",
   "metadata": {},
   "outputs": [
    {
     "data": {
      "text/plain": [
       "Index(['Review', 'Unnamed: 1', 'Unnamed: 2', 'Unnamed: 3', 'Unnamed: 4',\n",
       "       'Unnamed: 5', 'Unnamed: 6', 'Unnamed: 7', 'Unnamed: 8', 'Unnamed: 9',\n",
       "       'Unnamed: 10', 'Unnamed: 11', 'Unnamed: 12', 'Unnamed: 13',\n",
       "       'Unnamed: 14', 'Unnamed: 15', 'Unnamed: 16'],\n",
       "      dtype='object')"
      ]
     },
     "execution_count": 33,
     "metadata": {},
     "output_type": "execute_result"
    }
   ],
   "source": [
    "df.columns"
   ]
  },
  {
   "cell_type": "code",
   "execution_count": 34,
   "id": "fc351f9a",
   "metadata": {},
   "outputs": [],
   "source": [
    "data = df.drop(columns=['Unnamed: 1', 'Unnamed: 2', 'Unnamed: 3', 'Unnamed: 4',\n",
    "       'Unnamed: 5', 'Unnamed: 6', 'Unnamed: 7', 'Unnamed: 8', 'Unnamed: 9',\n",
    "       'Unnamed: 10', 'Unnamed: 11', 'Unnamed: 12', 'Unnamed: 13',\n",
    "       'Unnamed: 14', 'Unnamed: 15', 'Unnamed: 16'])"
   ]
  },
  {
   "cell_type": "code",
   "execution_count": 42,
   "id": "e9c9374c",
   "metadata": {},
   "outputs": [
    {
     "data": {
      "text/plain": [
       "' Everything from the weather'"
      ]
     },
     "execution_count": 42,
     "metadata": {},
     "output_type": "execute_result"
    }
   ],
   "source": [
    "data.Review[0]"
   ]
  },
  {
   "cell_type": "code",
   "execution_count": 43,
   "id": "397953a3",
   "metadata": {},
   "outputs": [],
   "source": [
    "XDocs = data.Review"
   ]
  },
  {
   "cell_type": "code",
   "execution_count": 45,
   "id": "b19959f0",
   "metadata": {},
   "outputs": [],
   "source": [
    "## Embedding the vector\n",
    "Tfidf = TfidfVectorizer()\n",
    "\n",
    "MatrixX = Tfidf.fit_transform(XDocs)"
   ]
  },
  {
   "cell_type": "code",
   "execution_count": 46,
   "id": "ee9a9833",
   "metadata": {},
   "outputs": [
    {
     "data": {
      "text/plain": [
       "<401x2176 sparse matrix of type '<class 'numpy.float64'>'\n",
       "\twith 10195 stored elements in Compressed Sparse Row format>"
      ]
     },
     "execution_count": 46,
     "metadata": {},
     "output_type": "execute_result"
    }
   ],
   "source": [
    "MatrixX"
   ]
  },
  {
   "cell_type": "code",
   "execution_count": 47,
   "id": "f2538c7d",
   "metadata": {},
   "outputs": [
    {
     "data": {
      "text/plain": [
       "<bound method _cs_matrix.toarray of <401x2176 sparse matrix of type '<class 'numpy.float64'>'\n",
       "\twith 10195 stored elements in Compressed Sparse Row format>>"
      ]
     },
     "execution_count": 47,
     "metadata": {},
     "output_type": "execute_result"
    }
   ],
   "source": [
    "MatrixX.toarray"
   ]
  },
  {
   "cell_type": "code",
   "execution_count": 50,
   "id": "6acc3e08",
   "metadata": {},
   "outputs": [],
   "source": [
    "features = Tfidf.get_feature_names()"
   ]
  },
  {
   "cell_type": "code",
   "execution_count": 52,
   "id": "e6d0ebd3",
   "metadata": {},
   "outputs": [],
   "source": [
    "# features"
   ]
  },
  {
   "cell_type": "code",
   "execution_count": 61,
   "id": "f15a86fa",
   "metadata": {},
   "outputs": [],
   "source": [
    "Alt = LatentDirichletAllocation(n_components=20,random_state=0,max_iter=200,learning_method=\"online\")\n",
    "\n"
   ]
  },
  {
   "cell_type": "code",
   "execution_count": 62,
   "id": "b87bd6a9",
   "metadata": {},
   "outputs": [
    {
     "data": {
      "text/plain": [
       "LatentDirichletAllocation(learning_method='online', max_iter=200,\n",
       "                          n_components=20, random_state=0)"
      ]
     },
     "execution_count": 62,
     "metadata": {},
     "output_type": "execute_result"
    }
   ],
   "source": [
    "Alt.fit(MatrixX)"
   ]
  },
  {
   "cell_type": "code",
   "execution_count": 63,
   "id": "4f9f635d",
   "metadata": {},
   "outputs": [
    {
     "name": "stdout",
     "output_type": "stream",
     "text": [
      "topic ID:  0\n",
      "['20', 'stars', 'architecture', 'to', 'congratulations']\n",
      "topic ID:  1\n",
      "['considering', 'entire', 'surely', 'terms', 'won']\n",
      "topic ID:  2\n",
      "['exceeded', 'expectations', 'rivals', 'world', 'yet']\n",
      "topic ID:  3\n",
      "['the', 'single', 'built', 'that', 'know']\n",
      "topic ID:  4\n",
      "['come', 'back', 'will', 'we', 'lot']\n",
      "topic ID:  5\n",
      "['the', 'we', 'and', 'to', 'for']\n",
      "topic ID:  6\n",
      "['location', 'great', 'we', 'the', 'weather']\n",
      "topic ID:  7\n",
      "['dear', 'all', 'excellent', 'restaurant', 'holdings']\n",
      "topic ID:  8\n",
      "['extraordinary', 'dear', 'especially', 'maria', 'enjoy']\n",
      "topic ID:  9\n",
      "['oxal', 'fabulous', 'atlantic', 'complements', 'home']\n",
      "topic ID:  10\n",
      "['what', 'heavenly', 'place', 'wonderful', 'fabulous']\n",
      "topic ID:  11\n",
      "['beautiful', 'thank', 'wonderful', 'place', 'you']\n",
      "topic ID:  12\n",
      "['dears', 'delicacy', 'pure', 'my', 'fantastic']\n",
      "topic ID:  13\n",
      "['focusing', 'room', 'the', 'creative', 'hospitable']\n",
      "topic ID:  14\n",
      "['dreamful', 'fruit', 'selection', 'fresh', 'place']\n",
      "topic ID:  15\n",
      "['nice', 'dream', 'the', 'all', 'thank']\n",
      "topic ID:  16\n",
      "['daniela', 'peaceful', 'general', 'in', 'to']\n",
      "topic ID:  17\n",
      "['love', 'with', 'we', 'place', 'of']\n",
      "topic ID:  18\n",
      "['pleasant', 'very', 'beautiful', 'magical', 'warm']\n",
      "topic ID:  19\n",
      "['very', 'special', 'anniversary', 'of', 'one']\n"
     ]
    }
   ],
   "source": [
    "features = Tfidf.get_feature_names()\n",
    "for tids, topic in enumerate(Alt.components_):\n",
    "    print('topic ID: ', tids)\n",
    "    print([features[i] for i in topic.argsort()[:-6:-1]])"
   ]
  },
  {
   "cell_type": "code",
   "execution_count": null,
   "id": "57d5ee2f",
   "metadata": {},
   "outputs": [],
   "source": []
  }
 ],
 "metadata": {
  "kernelspec": {
   "display_name": "Python 3",
   "language": "python",
   "name": "python3"
  },
  "language_info": {
   "codemirror_mode": {
    "name": "ipython",
    "version": 3
   },
   "file_extension": ".py",
   "mimetype": "text/x-python",
   "name": "python",
   "nbconvert_exporter": "python",
   "pygments_lexer": "ipython3",
   "version": "3.8.3"
  }
 },
 "nbformat": 4,
 "nbformat_minor": 5
}
