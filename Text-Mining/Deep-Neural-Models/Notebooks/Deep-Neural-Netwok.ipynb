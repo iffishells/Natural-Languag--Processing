{
 "cells": [
  {
   "cell_type": "markdown",
   "id": "c5d09436-3b70-4c48-8683-990ad22d6b63",
   "metadata": {},
   "source": [
    "# 01 ***Sequentional Model Strcuture***"
   ]
  },
  {
   "cell_type": "code",
   "execution_count": 40,
   "id": "448f1f20-e2e4-4334-b463-3bf452acce7f",
   "metadata": {},
   "outputs": [],
   "source": [
    "## required lib for the model"
   ]
  },
  {
   "cell_type": "code",
   "execution_count": 41,
   "id": "c77283cb-f460-4142-91cf-08bf7637a4ef",
   "metadata": {},
   "outputs": [],
   "source": [
    "from tensorflow.keras.models import Sequential ## keras working over tensor flow\n",
    "from tensorflow.keras.layers import Dense ## layers\n",
    "import numpy as np\n"
   ]
  },
  {
   "cell_type": "code",
   "execution_count": 42,
   "id": "29298f53-98a3-4a53-a963-6d9dc4e7e850",
   "metadata": {},
   "outputs": [],
   "source": [
    "## creating the mode"
   ]
  },
  {
   "cell_type": "code",
   "execution_count": 43,
   "id": "242d0e63-0762-4a4e-955f-2a81637b30bf",
   "metadata": {},
   "outputs": [],
   "source": [
    "model = Sequential() ## default parameter\n",
    "model.add(Dense(10, activation='sigmoid',input_shape=(3,))) # 10 -> number of neuron on the hidden layer and input shape is shape of the input 3 neuron\n",
    "model.add(Dense(1,activation='sigmoid')) ## output layer and number of neuron is '1'"
   ]
  },
  {
   "cell_type": "code",
   "execution_count": 44,
   "id": "6dad4846-86b7-403c-8c9c-664eb7936d5f",
   "metadata": {},
   "outputs": [
    {
     "name": "stdout",
     "output_type": "stream",
     "text": [
      "Model: \"sequential_4\"\n",
      "_________________________________________________________________\n",
      "Layer (type)                 Output Shape              Param #   \n",
      "=================================================================\n",
      "dense_6 (Dense)              (None, 10)                40        \n",
      "_________________________________________________________________\n",
      "dense_7 (Dense)              (None, 1)                 11        \n",
      "=================================================================\n",
      "Total params: 51\n",
      "Trainable params: 51\n",
      "Non-trainable params: 0\n",
      "_________________________________________________________________\n"
     ]
    }
   ],
   "source": [
    "model.summary() ## remember always there baise neuron on the input layer and hidden layer"
   ]
  },
  {
   "cell_type": "markdown",
   "id": "9a9d971e-821d-43f5-917d-88bd9b5535eb",
   "metadata": {},
   "source": [
    "# 02 ***Train the Model with Dummy matix Data***  "
   ]
  },
  {
   "cell_type": "code",
   "execution_count": 45,
   "id": "8cbc6a5f-c012-4ef7-a22d-86fbaf9f3531",
   "metadata": {},
   "outputs": [],
   "source": [
    "## dummay data\n",
    "input = np.array([\n",
    "        [3,3,1],\n",
    "        [4,3,1],\n",
    "        [3,1,3],\n",
    "        [2,3,1] \n",
    "])\n",
    "\n",
    "# input shape always be set in the model is number of dim of instance\n",
    "# in the above input data there are 4 instance and each instance have 3 dimension\n",
    "# But this is not always be case of the input structure sometime you have [[2,3],[2,3],[2,3]]\n",
    "\n",
    "output = np.array([0,0,1,1])"
   ]
  },
  {
   "cell_type": "code",
   "execution_count": 46,
   "id": "532e2023-2b36-492c-819b-9378820e3852",
   "metadata": {},
   "outputs": [],
   "source": [
    "## training the Model\n",
    "model  =Sequential()\n",
    "model.add(Dense(10, ## hidden layer neuron\n",
    "                activation='sigmoid', ## function input\n",
    "               input_shape = (3,))) ## number of dim of instance\n",
    "                                    ## Not the number of the instance\n",
    "model.add(Dense(1,\n",
    "               activation='sigmoid',)) "
   ]
  },
  {
   "cell_type": "code",
   "execution_count": 47,
   "id": "ee836d85-8d8e-41d4-a0e9-1635d4a3af44",
   "metadata": {},
   "outputs": [],
   "source": [
    "## model compile\n",
    "model.compile(loss=\"binary_crossentropy\", # try to reduce the cost function to make reach near the 1 accuracy\n",
    "             optimizer = 'sgd', # Sochastic gradient Decent\n",
    "              metrics = ['accuracy'] # you can use it more\n",
    "             )"
   ]
  },
  {
   "cell_type": "code",
   "execution_count": 61,
   "id": "cf33f2df-a071-440b-8aba-7b628f13fff0",
   "metadata": {},
   "outputs": [
    {
     "name": "stdout",
     "output_type": "stream",
     "text": [
      "Epoch 1/2\n",
      "3/3 [==============================] - 0s 19ms/step - loss: 0.5444 - accuracy: 0.6667 - val_loss: 1.2778 - val_accuracy: 0.0000e+00\n",
      "Epoch 2/2\n",
      "3/3 [==============================] - 0s 8ms/step - loss: 0.5428 - accuracy: 0.6667 - val_loss: 1.2808 - val_accuracy: 0.0000e+00\n"
     ]
    },
    {
     "data": {
      "text/plain": [
       "<tensorflow.python.keras.callbacks.History at 0x7efb286b4430>"
      ]
     },
     "execution_count": 61,
     "metadata": {},
     "output_type": "execute_result"
    }
   ],
   "source": [
    "## fiting the Model\n",
    "\n",
    "model.fit(input[:-1],\n",
    "          output[:-1],\n",
    "          epochs=2, ## number of times to train the data\n",
    "          batch_size=1, ## when data is large enough then need this\n",
    "          validation_data=(input[-1:],output[-1:])\n",
    "         )\n",
    "## in the output accuracy should be one i dont why not give me one accuracy walla seacrch kary ghy!"
   ]
  },
  {
   "cell_type": "markdown",
   "id": "f6c84d1c-2968-4d0d-8018-9dea355e593d",
   "metadata": {},
   "source": [
    "# 03 ***Result and Evaluation***"
   ]
  },
  {
   "cell_type": "code",
   "execution_count": 51,
   "id": "a66af375-a5ec-4373-93dc-e079dbfcae9b",
   "metadata": {},
   "outputs": [],
   "source": [
    "## Required ib"
   ]
  },
  {
   "cell_type": "code",
   "execution_count": 52,
   "id": "75fbf8cd-f3d0-47a8-b571-83a902da45c4",
   "metadata": {},
   "outputs": [],
   "source": [
    "from tensorflow.keras.models import Sequential ## keras working over tensor flow\n",
    "from tensorflow.keras.layers import Dense ## layers\n",
    "import numpy as np\n"
   ]
  },
  {
   "cell_type": "code",
   "execution_count": 62,
   "id": "957f10e8-8f46-46f6-9263-593cfbd30499",
   "metadata": {},
   "outputs": [],
   "source": [
    "## Dummy data\n",
    "input  = np.random.rand(10000,3)\n",
    "output = np.random.randint(2, size=10000) # always less then 2"
   ]
  },
  {
   "cell_type": "code",
   "execution_count": 64,
   "id": "b400ea08-670c-4bb4-878d-31f2f3944ce1",
   "metadata": {},
   "outputs": [
    {
     "data": {
      "text/plain": [
       "(10000, 3)"
      ]
     },
     "execution_count": 64,
     "metadata": {},
     "output_type": "execute_result"
    }
   ],
   "source": [
    "input.shape"
   ]
  },
  {
   "cell_type": "code",
   "execution_count": 65,
   "id": "388b13c2-0748-4f19-b264-2fcb62114199",
   "metadata": {},
   "outputs": [
    {
     "data": {
      "text/plain": [
       "(10000,)"
      ]
     },
     "execution_count": 65,
     "metadata": {},
     "output_type": "execute_result"
    }
   ],
   "source": [
    "output.shape"
   ]
  },
  {
   "cell_type": "code",
   "execution_count": 66,
   "id": "5f8ca79d-762a-4513-8efd-3b83bbb8b8dc",
   "metadata": {},
   "outputs": [
    {
     "data": {
      "text/plain": [
       "array([[0.64432614, 0.41025333, 0.17986627],\n",
       "       [0.39338619, 0.44014082, 0.31207345],\n",
       "       [0.45606186, 0.55358778, 0.38998532],\n",
       "       ...,\n",
       "       [0.54405043, 0.25634757, 0.79472012],\n",
       "       [0.93623219, 0.26310953, 0.31209902],\n",
       "       [0.26518008, 0.28102566, 0.05466528]])"
      ]
     },
     "execution_count": 66,
     "metadata": {},
     "output_type": "execute_result"
    }
   ],
   "source": [
    "input"
   ]
  },
  {
   "cell_type": "code",
   "execution_count": 67,
   "id": "a4787405-31aa-4d06-9464-00702a3eb674",
   "metadata": {},
   "outputs": [
    {
     "data": {
      "text/plain": [
       "array([1, 1, 1, ..., 0, 1, 0])"
      ]
     },
     "execution_count": 67,
     "metadata": {},
     "output_type": "execute_result"
    }
   ],
   "source": [
    "output"
   ]
  },
  {
   "cell_type": "code",
   "execution_count": 69,
   "id": "f4895223-7e7a-45db-a250-0dd327a6a3ad",
   "metadata": {},
   "outputs": [],
   "source": [
    "## training the Model\n",
    "model  =Sequential()\n",
    "model.add(Dense(10, ## hidden layer neuron\n",
    "                activation='sigmoid', ## function input\n",
    "               input_shape = (3,))) ## number of dim of instance\n",
    "                                    ## Not the number of the instance\n",
    "model.add(Dense(1,\n",
    "               activation='sigmoid',)) "
   ]
  },
  {
   "cell_type": "code",
   "execution_count": 71,
   "id": "908b7c4d-6bc1-4cab-9e1b-76523fecb3f1",
   "metadata": {},
   "outputs": [
    {
     "name": "stdout",
     "output_type": "stream",
     "text": [
      "Model: \"sequential_7\"\n",
      "_________________________________________________________________\n",
      "Layer (type)                 Output Shape              Param #   \n",
      "=================================================================\n",
      "dense_10 (Dense)             (None, 10)                40        \n",
      "_________________________________________________________________\n",
      "dense_11 (Dense)             (None, 1)                 11        \n",
      "=================================================================\n",
      "Total params: 51\n",
      "Trainable params: 51\n",
      "Non-trainable params: 0\n",
      "_________________________________________________________________\n"
     ]
    }
   ],
   "source": [
    "model.summary()"
   ]
  },
  {
   "cell_type": "code",
   "execution_count": 74,
   "id": "2533191f-0503-4d10-a8e0-97e5652c7010",
   "metadata": {},
   "outputs": [],
   "source": [
    "## model compile\n",
    "model.compile(loss=\"binary_crossentropy\", # try to reduce the cost function to make reach near the 1 accuracy\n",
    "             optimizer = 'sgd', # Sochastic gradient Decent\n",
    "              metrics = ['accuracy'] # you can use it more\n",
    "             )"
   ]
  },
  {
   "cell_type": "code",
   "execution_count": 83,
   "id": "2feaa1c4-7995-4a09-8fce-3cdd9ece9dbe",
   "metadata": {},
   "outputs": [
    {
     "name": "stdout",
     "output_type": "stream",
     "text": [
      "Epoch 1/2\n",
      "110/110 [==============================] - 0s 4ms/step - loss: 0.6930 - accuracy: 0.5026 - val_loss: 0.6937 - val_accuracy: 0.4883\n",
      "Epoch 2/2\n",
      "110/110 [==============================] - 0s 4ms/step - loss: 0.6929 - accuracy: 0.5097 - val_loss: 0.6936 - val_accuracy: 0.4907\n"
     ]
    },
    {
     "data": {
      "text/plain": [
       "<tensorflow.python.keras.callbacks.History at 0x7efb28500c70>"
      ]
     },
     "execution_count": 83,
     "metadata": {},
     "output_type": "execute_result"
    }
   ],
   "source": [
    "## fiting the Model\n",
    "\n",
    "model.fit(input[:-3000],\n",
    "          output[:-3000],\n",
    "          epochs=2, ## number of times to train the data\n",
    "          batch_size=64, ## when data is large enough then need this\n",
    "          validation_data=(input[-3000:],output[-3000:])\n",
    "         )\n",
    "## in the output accuracy should be one i dont why not give me one accuracy walla seacrch kary ghy!"
   ]
  },
  {
   "cell_type": "code",
   "execution_count": 84,
   "id": "2256ab67-ee83-4f8f-ac3e-349bf82e5fa0",
   "metadata": {},
   "outputs": [],
   "source": [
    "## EVALUATION\n"
   ]
  },
  {
   "cell_type": "code",
   "execution_count": 85,
   "id": "a3e8f43a-03f4-4c75-9691-ed03704e7c6d",
   "metadata": {},
   "outputs": [
    {
     "name": "stdout",
     "output_type": "stream",
     "text": [
      "63/63 [==============================] - 0s 2ms/step - loss: 0.6935 - accuracy: 0.5000\n"
     ]
    },
    {
     "data": {
      "text/plain": [
       "[0.6935240626335144, 0.5]"
      ]
     },
     "execution_count": 85,
     "metadata": {},
     "output_type": "execute_result"
    }
   ],
   "source": [
    "model.evaluate(input[-2000:],output[-2000:])"
   ]
  },
  {
   "cell_type": "code",
   "execution_count": 88,
   "id": "4a88dea6-6f1c-4601-a6c7-63e774163774",
   "metadata": {},
   "outputs": [
    {
     "data": {
      "text/plain": [
       "array([[0.4986413 ],\n",
       "       [0.5003938 ],\n",
       "       [0.48364276],\n",
       "       [0.4814856 ],\n",
       "       [0.5031678 ]], dtype=float32)"
      ]
     },
     "execution_count": 88,
     "metadata": {},
     "output_type": "execute_result"
    }
   ],
   "source": [
    "model.predict(input[-5:])\n"
   ]
  },
  {
   "cell_type": "code",
   "execution_count": 106,
   "id": "c3e992f7-bc95-46f4-8df1-1775fd3f2cb5",
   "metadata": {},
   "outputs": [],
   "source": [
    "pred_y = model.predict_classes(input[-10:-5])"
   ]
  },
  {
   "cell_type": "code",
   "execution_count": 107,
   "id": "1d226f9e-c153-4abe-af9f-eb72f9d37512",
   "metadata": {},
   "outputs": [
    {
     "data": {
      "text/plain": [
       "(array([[1],\n",
       "        [0],\n",
       "        [1],\n",
       "        [0],\n",
       "        [1]], dtype=int32),\n",
       " array([1, 0, 0, 1, 0]))"
      ]
     },
     "execution_count": 107,
     "metadata": {},
     "output_type": "execute_result"
    }
   ],
   "source": [
    "## check the in the data set\n",
    "# whether is correct or not\n",
    "y = output[-5:] #actuall value\n",
    "\n",
    "pred_y ,y"
   ]
  },
  {
   "cell_type": "code",
   "execution_count": 104,
   "id": "cfdff0c6-f943-42af-9496-dd7a97d42061",
   "metadata": {},
   "outputs": [],
   "source": [
    "from sklearn.metrics import precision_score,recall_score,f1_score "
   ]
  },
  {
   "cell_type": "code",
   "execution_count": 108,
   "id": "7d68ced7-47eb-47fc-8533-8deab3ef8a11",
   "metadata": {},
   "outputs": [
    {
     "data": {
      "text/plain": [
       "0.4"
      ]
     },
     "execution_count": 108,
     "metadata": {},
     "output_type": "execute_result"
    }
   ],
   "source": [
    "precision_score(pred_y,y,average='micro')"
   ]
  },
  {
   "cell_type": "code",
   "execution_count": 109,
   "id": "1419a589-583b-4461-ae00-1b23bbdd8ab4",
   "metadata": {},
   "outputs": [
    {
     "data": {
      "text/plain": [
       "0.4"
      ]
     },
     "execution_count": 109,
     "metadata": {},
     "output_type": "execute_result"
    }
   ],
   "source": [
    "recall_score(pred_y,y,average='micro')"
   ]
  },
  {
   "cell_type": "code",
   "execution_count": 110,
   "id": "0ba86e88-4c34-4fb5-adf9-badc8dfd9d60",
   "metadata": {},
   "outputs": [
    {
     "data": {
      "text/plain": [
       "0.4000000000000001"
      ]
     },
     "execution_count": 110,
     "metadata": {},
     "output_type": "execute_result"
    }
   ],
   "source": [
    "f1_score(pred_y,y,average='micro')"
   ]
  },
  {
   "cell_type": "markdown",
   "id": "c0fbd3e4-0f34-41b0-9317-3c0455b3b17e",
   "metadata": {},
   "source": [
    "# 04 ***Working on Real datasets***"
   ]
  },
  {
   "cell_type": "code",
   "execution_count": 127,
   "id": "d74c1bec-d20e-4906-a0b1-1a4cb0f2dcf7",
   "metadata": {},
   "outputs": [],
   "source": [
    "# requried lib\n",
    "from tensorflow.keras.models import Sequential ## keras working over tensor flow\n",
    "from tensorflow.keras.layers import Dense ## layers\n",
    "import numpy as np\n",
    "import pandas as pd\n",
    "from sklearn.feature_extraction.text import TfidfVectorizer"
   ]
  },
  {
   "cell_type": "code",
   "execution_count": 224,
   "id": "70d360f4-a879-48e7-bf28-2541de32d013",
   "metadata": {},
   "outputs": [],
   "source": [
    "df = pd.read_csv(\"Datasets/DatasetUpdate.csv\")\n",
    "df[\"Label\"] = [1 if x == True  else 0 for x in df[\"Label\"]] # binary representation"
   ]
  },
  {
   "cell_type": "code",
   "execution_count": 225,
   "id": "074e3365-c204-4250-9a3d-314747b35623",
   "metadata": {},
   "outputs": [],
   "source": [
    "df = df.drop(columns=['Unnamed: 0'])"
   ]
  },
  {
   "cell_type": "code",
   "execution_count": 226,
   "id": "9c4b6437-e82e-4ba6-ae1e-66b04b4e9a8d",
   "metadata": {},
   "outputs": [
    {
     "data": {
      "text/html": [
       "<div>\n",
       "<style scoped>\n",
       "    .dataframe tbody tr th:only-of-type {\n",
       "        vertical-align: middle;\n",
       "    }\n",
       "\n",
       "    .dataframe tbody tr th {\n",
       "        vertical-align: top;\n",
       "    }\n",
       "\n",
       "    .dataframe thead th {\n",
       "        text-align: right;\n",
       "    }\n",
       "</style>\n",
       "<table border=\"1\" class=\"dataframe\">\n",
       "  <thead>\n",
       "    <tr style=\"text-align: right;\">\n",
       "      <th></th>\n",
       "      <th>Text</th>\n",
       "      <th>Label</th>\n",
       "    </tr>\n",
       "  </thead>\n",
       "  <tbody>\n",
       "    <tr>\n",
       "      <th>0</th>\n",
       "      <td>Actually, they didn't. The whole tragedy was c...</td>\n",
       "      <td>1</td>\n",
       "    </tr>\n",
       "    <tr>\n",
       "      <th>1</th>\n",
       "      <td>At your service:   Comparison   I could've jus...</td>\n",
       "      <td>1</td>\n",
       "    </tr>\n",
       "    <tr>\n",
       "      <th>2</th>\n",
       "      <td>So which is it: the action is moral, the actio...</td>\n",
       "      <td>1</td>\n",
       "    </tr>\n",
       "    <tr>\n",
       "      <th>3</th>\n",
       "      <td>Interesting how the study was set in Pittsburg...</td>\n",
       "      <td>1</td>\n",
       "    </tr>\n",
       "    <tr>\n",
       "      <th>4</th>\n",
       "      <td>Ah, I see.   Your reasons are secret reasons. ...</td>\n",
       "      <td>1</td>\n",
       "    </tr>\n",
       "    <tr>\n",
       "      <th>...</th>\n",
       "      <td>...</td>\n",
       "      <td>...</td>\n",
       "    </tr>\n",
       "    <tr>\n",
       "      <th>1995</th>\n",
       "      <td>What do you mean by this? Could we not have th...</td>\n",
       "      <td>0</td>\n",
       "    </tr>\n",
       "    <tr>\n",
       "      <th>1996</th>\n",
       "      <td>And the answer is: we don't know. Maybe it cam...</td>\n",
       "      <td>0</td>\n",
       "    </tr>\n",
       "    <tr>\n",
       "      <th>1997</th>\n",
       "      <td>And what would make them separate species? How...</td>\n",
       "      <td>0</td>\n",
       "    </tr>\n",
       "    <tr>\n",
       "      <th>1998</th>\n",
       "      <td>This decision was not solely based on self, bu...</td>\n",
       "      <td>0</td>\n",
       "    </tr>\n",
       "    <tr>\n",
       "      <th>1999</th>\n",
       "      <td>A perfect example of why Christian fundamental...</td>\n",
       "      <td>0</td>\n",
       "    </tr>\n",
       "  </tbody>\n",
       "</table>\n",
       "<p>2000 rows × 2 columns</p>\n",
       "</div>"
      ],
      "text/plain": [
       "                                                   Text  Label\n",
       "0     Actually, they didn't. The whole tragedy was c...      1\n",
       "1     At your service:   Comparison   I could've jus...      1\n",
       "2     So which is it: the action is moral, the actio...      1\n",
       "3     Interesting how the study was set in Pittsburg...      1\n",
       "4     Ah, I see.   Your reasons are secret reasons. ...      1\n",
       "...                                                 ...    ...\n",
       "1995  What do you mean by this? Could we not have th...      0\n",
       "1996  And the answer is: we don't know. Maybe it cam...      0\n",
       "1997  And what would make them separate species? How...      0\n",
       "1998  This decision was not solely based on self, bu...      0\n",
       "1999  A perfect example of why Christian fundamental...      0\n",
       "\n",
       "[2000 rows x 2 columns]"
      ]
     },
     "execution_count": 226,
     "metadata": {},
     "output_type": "execute_result"
    }
   ],
   "source": [
    "df\n"
   ]
  },
  {
   "cell_type": "code",
   "execution_count": 227,
   "id": "4c914c0e-8237-4704-8a87-372661ae2b8c",
   "metadata": {},
   "outputs": [],
   "source": [
    "x = df[\"Text\"]\n",
    "y = df.iloc[:,1]"
   ]
  },
  {
   "cell_type": "code",
   "execution_count": 228,
   "id": "6318eb1e-bd28-4e44-bc6a-7b1c9aeb176f",
   "metadata": {},
   "outputs": [
    {
     "data": {
      "text/plain": [
       "0       Actually, they didn't. The whole tragedy was c...\n",
       "1       At your service:   Comparison   I could've jus...\n",
       "2       So which is it: the action is moral, the actio...\n",
       "3       Interesting how the study was set in Pittsburg...\n",
       "4       Ah, I see.   Your reasons are secret reasons. ...\n",
       "                              ...                        \n",
       "1995    What do you mean by this? Could we not have th...\n",
       "1996    And the answer is: we don't know. Maybe it cam...\n",
       "1997    And what would make them separate species? How...\n",
       "1998    This decision was not solely based on self, bu...\n",
       "1999    A perfect example of why Christian fundamental...\n",
       "Name: Text, Length: 2000, dtype: object"
      ]
     },
     "execution_count": 228,
     "metadata": {},
     "output_type": "execute_result"
    }
   ],
   "source": [
    "x"
   ]
  },
  {
   "cell_type": "code",
   "execution_count": 229,
   "id": "4cac01f7-4496-43f4-8c06-9238abff28af",
   "metadata": {},
   "outputs": [
    {
     "data": {
      "text/plain": [
       "0       1\n",
       "1       1\n",
       "2       1\n",
       "3       1\n",
       "4       1\n",
       "       ..\n",
       "1995    0\n",
       "1996    0\n",
       "1997    0\n",
       "1998    0\n",
       "1999    0\n",
       "Name: Label, Length: 2000, dtype: int64"
      ]
     },
     "execution_count": 229,
     "metadata": {},
     "output_type": "execute_result"
    }
   ],
   "source": [
    "y"
   ]
  },
  {
   "cell_type": "code",
   "execution_count": 205,
   "id": "802aac94-c2a9-471d-8a33-bc55c79e6475",
   "metadata": {},
   "outputs": [],
   "source": []
  },
  {
   "cell_type": "code",
   "execution_count": 230,
   "id": "b36b0737-ac62-4e8a-bc8c-92b967ef133c",
   "metadata": {},
   "outputs": [
    {
     "data": {
      "text/plain": [
       "0       1\n",
       "1       1\n",
       "2       1\n",
       "3       1\n",
       "4       1\n",
       "       ..\n",
       "1995    0\n",
       "1996    0\n",
       "1997    0\n",
       "1998    0\n",
       "1999    0\n",
       "Name: Label, Length: 2000, dtype: int64"
      ]
     },
     "execution_count": 230,
     "metadata": {},
     "output_type": "execute_result"
    }
   ],
   "source": [
    "df[\"Label\"]"
   ]
  },
  {
   "cell_type": "markdown",
   "id": "9bd7de8f-c692-4e72-b2e8-9ef1e710ae19",
   "metadata": {},
   "source": [
    "## 4.1 Vectorization  the dataset"
   ]
  },
  {
   "cell_type": "code",
   "execution_count": 232,
   "id": "557650f3-cef6-493d-abeb-e0fce341b5cf",
   "metadata": {},
   "outputs": [],
   "source": [
    "tfidf = TfidfVectorizer(max_features=200)\n",
    "\n",
    "matrix_X = tfidf.fit_transform(x)"
   ]
  },
  {
   "cell_type": "code",
   "execution_count": 233,
   "id": "6408ca29-bb20-48a5-9818-5287be4b6cd7",
   "metadata": {},
   "outputs": [
    {
     "data": {
      "text/plain": [
       "<2000x200 sparse matrix of type '<class 'numpy.float64'>'\n",
       "\twith 40163 stored elements in Compressed Sparse Row format>"
      ]
     },
     "execution_count": 233,
     "metadata": {},
     "output_type": "execute_result"
    }
   ],
   "source": [
    "matrix_X"
   ]
  },
  {
   "cell_type": "code",
   "execution_count": 234,
   "id": "6f850b36-d6de-4da4-82e8-54168a789955",
   "metadata": {},
   "outputs": [
    {
     "data": {
      "text/plain": [
       "array([[0.        , 0.        , 0.23473676, ..., 0.        , 0.        ,\n",
       "        0.        ],\n",
       "       [0.        , 0.        , 0.        , ..., 0.        , 0.        ,\n",
       "        0.25011125],\n",
       "       [0.        , 0.        , 0.        , ..., 0.        , 0.1661102 ,\n",
       "        0.        ],\n",
       "       ...,\n",
       "       [0.        , 0.33023403, 0.        , ..., 0.        , 0.        ,\n",
       "        0.        ],\n",
       "       [0.        , 0.        , 0.        , ..., 0.        , 0.13875319,\n",
       "        0.        ],\n",
       "       [0.        , 0.        , 0.        , ..., 0.        , 0.        ,\n",
       "        0.        ]])"
      ]
     },
     "execution_count": 234,
     "metadata": {},
     "output_type": "execute_result"
    }
   ],
   "source": [
    "matrix_X.toarray()"
   ]
  },
  {
   "cell_type": "markdown",
   "id": "4345e679-b8cf-4d4b-8f71-da08bf52aa03",
   "metadata": {},
   "source": [
    "## split the data from training the model\n"
   ]
  },
  {
   "cell_type": "code",
   "execution_count": 236,
   "id": "4aa45e4e-ac58-4a72-8672-ae8b59bc111d",
   "metadata": {},
   "outputs": [],
   "source": [
    "from sklearn.model_selection import train_test_split\n"
   ]
  },
  {
   "cell_type": "code",
   "execution_count": 237,
   "id": "bd1a315c-9ea6-43d0-b4f8-2c7b7fa8454c",
   "metadata": {},
   "outputs": [],
   "source": [
    "train_X , test_X ,train_y,test_y = train_test_split(matrix_X ,y, shuffle=True ,train_size=0.8 )"
   ]
  },
  {
   "cell_type": "markdown",
   "id": "f215c5b8-23e8-4e2a-ab20-ca6a1d2de3bd",
   "metadata": {},
   "source": [
    "## 4.2 training the Model\n"
   ]
  },
  {
   "cell_type": "code",
   "execution_count": null,
   "id": "df976890-21c2-4439-b684-e13ee2ce459a",
   "metadata": {},
   "outputs": [],
   "source": [
    "model  =Sequential()\n",
    "model.add(Dense(10, ## hidden layer neuron\n",
    "                activation='sigmoid', ## function input\n",
    "               input_shape = (200,))) ## number of dim of instance\n",
    "                                    ## Not the number of the instance\n",
    "model.add(Dense(1,\n",
    "               activation='sigmoid',)) "
   ]
  },
  {
   "cell_type": "markdown",
   "id": "3d688f34-33be-4d37-945f-910c9d6f3cb7",
   "metadata": {},
   "source": [
    "## 4.3 model compile\n"
   ]
  },
  {
   "cell_type": "code",
   "execution_count": null,
   "id": "01a8d1da-33bb-4711-b805-a2083e834eab",
   "metadata": {},
   "outputs": [],
   "source": [
    "model.compile(loss=\"binary_crossentropy\", # try to reduce the cost function to make reach near the 1 accuracy\n",
    "             optimizer = 'sgd', # Sochastic gradient Decent\n",
    "              metrics = ['accuracy'] # you can use it more\n",
    "             )"
   ]
  },
  {
   "cell_type": "code",
   "execution_count": 240,
   "id": "c53a5509-1010-4802-9995-0f9ce61f3939",
   "metadata": {},
   "outputs": [
    {
     "data": {
      "text/plain": [
       "<bound method Model.summary of <tensorflow.python.keras.engine.sequential.Sequential object at 0x7efac60387f0>>"
      ]
     },
     "execution_count": 240,
     "metadata": {},
     "output_type": "execute_result"
    }
   ],
   "source": [
    "model.summary"
   ]
  },
  {
   "cell_type": "code",
   "execution_count": 241,
   "id": "8f60de2a-c4ce-4e85-be68-8e1c4b6b2874",
   "metadata": {},
   "outputs": [
    {
     "data": {
      "text/plain": [
       "(1600, 200)"
      ]
     },
     "execution_count": 241,
     "metadata": {},
     "output_type": "execute_result"
    }
   ],
   "source": [
    "train_X.shape"
   ]
  },
  {
   "cell_type": "markdown",
   "id": "37afcb1d-cee8-491f-b30f-58337aca089e",
   "metadata": {},
   "source": [
    "## 4.4 fiting the Model\n"
   ]
  },
  {
   "cell_type": "code",
   "execution_count": null,
   "id": "e1d6adf1-d4cb-4005-a149-f03f0dc5a286",
   "metadata": {},
   "outputs": [],
   "source": [
    "\n",
    "# ## you will see the error here because he will take array\n",
    "train_X = train_X.toarray()\n",
    "test_X = test_X.toarray()\n",
    "model.fit(train_X,\n",
    "          train_y,\n",
    "          epochs=3, ## number of times to train the data\n",
    "          batch_size=20, ## when data is large enough then need this\n",
    "          validation_data=(test_X,test_y)\n",
    "         )\n",
    "## in the output accuracy should be one i dont why not give me one accuracy walla seacrch kary ghy!"
   ]
  },
  {
   "cell_type": "markdown",
   "id": "dac056ab-59d1-4252-91be-f1b6060737fa",
   "metadata": {},
   "source": [
    "## 4.5 Evaluation and results \n"
   ]
  },
  {
   "cell_type": "code",
   "execution_count": 288,
   "id": "7c3d56dd-010e-4a21-b62a-08a5dc32e80d",
   "metadata": {},
   "outputs": [],
   "source": [
    "from sklearn.metrics import accuracy_score,f1_score,recall_score"
   ]
  },
  {
   "cell_type": "code",
   "execution_count": 289,
   "id": "a4827298-2bcd-400a-bc48-193bd990c039",
   "metadata": {},
   "outputs": [
    {
     "name": "stdout",
     "output_type": "stream",
     "text": [
      "Preceson Score :  0.5\n",
      "Recall Score :  0.65\n",
      "F1 Score :  0.23076923076923075\n"
     ]
    }
   ],
   "source": [
    "model.evaluate(test_X,test_y)\n",
    "# pred_y = model.predict_classes()\n",
    "pred_y = np.argmax(model.predict(test_X[:10]), axis=-1)\n",
    "\n",
    "model.predict([test_X[:10]])\n",
    "\n",
    "y =  test_y[:10]\n",
    "\n",
    "\n",
    "print(\"Preceson Score : \",precision_score(pred_y , y , average='macro'))\n",
    "print(\"Recall Score : \",recall_score(pred_y,y,average=\"macro\",zero_division=True))\n",
    "print(\"F1 Score : \",f1_score(pred_y, y ,average='macro'))"
   ]
  },
  {
   "cell_type": "code",
   "execution_count": 259,
   "id": "46486434-c561-40b7-9afe-f6987b54c4fa",
   "metadata": {},
   "outputs": [
    {
     "data": {
      "text/plain": [
       "0.7"
      ]
     },
     "execution_count": 259,
     "metadata": {},
     "output_type": "execute_result"
    }
   ],
   "source": []
  },
  {
   "cell_type": "code",
   "execution_count": 260,
   "id": "0d6f92b0-8829-44e7-bc9d-832ce2f8b56c",
   "metadata": {},
   "outputs": [
    {
     "data": {
      "text/plain": [
       "0.28571428571428575"
      ]
     },
     "execution_count": 260,
     "metadata": {},
     "output_type": "execute_result"
    }
   ],
   "source": []
  },
  {
   "cell_type": "markdown",
   "id": "e5d1853b-f66b-4f56-a874-b6c749f2efeb",
   "metadata": {},
   "source": [
    "# 05 Sarcastic Detection using Deep learning neural network "
   ]
  },
  {
   "cell_type": "code",
   "execution_count": 330,
   "id": "1f061cae-0e25-45c7-91ab-5116691eb4a8",
   "metadata": {},
   "outputs": [],
   "source": [
    "# requried lib\n",
    "from tensorflow.keras.models import Sequential ## keras working over tensor flow\n",
    "from tensorflow.keras.layers import Dense ,Dropout ## layers\n",
    "import numpy as np\n",
    "import pandas as pd\n",
    "from sklearn.feature_extraction.text import TfidfVectorizer"
   ]
  },
  {
   "cell_type": "code",
   "execution_count": 331,
   "id": "ad92dfbb-6f5f-4d8e-9e6c-e7382f0b5d32",
   "metadata": {},
   "outputs": [
    {
     "data": {
      "text/html": [
       "<div>\n",
       "<style scoped>\n",
       "    .dataframe tbody tr th:only-of-type {\n",
       "        vertical-align: middle;\n",
       "    }\n",
       "\n",
       "    .dataframe tbody tr th {\n",
       "        vertical-align: top;\n",
       "    }\n",
       "\n",
       "    .dataframe thead th {\n",
       "        text-align: right;\n",
       "    }\n",
       "</style>\n",
       "<table border=\"1\" class=\"dataframe\">\n",
       "  <thead>\n",
       "    <tr style=\"text-align: right;\">\n",
       "      <th></th>\n",
       "      <th>Text</th>\n",
       "      <th>Label</th>\n",
       "    </tr>\n",
       "  </thead>\n",
       "  <tbody>\n",
       "    <tr>\n",
       "      <th>0</th>\n",
       "      <td>Actually, they didn't. The whole tragedy was c...</td>\n",
       "      <td>1</td>\n",
       "    </tr>\n",
       "    <tr>\n",
       "      <th>1</th>\n",
       "      <td>At your service:   Comparison   I could've jus...</td>\n",
       "      <td>1</td>\n",
       "    </tr>\n",
       "    <tr>\n",
       "      <th>2</th>\n",
       "      <td>So which is it: the action is moral, the actio...</td>\n",
       "      <td>1</td>\n",
       "    </tr>\n",
       "    <tr>\n",
       "      <th>3</th>\n",
       "      <td>Interesting how the study was set in Pittsburg...</td>\n",
       "      <td>1</td>\n",
       "    </tr>\n",
       "    <tr>\n",
       "      <th>4</th>\n",
       "      <td>Ah, I see.   Your reasons are secret reasons. ...</td>\n",
       "      <td>1</td>\n",
       "    </tr>\n",
       "    <tr>\n",
       "      <th>...</th>\n",
       "      <td>...</td>\n",
       "      <td>...</td>\n",
       "    </tr>\n",
       "    <tr>\n",
       "      <th>1995</th>\n",
       "      <td>What do you mean by this? Could we not have th...</td>\n",
       "      <td>0</td>\n",
       "    </tr>\n",
       "    <tr>\n",
       "      <th>1996</th>\n",
       "      <td>And the answer is: we don't know. Maybe it cam...</td>\n",
       "      <td>0</td>\n",
       "    </tr>\n",
       "    <tr>\n",
       "      <th>1997</th>\n",
       "      <td>And what would make them separate species? How...</td>\n",
       "      <td>0</td>\n",
       "    </tr>\n",
       "    <tr>\n",
       "      <th>1998</th>\n",
       "      <td>This decision was not solely based on self, bu...</td>\n",
       "      <td>0</td>\n",
       "    </tr>\n",
       "    <tr>\n",
       "      <th>1999</th>\n",
       "      <td>A perfect example of why Christian fundamental...</td>\n",
       "      <td>0</td>\n",
       "    </tr>\n",
       "  </tbody>\n",
       "</table>\n",
       "<p>2000 rows × 2 columns</p>\n",
       "</div>"
      ],
      "text/plain": [
       "                                                   Text  Label\n",
       "0     Actually, they didn't. The whole tragedy was c...      1\n",
       "1     At your service:   Comparison   I could've jus...      1\n",
       "2     So which is it: the action is moral, the actio...      1\n",
       "3     Interesting how the study was set in Pittsburg...      1\n",
       "4     Ah, I see.   Your reasons are secret reasons. ...      1\n",
       "...                                                 ...    ...\n",
       "1995  What do you mean by this? Could we not have th...      0\n",
       "1996  And the answer is: we don't know. Maybe it cam...      0\n",
       "1997  And what would make them separate species? How...      0\n",
       "1998  This decision was not solely based on self, bu...      0\n",
       "1999  A perfect example of why Christian fundamental...      0\n",
       "\n",
       "[2000 rows x 2 columns]"
      ]
     },
     "execution_count": 331,
     "metadata": {},
     "output_type": "execute_result"
    }
   ],
   "source": [
    "df = pd.read_csv(\"Datasets/DatasetUpdate.csv\")\n",
    "df[\"Label\"] = [1 if x == True  else 0 for x in df[\"Label\"]] # binary representation\n",
    "\n",
    "df = df.drop(columns=['Unnamed: 0'])\n",
    "df"
   ]
  },
  {
   "cell_type": "code",
   "execution_count": 332,
   "id": "5ad4c5f5-3e44-4309-8ea0-f9a7ef85fb7e",
   "metadata": {},
   "outputs": [],
   "source": [
    "x = df[\"Text\"]\n",
    "y = df.iloc[:,1]"
   ]
  },
  {
   "cell_type": "markdown",
   "id": "a63e9ee4-ee50-4cc5-8a2e-f27e37822306",
   "metadata": {},
   "source": [
    "## 5.1 Vectorization  the dataset\n"
   ]
  },
  {
   "cell_type": "code",
   "execution_count": 333,
   "id": "4ae76277-008b-4244-a2f0-e8b06f22165e",
   "metadata": {},
   "outputs": [],
   "source": [
    "tfidf = TfidfVectorizer(max_features=200)\n",
    "\n",
    "matrix_X = tfidf.fit_transform(x)"
   ]
  },
  {
   "cell_type": "markdown",
   "id": "e140f473-946a-4749-8867-ac9cad07e84c",
   "metadata": {},
   "source": [
    "## 5.2 split the data from training the model\n"
   ]
  },
  {
   "cell_type": "code",
   "execution_count": 334,
   "id": "0e4693b9-d35c-4c1f-8bf8-ffe518954e66",
   "metadata": {},
   "outputs": [],
   "source": [
    "from sklearn.model_selection import train_test_split\n",
    "\n",
    "\n",
    "train_X , test_X ,train_y,test_y = train_test_split(matrix_X ,y, shuffle=True ,train_size=0.8 )"
   ]
  },
  {
   "cell_type": "markdown",
   "id": "ce6aeb0d-37c9-44db-8c13-1f0603c58c0d",
   "metadata": {},
   "source": [
    "## 5.3 Training Model\n"
   ]
  },
  {
   "cell_type": "code",
   "execution_count": 335,
   "id": "89f310df-e28c-4ab8-bd2e-d703f846ab3b",
   "metadata": {},
   "outputs": [],
   "source": [
    "model1 = Sequential()\n",
    "\n",
    "model1.add(Dense(100,activation='relu',input_shape= (200,)))\n",
    "\n",
    "model1.add(Dropout(0.15)) ## block some information\n",
    "model1.add(Dense(80,activation='relu'))\n",
    "\n",
    "model1.add(Dense(50,activation='relu'))\n",
    "model1.add(Dropout(0.10)) ## will block some informatin\n",
    "model1.add(Dense(30,activation='relu'))\n",
    "model1.add(Dense(1,activation='sigmoid'))\n",
    "\n"
   ]
  },
  {
   "cell_type": "code",
   "execution_count": 336,
   "id": "bdef3cea-f23e-4f16-bc57-1ca12d913c59",
   "metadata": {},
   "outputs": [
    {
     "name": "stdout",
     "output_type": "stream",
     "text": [
      "Model: \"sequential_21\"\n",
      "_________________________________________________________________\n",
      "Layer (type)                 Output Shape              Param #   \n",
      "=================================================================\n",
      "dense_57 (Dense)             (None, 100)               20100     \n",
      "_________________________________________________________________\n",
      "dropout_10 (Dropout)         (None, 100)               0         \n",
      "_________________________________________________________________\n",
      "dense_58 (Dense)             (None, 80)                8080      \n",
      "_________________________________________________________________\n",
      "dense_59 (Dense)             (None, 50)                4050      \n",
      "_________________________________________________________________\n",
      "dropout_11 (Dropout)         (None, 50)                0         \n",
      "_________________________________________________________________\n",
      "dense_60 (Dense)             (None, 30)                1530      \n",
      "_________________________________________________________________\n",
      "dense_61 (Dense)             (None, 1)                 31        \n",
      "=================================================================\n",
      "Total params: 33,791\n",
      "Trainable params: 33,791\n",
      "Non-trainable params: 0\n",
      "_________________________________________________________________\n"
     ]
    }
   ],
   "source": [
    "model1.summary()"
   ]
  },
  {
   "cell_type": "markdown",
   "id": "803e3d49-23c1-4bca-90f2-eb65938b97ad",
   "metadata": {},
   "source": [
    "## 5.4 Model Complile\n"
   ]
  },
  {
   "cell_type": "code",
   "execution_count": 337,
   "id": "9f151869-9441-49b4-bdd1-231bf6296922",
   "metadata": {},
   "outputs": [],
   "source": [
    "# model1.compile(loss=\"binary_crossentropy\", # try to reduce the cost function to make reach near the 1 accuracy\n",
    "#              optimizer = 'sgd', # Sochastic gradient Decent\n",
    "#               metrics = ['accuracy'] # you can use it more\n",
    "#              )\n",
    "\n",
    "# chnage with optimmizer function 'rmsprop'\n",
    "model1.compile(loss=\"binary_crossentropy\", # try to reduce the cost function to make reach near the 1 accuracy\n",
    "             optimizer = 'rmsprop', # Sochastic gradient Decent\n",
    "              metrics = ['accuracy'] # you can use it more\n",
    "             )"
   ]
  },
  {
   "cell_type": "markdown",
   "id": "6966b7b4-afec-43ad-8f23-c13f20945d2a",
   "metadata": {},
   "source": [
    "## 5.5 fitting Model"
   ]
  },
  {
   "cell_type": "code",
   "execution_count": 338,
   "id": "efe2a63b-f004-44a8-a5f0-9167f8adc634",
   "metadata": {},
   "outputs": [
    {
     "name": "stdout",
     "output_type": "stream",
     "text": [
      "Epoch 1/10\n",
      "25/25 [==============================] - 1s 5ms/step - loss: 0.6903 - accuracy: 0.5331 - val_loss: 0.6878 - val_accuracy: 0.5500\n",
      "Epoch 2/10\n",
      "25/25 [==============================] - 0s 2ms/step - loss: 0.6760 - accuracy: 0.5844 - val_loss: 0.6757 - val_accuracy: 0.5825\n",
      "Epoch 3/10\n",
      "25/25 [==============================] - 0s 2ms/step - loss: 0.6484 - accuracy: 0.6519 - val_loss: 0.6682 - val_accuracy: 0.6075\n",
      "Epoch 4/10\n",
      "25/25 [==============================] - 0s 2ms/step - loss: 0.6137 - accuracy: 0.6775 - val_loss: 0.6679 - val_accuracy: 0.5900\n",
      "Epoch 5/10\n",
      "25/25 [==============================] - 0s 2ms/step - loss: 0.5859 - accuracy: 0.7150 - val_loss: 0.6739 - val_accuracy: 0.5900\n",
      "Epoch 6/10\n",
      "25/25 [==============================] - 0s 2ms/step - loss: 0.5571 - accuracy: 0.7212 - val_loss: 0.6866 - val_accuracy: 0.5925\n",
      "Epoch 7/10\n",
      "25/25 [==============================] - 0s 2ms/step - loss: 0.5298 - accuracy: 0.7600 - val_loss: 0.7026 - val_accuracy: 0.5975\n",
      "Epoch 8/10\n",
      "25/25 [==============================] - 0s 2ms/step - loss: 0.4891 - accuracy: 0.7719 - val_loss: 0.7396 - val_accuracy: 0.5850\n",
      "Epoch 9/10\n",
      "25/25 [==============================] - 0s 2ms/step - loss: 0.4538 - accuracy: 0.8069 - val_loss: 0.7772 - val_accuracy: 0.5925\n",
      "Epoch 10/10\n",
      "25/25 [==============================] - 0s 2ms/step - loss: 0.4224 - accuracy: 0.8213 - val_loss: 0.8096 - val_accuracy: 0.5850\n"
     ]
    },
    {
     "data": {
      "text/plain": [
       "<tensorflow.python.keras.callbacks.History at 0x7efac90bbb80>"
      ]
     },
     "execution_count": 338,
     "metadata": {},
     "output_type": "execute_result"
    }
   ],
   "source": [
    "\n",
    "# ## you will see the error here because he will take array\n",
    "train_X = train_X.toarray()\n",
    "test_X = test_X.toarray()\n",
    "model1.fit(train_X,\n",
    "          train_y,\n",
    "          epochs=10, ## number of times to train the data\n",
    "          batch_size=64, ## when data is large enough then need this\n",
    "          validation_data=(test_X,test_y)\n",
    "         )\n",
    "## in the output accuracy should be one i dont why not give me one accuracy walla seacrch kary ghy!"
   ]
  },
  {
   "cell_type": "markdown",
   "id": "ff8d86e6-b78b-4f0a-9d7b-d2cd1b9526c4",
   "metadata": {},
   "source": [
    "## 5.6 Model Evaluation"
   ]
  },
  {
   "cell_type": "code",
   "execution_count": 340,
   "id": "b2eb4817-90e4-4612-b732-4e2f24d7ecb3",
   "metadata": {},
   "outputs": [
    {
     "name": "stdout",
     "output_type": "stream",
     "text": [
      "13/13 [==============================] - 0s 696us/step - loss: 0.8096 - accuracy: 0.5850\n",
      "Preceson Score :  0.5\n",
      "Recall Score :  0.8\n",
      "F1 Score :  0.37499999999999994\n"
     ]
    }
   ],
   "source": [
    "model1.evaluate(test_X,test_y)\n",
    "# pred_y = model.predict_classes()\n",
    "pred_y = np.argmax(model.predict(test_X[:10]), axis=-1)\n",
    "\n",
    "model1.predict([test_X[:10]])\n",
    "\n",
    "y =  test_y[:10]\n",
    "\n",
    "\n",
    "print(\"Preceson Score : \",precision_score(pred_y , y , average='macro'))\n",
    "print(\"Recall Score : \",recall_score(pred_y,y,average=\"macro\",zero_division=True))\n",
    "print(\"F1 Score : \",f1_score(pred_y, y ,average='macro'))"
   ]
  },
  {
   "cell_type": "code",
   "execution_count": null,
   "id": "f6cd498a-245e-4c16-803d-6ae566bc6ef8",
   "metadata": {},
   "outputs": [],
   "source": []
  }
 ],
 "metadata": {
  "kernelspec": {
   "display_name": "Python 3",
   "language": "python",
   "name": "python3"
  },
  "language_info": {
   "codemirror_mode": {
    "name": "ipython",
    "version": 3
   },
   "file_extension": ".py",
   "mimetype": "text/x-python",
   "name": "python",
   "nbconvert_exporter": "python",
   "pygments_lexer": "ipython3",
   "version": "3.8.3"
  }
 },
 "nbformat": 4,
 "nbformat_minor": 5
}
