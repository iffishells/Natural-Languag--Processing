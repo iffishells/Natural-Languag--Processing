{
 "cells": [
  {
   "cell_type": "code",
   "execution_count": 2,
   "metadata": {},
   "outputs": [
    {
     "name": "stdout",
     "output_type": "stream",
     "text": [
      "  (0, 1)\t0.9486832980505138\n",
      "  (0, 5)\t0.31622776601683794\n",
      "  (1, 1)\t0.7071067811865476\n",
      "  (1, 5)\t0.7071067811865476\n",
      "  (2, 1)\t0.8\n",
      "  (2, 5)\t0.6\n",
      "  (3, 0)\t0.3120999883140057\n",
      "  (3, 3)\t0.5269925111989872\n",
      "  (3, 2)\t0.7904887667984807\n",
      "  (4, 4)\t0.6834283294374781\n",
      "  (4, 0)\t0.34171416471873906\n",
      "  (4, 3)\t0.5769971564247937\n",
      "  (4, 2)\t0.28849857821239683\n",
      "  (5, 4)\t0.3862669126467143\n",
      "  (5, 3)\t0.6522261387718127\n",
      "  (5, 2)\t0.6522261387718127\n",
      "doc 1 - 5 labels:  [1 1 1 0 0 0]\n"
     ]
    }
   ],
   "source": [
    "corpus = open('dataset.txt').read()\n",
    "docs = corpus.split('\\n')\n",
    "\n",
    "#Structuring input data\n",
    "from sklearn.feature_extraction.text import TfidfVectorizer\n",
    "tfidf = TfidfVectorizer()\n",
    "matrix_input = tfidf.fit_transform(docs)\n",
    "print(matrix_input)\n",
    "\n",
    "#Importing agglomerative clustering and training the model\n",
    "from sklearn.cluster import AgglomerativeClustering\n",
    "aggClus = AgglomerativeClustering()\n",
    "aggClus.fit(matrix_input.toarray())\n",
    "\n",
    "#printing labels for the input documents that are clustered\n",
    "print('doc 1 - 5 labels: ', aggClus.labels_)\n",
    "\n",
    "#the function predict is not defined for agglomerative clustering"
   ]
  },
  {
   "cell_type": "code",
   "execution_count": null,
   "metadata": {},
   "outputs": [],
   "source": []
  }
 ],
 "metadata": {
  "kernelspec": {
   "display_name": "Python 3",
   "language": "python",
   "name": "python3"
  },
  "language_info": {
   "codemirror_mode": {
    "name": "ipython",
    "version": 3
   },
   "file_extension": ".py",
   "mimetype": "text/x-python",
   "name": "python",
   "nbconvert_exporter": "python",
   "pygments_lexer": "ipython3",
   "version": "3.8.3"
  }
 },
 "nbformat": 4,
 "nbformat_minor": 4
}
