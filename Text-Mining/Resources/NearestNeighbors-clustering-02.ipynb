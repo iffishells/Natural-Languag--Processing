{
 "cells": [
  {
   "cell_type": "code",
   "execution_count": 2,
   "metadata": {},
   "outputs": [
    {
     "name": "stdout",
     "output_type": "stream",
     "text": [
      "  (0, 1)\t0.9486832980505138\n",
      "  (0, 5)\t0.31622776601683794\n",
      "  (1, 1)\t0.7071067811865476\n",
      "  (1, 5)\t0.7071067811865476\n",
      "  (2, 1)\t0.8\n",
      "  (2, 5)\t0.6\n",
      "  (3, 0)\t0.3120999883140057\n",
      "  (3, 3)\t0.5269925111989872\n",
      "  (3, 2)\t0.7904887667984807\n",
      "  (4, 4)\t0.6834283294374781\n",
      "  (4, 0)\t0.34171416471873906\n",
      "  (4, 3)\t0.5769971564247937\n",
      "  (4, 2)\t0.28849857821239683\n",
      "  (5, 4)\t0.3862669126467143\n",
      "  (5, 3)\t0.6522261387718127\n",
      "  (5, 2)\t0.6522261387718127\n"
     ]
    },
    {
     "ename": "AttributeError",
     "evalue": "'NearestNeighbors' object has no attribute 'cluster_centers'",
     "output_type": "error",
     "traceback": [
      "\u001b[0;31m---------------------------------------------------------------------------\u001b[0m",
      "\u001b[0;31mAttributeError\u001b[0m                            Traceback (most recent call last)",
      "\u001b[0;32m<ipython-input-2-472eca72bb18>\u001b[0m in \u001b[0;36m<module>\u001b[0;34m\u001b[0m\n\u001b[1;32m     21\u001b[0m \u001b[0mnnc\u001b[0m\u001b[0;34m.\u001b[0m\u001b[0mfit\u001b[0m\u001b[0;34m(\u001b[0m\u001b[0mmatrix_input\u001b[0m\u001b[0;34m)\u001b[0m\u001b[0;34m\u001b[0m\u001b[0;34m\u001b[0m\u001b[0m\n\u001b[1;32m     22\u001b[0m \u001b[0;34m\u001b[0m\u001b[0m\n\u001b[0;32m---> 23\u001b[0;31m \u001b[0mcentroids\u001b[0m \u001b[0;34m=\u001b[0m  \u001b[0mnnc\u001b[0m\u001b[0;34m.\u001b[0m\u001b[0mcluster_centers\u001b[0m\u001b[0;34m\u001b[0m\u001b[0;34m\u001b[0m\u001b[0m\n\u001b[0m\u001b[1;32m     24\u001b[0m \u001b[0mprint\u001b[0m\u001b[0;34m(\u001b[0m\u001b[0mcentroids\u001b[0m\u001b[0;34m)\u001b[0m\u001b[0;34m\u001b[0m\u001b[0;34m\u001b[0m\u001b[0m\n\u001b[1;32m     25\u001b[0m \u001b[0;31m#printing nearest neighbors to the first document and their respective distances\u001b[0m\u001b[0;34m\u001b[0m\u001b[0;34m\u001b[0m\u001b[0;34m\u001b[0m\u001b[0m\n",
      "\u001b[0;31mAttributeError\u001b[0m: 'NearestNeighbors' object has no attribute 'cluster_centers'"
     ]
    }
   ],
   "source": [
    "# -*- coding: utf-8 -*-\n",
    "\"\"\"\n",
    "Created on Fri Jun 19 18:31:14 2020\n",
    "\n",
    "@author: Dr. Taimoor\n",
    "\"\"\"\n",
    "\n",
    "#Reading the data\n",
    "corpus = open('dataset.txt').read()\n",
    "docs = corpus.split('\\n')\n",
    "\n",
    "#Structuring input data\n",
    "from sklearn.feature_extraction.text import TfidfVectorizer\n",
    "tfidf = TfidfVectorizer()\n",
    "matrix_input = tfidf.fit_transform(docs)\n",
    "print(matrix_input)\n",
    "\n",
    "#Importing NearestNeighbors and Training model\n",
    "from sklearn.neighbors import NearestNeighbors\n",
    "nnc = NearestNeighbors()\n",
    "nnc.fit(matrix_input)\n",
    "\n",
    "# centroids =  nnc.cluster_centers\n",
    "# print(centroids)\n",
    "#printing nearest neighbors to the first document and their respective distances\n",
    "dist, neighbors = nnc.kneighbors(matrix_input[0], 3)\n",
    "print('neighbors', neighbors)\n",
    "print('distances', dist)\n",
    "\n",
    "#printing with the first document i.e., the reference document itself ignored\n",
    "print('neighbors', neighbors[0][1:])\n",
    "print('distances', dist[0][1:])\n",
    "\n",
    "#printing nearest neighbors that lie within the given radius of the reference document\n",
    "dist, neighbors = nnc.radius_neighbors(matrix_input[3], radius = 1.5)\n",
    "print('radius based neighbors: ', neighbors[1:])\n",
    "print('radius based neighbors distances', dist[1:])"
   ]
  },
  {
   "cell_type": "code",
   "execution_count": 8,
   "metadata": {},
   "outputs": [
    {
     "name": "stdout",
     "output_type": "stream",
     "text": [
      "[[0.32690708 0.         0.         0.53949367 0.55199483 0.34171416\n",
      "  0.        ]\n",
      " [0.         0.70811227 0.18086897 0.         0.         0.\n",
      "  0.55584492]]\n"
     ]
    }
   ],
   "source": [
    "# -*- coding: utf-8 -*-\n",
    "\"\"\"\n",
    "Created on Fri Jun 19 18:22:32 2020\n",
    "\n",
    "@author: Dr. Taimoor\n",
    "\"\"\"\n",
    "#Reading the input data\n",
    "corpus = ['milk bread bread bread', \n",
    "          'break milk milk bread',\n",
    "         'milk milk milk bread bread bread bread',\n",
    "         'cat cat cat dog dog bark',\n",
    "         'dog dog cat bark mew mew',\n",
    "         'cat dog cat dog mew']\n",
    "\n",
    "#Structuring input data\n",
    "from sklearn.feature_extraction.text import TfidfVectorizer\n",
    "tfidf = TfidfVectorizer()\n",
    "matrix_input = tfidf.fit_transform(corpus)\n",
    "\n",
    "# print(matrix_input)\n",
    "\n",
    "#importing KMeans and training model\n",
    "from sklearn.cluster import KMeans\n",
    "km = KMeans(n_clusters = 2)\n",
    "# print(km)\n",
    "km.fit(matrix_input[:-1])\n",
    "\n",
    "centroids = km.cluster_centers_\n",
    "print(centroids)\n",
    "\n",
    "cen_x = [i[0] for i in centroids]\n",
    "cen_y = [i[1] for i in centroids]\n",
    "\n",
    "# #printing cluster labels of documents in the training data\n",
    "# print(km.labels_)\n",
    "\n",
    "# #printing label for the unseen document\n",
    "# print(km.predict(matrix_input[-1:]))"
   ]
  },
  {
   "cell_type": "code",
   "execution_count": null,
   "metadata": {},
   "outputs": [],
   "source": []
  }
 ],
 "metadata": {
  "kernelspec": {
   "display_name": "Python 3",
   "language": "python",
   "name": "python3"
  },
  "language_info": {
   "codemirror_mode": {
    "name": "ipython",
    "version": 3
   },
   "file_extension": ".py",
   "mimetype": "text/x-python",
   "name": "python",
   "nbconvert_exporter": "python",
   "pygments_lexer": "ipython3",
   "version": "3.8.3"
  }
 },
 "nbformat": 4,
 "nbformat_minor": 4
}
