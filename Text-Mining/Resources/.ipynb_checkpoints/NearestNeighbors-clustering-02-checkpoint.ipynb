{
 "cells": [
  {
   "cell_type": "code",
   "execution_count": 1,
   "metadata": {},
   "outputs": [
    {
     "name": "stdout",
     "output_type": "stream",
     "text": [
      "  (0, 1)\t0.9486832980505138\n",
      "  (0, 5)\t0.31622776601683794\n",
      "  (1, 1)\t0.7071067811865476\n",
      "  (1, 5)\t0.7071067811865476\n",
      "  (2, 1)\t0.8\n",
      "  (2, 5)\t0.6\n",
      "  (3, 0)\t0.3120999883140057\n",
      "  (3, 3)\t0.5269925111989872\n",
      "  (3, 2)\t0.7904887667984807\n",
      "  (4, 4)\t0.6834283294374781\n",
      "  (4, 0)\t0.34171416471873906\n",
      "  (4, 3)\t0.5769971564247937\n",
      "  (4, 2)\t0.28849857821239683\n",
      "  (5, 4)\t0.3862669126467143\n",
      "  (5, 3)\t0.6522261387718127\n",
      "  (5, 2)\t0.6522261387718127\n",
      "neighbors [[0 2 1]]\n",
      "distances [[0.         0.32036449 0.45950584]]\n",
      "neighbors [2 1]\n",
      "distances [0.32036449 0.45950584]\n",
      "radius based neighbors:  []\n",
      "radius based neighbors distances []\n"
     ]
    }
   ],
   "source": [
    "# -*- coding: utf-8 -*-\n",
    "\"\"\"\n",
    "Created on Fri Jun 19 18:31:14 2020\n",
    "\n",
    "@author: Dr. Taimoor\n",
    "\"\"\"\n",
    "\n",
    "#Reading the data\n",
    "corpus = open('dataset.txt').read()\n",
    "docs = corpus.split('\\n')\n",
    "\n",
    "#Structuring input data\n",
    "from sklearn.feature_extraction.text import TfidfVectorizer\n",
    "tfidf = TfidfVectorizer()\n",
    "matrix_input = tfidf.fit_transform(docs)\n",
    "print(matrix_input)\n",
    "\n",
    "#Importing NearestNeighbors and Training model\n",
    "from sklearn.neighbors import NearestNeighbors\n",
    "nnc = NearestNeighbors()\n",
    "nnc.fit(matrix_input)\n",
    "\n",
    "#printing nearest neighbors to the first document and their respective distances\n",
    "# dist, neighbors = nnc.kneighbors(matrix_input[0], 3)\n",
    "# print('neighbors', neighbors)\n",
    "# print('distances', dist)\n",
    "\n",
    "# #printing with the first document i.e., the reference document itself ignored\n",
    "# print('neighbors', neighbors[0][1:])\n",
    "# print('distances', dist[0][1:])\n",
    "\n",
    "# #printing nearest neighbors that lie within the given radius of the reference document\n",
    "# dist, neighbors = nnc.radius_neighbors(matrix_input[3], radius = 1.5)\n",
    "# print('radius based neighbors: ', neighbors[1:])\n",
    "# print('radius based neighbors distances', dist[1:])"
   ]
  },
  {
   "cell_type": "code",
   "execution_count": null,
   "metadata": {},
   "outputs": [],
   "source": []
  }
 ],
 "metadata": {
  "kernelspec": {
   "display_name": "Python 3",
   "language": "python",
   "name": "python3"
  },
  "language_info": {
   "codemirror_mode": {
    "name": "ipython",
    "version": 3
   },
   "file_extension": ".py",
   "mimetype": "text/x-python",
   "name": "python",
   "nbconvert_exporter": "python",
   "pygments_lexer": "ipython3",
   "version": "3.8.3"
  }
 },
 "nbformat": 4,
 "nbformat_minor": 4
}
