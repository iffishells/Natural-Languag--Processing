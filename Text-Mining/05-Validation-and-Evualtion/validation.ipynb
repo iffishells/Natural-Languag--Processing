{
 "cells": [
  {
   "cell_type": "code",
   "execution_count": 5,
   "metadata": {},
   "outputs": [],
   "source": [
    "corpus = open('Dataset.txt').read()\n",
    "docs = corpus.split('\\n')\n",
    "X, y = [], []\n",
    "for doc in docs:\n",
    "    i, l = doc.split(':')\n",
    "    X.append(i)\n",
    "    y.append(l)\n",
    "\n",
    "from sklearn.feature_extraction.text import CountVectorizer\n",
    "vec = CountVectorizer()\n",
    "matrix_X = vec.fit_transform(X)\n",
    "\n",
    "from sklearn.neighbors import KNeighborsClassifier\n",
    "knn = KNeighborsClassifier(n_neighbors = 1)\n",
    "\n"
   ]
  },
  {
   "cell_type": "code",
   "execution_count": 16,
   "metadata": {},
   "outputs": [],
   "source": [
    "from sklearn.model_selection import train_test_split\n",
    "## random_State also parameter for static the train Data\n",
    "train_X, test_X, train_y, test_y = train_test_split(matrix_X, y, train_size = 0.8, shuffle = True)\n"
   ]
  },
  {
   "cell_type": "code",
   "execution_count": 20,
   "metadata": {},
   "outputs": [
    {
     "name": "stdout",
     "output_type": "stream",
     "text": [
      "Train X :   (0, 2)\t3\n",
      "  (0, 3)\t2\n",
      "  (0, 0)\t1\n",
      "  (1, 5)\t1\n",
      "  (1, 1)\t3\n",
      "  (2, 5)\t2\n",
      "  (2, 1)\t2\n",
      "  (3, 2)\t3\n",
      "  (3, 3)\t2\n",
      "  (3, 4)\t1\n",
      "Train y :  [' pets', ' grocery', ' grocery', ' pets']\n",
      "Test X :   (0, 1)\t3\n",
      "  (0, 5)\t3\n",
      "  (1, 0)\t1\n",
      "  (1, 2)\t1\n",
      "  (1, 3)\t2\n",
      "  (1, 4)\t2\n"
     ]
    }
   ],
   "source": [
    "\n",
    "print(\"Train X :\",train_X)\n",
    "print(\"Train y : \",train_y)\n",
    "print(\"Test X :\",test_X)\n",
    "\n"
   ]
  },
  {
   "cell_type": "code",
   "execution_count": 22,
   "metadata": {},
   "outputs": [
    {
     "name": "stdout",
     "output_type": "stream",
     "text": [
      "[' grocery' ' pets']\n",
      "[' grocery', ' pets']\n"
     ]
    }
   ],
   "source": [
    "knn.fit(train_X, train_y)\n",
    "print(knn.predict(test_X))\n",
    "print(test_y)"
   ]
  },
  {
   "cell_type": "code",
   "execution_count": null,
   "metadata": {},
   "outputs": [],
   "source": []
  }
 ],
 "metadata": {
  "kernelspec": {
   "display_name": "Python 3",
   "language": "python",
   "name": "python3"
  },
  "language_info": {
   "codemirror_mode": {
    "name": "ipython",
    "version": 3
   },
   "file_extension": ".py",
   "mimetype": "text/x-python",
   "name": "python",
   "nbconvert_exporter": "python",
   "pygments_lexer": "ipython3",
   "version": "3.8.3"
  }
 },
 "nbformat": 4,
 "nbformat_minor": 4
}
