{
  "nbformat": 4,
  "nbformat_minor": 0,
  "metadata": {
    "colab": {
      "name": "Text-Mining-TextRepresentation-01.ipynbt",
      "provenance": [],
      "collapsed_sections": [],
      "authorship_tag": "ABX9TyOihs1atgxjKnpPaZr6xvb8",
      "include_colab_link": true
    },
    "kernelspec": {
      "display_name": "Python 3",
      "name": "python3"
    },
    "language_info": {
      "name": "python"
    }
  },
  "cells": [
    {
      "cell_type": "markdown",
      "metadata": {
        "id": "view-in-github",
        "colab_type": "text"
      },
      "source": [
        "<a href=\"https://colab.research.google.com/github/iffishells/Data-Science/blob/main/Text-Mining-Reading_CsvFile.ipynb\" target=\"_parent\"><img src=\"https://colab.research.google.com/assets/colab-badge.svg\" alt=\"Open In Colab\"/></a>"
      ]
    },
    {
      "cell_type": "markdown",
      "metadata": {
        "id": "Hd80vLwGg-X3"
      },
      "source": [
        "# ***Text Representation***"
      ]
    },
    {
      "cell_type": "markdown",
      "metadata": {
        "id": "ftjPeZEaQUg9"
      },
      "source": [
        "# ***For one Document***"
      ]
    },
    {
      "cell_type": "code",
      "metadata": {
        "id": "B1dRESHVg3Ay"
      },
      "source": [
        "corpus  = [\"I am interested in Data Science InshaAllah i will done it.\"]"
      ],
      "execution_count": null,
      "outputs": []
    },
    {
      "cell_type": "code",
      "metadata": {
        "id": "-D4DG2JLiLfk"
      },
      "source": [
        "# !pip install sklearn # onnce\n",
        "# !pip install -U scikit-learn"
      ],
      "execution_count": null,
      "outputs": []
    },
    {
      "cell_type": "code",
      "metadata": {
        "id": "1bEMWHf8hSnC"
      },
      "source": [
        "from sklearn.feature_extraction.text import CountVectorizer"
      ],
      "execution_count": null,
      "outputs": []
    },
    {
      "cell_type": "code",
      "metadata": {
        "colab": {
          "base_uri": "https://localhost:8080/"
        },
        "id": "OVz4_mTiiBIa",
        "outputId": "7542da2d-3337-4578-c995-b6dfe94ec415"
      },
      "source": [
        "vec = CountVectorizer()  # vector\n",
        "\n",
        "x = vec.fit_transform(corpus)\n",
        "x\n",
        "\n",
        "# 1 X 9 1 is documents and 9 is the number of the featuers\n",
        "# because in the documents row are the number of the documents\n",
        "# and columns are the number of the features\n",
        "\n"
      ],
      "execution_count": null,
      "outputs": [
        {
          "output_type": "execute_result",
          "data": {
            "text/plain": [
              "<1x9 sparse matrix of type '<class 'numpy.int64'>'\n",
              "\twith 9 stored elements in Compressed Sparse Row format>"
            ]
          },
          "metadata": {
            "tags": []
          },
          "execution_count": 8
        }
      ]
    },
    {
      "cell_type": "code",
      "metadata": {
        "colab": {
          "base_uri": "https://localhost:8080/"
        },
        "id": "egG5ijwQNZek",
        "outputId": "86077ee1-7c55-4e9a-dc8f-9192d2acad86"
      },
      "source": [
        "## binary representation not the frequeny !\n",
        "x.toarray()"
      ],
      "execution_count": null,
      "outputs": [
        {
          "output_type": "execute_result",
          "data": {
            "text/plain": [
              "array([[1, 1, 1, 1, 1, 1, 1, 1, 1]])"
            ]
          },
          "metadata": {
            "tags": []
          },
          "execution_count": 16
        }
      ]
    },
    {
      "cell_type": "code",
      "metadata": {
        "colab": {
          "base_uri": "https://localhost:8080/"
        },
        "id": "eWggtrDNOOXN",
        "outputId": "a30b2f3e-cd7a-44ec-cf31-a653b7ecc90a"
      },
      "source": [
        "# Get the features name form the documents\n",
        "vec.get_feature_names()"
      ],
      "execution_count": null,
      "outputs": [
        {
          "output_type": "execute_result",
          "data": {
            "text/plain": [
              "['am',\n",
              " 'data',\n",
              " 'done',\n",
              " 'in',\n",
              " 'inshaallah',\n",
              " 'interested',\n",
              " 'it',\n",
              " 'science',\n",
              " 'will']"
            ]
          },
          "metadata": {
            "tags": []
          },
          "execution_count": 17
        }
      ]
    },
    {
      "cell_type": "code",
      "metadata": {
        "colab": {
          "base_uri": "https://localhost:8080/"
        },
        "id": "9vRD3c5pOU29",
        "outputId": "be2283bb-26db-4501-e1a8-e197d769ef9f"
      },
      "source": [
        "# len of features name form the documents\n",
        "len(vec.get_feature_names())"
      ],
      "execution_count": null,
      "outputs": [
        {
          "output_type": "execute_result",
          "data": {
            "text/plain": [
              "9"
            ]
          },
          "metadata": {
            "tags": []
          },
          "execution_count": 12
        }
      ]
    },
    {
      "cell_type": "code",
      "metadata": {
        "colab": {
          "base_uri": "https://localhost:8080/"
        },
        "id": "wP45DRqFOdL1",
        "outputId": "057a253a-5a45-4d8b-fe20-627deddb53c0"
      },
      "source": [
        "## vacubulary of the documents\n",
        "# key are the name of the features \n",
        "# value are the frequncy of the word\n",
        "vec.vocabulary_"
      ],
      "execution_count": null,
      "outputs": [
        {
          "output_type": "execute_result",
          "data": {
            "text/plain": [
              "{'am': 0,\n",
              " 'data': 1,\n",
              " 'done': 2,\n",
              " 'in': 3,\n",
              " 'inshaallah': 4,\n",
              " 'interested': 5,\n",
              " 'it': 6,\n",
              " 'science': 7,\n",
              " 'will': 8}"
            ]
          },
          "metadata": {
            "tags": []
          },
          "execution_count": 18
        }
      ]
    },
    {
      "cell_type": "code",
      "metadata": {
        "colab": {
          "base_uri": "https://localhost:8080/"
        },
        "id": "wiJ-TPkdOnBZ",
        "outputId": "b2a0d622-2669-4488-eee4-40b93e9aec82"
      },
      "source": [
        "len(vec.vocabulary_)"
      ],
      "execution_count": null,
      "outputs": [
        {
          "output_type": "execute_result",
          "data": {
            "text/plain": [
              "9"
            ]
          },
          "metadata": {
            "tags": []
          },
          "execution_count": 19
        }
      ]
    },
    {
      "cell_type": "markdown",
      "metadata": {
        "id": "BvMcmfl4QfDo"
      },
      "source": [
        "# ***Multi Documents***"
      ]
    },
    {
      "cell_type": "code",
      "metadata": {
        "id": "-95voQoVOt9Q"
      },
      "source": [
        "corpus = [\"text text text mining is interesting\",\n",
        "          'test mining is the same as data mining',\n",
        "          \"text and data have few difference\"]\n"
      ],
      "execution_count": null,
      "outputs": []
    },
    {
      "cell_type": "code",
      "metadata": {
        "id": "stpKKOtoQxGJ"
      },
      "source": [
        "from sklearn.feature_extraction.text import CountVectorizer\n"
      ],
      "execution_count": null,
      "outputs": []
    },
    {
      "cell_type": "code",
      "metadata": {
        "id": "_YQrkOuSQ3Lb"
      },
      "source": [
        "\n",
        "vec  = CountVectorizer()"
      ],
      "execution_count": null,
      "outputs": []
    },
    {
      "cell_type": "code",
      "metadata": {
        "id": "v34wmbHBREzt"
      },
      "source": [
        "x = vec.fit_transform(corpus)"
      ],
      "execution_count": null,
      "outputs": []
    },
    {
      "cell_type": "code",
      "metadata": {
        "colab": {
          "base_uri": "https://localhost:8080/"
        },
        "id": "ZOpx2eLeRheA",
        "outputId": "f49ad31d-8fb8-4b46-d5aa-46a057115a26"
      },
      "source": [
        "x.toarray()"
      ],
      "execution_count": null,
      "outputs": [
        {
          "output_type": "execute_result",
          "data": {
            "text/plain": [
              "array([[0, 0, 0, 0, 0, 0, 1, 1, 1, 0, 0, 3, 0],\n",
              "       [0, 1, 1, 0, 0, 0, 0, 1, 2, 1, 1, 0, 1],\n",
              "       [1, 0, 1, 1, 1, 1, 0, 0, 0, 0, 0, 1, 0]])"
            ]
          },
          "metadata": {
            "tags": []
          },
          "execution_count": 47
        }
      ]
    },
    {
      "cell_type": "code",
      "metadata": {
        "colab": {
          "base_uri": "https://localhost:8080/"
        },
        "id": "efBAHIqJRnMv",
        "outputId": "de2db19f-5344-4f00-8399-19c25d7c6cfe"
      },
      "source": [
        "vec.get_feature_names()"
      ],
      "execution_count": null,
      "outputs": [
        {
          "output_type": "execute_result",
          "data": {
            "text/plain": [
              "['and',\n",
              " 'as',\n",
              " 'data',\n",
              " 'difference',\n",
              " 'few',\n",
              " 'have',\n",
              " 'interesting',\n",
              " 'is',\n",
              " 'mining',\n",
              " 'same',\n",
              " 'test',\n",
              " 'text',\n",
              " 'the']"
            ]
          },
          "metadata": {
            "tags": []
          },
          "execution_count": 48
        }
      ]
    },
    {
      "cell_type": "code",
      "metadata": {
        "colab": {
          "base_uri": "https://localhost:8080/"
        },
        "id": "mbuAr7DFRuvF",
        "outputId": "e217926c-31af-442a-d9b8-49f104ce1577"
      },
      "source": [
        "len(vec.get_feature_names())"
      ],
      "execution_count": null,
      "outputs": [
        {
          "output_type": "execute_result",
          "data": {
            "text/plain": [
              "13"
            ]
          },
          "metadata": {
            "tags": []
          },
          "execution_count": 49
        }
      ]
    },
    {
      "cell_type": "code",
      "metadata": {
        "colab": {
          "base_uri": "https://localhost:8080/"
        },
        "id": "fWi_KvtzR4zq",
        "outputId": "607a7137-b5f4-4cea-b12e-08f407142bbe"
      },
      "source": [
        "vec.vocabulary_"
      ],
      "execution_count": null,
      "outputs": [
        {
          "output_type": "execute_result",
          "data": {
            "text/plain": [
              "{'and': 0,\n",
              " 'as': 1,\n",
              " 'data': 2,\n",
              " 'difference': 3,\n",
              " 'few': 4,\n",
              " 'have': 5,\n",
              " 'interesting': 6,\n",
              " 'is': 7,\n",
              " 'mining': 8,\n",
              " 'same': 9,\n",
              " 'test': 10,\n",
              " 'text': 11,\n",
              " 'the': 12}"
            ]
          },
          "metadata": {
            "tags": []
          },
          "execution_count": 50
        }
      ]
    },
    {
      "cell_type": "markdown",
      "metadata": {
        "id": "qIC0ciJzSdqK"
      },
      "source": [
        "# ***Parameters***"
      ]
    },
    {
      "cell_type": "code",
      "metadata": {
        "colab": {
          "base_uri": "https://localhost:8080/"
        },
        "id": "p6EOzLlqR7SG",
        "outputId": "4a9fa2a8-08fb-4e68-f26c-aafcd4272787"
      },
      "source": [
        "# by setting the parameters you can extract the imformation\n",
        "# according to your requirement like 'max_features ' mean how \n",
        "# you many want features\n",
        "\n",
        "vec = CountVectorizer(binary ='true',\n",
        "                      max_df=3,\n",
        "                      min_df=1,\n",
        "                      max_features=3,\n",
        "                      ngram_range=(1,3))\n",
        "\n",
        "\n",
        "vec.fit_transform(corpus)\n"
      ],
      "execution_count": null,
      "outputs": [
        {
          "output_type": "execute_result",
          "data": {
            "text/plain": [
              "<3x3 sparse matrix of type '<class 'numpy.int64'>'\n",
              "\twith 6 stored elements in Compressed Sparse Row format>"
            ]
          },
          "metadata": {
            "tags": []
          },
          "execution_count": 65
        }
      ]
    },
    {
      "cell_type": "code",
      "metadata": {
        "colab": {
          "base_uri": "https://localhost:8080/"
        },
        "id": "BN1hE0GYSvc8",
        "outputId": "4b913b19-5554-43a6-8436-97cac7429360"
      },
      "source": [
        "vec.get_feature_names()"
      ],
      "execution_count": null,
      "outputs": [
        {
          "output_type": "execute_result",
          "data": {
            "text/plain": [
              "['is', 'mining is', 'text']"
            ]
          },
          "metadata": {
            "tags": []
          },
          "execution_count": 66
        }
      ]
    },
    {
      "cell_type": "code",
      "metadata": {
        "colab": {
          "base_uri": "https://localhost:8080/"
        },
        "id": "AKV4aiDfTD-a",
        "outputId": "48cc1e92-87e2-4acc-f0f7-e5dbb1afbb0e"
      },
      "source": [
        "vec.vocabulary_"
      ],
      "execution_count": null,
      "outputs": [
        {
          "output_type": "execute_result",
          "data": {
            "text/plain": [
              "{'is': 0, 'mining is': 1, 'text': 2}"
            ]
          },
          "metadata": {
            "tags": []
          },
          "execution_count": 67
        }
      ]
    },
    {
      "cell_type": "markdown",
      "metadata": {
        "id": "58AHAzOWdZnG"
      },
      "source": [
        "# ***Term frequency–inverse document frequency***"
      ]
    },
    {
      "cell_type": "code",
      "metadata": {
        "id": "zkmdcQz3TKPj"
      },
      "source": [
        "corpus = ['text text mining is interesting',\n",
        "          'text mining is the same as data mining',\n",
        "          'text and data mining have few differences']"
      ],
      "execution_count": null,
      "outputs": []
    },
    {
      "cell_type": "code",
      "metadata": {
        "id": "ESp36JBzdrEq"
      },
      "source": [
        "from sklearn.feature_extraction.text import TfidfVectorizer\n"
      ],
      "execution_count": null,
      "outputs": []
    },
    {
      "cell_type": "code",
      "metadata": {
        "id": "aXMYL0RudxQx"
      },
      "source": [
        "vec = TfidfVectorizer(min_df=2,max_df=3,ngram_range=(1,3))"
      ],
      "execution_count": null,
      "outputs": []
    },
    {
      "cell_type": "code",
      "metadata": {
        "id": "Mn0kGRojd0gW"
      },
      "source": [
        "x = vec.fit_transform(corpus)"
      ],
      "execution_count": null,
      "outputs": []
    },
    {
      "cell_type": "code",
      "metadata": {
        "colab": {
          "base_uri": "https://localhost:8080/"
        },
        "id": "zQ5nPhlpd-A2",
        "outputId": "41f97818-4b4f-4634-e4d5-01d137d0faa6"
      },
      "source": [
        "x.toarray()"
      ],
      "execution_count": null,
      "outputs": [
        {
          "output_type": "execute_result",
          "data": {
            "text/plain": [
              "array([[0.        , 0.        , 0.37754794, 0.29319966, 0.37754794,\n",
              "        0.58639932, 0.37754794, 0.37754794],\n",
              "       [0.33304752, 0.33304752, 0.33304752, 0.51728221, 0.33304752,\n",
              "        0.25864111, 0.33304752, 0.33304752],\n",
              "       [0.55847784, 0.55847784, 0.        , 0.43370786, 0.        ,\n",
              "        0.43370786, 0.        , 0.        ]])"
            ]
          },
          "metadata": {
            "tags": []
          },
          "execution_count": 81
        }
      ]
    },
    {
      "cell_type": "code",
      "metadata": {
        "colab": {
          "base_uri": "https://localhost:8080/"
        },
        "id": "V84X0U95eBAL",
        "outputId": "b0a5bcae-28f8-4387-b563-96d33dec15af"
      },
      "source": [
        "vec.get_feature_names()"
      ],
      "execution_count": null,
      "outputs": [
        {
          "output_type": "execute_result",
          "data": {
            "text/plain": [
              "['data',\n",
              " 'data mining',\n",
              " 'is',\n",
              " 'mining',\n",
              " 'mining is',\n",
              " 'text',\n",
              " 'text mining',\n",
              " 'text mining is']"
            ]
          },
          "metadata": {
            "tags": []
          },
          "execution_count": 82
        }
      ]
    },
    {
      "cell_type": "code",
      "metadata": {
        "colab": {
          "base_uri": "https://localhost:8080/"
        },
        "id": "-Ec5KHYqeE_r",
        "outputId": "14156311-28b7-4ced-8a08-00d47403d3cb"
      },
      "source": [
        "len(vec.get_feature_names())"
      ],
      "execution_count": null,
      "outputs": [
        {
          "output_type": "execute_result",
          "data": {
            "text/plain": [
              "8"
            ]
          },
          "metadata": {
            "tags": []
          },
          "execution_count": 83
        }
      ]
    },
    {
      "cell_type": "code",
      "metadata": {
        "colab": {
          "base_uri": "https://localhost:8080/"
        },
        "id": "2GGSUAsteYdr",
        "outputId": "e2682ae3-de01-4158-c484-018463dd8f3c"
      },
      "source": [
        "vec.vocabulary_"
      ],
      "execution_count": null,
      "outputs": [
        {
          "output_type": "execute_result",
          "data": {
            "text/plain": [
              "{'data': 0,\n",
              " 'data mining': 1,\n",
              " 'is': 2,\n",
              " 'mining': 3,\n",
              " 'mining is': 4,\n",
              " 'text': 5,\n",
              " 'text mining': 6,\n",
              " 'text mining is': 7}"
            ]
          },
          "metadata": {
            "tags": []
          },
          "execution_count": 84
        }
      ]
    },
    {
      "cell_type": "markdown",
      "metadata": {
        "id": "NTX2tBUYgLzb"
      },
      "source": [
        " # *Reading Data from File* \n",
        "\n",
        "---\n",
        "Label Data\n"
      ]
    },
    {
      "cell_type": "code",
      "metadata": {
        "id": "JokATsgXeb57",
        "colab": {
          "base_uri": "https://localhost:8080/",
          "height": 52
        },
        "outputId": "999f0603-3c3d-4bf9-ce5d-99d01965ae42"
      },
      "source": [
        "corpus = open(\"/content/labelData.txt\").read()\n",
        "corpus"
      ],
      "execution_count": null,
      "outputs": [
        {
          "output_type": "execute_result",
          "data": {
            "application/vnd.google.colaboratory.intrinsic+json": {
              "type": "string"
            },
            "text/plain": [
              "'Data mining is sexcy job : job\\ndata scitents is tuff : tuff\\ntext mining is interesint : mining\\ndata engineer is owsem job : Enginering'"
            ]
          },
          "metadata": {
            "tags": []
          },
          "execution_count": 107
        }
      ]
    },
    {
      "cell_type": "code",
      "metadata": {
        "colab": {
          "base_uri": "https://localhost:8080/"
        },
        "id": "tQgMAXTSgcHg",
        "outputId": "9d231c48-0a5c-445d-f228-a7f656c4825a"
      },
      "source": [
        "docs = corpus.split(\"\\n\")\n",
        "\n",
        "docs\n"
      ],
      "execution_count": null,
      "outputs": [
        {
          "output_type": "execute_result",
          "data": {
            "text/plain": [
              "['Data mining is sexcy job : job',\n",
              " 'data scitents is tuff : tuff',\n",
              " 'text mining is interesint : mining',\n",
              " 'data engineer is owsem job : Enginering']"
            ]
          },
          "metadata": {
            "tags": []
          },
          "execution_count": 108
        }
      ]
    },
    {
      "cell_type": "code",
      "metadata": {
        "id": "TKZeSwnggg4M",
        "colab": {
          "base_uri": "https://localhost:8080/"
        },
        "outputId": "c1c6cdd4-c6ee-4947-ac13-83d5a55f7fd9"
      },
      "source": [
        "x , y = [] , []\n",
        "\n",
        "for doc in docs:\n",
        "    print(doc)\n",
        "    i , l  = doc.split(\" : \")\n",
        "    x.append(i.strip())\n",
        "    y.append(l.strip())"
      ],
      "execution_count": null,
      "outputs": [
        {
          "output_type": "stream",
          "text": [
            "Data mining is sexcy job : job\n",
            "data scitents is tuff : tuff\n",
            "text mining is interesint : mining\n",
            "data engineer is owsem job : Enginering\n"
          ],
          "name": "stdout"
        }
      ]
    },
    {
      "cell_type": "code",
      "metadata": {
        "colab": {
          "base_uri": "https://localhost:8080/"
        },
        "id": "CiQj2E4-h9BK",
        "outputId": "a7d2e3ee-09c6-45df-85bf-af8cd8c736d2"
      },
      "source": [
        "x"
      ],
      "execution_count": null,
      "outputs": [
        {
          "output_type": "execute_result",
          "data": {
            "text/plain": [
              "['Data mining is sexcy job',\n",
              " 'data scitents is tuff',\n",
              " 'text mining is interesint',\n",
              " 'data engineer is owsem job']"
            ]
          },
          "metadata": {
            "tags": []
          },
          "execution_count": 110
        }
      ]
    },
    {
      "cell_type": "code",
      "metadata": {
        "colab": {
          "base_uri": "https://localhost:8080/"
        },
        "id": "8cNdS-JujnF-",
        "outputId": "e0c66833-46a6-4f26-9e76-19673f133b6c"
      },
      "source": [
        "y"
      ],
      "execution_count": null,
      "outputs": [
        {
          "output_type": "execute_result",
          "data": {
            "text/plain": [
              "['job', 'tuff', 'mining', 'Enginering']"
            ]
          },
          "metadata": {
            "tags": []
          },
          "execution_count": 111
        }
      ]
    },
    {
      "cell_type": "markdown",
      "metadata": {
        "id": "EiXhpngDgCJV"
      },
      "source": [
        "# ***Import data from Datasets UCI***"
      ]
    },
    {
      "cell_type": "code",
      "metadata": {
        "id": "44W3itwgjoDo",
        "colab": {
          "base_uri": "https://localhost:8080/",
          "height": 170
        },
        "outputId": "859588d7-2838-472c-9100-18f7e48627c8"
      },
      "source": [
        "path = \"/content/tripadvisor_review.csv\"\n",
        "corpus = open(path).read()\n",
        "corpus"
      ],
      "execution_count": 1,
      "outputs": [
        {
          "output_type": "execute_result",
          "data": {
            "application/vnd.google.colaboratory.intrinsic+json": {
              "type": "string"
            },
            "text/plain": [
              "'User ID,Category 1,Category 2,Category 3,Category 4,Category 5,Category 6,Category 7,Category 8,Category 9,Category 10\\nUser 1,0.93,1.8,2.29,0.62,0.8,2.42,3.19,2.79,1.82,2.42\\nUser 2,1.02,2.2,2.66,0.64,1.42,3.18,3.21,2.63,1.86,2.32\\nUser 3,1.22,0.8,0.54,0.53,0.24,1.54,3.18,2.8,1.31,2.5\\nUser 4,0.45,1.8,0.29,0.57,0.46,1.52,3.18,2.96,1.57,2.86\\nUser 5,0.51,1.2,1.18,0.57,1.54,2.02,3.18,2.78,1.18,2.54\\nUser 6,0.99,1.28,0.72,0.27,0.74,1.26,3.17,2.89,1.66,3.66\\nUser 7,0.9,1.36,0.26,0.32,0.86,1.58,3.17,2.66,1.22,3.22\\nUser 8,0.74,1.4,0.22,0.41,0.82,1.5,3.17,2.81,1.54,2.88\\nUser 9,1.12,1.76,1.04,0.64,0.82,2.14,3.18,2.79,1.41,2.54\\nUser 10,0.7,1.36,0.22,0.26,1.5,1.54,3.17,2.82,2.24,3.12\\nUser 11,1.47,1,0.7,0.75,1.66,2.76,3.18,2.89,1.66,2.62\\nUser 12,0.96,2.96,0.29,0.38,0.88,2.08,3.17,2.93,1.66,3.42\\nUser 13,0.74,1.44,2.75,0.45,0.98,1.74,3.2,2.87,1.38,2.34\\nUser 14,0.58,1.64,2.27,0.45,1.26,1.72,3.19,2.91,2.3,2.74\\nUser 15,0.96,1.68,2.29,0.51,1.2,2.84,3.2,2.82,2.02,2.46\\nUser 16,1.25,2.52,1.76,0.5,1.46,2.08,3.19,2.74,1.41,2.32\\nUser 17,0.86,1.04,1.76,0.34,0.06,1.1,3.18,2.73,1.15,2.98\\nUser 18,0.61,1.96,2.49,0.66,1.34,1.78,3.2,3.04,1.15,2.42\\nUser 19,0.67,1.36,1.36,0.38,0.82,3.38,3.18,2.86,1.79,2.8\\nUser 20,0.8,1.04,2.1,0.58,1.18,1.98,3.19,2.93,1.22,2.48\\nUser 21,0.86,1.44,1.12,0.41,1.2,2.18,3.18,2.7,1.06,2.94\\nUser 22,0.96,1.44,0.14,0.42,1.06,2.08,3.17,2.74,1.15,3.22\\nUser 23,0.93,1.16,0.29,0.41,1.02,1.36,3.16,2.74,1.34,3.66\\nUser 24,0.54,1.44,0.3,0.41,1.02,1.46,3.17,2.71,1.73,3.04\\nUser 25,1.22,0.96,1.15,0.54,1.1,2.02,3.18,2.77,1.92,2.46\\nUser 26,0.61,2.84,2.8,0.48,0.56,1.52,3.19,2.54,1.6,2.54\\nUser 27,0.77,1.68,2.24,0.75,1.28,2.64,3.19,2.57,1.34,2.38\\nUser 28,0.99,1.28,1.22,0.59,0.94,1.9,3.18,2.79,1.22,2.4\\nUser 29,0.58,1.2,0.18,0.38,0.54,0.76,3.17,2.69,1.63,2.94\\nUser 30,0.64,1.16,3.12,0.45,1.84,3.16,3.2,2.75,1.54,2.46\\nUser 31,0.74,1.28,2.14,0.5,0.94,2.26,3.2,2.78,1.5,2.34\\nUser 32,0.7,2.24,2.32,0.63,0.72,2.12,3.19,2.65,1.28,2.42\\nUser 33,0.64,2,1.6,0.41,2.08,2.22,3.19,2.8,1.76,2.72\\nUser 34,1.06,1.12,0.21,0.58,0.98,2.5,3.18,2.9,1.92,2.74\\nUser 35,0.96,1.16,0.45,0.29,0.98,1.42,3.18,2.94,2.02,3.02\\nUser 36,0.88,0.96,1.18,0.43,0.74,1.52,3.18,3.01,1.63,2.94\\nUser 37,0.7,1.28,1.15,0.32,0.4,1.1,3.18,2.78,1.76,2.9\\nUser 38,1.02,1.36,0.91,0.5,0.72,1.22,3.18,2.91,1.92,3.2\\nUser 39,0.7,1.52,2.37,0.62,0.86,1.68,3.2,2.86,1.6,2.58\\nUser 40,1.38,1.08,0.18,0.62,0.14,1.46,3.18,2.88,1.66,2.42\\nUser 41,0.99,1.24,0.15,0.24,1.38,1.98,3.17,2.61,1.02,3.06\\nUser 42,0.58,1.48,0.19,0.41,0.5,0.98,3.16,2.74,1.57,3.38\\nUser 43,0.67,1.24,0.61,0.24,1.06,1.9,3.18,2.82,1.25,2.88\\nUser 44,1.02,2,0.42,0.56,0.46,2.06,3.18,2.86,2.05,2.66\\nUser 45,0.64,1.64,0.34,0.62,0.64,2.22,3.18,3.1,1.98,2.8\\nUser 46,1.7,1.4,0.61,0.39,0.7,1.46,3.17,2.9,1.82,3.38\\nUser 47,0.38,1.08,0.77,0.34,1.06,1.46,3.18,3.15,2.18,3.22\\nUser 48,0.9,1.2,1.24,0.35,0.88,1.86,3.18,2.86,1.47,2.94\\nUser 49,0.45,2.96,0.26,0.4,0.56,1.68,3.18,2.9,1.44,2.72\\nUser 50,0.61,1.08,2.22,0.65,1.2,2.06,3.19,2.62,1.31,2.34\\nUser 51,1.02,1.2,0.3,0.38,1.1,1.9,3.17,2.93,1.34,3.42\\nUser 52,0.42,1.48,2.06,0.48,0.96,1.4,3.18,2.71,1.76,2.86\\nUser 53,0.8,1.88,0.66,0.47,2.54,2.18,3.18,2.59,1.89,3.02\\nUser 54,1.02,0.64,1.12,0.51,0.8,1.82,3.18,2.82,1.5,2.56\\nUser 55,1.02,1.2,0.37,0.58,0.54,1.7,3.17,2.78,1.66,3.42\\nUser 56,0.61,1.68,0.46,0.37,0.86,1.1,3.17,2.94,1.31,3.12\\nUser 57,0.8,1.16,2.43,0.54,1.06,2.28,3.19,2.86,1.44,2.48\\nUser 58,0.93,1.48,0.78,0.39,0.7,1.7,3.18,2.82,1.41,2.88\\nUser 59,0.64,1.2,2.27,0.64,1.42,2.83,3.2,2.79,1.47,2.38\\nUser 60,0.83,1.4,1.23,0.64,1.2,2.54,3.18,2.81,1.6,2.54\\nUser 61,1.06,1.92,3.11,0.55,1.46,3.24,3.2,2.62,1.28,2.34\\nUser 62,1.98,0.96,0.18,0.45,0.16,0.82,3.18,3.03,1.02,2.78\\nUser 63,0.9,1.12,0.22,0.45,0.32,1.1,3.18,2.82,2.08,2.96\\nUser 64,0.51,1.6,0.37,0.42,0.48,1.36,3.18,3.1,1.34,3.04\\nUser 65,1.41,1.12,0.68,0.37,1.14,1.76,3.18,2.9,1.5,3.01\\nUser 66,1.47,0.72,0.53,0.62,0.48,1.9,3.18,2.78,1.63,2.88\\nUser 67,0.99,1.28,2.32,0.43,0.16,1.06,3.18,2.79,1.09,3.34\\nUser 68,0.93,1,0.61,0.5,0.8,1.52,3.18,2.77,1.28,2.94\\nUser 69,0.51,1.08,1.92,0.34,1.04,1.3,3.18,2.8,1.09,2.88\\nUser 70,0.54,1.44,0.72,0.48,0.7,1.36,3.18,2.74,1.5,2.54\\nUser 71,1.6,0.8,0.38,0.67,0.5,1.5,3.18,2.82,1.28,2.46\\nUser 72,0.83,1.04,2.94,0.96,0.88,1.86,3.2,2.82,1.25,2.34\\nUser 73,0.74,2.24,0.14,0.47,1.22,1.88,3.17,2.81,1.98,2.58\\nUser 74,0.9,1.08,2.48,0.41,0.82,1.78,3.18,2.83,1.41,3.46\\nUser 75,1.31,1.36,1.47,0.56,0.78,2,3.19,2.86,1.63,2.42\\nUser 76,0.99,2.96,1.71,0.45,1.36,1.96,3.19,2.69,1.38,2.32\\nUser 77,1.28,1.12,1.04,0.42,0.7,1.3,3.18,2.81,1.86,3.36\\nUser 78,0.8,1.76,2.53,0.65,1.04,2.22,3.19,2.79,1.63,2.46\\nUser 79,0.83,1.08,0.67,0.35,0.54,1.06,3.17,2.78,1.25,3.06\\nUser 80,0.7,1.04,0.19,0.47,0.78,2.42,3.17,2.7,1.12,2.98\\nUser 81,2.08,0.92,0.8,0.4,0.54,1.7,3.17,3.07,1.54,3.42\\nUser 82,0.74,1.32,0.93,0.46,0.66,1.82,3.18,2.83,1.86,2.54\\nUser 83,0.7,1.52,0.45,1.65,0.32,0.86,3.17,2.62,2.05,3.04\\nUser 84,1.25,0.92,0.86,0.58,0.66,1.98,3.18,2.88,1.12,2.66\\nUser 85,1.92,0.28,1.12,0.5,0.88,1.96,3.18,2.96,1.86,2.58\\nUser 86,0.74,1.84,0.24,0.34,0.8,1.66,3.17,2.87,1.5,3.34\\nUser 87,0.7,0.76,0.72,1.1,0.42,1.54,3.18,2.69,1.41,2.56\\nUser 88,0.64,1.08,0.19,0.39,0.5,0.9,3.17,2.79,1.18,3.12\\nUser 89,0.64,2.36,0.14,1.68,1.02,1.76,3.18,2.71,1.22,2.42\\nUser 90,0.67,2.08,1.04,0.54,0.74,1.64,3.18,2.86,1.57,2.64\\nUser 91,1.38,1.12,0.72,0.53,0.88,1.36,3.18,2.81,1.79,3.26\\nUser 92,0.56,1.16,0.13,0.49,0.54,0.9,3.17,2.91,1.54,2.64\\nUser 93,1.1,2.04,2.45,0.54,1.44,2.28,3.19,2.74,1.63,2.42\\nUser 94,0.64,1.2,2.27,0.64,1.42,2.83,3.2,2.79,1.47,2.38\\nUser 95,0.99,2,2.13,0.64,1.82,2.6,3.19,2.67,1.5,2.46\\nUser 96,1.12,0.96,0.3,0.46,0.56,1.92,3.18,2.98,1.22,2.94\\nUser 97,0.9,1.44,2.34,0.55,0.94,2.14,3.19,2.79,1.79,2.82\\nUser 98,0.9,0.56,1.38,0.37,0.8,1.9,3.18,2.91,1.41,2.54\\nUser 99,1.02,0.88,2.67,0.53,1.02,1.78,3.19,2.86,2.14,2.78\\nUser 100,0.67,1.6,0.21,0.47,2.16,1.96,3.17,2.86,3.04,3.1\\nUser 101,0.9,0.96,0.38,0.5,0.78,2.1,3.18,2.9,1.79,2.82\\nUser 102,0.64,1.12,0.4,0.37,0.64,1.12,3.18,2.94,1.76,3.06\\nUser 103,0.99,2.12,1.41,0.65,0.96,2.94,3.19,2.82,1.41,2.42\\nUser 104,0.88,1.2,0.16,0.45,0.5,1,3.18,2.67,1.79,2.86\\nUser 105,1.47,0.84,0.64,0.39,0.32,1.18,3.17,2.9,1.73,3.46\\nUser 106,0.86,0.88,2.85,0.39,0.42,1.54,3.2,2.73,1.7,2.46\\nUser 107,1.07,0.56,0.93,0.53,1.3,2.62,3.18,2.94,2.27,2.74\\nUser 108,0.99,1.2,0.38,0.43,0.8,1.1,3.16,2.74,1.15,3.42\\nUser 109,1.76,0.04,0.43,0.39,1.5,1.62,3.17,2.8,0.96,3.18\\nUser 110,0.8,2.16,1.12,0.53,1.54,2.34,3.18,2.83,2.24,2.78\\nUser 111,0.9,1.8,1.25,0.67,0.86,1.86,3.19,2.96,2.46,2.98\\nUser 112,0.9,1.08,1.65,0.34,0.7,1.44,3.18,2.85,1.15,2.86\\nUser 113,0.9,1.84,0.51,0.66,1.04,1.78,3.18,2.79,1.86,2.54\\nUser 114,0.35,1.36,1.41,0.49,1.1,1.5,3.18,3.04,1.28,2.48\\nUser 115,0.83,1.04,2.94,0.96,0.88,1.86,3.2,2.82,1.25,2.34\\nUser 116,1.15,1.28,0.18,0.61,0.7,2.3,3.18,3.01,1.73,2.34\\nUser 117,0.64,1.72,1.25,0.51,0.72,2.04,3.19,2.83,1.76,2.4\\nUser 118,0.61,1.32,0.78,0.54,1.12,1.74,3.18,2.78,1.79,2.94\\nUser 119,0.54,1.2,1.17,0.45,1.04,1.38,3.18,2.58,1.82,2.94\\nUser 120,1.06,1.6,1.1,0.43,0.86,1.84,3.18,2.7,0.96,3.18\\nUser 121,0.86,1.96,1.25,0.56,1.66,2.9,3.18,2.82,1.44,2.5\\nUser 122,0.77,1.04,0.26,0.66,1.42,2,3.18,2.82,1.6,2.64\\nUser 123,0.93,2.68,1.3,0.42,1.42,2.22,3.19,2.58,1.31,2.38\\nUser 124,1.98,0.48,0.75,0.69,0.88,2.62,3.18,2.86,1.54,2.38\\nUser 125,0.74,1.52,1.38,0.59,1.1,2,3.18,2.72,1.47,2.74\\nUser 126,0.64,1.36,0.19,0.46,0.78,1.58,3.18,2.79,1.31,2.82\\nUser 127,0.51,1.44,0.42,0.33,0.74,1.3,3.18,2.77,1.18,2.98\\nUser 128,1.06,1.68,1.02,0.66,0.72,2.02,3.18,2.81,1.41,2.56\\nUser 129,1.09,1.48,0.99,0.35,1.12,1.78,3.17,2.89,1.31,3.34\\nUser 130,0.54,1.2,0.45,0.39,0.88,1.66,3.18,2.7,1.57,2.78\\nUser 131,0.9,0.88,1.52,0.46,0.8,1.48,3.18,2.71,0.99,2.88\\nUser 132,0.83,1.68,1.14,0.51,1.66,2.78,3.18,2.85,1.7,2.54\\nUser 133,0.93,1.64,1.73,0.55,1.46,1.98,3.18,2.74,1.89,2.94\\nUser 134,0.38,1.28,1.54,0.62,1.7,2.16,3.18,3.02,1.31,2.5\\nUser 135,0.51,1.64,0.27,0.3,0.78,1.86,3.17,2.69,2.5,3.34\\nUser 136,0.8,0.96,0.73,0.61,1.1,2.82,3.18,2.99,2.14,2.54\\nUser 137,1.15,1.72,1.62,0.61,0.78,1.94,3.19,3.02,1.47,2.54\\nUser 138,0.51,1.16,1.66,0.53,1.58,1.9,3.18,2.85,1.28,2.88\\nUser 139,0.96,1.4,0.74,0.37,0.86,1.98,3.18,2.8,1.44,3.06\\nUser 140,1.09,1.32,0.74,0.39,0.5,1.06,3.18,3.01,1.86,3.2\\nUser 141,0.74,1.28,0.26,0.3,1.14,1.96,3.17,2.93,1.73,3.34\\nUser 142,0.8,1.12,0.19,0.46,0.82,1.48,3.18,2.82,1.7,2.96\\nUser 143,0.86,1.96,0.61,0.42,1.22,1.86,3.17,2.7,1.22,3.1\\nUser 144,0.61,1.04,0.34,0.45,0.22,1.9,3.18,2.71,2.37,2.62\\nUser 145,0.9,1.4,0.19,0.59,1.04,1.88,3.17,3.06,2.21,3.02\\nUser 146,0.96,2.96,0.29,0.38,0.88,2.08,3.17,2.93,1.66,3.42\\nUser 147,1.09,0.6,0.19,0.61,1.62,2.44,3.18,2.74,1.38,2.46\\nUser 148,0.8,1.24,1.98,0.67,1.38,2.42,3.19,3.12,1.5,2.62\\nUser 149,0.86,1.28,1.01,0.55,1.26,2.12,3.18,2.86,1.92,2.94\\nUser 150,0.77,1.52,1.33,0.51,1.34,2.46,3.18,2.8,1.6,2.54\\nUser 151,1.18,1.12,1.01,0.39,1.2,2.02,3.18,2.93,1.47,3.1\\nUser 152,0.74,1.64,0.18,0.55,0.94,2,3.18,2.74,1.5,2.98\\nUser 153,0.64,1.6,0.21,0.54,0.62,1.22,3.18,2.85,1.44,2.66\\nUser 154,0.64,1.56,0.22,0.57,0.5,2.02,3.18,2.66,1.34,2.78\\nUser 155,1.09,1.44,0.22,0.37,0.34,1.94,3.18,2.73,1.66,2.62\\nUser 156,1.02,1.16,1.22,0.29,0.94,1.66,3.18,2.8,2.08,3.42\\nUser 157,0.9,1.64,0.32,0.5,1.34,2.02,3.18,3.06,1.57,2.86\\nUser 158,2.05,1.12,0.7,0.37,0.5,1.04,3.17,2.77,1.98,3.44\\nUser 159,1.18,2.04,1.89,0.5,1.66,2.18,3.19,2.83,1.41,2.34\\nUser 160,1.06,1.76,1.02,0.27,0.24,1.16,3.18,2.63,1.28,3.36\\nUser 161,0.58,1.12,1.57,0.45,0.78,1.5,3.18,2.77,1.44,2.9\\nUser 162,1.15,1.08,0.51,0.37,0.34,0.98,3.17,2.58,2.21,3.36\\nUser 163,0.9,1.84,0.51,0.66,1.04,1.78,3.18,2.79,1.86,2.54\\nUser 164,0.7,1.28,0.93,0.47,0.54,1.58,3.18,2.82,1.76,2.98\\nUser 165,0.8,1.16,1.09,0.23,0.82,1.5,3.18,2.78,0.93,2.88\\nUser 166,0.9,1.64,0.21,0.5,0.3,1.68,3.18,2.91,1.44,2.74\\nUser 167,0.7,0.8,2.56,0.5,1.1,1.5,3.19,2.86,1.47,2.38\\nUser 168,0.61,1.04,0.83,0.46,0.82,1.86,3.18,2.9,2.18,2.54\\nUser 169,0.67,2.04,2.82,0.51,0.9,1.66,3.2,2.85,1.5,2.34\\nUser 170,0.7,1.28,1.49,0.46,0.58,1.46,3.18,2.97,1.73,2.86\\nUser 171,0.93,1.16,0.26,0.51,1.42,2.4,3.18,2.97,2.18,2.8\\nUser 172,1.9,0.4,0.45,0.48,0.7,1.06,3.18,2.98,1.22,2.48\\nUser 173,0.74,1.96,0.14,0.65,0.4,0.98,3.18,2.73,1.22,2.78\\nUser 174,1.06,1.28,0.22,0.49,0.74,1.24,3.17,2.94,1.6,3.28\\nUser 175,0.96,1.08,0.8,0.66,0.72,2.02,3.18,2.86,1.57,3.26\\nUser 176,0.42,1.88,0.26,1.05,1.06,2.1,3.18,2.86,1.15,2.62\\nUser 177,1.02,1.16,0.78,0.41,1.1,2,3.18,3.01,1.38,3.26\\nUser 178,0.99,1.08,0.93,0.41,0.62,1.46,3.18,2.97,1.73,2.94\\nUser 179,0.7,0.96,0.22,0.47,0.46,2.12,3.18,2.89,1.7,2.98\\nUser 180,0.77,1.24,0.21,0.54,0.88,1.42,3.18,2.86,1.76,2.88\\nUser 181,0.58,1.44,0.19,0.53,0.24,0.94,3.18,3.29,2.18,2.9\\nUser 182,0.8,1.2,1.25,0.43,1.78,2.62,3.18,2.75,1.6,2.7\\nUser 183,1.28,1.48,1.42,0.61,0.96,1.98,3.18,2.81,1.6,2.48\\nUser 184,1.38,1.12,1.8,0.37,0.82,1.16,3.18,2.69,1.22,3.3\\nUser 185,1.06,1.04,2.5,0.56,1.78,2.8,3.2,2.72,2.18,2.54\\nUser 186,0.96,1.2,0.36,0.43,0.22,2.8,3.18,2.85,1.98,2.64\\nUser 187,0.58,1.12,0.27,0.47,1.42,2.14,3.18,2.78,1.44,2.72\\nUser 188,1.41,1.32,0.19,0.56,0.32,1.56,3.18,3.07,1.41,3.06\\nUser 189,1.02,1.04,1.33,0.61,0.86,2.4,3.19,2.89,1.63,2.46\\nUser 190,0.93,0.6,0.18,0.33,0.32,1.1,3.17,2.94,1.28,3.04\\nUser 191,0.51,1.08,2.48,0.57,0.66,1.8,3.19,2.58,1.38,2.32\\nUser 192,0.83,1.32,1.89,0.65,1.28,1.7,3.19,2.75,1.76,2.66\\nUser 193,1.7,0.64,0.43,0.41,0.9,1.7,3.16,2.85,1.7,3.52\\nUser 194,0.9,1.56,0.22,0.35,1.26,1.96,3.16,2.74,2.05,3.44\\nUser 195,0.34,1.16,0.18,0.4,1.18,1.86,3.18,2.82,1.76,2.86\\nUser 196,0.8,1,0.22,0.34,0.94,1.4,3.17,2.94,1.41,2.96\\nUser 197,0.7,1.04,1.41,0.31,0.62,1.5,3.18,2.65,1.31,3.04\\nUser 198,1.28,0.68,2.06,0.38,1.58,2.48,3.19,2.74,1.57,2.5\\nUser 199,0.64,1.48,0.99,0.31,0.64,1.3,3.18,3.01,1.57,3.26\\nUser 200,1.25,2.16,0.22,1.79,0.9,1.76,3.18,2.77,1.7,2.4\\nUser 201,1.06,1.28,2.5,0.62,1.66,3.02,3.19,2.89,1.79,2.78\\nUser 202,1.12,1.56,0.38,0.55,0.66,2.1,3.18,2.85,1.73,2.96\\nUser 203,0.7,0.92,2.77,0.54,0.98,1.58,3.2,2.74,1.47,2.34\\nUser 204,1.06,1.12,0.22,0.39,0.7,1.46,3.18,2.91,1.82,2.82\\nUser 205,0.83,0.88,0.82,0.42,0.62,1.74,3.18,2.93,1.02,2.7\\nUser 206,0.99,2.08,0.27,0.33,0.14,0.82,3.18,2.73,1.38,2.78\\nUser 207,0.99,1.28,0.19,0.27,0.54,2.22,3.18,2.71,1.73,2.62\\nUser 208,0.8,0.84,0.24,0.5,0.56,1.44,3.18,2.94,1.89,2.94\\nUser 209,0.77,0.88,1.71,0.48,0.7,1.08,3.18,2.54,1.15,2.58\\nUser 210,1.06,1.12,0.98,0.21,1.1,1.38,3.17,2.88,1.02,3.26\\nUser 211,0.54,1.44,1.31,0.32,1.18,1.48,3.18,2.79,1.31,3.3\\nUser 212,0.93,1.36,1.94,0.34,0.9,2.36,3.19,2.78,1.5,2.82\\nUser 213,0.83,2.04,0.42,0.51,0.7,2.12,3.18,2.66,1.6,2.98\\nUser 214,0.51,1.32,0.24,0.38,0.42,1.3,3.18,2.79,1.34,2.58\\nUser 215,0.61,1.56,0.16,0.37,0.38,0.94,3.17,2.94,1.22,3.46\\nUser 216,0.7,1.28,1.66,0.49,1.68,2.68,3.19,2.77,1.7,2.54\\nUser 217,0.61,1.52,0.18,0.26,0.8,1.4,3.17,2.77,1.22,3.04\\nUser 218,0.9,1.2,0.5,0.45,0.64,1.54,3.18,2.71,1.38,2.3\\nUser 219,1.02,0.72,1.2,0.47,1.9,2.98,3.18,2.79,1.31,2.38\\nUser 220,0.9,0.88,2.05,0.45,1.36,2,3.18,2.87,1.38,2.86\\nUser 221,0.77,1.08,0.29,0.58,1.38,2.54,3.18,2.87,1.6,2.88\\nUser 222,1.25,1.12,1.47,0.41,0.26,1.22,3.18,2.73,1.12,3.22\\nUser 223,1.15,2.32,2.4,0.5,1.12,1.54,3.19,2.8,1.63,2.4\\nUser 224,0.93,1.32,0.14,0.47,0.54,1.56,3.17,2.86,1.6,3.04\\nUser 225,0.61,1.2,2.05,0.61,1.3,3.06,3.19,2.79,1.57,2.42\\nUser 226,1.02,1.96,0.27,0.35,1.18,1.46,3.17,2.73,1.47,3.34\\nUser 227,0.9,2.24,0.27,1.78,1.3,1.42,3.18,2.75,1.18,2.46\\nUser 228,0.67,1.2,1.39,0.41,1.26,1.7,3.18,2.82,1.25,2.82\\nUser 229,0.54,2.96,0.58,0.57,0.78,1.7,3.18,2.91,1.28,3.3\\nUser 230,0.61,1.04,1.98,0.55,1.34,1.96,3.19,2.94,1.15,2.38\\nUser 231,0.61,1,0.22,0.58,1.1,1.42,3.18,3.14,2.11,2.8\\nUser 232,0.58,1.44,2.1,0.64,1.92,2.18,3.2,3.04,1.12,2.42\\nUser 233,0.83,1.96,0.51,0.31,0.74,1.16,3.18,2.7,1.02,3.02\\nUser 234,0.48,1.96,0.24,0.35,0.46,1.62,3.18,2.7,1.28,2.74\\nUser 235,0.61,0.84,0.15,0.38,2.38,2.12,3.18,2.97,1.34,2.14\\nUser 236,0.34,1.16,0.18,0.4,1.18,1.86,3.18,2.82,1.76,2.86\\nUser 237,1.41,1.08,1.34,0.65,1.6,2.14,3.18,2.81,1.15,3.14\\nUser 238,0.58,1.84,0.22,0.73,0.98,2.14,3.18,2.99,1.44,2.96\\nUser 239,0.96,0.88,1.02,0.64,1.18,2.24,3.18,2.78,1.12,2.7\\nUser 240,2.08,0.48,0.18,0.15,0.1,0.14,3.18,2.95,1.15,3.6\\nUser 241,0.7,0.92,2.77,0.54,0.98,1.58,3.2,2.74,1.47,2.34\\nUser 242,1.25,2.48,1.76,0.54,1.76,2.38,3.19,2.81,1.6,2.32\\nUser 243,0.74,1.6,1.2,0.56,0.32,1.02,3.19,2.72,2.69,2.58\\nUser 244,0.74,1.84,1.02,0.41,0.46,1.14,3.18,2.75,2.5,3.12\\nUser 245,0.83,1.56,0.22,0.23,0.32,0.88,3.17,2.89,2.4,3.02\\nUser 246,0.64,1.2,0.98,0.42,0.82,1.6,3.18,2.88,1.63,2.88\\nUser 247,1.33,0.52,0.22,0.46,0.3,0.86,3.18,2.93,1.66,2.8\\nUser 248,1.5,1.96,2.08,2.73,1.12,2.94,3.2,2.63,1.63,2.46\\nUser 249,0.96,0.64,0.67,0.33,0.98,1.34,3.17,2.94,1.15,3.14\\nUser 250,0.34,1.16,0.18,0.4,1.18,1.86,3.18,2.82,1.76,2.86\\nUser 251,0.51,1,1.57,0.56,1.58,1.82,3.18,2.81,1.22,2.66\\nUser 252,0.67,1.16,0.26,0.39,0.78,1.58,3.18,2.94,1.6,2.94\\nUser 253,0.51,1.28,2,0.4,0.48,2.08,3.19,2.56,1.15,2.4\\nUser 254,0.58,1.2,2.05,0.71,0.5,2.28,3.19,2.66,1.66,2.4\\nUser 255,0.61,2.4,0.64,0.42,0.16,1.62,3.18,2.59,1.89,2.78\\nUser 256,1.09,1.76,0.67,0.54,1.36,1.92,3.17,2.67,2.43,3.28\\nUser 257,0.9,0.88,0.29,0.39,0.86,1.54,3.17,2.98,1.41,3.36\\nUser 258,0.93,1.96,0.22,1.62,1.38,1.98,3.18,2.74,1.57,2.4\\nUser 259,2.22,0.24,1.09,0.48,0.24,1.12,3.18,3.06,1.41,2.72\\nUser 260,0.61,1.32,1.62,0.72,1.68,1.78,3.18,2.54,1.31,2.42\\nUser 261,0.77,0.72,1.07,0.53,0.88,2.14,3.19,2.85,1.79,2.62\\nUser 262,0.96,1.44,1.09,0.63,1.18,3.12,3.19,3.1,2.05,2.72\\nUser 263,1.58,0.88,0.29,0.53,0.82,1.86,3.18,3.02,1.73,2.78\\nUser 264,0.61,1.72,1.74,0.51,1.42,2.06,3.19,3.13,2.46,2.78\\nUser 265,1.06,1.2,0.48,0.41,0.8,1.66,3.17,2.94,1.28,3.5\\nUser 266,1.22,1.36,1.33,0.59,1.18,2.24,3.19,2.77,1.66,2.46\\nUser 267,1.12,1.16,2.3,0.5,1.44,2.36,3.2,2.82,1.86,2.38\\nUser 268,1.09,1.96,1.17,0.59,0.8,1.94,3.19,2.82,1.95,2.72\\nUser 269,0.45,1.4,0.22,0.45,0.64,1.7,3.18,2.64,2.18,2.78\\nUser 270,0.77,1.52,1.28,0.48,1.5,2.5,3.18,2.86,1.47,2.46\\nUser 271,0.8,1.64,0.29,0.42,1.38,2.2,3.17,2.93,1.25,3.26\\nUser 272,0.58,1.28,1.15,0.54,0.46,1.46,3.18,3.04,1.41,2.78\\nUser 273,0.7,1.12,1.92,0.64,1.82,1.9,3.19,2.66,0.96,2.46\\nUser 274,0.77,1.6,2.86,0.56,1.34,2.46,3.2,2.97,1.34,2.56\\nUser 275,1.15,1.76,1.33,2.91,0.74,1.9,3.18,2.78,1.38,2.72\\nUser 276,0.93,1,0.22,0.38,0.8,1.52,3.16,2.74,1.38,3.52\\nUser 277,0.83,1.68,1.55,0.5,0.8,1.86,3.18,2.82,1.5,2.42\\nUser 278,0.83,1.24,0.38,0.49,1.54,2.38,3.18,3.04,2.18,2.82\\nUser 279,1.12,1.56,0.14,0.48,0.4,0.82,3.18,2.63,0.9,2.78\\nUser 280,0.99,0.36,0.22,0.46,1.5,1.94,3.18,2.83,1.47,2.66\\nUser 281,1.15,1.28,1.68,0.51,0.94,1.8,3.18,2.74,1.06,3.1\\nUser 282,0.51,1.2,1.07,0.49,1.14,2.04,3.18,3.22,1.47,2.82\\nUser 283,0.58,1.84,2.18,0.59,1.02,1.58,3.19,2.8,1.6,2.66\\nUser 284,0.74,1.28,1.36,0.66,1.26,2.48,3.18,2.83,1.28,2.64\\nUser 285,0.9,1.52,0.32,0.59,0.62,2.08,3.17,2.78,1.66,2.96\\nUser 286,0.51,1.44,0.26,0.48,0.34,0.82,3.18,2.86,1.73,2.88\\nUser 287,0.93,1.76,0.58,2.25,2,2.44,3.18,2.67,1.22,2.42\\nUser 288,0.77,1.96,0.93,0.61,0.66,1.6,3.18,2.67,3.14,2.8\\nUser 289,1.18,1.2,0.99,0.46,1.3,1.86,3.17,2.82,0.86,3.62\\nUser 290,0.96,1.32,0.56,0.42,0.98,2.06,3.17,2.82,1.18,3.3\\nUser 291,1.09,1.12,2.35,0.54,1.3,2.64,3.19,2.87,1.47,2.54\\nUser 292,1.09,1.16,0.35,0.41,0.66,1.34,3.17,2.72,1.41,3.14\\nUser 293,0.67,1.52,0.35,0.3,1.06,1.38,3.18,2.89,1.28,2.96\\nUser 294,0.77,0.76,0.8,0.49,0.46,1.34,3.18,3.26,1.82,2.66\\nUser 295,0.58,1.2,0.18,0.38,0.54,0.76,3.17,2.69,1.63,2.94\\nUser 296,0.67,0.84,0.82,1.11,0.56,1.4,3.18,2.73,1.47,2.56\\nUser 297,0.7,1.28,0.26,0.51,1.06,1.6,3.18,2.65,1.41,2.8\\nUser 298,0.77,1.16,1.62,0.57,0.56,1.4,3.18,2.78,1.12,2.54\\nUser 299,1.79,0.88,1.42,0.39,0.72,1.78,3.19,2.85,1.63,2.42\\nUser 300,0.8,1.92,0.35,0.48,0.74,2.18,3.19,2.83,1.89,2.58\\nUser 301,0.61,1.12,0.22,0.53,0.58,1.2,3.17,2.82,1.63,3.12\\nUser 302,0.42,1.16,2.22,0.64,0.88,1.26,3.19,2.82,1.25,2.5\\nUser 303,0.74,0.96,2.27,0.61,0.5,1.26,3.19,2.82,1.6,2.56\\nUser 304,0.61,1.4,0.27,0.41,0.88,1.34,3.18,2.86,1.73,2.88\\nUser 305,1.02,1.04,1.97,0.5,0.64,2.74,3.18,2.77,1.86,2.64\\nUser 306,0.83,1.64,0.35,0.56,0.78,1.48,3.18,2.63,1.41,2.66\\nUser 307,1.02,1.28,0.77,0.47,1.06,2.48,3.18,2.86,1.73,2.94\\nUser 308,0.7,1.48,2.43,0.58,1.82,2.38,3.2,3.02,2.72,2.48\\nUser 309,1.55,0,0.24,0.74,0.22,1.38,3.18,3.22,1.28,2.58\\nUser 310,0.51,1.2,2.19,0.64,0.88,2.24,3.19,2.58,1.41,2.32\\nUser 311,0.51,1.76,0.22,0.49,0.66,1.46,3.18,2.77,2.4,2.74\\nUser 312,0.54,1.52,0.24,0.37,0.74,1.5,3.18,2.89,1.76,3.04\\nUser 313,0.38,1.16,1.65,0.45,1.1,1.3,3.18,2.83,1.22,2.62\\nUser 314,0.77,1.48,1.19,0.49,1.58,2.5,3.18,2.85,1.6,2.5\\nUser 315,0.58,1.8,0.7,0.53,1.52,2.22,3.18,2.78,1.98,2.98\\nUser 316,1.09,0.76,0.93,0.47,0.58,1.94,3.18,2.8,2.02,2.64\\nUser 317,0.96,1.32,2.05,0.47,1.6,2.24,3.19,2.75,1.79,2.62\\nUser 318,0.67,1.28,0.14,0.43,1.02,1.62,3.17,2.88,1.47,2.82\\nUser 319,0.74,1,2.77,0.53,0.4,1.46,3.19,2.8,1.34,2.46\\nUser 320,0.93,1.2,0.18,0.25,0.54,1.46,3.16,2.97,1.22,3.42\\nUser 321,1.02,1,0.27,0.39,0.98,1.82,3.18,3.09,1.6,2.88\\nUser 322,1.09,1,0.77,0.43,0.42,1.62,3.18,2.98,2.27,3.36\\nUser 323,3.22,1.84,0.22,0.53,0.9,2.46,3.19,2.69,1.57,2.72\\nUser 324,0.48,1.16,0.21,0.33,0.26,0.86,3.18,2.98,1.25,2.7\\nUser 325,0.45,1.2,0.86,0.51,0.7,1.4,3.18,2.95,1.44,2.48\\nUser 326,0.96,0.88,1.63,0.56,1.52,2.54,3.19,2.74,1.28,2.48\\nUser 327,0.54,1.6,2.33,0.54,1.26,2.08,3.2,2.97,2.5,2.42\\nUser 328,0.86,1.72,1.2,0.56,1.74,3.24,3.18,2.78,1.5,2.4\\nUser 329,1.41,1.96,1.23,0.51,0.42,2.26,3.18,2.77,1.18,2.32\\nUser 330,0.8,1.16,1.2,0.56,1.02,2.1,3.19,3.05,1.22,2.56\\nUser 331,0.74,1.44,0.24,0.34,1.98,1.62,3.17,2.88,3.17,3.22\\nUser 332,0.67,1.36,1.9,0.45,1.46,1.86,3.18,2.69,0.99,2.74\\nUser 333,1.47,0.72,0.53,0.62,0.48,1.9,3.18,2.78,1.63,2.88\\nUser 334,0.7,0.76,0.18,0.73,0.96,2.54,3.18,2.71,1.6,2.54\\nUser 335,0.74,1.84,0.16,0.62,0.24,0.96,3.18,2.62,1.57,2.42\\nUser 336,0.74,1.08,1.57,0.63,1.98,1.78,3.18,2.81,1.28,2.72\\nUser 337,0.48,1.88,1.82,0.4,1.3,1.7,3.18,2.7,1.09,2.8\\nUser 338,0.38,1.32,0.46,0.5,0.56,0.98,3.17,2.82,1.02,3.44\\nUser 339,0.77,1.36,0.43,0.54,1.72,2.91,3.18,2.94,1.86,2.58\\nUser 340,1.57,1.28,0.83,0.49,0.48,1.38,3.18,2.88,1.44,2.86\\nUser 341,0.77,2.2,1.3,0.46,1.78,2.88,3.18,2.88,1.6,2.46\\nUser 342,0.64,1.52,1.89,0.63,1.36,2.26,3.2,2.97,2.62,2.38\\nUser 343,0.99,1.52,1.68,0.35,1.42,1.86,3.18,2.97,1.47,3.12\\nUser 344,1.25,1.24,2.3,0.49,0.74,2.16,3.2,2.82,1.73,2.42\\nUser 345,0.7,0.96,0.74,0.5,1.04,2.12,3.18,2.66,0.9,3.06\\nUser 346,0.58,1.2,0.16,0.35,0.62,0.98,3.17,2.87,1.66,3.02\\nUser 347,0.93,1.88,0.48,0.59,1.26,1.94,3.18,2.93,2.4,2.66\\nUser 348,0.54,1.32,0.96,0.41,0.8,1.48,3.18,2.95,1.86,2.7\\nUser 349,0.67,1.08,2.9,0.48,1.1,1.94,3.2,2.94,1.15,2.32\\nUser 350,0.8,1.12,2.3,0.63,1.46,2.74,3.19,2.78,1.22,2.4\\nUser 351,1.57,0.92,1.06,0.39,0.16,2.1,3.18,2.71,1.54,2.98\\nUser 352,0.99,1.12,0.24,0.42,0.32,1.58,3.18,2.95,1.63,2.78\\nUser 353,1.18,0.88,1.33,0.29,0.96,2.88,3.19,2.96,1.92,2.56\\nUser 354,0.58,0.88,0.88,0.42,0.26,1.14,3.18,3.07,1.41,3.26\\nUser 355,0.83,1.48,0.88,0.29,0.82,1.4,3.17,2.72,1.06,3.36\\nUser 356,0.86,1.04,0.56,0.81,0.7,0.92,3.17,2.75,1.22,3.06\\nUser 357,0.54,1.36,0.24,1.04,1.12,1.8,3.18,2.89,1.57,2.56\\nUser 358,1.09,1.36,2.02,0.55,0.18,0.54,3.18,2.83,1.28,3.12\\nUser 359,0.67,0.96,0.37,0.54,1.6,2.52,3.18,3.25,2.3,2.7\\nUser 360,1.76,1.2,1.3,0.3,0.38,0.94,3.18,2.62,1.15,3.14\\nUser 361,0.58,1.48,0.19,0.56,0.16,1.26,3.18,2.82,1.66,2.7\\nUser 362,1.09,1.6,1.3,0.53,1.82,2.26,3.18,2.8,1.6,2.54\\nUser 363,0.99,2,2.13,0.64,1.82,2.6,3.19,2.67,1.5,2.46\\nUser 364,0.83,1.16,0.16,0.37,0.72,1.28,3.17,3.01,1.41,3.28\\nUser 365,0.46,1.96,0.86,0.55,1.44,2.18,3.18,3.17,1.41,2.88\\nUser 366,1.12,2.12,1.62,0.61,0.98,2.02,3.19,2.73,1.28,2.5\\nUser 367,1.31,0.88,0.77,0.59,1.3,1.9,3.18,2.79,1.98,2.46\\nUser 368,0.74,1,0.22,0.56,1.14,1.88,3.18,3.04,1.73,2.72\\nUser 369,0.93,1,1.7,0.45,0.86,1.6,3.18,2.94,1.09,2.7\\nUser 370,0.58,1.2,0.19,0.53,1.3,2.66,3.18,2.7,1.22,2.48\\nUser 371,1.02,0.92,1.54,0.3,0.7,1.58,3.18,2.82,1.7,3.26\\nUser 372,0.35,1.36,2.25,0.46,1.1,1.52,3.19,2.73,1.89,2.94\\nUser 373,1.47,1.04,1.01,1.68,1.3,2.12,3.18,2.79,1.5,2.66\\nUser 374,1.79,1.04,1.74,0.69,1.46,2.58,3.19,2.86,1.41,2.5\\nUser 375,0.74,1.24,0.72,0.53,1.12,1.66,3.18,2.94,2.05,2.88\\nUser 376,0.9,1.84,2.46,0.67,0.86,2.36,3.2,2.9,1.86,2.4\\nUser 377,1.41,0.96,1.94,0.64,1.82,2.8,3.19,2.71,1.6,2.54\\nUser 378,0.7,2.96,0.43,0.5,1.12,1.92,3.17,2.94,1.31,3.26\\nUser 379,0.77,0.96,0.29,0.54,0.78,1.22,3.18,2.94,1.38,2.64\\nUser 380,0.48,1.68,0.27,0.51,1.3,2.06,3.18,2.66,1.92,2.78\\nUser 381,0.67,1.48,0.51,0.24,0.54,1.06,3.17,3.02,1.5,3.2\\nUser 382,0.64,1.6,0.3,0.17,0.54,1.3,3.17,2.99,1.76,3.22\\nUser 383,0.86,1.6,0.19,0.87,1.12,1.66,3.18,2.95,1.5,2.7\\nUser 384,0.83,2,1.82,0.33,0.66,1.24,3.18,2.87,1.57,2.8\\nUser 385,0.64,1.2,0.14,0.22,0.1,0.38,3.17,2.85,1.15,3.2\\nUser 386,0.8,1.48,2.16,0.69,1.38,2.56,3.19,2.66,1.41,2.42\\nUser 387,0.8,2,1.22,0.54,1.44,2.46,3.18,2.82,1.44,2.46\\nUser 388,1.06,0.84,0.16,0.61,1.04,1.98,3.18,2.78,1.44,2.5\\nUser 389,0.8,1.48,0.42,0.57,0.64,1.76,3.18,2.7,1.7,2.98\\nUser 390,0.64,1.76,0.16,0.65,0.64,1.48,3.18,2.74,1.02,2.98\\nUser 391,0.8,1.96,1.44,0.5,0.82,2.46,3.19,2.97,1.57,2.66\\nUser 392,0.83,1.24,0.58,0.29,0.58,1.34,3.17,2.66,1.5,3.22\\nUser 393,0.96,1.96,1.31,0.63,1.3,2.5,3.19,3.13,1.86,2.58\\nUser 394,0.86,0.96,0.19,0.5,0.54,1.36,3.18,2.91,1.34,2.9\\nUser 395,1.76,0.56,1.33,0.37,0.94,2.18,3.18,3.14,1.63,3.34\\nUser 396,0.74,1.4,1.65,0.48,1.44,1.86,3.19,2.87,1.5,2.46\\nUser 397,1.15,1.4,1.38,0.43,0.98,1.66,3.18,2.66,1.02,3.3\\nUser 398,1.57,1.96,1.12,0.49,0.78,1.98,3.18,2.86,1.06,2.66\\nUser 399,0.74,1.16,0.5,0.26,0.5,1.18,3.17,2.89,1.63,2.98\\nUser 400,0.77,1.64,1.39,0.41,0.78,1.98,3.18,2.86,1.98,2.64\\nUser 401,0.9,1.04,0.27,0.48,0.9,1.74,3.18,3.05,1.6,2.86\\nUser 402,0.77,1.12,1.84,0.57,0.9,2.18,3.19,2.94,1.44,2.54\\nUser 403,0.8,1.16,0.18,0.78,1.04,1.66,3.18,2.97,1.86,2.94\\nUser 404,0.45,1.52,0.16,0.47,0.58,1.08,3.17,2.7,1.73,3.04\\nUser 405,0.96,1.96,1.97,0.56,1.34,1.92,3.19,2.74,1.82,2.72\\nUser 406,1.06,1.76,1.42,0.63,1.38,2.18,3.18,2.75,1.54,2.56\\nUser 407,0.64,1.08,1.74,0.43,0.78,1.74,3.18,2.77,1.41,2.8\\nUser 408,0.8,1.12,2.3,0.63,1.46,2.74,3.19,2.78,1.22,2.4\\nUser 409,1.18,2.8,1.94,0.45,0.56,2.1,3.19,2.66,2.34,2.48\\nUser 410,0.64,1.72,2.4,0.61,1.6,2.46,3.2,2.91,2.53,2.34\\nUser 411,0.7,1.24,1.01,0.33,1.1,1.74,3.18,2.74,1.57,2.88\\nUser 412,0.96,1.88,0.22,0.56,1.34,2.5,3.18,2.83,1.44,2.54\\nUser 413,0.74,2.72,1.76,0.54,0.98,1.78,3.19,2.66,1.22,2.34\\nUser 414,1.44,2.6,1.55,0.91,0.3,2.12,3.18,2.7,1.54,2.5\\nUser 415,0.9,1.24,0.34,0.53,0.74,2.78,3.18,2.87,2.05,2.62\\nUser 416,0.58,1.24,2.77,0.63,0.86,2.62,3.2,2.78,1.47,2.4\\nUser 417,0.77,1.8,0.61,0.31,0.56,1.7,3.18,3.15,1.57,2.98\\nUser 418,0.86,1.48,0.14,0.29,0.3,0.66,3.16,2.93,1.06,3.5\\nUser 419,0.64,1.24,0.26,0.43,0.9,1.54,3.17,2.89,1.25,3.2\\nUser 420,1.39,1.52,1.47,0.66,1.76,3.24,3.19,2.87,1.73,2.42\\nUser 421,0.8,1.56,3.03,0.43,1.12,2.06,3.2,2.64,1.5,2.4\\nUser 422,1.12,1,0.9,0.37,0.62,1.6,3.18,2.61,2.11,2.74\\nUser 423,0.51,2.92,0.16,1.58,1.54,2,3.18,2.74,0.96,2.46\\nUser 424,0.64,1.6,0.24,0.42,0.94,1.42,3.18,3.07,1.6,3.04\\nUser 425,0.64,1.6,1.23,0.37,1.36,2.34,3.18,2.86,0.86,3.04\\nUser 426,1.97,0.4,0.22,0.78,0.66,2.06,3.18,2.85,1.54,2.58\\nUser 427,1.02,2.48,1.7,0.41,1.5,2.04,3.19,2.78,1.41,2.38\\nUser 428,0.7,1.28,0.35,0.32,0.96,1.22,3.17,2.9,1.89,3.18\\nUser 429,0.9,1.32,0.19,0.45,0.42,1.3,3.17,2.73,1.25,3.12\\nUser 430,1.02,1.2,0.3,0.38,1.1,1.9,3.17,2.93,1.34,3.42\\nUser 431,0.42,0.88,2.03,0.66,0.64,2.44,3.18,2.95,1.34,3.12\\nUser 432,0.99,1.36,1.09,0.67,1.36,2.86,3.18,2.96,1.79,2.74\\nUser 433,0.74,2,1.66,0.49,1.62,1.76,3.18,2.54,1.47,2.42\\nUser 434,1.31,2.64,1.73,0.58,2.06,2.58,3.19,2.71,1.47,2.32\\nUser 435,0.83,2.32,1.26,0.47,1.66,2.4,3.19,2.73,1.22,2.4\\nUser 436,1.12,1.44,0.26,0.43,0.3,1.66,3.18,2.89,1.54,2.94\\nUser 437,0.54,1.36,0.32,0.46,1.02,1.48,3.17,2.88,1.44,3.44\\nUser 438,1.06,1.08,0.13,2.11,0.32,2.5,3.18,2.78,1.98,2.5\\nUser 439,0.48,1.56,0.29,0.49,0.56,2.12,3.18,3.13,1.5,2.66\\nUser 440,0.8,0.72,0.22,0.64,0.34,1.82,3.18,2.77,1.34,2.54\\nUser 441,0.93,1.28,0.93,0.46,0.42,1.5,3.18,2.7,1.86,2.98\\nUser 442,0.77,1.2,0.19,0.42,0.3,1.26,3.17,2.63,1.15,3.34\\nUser 443,0.77,1.4,0.19,0.43,0.58,2.22,3.17,2.75,1.54,2.82\\nUser 444,1.06,1.36,0.32,0.5,1.62,2.28,3.17,2.89,1.7,3.54\\nUser 445,0.72,0.96,1.57,0.62,1.58,1.86,3.18,2.82,1.25,2.72\\nUser 446,1.25,0.96,0.43,0.19,0.58,1.06,3.17,2.7,1.18,3.06\\nUser 447,0.7,2.88,1.09,0.48,0.88,2.24,3.18,2.78,1.15,2.46\\nUser 448,0.74,1.12,1.54,0.29,0.7,1.62,3.18,2.91,1.22,3.02\\nUser 449,0.61,1.04,1.42,0.45,1.12,2.42,3.18,2.82,1.47,2.64\\nUser 450,0.86,1,0.93,0.43,1.38,2.06,3.18,2.91,1.22,2.5\\nUser 451,0.42,1.08,0.42,0.4,0.86,1.02,3.18,2.86,2.43,3.02\\nUser 452,0.54,1.08,0.74,0.57,0.62,1.3,3.18,2.74,1.5,2.54\\nUser 453,1.09,0.92,1.01,0.45,0.98,1.9,3.18,2.83,2.08,2.66\\nUser 454,0.67,1.36,1.9,0.49,0.98,2.84,3.18,2.74,1.6,2.56\\nUser 455,1.22,0.92,1.04,0.57,0.48,1.36,3.18,2.75,1.76,2.98\\nUser 456,0.96,1.68,1.18,0.29,1.36,2.34,3.18,2.7,1.02,3.04\\nUser 457,0.96,0.68,0.45,0.46,0.64,1.66,3.18,2.67,1.47,2.4\\nUser 458,0.9,1.04,0.3,0.56,0.32,1.14,3.18,2.8,1.22,2.5\\nUser 459,0.9,1.04,2,0.53,1.28,2.38,3.19,2.75,1.66,2.4\\nUser 460,0.7,1.96,0.61,0.48,0.7,1.4,3.18,2.75,1.25,2.8\\nUser 461,0.67,1.2,0.9,0.5,1.14,2.14,3.18,3.2,1.31,2.82\\nUser 462,0.99,1.24,0.15,0.24,1.38,1.98,3.17,2.61,1.02,3.06\\nUser 463,0.83,1.32,0.24,0.54,1.18,2.22,3.18,2.78,1.41,2.8\\nUser 464,0.99,1.24,1.58,0.46,0.26,2.34,3.18,3.07,1.76,3.04\\nUser 465,1.78,1.04,0.72,0.61,0.46,1.68,3.18,2.88,1.47,2.42\\nUser 466,0.74,1.32,2.05,0.64,1.18,2.26,3.19,3.04,1.34,2.62\\nUser 467,1.55,1.16,0.66,0.3,0.5,1.34,3.18,2.67,1.22,3.3\\nUser 468,0.7,1.36,0.29,0.65,0.78,1.38,3.18,3.38,1.82,2.74\\nUser 469,1.31,0.96,0.86,0.4,0.88,1.54,3.17,2.78,1.41,3.44\\nUser 470,1.09,1.4,0.29,0.48,0.22,2.22,3.17,2.77,1.31,3.22\\nUser 471,0.74,1.08,2.26,0.38,1.2,2.22,3.2,2.42,1.38,2.58\\nUser 472,0.74,1.28,0.3,0.43,1.06,1.58,3.17,2.95,1.7,3.14\\nUser 473,0.58,1.48,0.21,0.46,0.4,1.28,3.17,2.72,1.95,3.22\\nUser 474,0.72,1.52,0.19,0.85,1.26,1.74,3.18,2.94,1.28,2.74\\nUser 475,0.96,1.08,1.86,0.32,0.58,1.3,3.18,2.63,1.22,3.12\\nUser 476,1.38,1.12,1.92,0.64,0.62,2.32,3.19,2.94,1.76,2.48\\nUser 477,0.64,1.16,1.89,0.4,0.56,1.24,3.18,2.82,1.09,3.18\\nUser 478,0.8,1.12,1.16,0.32,0.38,1.04,3.18,2.62,1.18,3.06\\nUser 479,0.83,0.84,2.59,0.85,1.1,2.62,3.19,2.69,1.6,2.62\\nUser 480,0.77,1.16,1.36,0.42,3.3,2.78,3.18,2.58,1.22,2.94\\nUser 481,0.64,0.6,1.06,0.53,0.7,1.5,3.18,2.66,1.86,2.64\\nUser 482,0.42,1.36,1.49,0.71,1.06,1.68,3.19,2.86,1.25,2.56\\nUser 483,1.38,1.28,0.22,0.55,0.26,0.9,3.18,2.74,1.31,3.04\\nUser 484,0.58,2.96,1.9,0.53,1.44,2.24,3.19,3.18,2.18,2.7\\nUser 485,0.83,1.72,1.88,0.51,1.42,2.64,3.19,2.9,1.76,2.54\\nUser 486,0.7,1.2,1.42,0.27,0.46,1.58,3.18,2.66,1.09,2.8\\nUser 487,0.96,1.28,0.21,0.62,0.72,2.44,3.18,2.94,1.38,2.7\\nUser 488,0.7,1,0.18,0.57,2.58,2.34,3.17,3.06,1.98,2.96\\nUser 489,1.18,1.32,0.62,0.31,1.06,1.74,3.17,2.91,1.25,3.38\\nUser 490,0.99,0.92,0.32,0.79,0.78,1.78,3.18,2.77,1.98,2.62\\nUser 491,1.38,1.12,1.8,0.37,0.82,1.16,3.18,2.69,1.22,3.3\\nUser 492,1.18,1.28,0.26,0.33,1.1,1.36,3.17,3.03,1.76,3.38\\nUser 493,0.7,1.16,0.14,0.39,0.9,1.18,3.17,2.79,1.15,2.96\\nUser 494,1.09,2.64,2.54,0.53,0.7,2.18,3.19,2.79,1.6,2.34\\nUser 495,0.93,2.2,0.35,0.57,0.46,1.58,3.18,2.78,2.21,2.74\\nUser 496,0.77,1.36,0.18,0.39,1.3,2.1,3.16,2.95,1.02,3.5\\nUser 497,0.51,0.88,0.26,0.48,0.96,1.42,3.17,2.88,1.02,3.04\\nUser 498,0.61,1.24,2.32,0.51,1.04,2.58,3.19,2.75,1.6,2.46\\nUser 499,0.77,1.16,2.13,0.45,1.3,1.74,3.18,2.96,1.47,2.94\\nUser 500,0.9,1.12,0.67,0.5,1.38,2.1,3.18,2.98,1.41,2.86\\nUser 501,0.96,2,1.94,0.51,1.02,1.7,3.19,2.7,1.7,2.38\\nUser 502,2.72,1.96,1.39,0.32,1.06,2.46,3.18,2.86,1.15,2.86\\nUser 503,0.9,1.08,2.48,0.41,0.82,1.78,3.18,2.83,1.41,3.46\\nUser 504,0.64,1.28,0.48,0.35,0.7,1.58,3.18,3.01,2.18,2.98\\nUser 505,0.99,1.04,0.35,0.58,0.74,2.22,3.18,2.99,1.5,2.78\\nUser 506,2.5,2,0.24,0.51,0.8,1.78,3.17,2.89,1.54,3.12\\nUser 507,0.86,1.04,1.31,0.48,0.56,1.78,3.18,3.05,2.05,2.62\\nUser 508,0.7,1,1.78,0.64,2.98,2.36,3.18,2.74,1.15,2.5\\nUser 509,0.86,0.76,1.06,0.51,2.62,2.34,3.18,2.81,1.09,2.7\\nUser 510,1.12,2.04,0.19,0.33,0.26,1.36,3.17,3.07,1.34,3.18\\nUser 511,1.22,1.16,2.18,0.55,1.38,2.52,3.19,2.66,1.92,2.54\\nUser 512,0.96,1.2,0.19,0.33,0.66,1.24,3.16,2.94,1.28,3.62\\nUser 513,0.67,1.24,0.96,0.53,0.78,1.44,3.18,2.9,1.6,2.88\\nUser 514,0.77,1.88,2.43,0.65,1.06,3.12,3.2,2.69,2.11,2.4\\nUser 515,0.86,1.2,0.35,0.42,0.96,1.72,3.17,2.57,0.96,3.06\\nUser 516,0.9,1,2.84,0.5,1.28,2.14,3.2,2.97,1.54,2.54\\nUser 517,1.31,0,0.26,0.72,0.96,1.16,3.18,2.9,2.14,2.88\\nUser 518,0.64,1.04,2.03,0.53,1.6,1.9,3.18,2.9,1.12,2.88\\nUser 519,0.96,1.28,0.22,0.37,0.82,2.14,3.18,2.62,1.34,2.8\\nUser 520,0.77,1.08,0.3,0.55,1.06,2.26,3.18,3.23,1.73,2.66\\nUser 521,0.51,1.36,0.13,0.33,0.7,1.02,3.18,2.89,1.63,2.7\\nUser 522,0.86,1.04,1.89,0.61,1.46,2.3,3.19,2.77,1.92,2.62\\nUser 523,0.51,1.08,2.48,0.57,0.66,1.8,3.19,2.58,1.38,2.32\\nUser 524,0.74,0.96,0.26,0.42,0.86,1.54,3.17,2.86,1.63,3.04\\nUser 525,0.7,1.64,2.46,0.57,1.46,2.54,3.2,2.95,1.89,2.38\\nUser 526,0.86,1.36,1.68,0.49,1.3,3.04,3.19,2.7,1.31,2.78\\nUser 527,0.7,1.12,1.23,0.49,1.52,2.34,3.18,2.78,1.76,2.66\\nUser 528,0.77,1.4,0.16,0.59,0.94,1.94,3.18,3.06,1.41,2.66\\nUser 529,1.34,1.64,0.37,0.39,0.58,1.94,3.18,2.72,1.66,2.94\\nUser 530,0.53,0.96,0.18,0.58,0.66,1.4,3.18,2.95,1.5,2.42\\nUser 531,0.86,0.6,0.24,0.64,0.94,1.7,3.18,2.78,1.44,2.34\\nUser 532,1.12,0.16,0.19,0.69,0.62,1.44,3.18,2.9,1.73,2.46\\nUser 533,0.83,1.2,1.25,0.56,1.04,2.02,3.18,2.66,1.86,2.66\\nUser 534,0.8,1.08,1.45,0.45,0.98,1.7,3.18,2.9,1.09,3.02\\nUser 535,0.9,0.88,1.84,0.41,0.72,2,3.18,2.66,1.06,2.82\\nUser 536,0.58,1.12,1.57,0.45,0.78,1.5,3.18,2.77,1.44,2.9\\nUser 537,0.74,2.24,2.63,0.72,1.4,3.76,3.2,2.75,1.63,2.48\\nUser 538,0.64,1.04,2.35,0.51,1.42,1.66,3.19,2.66,2.21,2.5\\nUser 539,0.61,1.84,0.61,0.47,2.18,2.5,3.18,2.83,1.92,2.98\\nUser 540,0.96,1.16,0.36,0.42,0.22,2.8,3.18,2.83,1.98,2.64\\nUser 541,0.8,1.36,0.75,0.35,0.9,1.78,3.18,2.86,1.22,2.82\\nUser 542,1.44,0.28,0.18,0.34,0.26,1.74,3.17,2.64,0.9,2.88\\nUser 543,0.83,1.08,0.24,0.46,0.5,1.52,3.18,2.98,1.98,2.8\\nUser 544,0.7,1.56,0.96,0.4,1.18,1.88,3.17,2.77,1.06,3.34\\nUser 545,0.99,1.04,1.17,0.57,0.98,2.1,3.19,2.74,1.38,2.4\\nUser 546,0.86,2.96,0.24,0.41,0.72,1.62,3.18,2.98,1.54,2.98\\nUser 547,0.61,1.64,0.18,0.46,1.02,1.9,3.17,2.59,1.34,3.04\\nUser 548,0.96,1.48,0.21,0.58,0.42,1.28,3.18,2.95,1.98,2.66\\nUser 549,0.96,1.92,1.18,0.61,0.9,1.98,3.18,2.82,1.7,2.62\\nUser 550,0.96,1.32,0.34,0.48,0.82,1.7,3.17,2.95,1.34,3.34\\nUser 551,1.23,1,0.59,0.35,1.02,1.62,3.18,2.85,2.02,2.98\\nUser 552,1.06,1.04,2.5,0.56,1.78,2.8,3.2,2.72,2.18,2.54\\nUser 553,0.9,0.88,1.17,0.47,0.7,2.1,3.18,3.06,2.05,2.62\\nUser 554,1.63,1.2,0.67,0.75,1.02,2.2,3.18,2.85,1.34,2.42\\nUser 555,0.67,2.4,0.34,0.53,1.26,2.2,3.18,2.71,1.73,2.7\\nUser 556,0.7,0.88,2.66,0.5,1.04,1.46,3.19,2.88,1.54,2.4\\nUser 557,0.58,1.48,0.24,0.49,0.42,1.38,3.18,2.82,1.6,2.88\\nUser 558,0.96,0.88,0.22,0.53,0.42,1.8,3.18,2.74,2.46,2.78\\nUser 559,0.96,1,0.3,0.33,0.88,1.58,3.17,2.98,2.11,3.34\\nUser 560,1.06,0.8,0.29,0.35,1.3,2.12,3.18,3.03,1.7,2.94\\nUser 561,0.74,0.8,1.82,0.5,1.2,1.74,3.18,2.63,1.63,2.58\\nUser 562,0.93,1.6,3.11,0.49,0.96,2.08,3.2,2.61,1.5,2.38\\nUser 563,0.9,0.88,1.94,0.55,1.12,2.18,3.18,2.85,1.47,2.7\\nUser 564,0.7,1.52,1.46,0.5,0.94,1.7,3.18,2.64,0.96,2.94\\nUser 565,0.77,1.56,0.24,0.62,0.98,2.1,3.18,2.86,1.66,2.48\\nUser 566,0.99,1.08,1.41,0.24,1.52,2.08,3.18,2.74,1.22,2.94\\nUser 567,0.74,1.68,2.89,0.57,0.94,1.92,3.2,2.86,1.34,2.34\\nUser 568,0.7,1.6,2.36,0.48,1.18,1.73,3.2,2.98,1.31,2.42\\nUser 569,1.15,2.12,2.06,0.56,1.68,1.86,3.19,2.62,1.44,2.42\\nUser 570,0.58,1.2,0.32,0.43,1.04,2.54,3.18,2.95,1.18,3.26\\nUser 571,0.9,2.16,2.06,0.56,1.66,2.17,3.19,2.72,1.44,2.42\\nUser 572,0.74,1.36,0.21,0.29,0.62,1.48,3.17,2.98,1.18,3.38\\nUser 573,0.77,1.08,1.82,0.39,1.06,2.32,3.19,2.85,1.41,2.4\\nUser 574,0.67,1.76,0.3,0.41,0.26,1.58,3.18,2.67,2.24,3.42\\nUser 575,0.96,1.44,0.72,0.62,0.82,2.7,3.18,3.02,1.82,2.78\\nUser 576,0.74,1.28,1.36,0.66,1.26,2.48,3.18,2.83,1.28,2.64\\nUser 577,0.77,0.88,0.24,0.43,1.02,2.1,3.18,3.03,1.76,2.64\\nUser 578,0.64,1.48,0.24,0.56,0.74,1.72,3.18,2.8,1.66,2.88\\nUser 579,0.67,1.48,0.26,0.56,0.62,1.26,3.18,2.81,1.54,2.9\\nUser 580,0.86,0.96,0.74,1.12,0.96,1.7,3.18,2.8,1.57,2.56\\nUser 581,0.83,1.36,1.07,0.33,0.56,2.16,3.18,2.74,1.6,2.82\\nUser 582,0.64,1.36,1.52,0.47,1.02,2.68,3.18,2.79,1.41,2.7\\nUser 583,0.9,1.2,0.85,0.62,1.18,2.14,3.18,2.78,1.54,2.74\\nUser 584,0.67,1.6,0.19,0.45,1.02,1.42,3.18,2.86,1.73,2.88\\nUser 585,1.06,1.28,0.16,0.47,1.04,1.6,3.17,2.72,1.18,3.26\\nUser 586,1.47,1.04,0.43,0.48,0.74,1.1,3.17,3.01,1.63,3.2\\nUser 587,0.48,1.12,0.7,0.33,0.38,1.42,3.18,2.88,1.47,2.78\\nUser 588,0.96,1.6,0.29,0.32,0.62,1.62,3.18,2.79,1.25,2.9\\nUser 589,0.58,1.04,2.77,0.58,0.46,1.98,3.19,2.66,1.38,2.5\\nUser 590,0.93,2.08,0.27,0.39,1.1,2.58,3.18,2.89,1.89,2.78\\nUser 591,0.96,1.12,0.91,0.5,0.82,1.66,3.18,2.81,1.63,2.72\\nUser 592,0.83,1.32,0.18,0.31,1.22,1.5,3.17,2.98,1.38,3.04\\nUser 593,0.7,2.28,0.22,2.38,0.38,1.28,3.18,2.81,1.38,2.66\\nUser 594,0.83,1.96,1.33,0.54,1.44,2.54,3.18,2.87,1.28,2.74\\nUser 595,1.12,0.8,0.91,0.39,0.48,1.56,3.18,2.96,1.38,2.7\\nUser 596,1.76,0.6,1.57,0.35,0.5,1.66,3.18,2.98,1.5,2.72\\nUser 597,0.96,1.32,0.37,0.49,0.74,1.66,3.17,2.97,1.41,3.36\\nUser 598,0.77,1.08,0.22,0.65,0.88,2.02,3.18,2.86,1.79,2.54\\nUser 599,0.86,0.96,2.02,0.5,1.28,1.58,3.19,2.7,1.79,2.66\\nUser 600,1.12,2.96,0.16,0.5,0.48,1.76,3.18,2.78,1.76,2.72\\nUser 601,0.64,1.36,0.91,0.4,0.86,1.1,3.18,2.83,1.47,3.06\\nUser 602,1.15,0.8,0.26,3.1,0.64,1.86,3.18,2.77,2.02,2.62\\nUser 603,0.67,2.2,2.34,0.61,0.9,2.12,3.19,2.61,1.41,2.46\\nUser 604,0.77,1.48,0.29,0.35,0.16,0.82,3.17,2.94,1.09,3.26\\nUser 605,1.22,0.68,1.41,0.91,1.34,2.82,3.19,3.09,2.11,2.5\\nUser 606,0.64,1.2,0.94,0.39,0.94,2.02,3.19,3.09,1.28,2.26\\nUser 607,1.09,1,1.02,0.4,1.02,1.38,3.18,2.58,0.74,3.26\\nUser 608,1.31,1.36,0.75,0.48,0.5,1.7,3.18,2.89,1.34,2.78\\nUser 609,1.06,3.12,1.58,0.48,0.56,3.34,3.18,2.67,1.76,2.94\\nUser 610,0.7,1.32,0.34,0.59,0.4,1.02,3.18,2.85,1.31,2.82\\nUser 611,0.66,0.64,2.01,0.58,0.82,1.54,3.18,3.02,1.22,2.88\\nUser 612,0.74,1.04,1.3,0.62,1.26,2.42,3.18,2.78,1.57,2.5\\nUser 613,0.83,0.92,0.82,0.39,1.28,2.14,3.18,3.39,1.63,2.8\\nUser 614,0.67,1.28,0.26,0.51,1.02,1.26,3.17,2.87,3.01,3.3\\nUser 615,1.87,0.28,1.14,0.5,0.9,1.94,3.18,2.97,1.82,2.58\\nUser 616,0.54,1.16,0.38,0.33,1.38,1.58,3.17,2.7,1.06,3.44\\nUser 617,0.7,1.44,0.22,0.64,0.56,2.04,3.18,2.85,1.7,2.78\\nUser 618,1.82,1.56,0.62,0.39,0.58,1.62,3.18,2.93,2.14,3.42\\nUser 619,1.25,1.04,0.43,0.43,1.04,2.5,3.18,3.03,1.6,2.88\\nUser 620,0.96,1.32,0.56,0.38,0.66,1.54,3.17,2.85,1.41,3.12\\nUser 621,0.74,1.32,0.16,0.49,1.22,1.46,3.17,2.7,2.08,2.88\\nUser 622,0.8,1.8,1.25,0.55,1.38,2.5,3.18,2.85,1.7,2.42\\nUser 623,0.99,1.32,2.03,0.43,0.88,1.54,3.18,2.7,2.08,2.78\\nUser 624,0.74,0.96,0.62,0.51,0.96,1.84,3.18,2.8,2.05,3.02\\nUser 625,0.9,1.48,1.46,0.42,0.42,1.02,3.18,2.71,1.73,2.96\\nUser 626,1.66,0.24,0.43,0.59,0.8,1.06,3.18,2.95,1.38,2.48\\nUser 627,0.8,1.92,1.6,0.5,2.08,3.2,3.19,2.89,1.5,2.54\\nUser 628,0.75,1.08,1.88,0.34,0.9,1.58,3.18,2.73,1.6,2.5\\nUser 629,0.7,0.88,0.19,0.43,0.14,1.66,3.17,2.75,1.18,2.98\\nUser 630,0.58,1.44,0.21,0.41,1.06,1.56,3.18,2.9,3.04,2.54\\nUser 631,0.7,1.36,0.19,0.41,0.86,1.28,3.17,2.72,2.37,3.1\\nUser 632,2.05,1.2,0.19,0.34,0.48,1.02,3.17,2.81,1.92,3.44\\nUser 633,0.51,1.2,0.42,0.49,0.9,1.2,3.17,2.56,1.5,2.98\\nUser 634,0.61,1.2,2.05,0.61,1.3,3.06,3.19,2.79,1.57,2.42\\nUser 635,0.83,1.96,0.83,0.46,0.5,1.34,3.18,2.78,1.09,2.7\\nUser 636,0.8,1.12,1.6,0.63,1.5,1.74,3.18,2.86,1.12,2.9\\nUser 637,0.86,1.4,1.25,0.55,2.02,2.62,3.18,2.88,1.38,2.54\\nUser 638,1.38,0.96,1.07,0.66,1.06,2.18,3.18,2.85,1.31,2.64\\nUser 639,1.06,1.44,0.42,0.58,0.7,1.68,3.17,2.95,1.7,3.38\\nUser 640,0.51,1.96,0.21,0.42,0.72,1.38,3.18,2.87,1.82,2.82\\nUser 641,1.73,0.84,2.61,0.63,1.1,2.42,3.19,2.98,1.73,2.78\\nUser 642,0.54,2.96,0.38,0.61,1.62,2.42,3.18,3.22,2.43,2.8\\nUser 643,1.09,2.76,0.21,0.66,0.32,2.28,3.18,2.72,1.5,2.58\\nUser 644,0.74,1.56,0.24,0.61,0.7,1.42,3.18,2.82,1.5,2.96\\nUser 645,0.93,2.24,1.9,0.49,1.76,3.06,3.19,2.69,2.02,2.48\\nUser 646,0.61,1.56,0.19,0.41,0.86,1.14,3.18,2.81,1.6,2.8\\nUser 647,0.94,0.8,0.35,0.56,0.48,1.78,3.18,2.86,2.18,2.66\\nUser 648,0.64,1.52,0.21,0.39,0.98,1.38,3.16,2.77,1.66,3.38\\nUser 649,0.38,1.44,0.34,0.5,1.26,1.94,3.18,2.9,2.37,3.04\\nUser 650,1.09,1.96,1.17,0.51,1.62,2.74,3.18,2.74,1.28,2.4\\nUser 651,0.58,1.24,0.26,0.56,0.96,1.7,3.18,3.2,2.14,2.78\\nUser 652,0.8,1.32,0.34,0.24,0.46,1.02,3.17,2.9,1.44,3.28\\nUser 653,0.61,1.56,0.19,0.41,0.86,1.14,3.18,2.81,1.6,2.8\\nUser 654,0.7,1.32,0.32,0.51,0.82,1.34,3.18,3.04,1.76,3.04\\nUser 655,0.48,1.12,2.35,0.58,0.78,1.98,3.19,2.63,1.25,2.4\\nUser 656,0.74,1.56,2.27,0.66,1.3,2.56,3.19,2.65,1.54,2.4\\nUser 657,0.7,1.64,1.07,0.39,1.04,1.54,3.18,2.82,1.47,3.06\\nUser 658,1.34,0.76,1.1,0.47,1.66,2,3.18,2.87,1.18,2.66\\nUser 659,0.72,1.6,0.67,0.34,0.78,1.58,3.17,3.18,1.15,3.42\\nUser 660,0.8,1.8,0.37,0.51,1.06,1.58,3.17,2.81,1.54,3.18\\nUser 661,0.99,1.96,2.46,0.53,0.34,1.58,3.2,2.82,1.44,2.54\\nUser 662,1.09,0.64,1.12,0.42,0.7,1.54,3.18,3.07,1.44,2.66\\nUser 663,0.7,0.8,2.56,0.5,1.1,1.5,3.19,2.86,1.47,2.38\\nUser 664,0.93,0.92,0.18,0.5,1.02,2.4,3.17,2.91,1.09,3.18\\nUser 665,1.06,1.28,1.3,0.43,0.24,0.46,3.17,2.86,1.15,3.38\\nUser 666,1.5,1.16,2.37,0.27,0.58,1.9,3.18,2.78,1.54,3.2\\nUser 667,1.95,1.52,1.94,3.44,0.64,2.94,3.2,2.62,1.54,2.46\\nUser 668,1.25,1.04,1.58,0.67,0.88,2.42,3.18,2.7,1.34,2.9\\nUser 669,0.54,1.16,0.8,0.32,0.66,1.44,3.17,2.79,1.09,3.28\\nUser 670,0.51,1.48,0.21,0.41,1.2,1.66,3.17,2.83,1.63,3.3\\nUser 671,1.63,0.96,0.34,0.49,0.38,2.06,3.17,2.86,1.92,3.46\\nUser 672,0.77,1.6,2.46,0.59,2.16,2.64,3.19,2.85,2.21,2.5\\nUser 673,1.76,0.68,1.31,0.46,0.34,0.8,3.18,2.74,0.96,2.54\\nUser 674,0.86,1,0.29,0.47,0.24,1.46,3.18,2.74,1.73,2.4\\nUser 675,0.83,0.6,0.19,0.61,0.94,1.66,3.18,2.74,1.47,2.34\\nUser 676,0.58,1.96,0.18,0.38,0.74,1.08,3.18,2.66,2.18,2.78\\nUser 677,0.77,1.16,0.32,0.26,0.5,1.14,3.17,2.89,1.44,3.34\\nUser 678,2.26,0.4,2.08,0.5,1.18,2.86,3.19,2.75,1.6,2.42\\nUser 679,1.66,1.04,0.91,0.43,0.72,1.74,3.17,2.77,0.86,3.46\\nUser 680,0.8,1.56,0.34,0.41,0.8,1.66,3.17,2.91,1.38,3.26\\nUser 681,1.02,1.04,0.24,0.65,0.46,1.88,3.18,2.88,1.15,2.86\\nUser 682,0.96,1.16,0.45,0.29,0.98,1.42,3.18,2.94,2.02,3.02\\nUser 683,0.83,0.96,1.47,0.5,1.46,2.02,3.18,2.94,1.22,2.5\\nUser 684,0.96,1.96,0.26,0.51,0.82,1.34,3.18,3.02,1.89,2.72\\nUser 685,0.86,1.84,1.78,0.61,1.18,2.36,3.19,2.82,2.14,2.5\\nUser 686,0.9,1,2.06,0.62,0.9,2.52,3.19,2.89,1.38,2.4\\nUser 687,0.77,1.36,0.75,0.46,1.14,2.14,3.18,2.85,1.89,2.82\\nUser 688,1.02,1.4,0.22,0.57,0.22,2.18,3.18,2.88,1.34,2.86\\nUser 689,0.9,1.68,0.29,0.35,0.8,1.24,3.18,2.74,1.25,3.04\\nUser 690,0.7,1.28,0.94,0.62,1.06,2.02,3.18,2.85,1.82,2.88\\nUser 691,0.83,0.72,0.22,0.39,0.48,1.8,3.18,2.95,1.12,2.72\\nUser 692,0.77,1.48,0.98,0.31,1.02,1.5,3.17,2.83,1.09,3.3\\nUser 693,0.93,1.28,0.22,0.25,0.46,0.62,3.17,2.98,1.12,3.06\\nUser 694,0.77,1.88,0.21,0.49,0.48,1.74,3.18,2.83,1.44,2.94\\nUser 695,0.96,1.8,0.56,2.25,2.02,2.4,3.18,2.69,1.25,2.42\\nUser 696,0.7,1.32,0.27,0.47,1.78,2.18,3.18,2.95,1.79,2.78\\nUser 697,1.66,2.16,1.26,0.41,0.62,2.26,3.18,2.9,1.5,3.26\\nUser 698,1.34,0.8,0.22,0.69,0.4,2.24,3.18,2.72,1.28,2.5\\nUser 699,0.83,1.04,0.35,0.4,0.26,0.96,3.17,2.77,1.54,3.24\\nUser 700,0.74,1.96,1.25,0.4,0.58,1.26,3.18,2.7,1.09,3.2\\nUser 701,0.45,1.96,0.94,0.61,0.58,1.58,3.18,2.98,1.15,2.5\\nUser 702,0.7,1.96,1.66,0.55,1.38,2.6,3.19,2.94,1.41,2.72\\nUser 703,1.09,2.96,1.79,0.79,1.18,2,3.19,2.66,2.59,2.46\\nUser 704,0.67,1.96,0.29,0.43,1.18,2.02,3.17,2.95,1.41,3.36\\nUser 705,1.54,1.28,0.22,0.24,0.58,1.62,3.17,2.8,1.7,3.38\\nUser 706,0.64,1.52,0.16,0.42,0.56,0.98,3.18,2.86,1.18,2.94\\nUser 707,0.8,0.96,0.27,0.55,0.7,1.66,3.18,2.99,1.92,2.7\\nUser 708,0.83,0.76,1.31,0.58,1.42,2.5,3.18,2.81,1.66,2.58\\nUser 709,1.31,0.2,0.24,0.72,0.46,1.6,3.18,2.86,1.79,2.46\\nUser 710,0.7,1.44,0.88,0.33,0.8,1.4,3.18,2.85,1.5,3.14\\nUser 711,1.34,1.04,1.47,0.66,0.9,2.66,3.19,2.79,1.76,2.48\\nUser 712,0.54,1.28,0.26,0.61,1.26,2,3.18,2.93,2.43,2.56\\nUser 713,1.28,1.28,0.27,0.4,1.04,1.12,3.17,3.19,1.54,3.38\\nUser 714,1.02,1.24,0.27,0.41,1.22,2.6,3.18,2.7,1.54,2.8\\nUser 715,0.96,1.96,0.75,0.41,0.46,1.4,3.18,2.9,2.18,3.3\\nUser 716,1.06,1.64,0.32,0.31,0.38,1.06,3.17,2.9,2.02,3.3\\nUser 717,0.54,1.08,0.24,0.42,0.54,1.3,3.18,3.07,1.34,2.94\\nUser 718,0.7,2.12,2.42,0.59,0.58,1.82,3.19,2.62,1.12,2.5\\nUser 719,1.31,0.92,2.37,0.62,0.74,2.32,3.2,2.82,1.57,2.58\\nUser 720,1.02,0.92,2.59,0.63,0.96,2.34,3.19,2.9,1.73,2.42\\nUser 721,0.45,1.36,0.21,0.63,1.34,2.04,3.18,2.93,2.56,2.56\\nUser 722,0.99,1.12,0.22,0.4,0.74,1.42,3.16,2.66,1.28,3.52\\nUser 723,1.09,0.8,0.93,0.71,1.38,2.7,3.18,2.82,1.41,2.62\\nUser 724,1.22,0.56,0.62,0.69,0.72,1.5,3.18,2.73,1.09,2.46\\nUser 725,0.74,1.2,0.29,0.38,0.42,1.22,3.17,2.91,1.28,3.14\\nUser 726,0.8,2.04,1.28,0.54,1.62,2.52,3.18,2.86,1.57,2.46\\nUser 727,0.58,0.76,0.75,0.53,1.52,2.14,3.18,2.95,2.11,2.8\\nUser 728,0.99,1.36,1.18,0.67,0.96,2.32,3.19,3.07,1.98,2.96\\nUser 729,0.86,2.96,0.21,1.98,0.9,1.62,3.18,2.7,1.47,2.46\\nUser 730,1.63,1.16,1.81,0.39,1.62,2.98,3.19,2.79,1.79,2.54\\nUser 731,1.09,1.44,1.42,0.33,1.18,1.7,3.18,2.91,1.12,3.18\\nUser 732,0.61,1.24,0.26,0.71,0.82,2.3,3.18,2.98,1.41,3.12\\nUser 733,1.06,0.56,0.77,0.59,0.72,1.7,3.18,2.86,1.54,2.5\\nUser 734,0.61,1.4,2.16,0.43,1.3,1.58,3.18,2.66,2.02,2.86\\nUser 735,0.61,1.32,0.21,0.35,0.58,1.16,3.17,2.74,1.98,3.28\\nUser 736,0.7,1.08,0.26,0.65,1.2,1.3,3.18,2.93,1.41,2.64\\nUser 737,0.93,1.92,0.37,0.56,0.96,2.38,3.18,2.82,2.05,2.82\\nUser 738,0.8,1.12,1.78,0.64,1.2,2.34,3.19,3.04,1.38,2.54\\nUser 739,0.64,1.24,1.18,0.61,0.86,2.82,3.18,2.94,1.89,2.78\\nUser 740,1.18,1.36,0.51,0.32,1.12,2.16,3.17,2.67,1.06,3.3\\nUser 741,0.9,2.04,1.26,0.64,1.3,2.74,3.18,2.82,1.66,2.5\\nUser 742,0.86,0.72,1.23,0.55,1.2,2.48,3.18,2.87,1.5,2.4\\nUser 743,0.74,1,0.26,0.41,0.74,1.9,3.18,2.94,1.73,2.74\\nUser 744,1.09,1.2,0.29,0.51,1.18,1.9,3.18,2.66,1.44,2.88\\nUser 745,0.83,1.36,1.02,0.39,0.7,1.32,3.18,2.87,1.31,2.46\\nUser 746,0.82,2.6,0.19,0.9,0.46,1.82,3.18,2.85,1.34,2.5\\nUser 747,0.9,1.44,0.29,0.47,1.02,1.2,3.17,2.9,3.14,3.18\\nUser 748,0.96,2.84,0.21,1.83,1.18,1.98,3.18,2.74,1.34,2.38\\nUser 749,0.67,1.12,0.43,0.38,1.02,1.26,3.17,2.66,1.38,3.14\\nUser 750,0.99,1.04,0.77,0.42,0.96,1.98,3.18,2.86,1.31,2.78\\nUser 751,0.74,1.52,2.29,0.66,1.46,2.58,3.19,2.74,1.41,2.4\\nUser 752,1.02,1.52,0.76,0.38,0.62,1.26,3.17,3.04,1.34,3.14\\nUser 753,1.22,1.36,1.33,0.59,1.18,2.24,3.19,2.77,1.66,2.46\\nUser 754,1.12,1.04,1.09,0.39,0.96,1.6,3.18,3.01,1.28,3.06\\nUser 755,1.28,1.68,0.99,0.75,1.1,2.34,3.18,2.78,1.73,2.5\\nUser 756,1.28,1.28,0.96,0.39,1.34,1.7,3.18,3.12,1.86,3.34\\nUser 757,1.33,0.76,0.26,0.45,0.72,1.18,3.18,3.14,1.31,2.66\\nUser 758,0.7,1.12,0.35,0.46,0.64,1.66,3.18,2.83,1.54,2.8\\nUser 759,0.74,1.6,1.58,0.41,0.64,1.18,3.18,2.69,1.34,2.8\\nUser 760,1.7,0.96,0.13,0.33,0.78,1.14,3.18,2.81,1.02,2.42\\nUser 761,0.77,1.04,1.31,0.62,1.26,2.42,3.18,2.78,1.6,2.54\\nUser 762,0.99,1.48,0.99,0.59,0.34,2.18,3.18,2.88,1.25,2.34\\nUser 763,1.09,1.56,0.83,0.46,1.2,2.18,3.18,2.94,1.5,3.3\\nUser 764,1.02,1.28,1.33,0.49,0.86,1.4,3.18,2.88,1.5,2.98\\nUser 765,0.74,1.48,1.26,0.57,1.6,2,3.18,2.54,1.57,2.48\\nUser 766,1.02,1.32,1.58,0.37,0.58,1.2,3.18,2.75,1.38,3.22\\nUser 767,0.7,1.68,0.37,0.61,0.72,1.52,3.18,2.66,1.38,2.66\\nUser 768,1.02,0.96,0.99,0.55,0.82,3.04,3.18,2.87,1.98,2.5\\nUser 769,1.02,0.96,0.21,0.69,1.14,2.72,3.18,3.19,1.63,2.46\\nUser 770,1.34,0.56,1.71,0.53,0.48,1.26,3.18,2.86,1.06,2.86\\nUser 771,0.74,1.6,1.2,0.46,1.34,2.02,3.18,2.77,0.86,3.04\\nUser 772,0.64,1.4,0.98,0.29,0.26,0.54,3.18,2.48,1.66,2.9\\nUser 773,0.8,0.96,1.18,0.5,0.56,1.5,3.18,3.01,1.86,2.8\\nUser 774,0.99,1.2,0.14,0.51,0.42,1.46,3.18,2.62,1.25,2.7\\nUser 775,0.42,1.52,0.29,0.53,0.38,1.52,3.18,2.95,2.88,3.12\\nUser 776,1.41,0.72,1.23,1.1,0.74,2.8,3.19,3.17,2.3,2.46\\nUser 777,0.67,1.6,0.27,0.35,1.28,1.78,3.18,3.04,1.57,3.06\\nUser 778,0.74,1.68,1.18,0.5,1.5,2.52,3.18,2.86,1.54,2.48\\nUser 779,1.25,0.96,0.16,0.55,0.22,1.58,3.18,2.66,0.99,2.7\\nUser 780,0.74,1.36,0.21,0.29,0.62,1.48,3.17,2.98,1.18,3.38\\nUser 781,0.86,1.2,2.08,0.54,1.84,2.14,3.19,2.81,1.6,2.56\\nUser 782,0.8,1.28,1.95,0.47,1.14,1.7,3.18,2.87,1.7,2.78\\nUser 783,0.74,1.28,0.21,0.55,1.58,1.5,3.18,2.75,1.76,2.94\\nUser 784,1.01,1.08,0.25,0.3,0.4,0.94,3.17,2.99,1.28,3.18\\nUser 785,0.9,1.16,0.43,0.43,0.7,1.42,3.17,2.95,1.31,3.1\\nUser 786,0.8,0.84,2.49,0.45,0.74,2.12,3.19,3.1,2.05,2.56\\nUser 787,0.77,1.32,1.97,0.53,0.82,1.94,3.19,2.98,1.28,2.54\\nUser 788,0.51,1.96,0.19,0.63,0.48,2,3.18,2.87,1.5,2.98\\nUser 789,0.9,1.08,0.75,0.34,1.5,1.86,3.17,2.81,1.34,3.34\\nUser 790,0.74,1.24,1.71,0.43,1.58,2.48,3.19,2.78,1.76,2.54\\nUser 791,0.86,1.2,2.22,0.33,0.9,1.74,3.18,2.98,1.6,3.2\\nUser 792,0.83,1.32,2.86,0.56,1.1,2.6,3.2,2.72,1.41,2.42\\nUser 793,1.02,2,1.71,0.54,1.52,2.74,3.19,2.74,1.92,2.5\\nUser 794,1.82,1.16,0.35,0.46,0.4,1.02,3.18,2.95,2.37,2.72\\nUser 795,0.8,0.88,0.53,0.55,1.1,2.14,3.18,2.81,1.6,2.8\\nUser 796,2.14,1.92,2.02,0.59,1.52,2.96,3.19,2.82,1.66,2.48\\nUser 797,0.51,1.48,0.24,0.42,0.72,1.46,3.18,3.01,1.6,2.62\\nUser 798,0.83,1.28,0.21,0.55,0.62,1.02,3.17,2.63,1.47,3.2\\nUser 799,0.9,1.36,2.21,0.47,0.86,2.14,3.19,2.78,1.28,2.64\\nUser 800,0.67,1.44,2.9,0.53,0.86,1.78,3.2,2.9,1.54,2.34\\nUser 801,1.22,1.12,0.45,0.49,0.46,0.9,3.17,2.86,1.5,3.52\\nUser 802,1.09,1.04,1.65,0.47,1.36,2.22,3.18,2.74,1.12,3.1\\nUser 803,1.17,0.32,2.16,0.47,0.98,1.9,3.19,3.07,1.25,2.64\\nUser 804,1.31,0.04,0.98,0.55,0.54,0.94,3.18,2.83,1.34,2.66\\nUser 805,0.64,1.64,1.46,0.5,1.34,2.22,3.18,2.79,1.86,2.62\\nUser 806,0.8,1.96,2.69,0.55,1.34,3.04,3.2,2.7,1.66,2.46\\nUser 807,0.67,1.12,0.24,0.58,1.22,1.9,3.18,2.87,1.34,2.7\\nUser 808,0.8,1.04,2,0.56,1.4,1.6,3.19,2.74,1.44,2.5\\nUser 809,0.96,2,1.94,0.51,1.02,1.7,3.19,2.7,1.7,2.38\\nUser 810,1.15,2.08,1.62,0.57,0.78,1.86,3.19,2.73,1.28,2.5\\nUser 811,0.83,0.96,0.21,0.61,1.76,2,3.18,2.86,1.98,2.78\\nUser 812,0.99,1.2,1.6,0.53,1.3,2.82,3.18,3.33,1.76,3.18\\nUser 813,0.96,3.64,1.31,0.39,1.34,2.66,3.18,3.02,1.57,3.12\\nUser 814,1.25,0.96,0.77,0.42,1.2,1.84,3.18,2.87,1.38,2.98\\nUser 815,0.58,1.56,2.44,0.54,1.2,2.1,3.2,2.97,2.46,2.42\\nUser 816,0.93,1.2,1.46,0.58,0.66,2.22,3.18,2.88,1.79,3.02\\nUser 817,0.9,0.96,2.85,0.54,1.12,1.48,3.2,2.75,1.44,2.38\\nUser 818,0.58,1.32,1.28,0.58,0.42,1.74,3.19,2.91,1.41,2.32\\nUser 819,0.7,1,2.74,0.57,1.18,1.84,3.2,2.94,1.18,2.34\\nUser 820,0.51,1.08,2.48,0.57,0.66,1.8,3.19,2.58,1.38,2.32\\nUser 821,0.58,1.52,1.3,0.56,1.18,2.34,3.18,2.94,1.73,2.62\\nUser 822,0.83,1.36,1.02,0.57,0.96,2.18,3.18,2.83,2.24,3.06\\nUser 823,0.64,1.56,0.16,0.47,0.98,2.06,3.17,2.74,1.38,3.18\\nUser 824,1.47,0.96,1.84,0.58,1.5,2.28,3.18,2.74,1.79,2.62\\nUser 825,0.7,0.96,0.78,1.05,0.8,1.64,3.18,2.7,1.47,2.3\\nUser 826,0.67,1.36,1.28,0.65,0.5,1.34,3.18,2.66,1.89,2.5\\nUser 827,0.48,1.36,1.82,0.57,0.66,1.28,3.19,2.86,1.57,2.66\\nUser 828,1.18,1.24,0.75,0.43,0.08,1.7,3.18,2.58,2.3,3.22\\nUser 829,0.48,1.12,2.35,0.58,0.78,1.98,3.19,2.63,1.25,2.4\\nUser 830,0.93,1.76,0.58,2.29,2,2.42,3.18,2.69,1.31,2.42\\nUser 831,0.74,1,1.27,0.48,0.42,1.44,3.18,3.06,1.95,2.74\\nUser 832,0.67,1.68,0.19,0.51,0.64,1.68,3.18,2.74,2.78,2.9\\nUser 833,0.86,1.12,0.13,0.27,0.78,1.7,3.17,2.67,1.12,3.3\\nUser 834,1.01,1.52,0.42,0.38,0.26,0.92,3.17,2.78,1.89,2.88\\nUser 835,0.7,0.88,2.66,0.5,1.04,1.46,3.19,2.88,1.54,2.4\\nUser 836,1.02,1.44,2.38,0.47,1.26,2.54,3.19,2.74,0.99,2.66\\nUser 837,1.09,1.2,1.5,0.65,0.9,2.38,3.18,2.8,1.41,2.78\\nUser 838,1.02,1.56,0.53,1.3,0.64,1.86,3.18,2.74,1.44,2.46\\nUser 839,0.67,1.12,0.22,0.53,0.7,0.88,3.18,3.05,1.54,2.96\\nUser 840,0.64,1.2,0.75,0.47,1.06,1.98,3.18,2.81,1.12,2.72\\nUser 841,0.7,1.96,0.96,0.33,0.82,1.7,3.18,3.03,1.15,3.02\\nUser 842,0.83,1.12,1.5,0.32,0.34,1.62,3.18,2.82,1.09,3.22\\nUser 843,1.06,1.28,1.78,0.41,0.66,1.58,3.18,2.8,1.09,2.8\\nUser 844,0.64,1.24,0.16,0.35,0.58,0.98,3.17,2.88,1.66,3.02\\nUser 845,0.64,1.2,0.24,0.35,0.56,0.76,3.17,3.06,1.76,2.94\\nUser 846,0.96,1.44,1.6,0.48,0.88,2.26,3.19,2.87,1.63,2.48\\nUser 847,0.83,1.24,0.26,0.37,0.96,1.46,3.17,2.64,1.38,3.18\\nUser 848,0.9,1.36,0.74,0.62,0.58,1.74,3.18,2.85,1.47,3.2\\nUser 849,0.77,1.52,2.04,0.39,0.22,0.98,3.18,2.75,1.82,3.44\\nUser 850,0.61,1.52,0.82,0.22,0.58,1.1,3.17,2.71,1.15,3.34\\nUser 851,0.58,1.04,0.22,0.47,1.06,1.88,3.18,2.97,2.3,2.54\\nUser 852,0.96,1.96,1.5,0.53,1.26,2.5,3.19,2.79,1.54,2.66\\nUser 853,0.99,1.88,0.48,0.61,1.22,1.92,3.18,2.93,2.43,2.66\\nUser 854,1.18,0.92,1.52,0.65,1.44,2.22,3.18,2.87,1.34,2.66\\nUser 855,1.09,1.96,1.28,0.53,1.46,2.98,3.18,2.74,1.66,2.86\\nUser 856,1.54,1.44,0.56,0.34,0.82,1.8,3.17,2.79,1.22,3.26\\nUser 857,1.18,0.92,1.52,0.65,1.44,2.22,3.18,2.87,1.34,2.66\\nUser 858,0.58,1.64,2.27,0.45,1.26,1.72,3.19,2.91,2.3,2.74\\nUser 859,0.58,1.44,0.38,0.56,1.02,1.64,3.18,3.2,1.47,2.74\\nUser 860,1.09,1.24,2.62,0.58,0.54,1.94,3.19,2.72,1.73,2.42\\nUser 861,1.09,1.12,1.94,0.56,0.82,1.98,3.19,2.86,1.57,2.74\\nUser 862,0.64,1.56,0.42,0.5,0.8,2.4,3.18,3.07,1.41,2.88\\nUser 863,0.7,1.52,2.37,0.62,0.86,1.68,3.2,2.86,1.6,2.58\\nUser 864,0.77,1.04,0.27,0.38,1.62,1.78,3.17,2.83,2.59,3.18\\nUser 865,1.09,1.84,0.75,0.33,0.56,1.26,3.17,2.93,1.98,3.28\\nUser 866,0.51,1,0.21,0.39,0.74,1.64,3.18,2.9,1.76,3.04\\nUser 867,0.77,1.16,2.19,0.4,1.42,1.78,3.18,2.82,1.22,2.82\\nUser 868,0.93,0.64,0.22,0.43,3.26,3.13,3.18,2.8,1.5,2.66\\nUser 869,0.45,1.64,0.14,0.42,0.58,1.26,3.18,2.89,1.38,2.9\\nUser 870,1.89,0.28,1.12,0.51,0.96,1.96,3.18,2.97,1.82,2.58\\nUser 871,1.02,1.32,0.4,0.59,1.06,2.93,3.18,2.8,1.92,2.66\\nUser 872,0.83,1.12,0.27,0.49,0.64,1.3,3.17,2.79,1.41,3.34\\nUser 873,1.41,0.96,1.79,0.35,1.1,2.22,3.18,2.78,1.38,3.02\\nUser 874,0.48,1.16,0.8,0.66,0.74,1.4,3.18,3.13,1.41,2.72\\nUser 875,0.8,1.28,0.14,0.39,1.06,1.52,3.17,2.94,1.86,2.88\\nUser 876,0.48,1.32,0.75,0.67,0.82,1.58,3.18,3.05,1.25,2.4\\nUser 877,0.9,1.96,1.23,0.51,1.28,2.6,3.18,2.7,1.76,2.94\\nUser 878,1.34,1.36,0.38,0.25,0.9,1.3,3.17,2.86,1.22,3.42\\nUser 879,0.99,1.16,0.22,0.42,0.88,1.7,3.17,2.78,1.15,3.26\\nUser 880,0.86,1.28,1.09,0.54,1.26,2.58,3.18,2.87,1.25,3.04\\nUser 881,0.67,1.28,0.35,0.42,0.74,1.88,3.18,2.85,1.82,2.66\\nUser 882,0.38,1.52,0.14,0.39,0.96,1.14,3.17,2.49,1.76,3.2\\nUser 883,0.96,2.96,0.74,0.47,0.96,2.12,3.18,2.86,1.44,2.64\\nUser 884,0.58,1.2,2.05,0.71,0.5,2.28,3.19,2.66,1.66,2.4\\nUser 885,1.18,1.48,0.78,0.47,1.06,2.89,3.18,2.75,1.6,2.62\\nUser 886,0.9,1.4,2.45,0.64,0.82,1.56,3.2,2.9,1.6,2.56\\nUser 887,0.7,1.28,0.38,0.51,0.78,1.34,3.18,2.74,1.92,3.02\\nUser 888,0.58,1.68,0.82,0.41,0.18,1.02,3.18,2.81,1.66,3.12\\nUser 889,1.5,2.6,1.33,0.95,0.72,2.42,3.19,2.66,1.12,2.46\\nUser 890,0.83,1.6,0.18,0.48,0.24,0.8,3.18,2.57,1.6,2.82\\nUser 891,0.7,1.4,0.88,0.62,0.98,2.44,3.18,2.74,1.6,2.74\\nUser 892,1.02,1.68,0.21,0.53,0.38,2.48,3.18,2.74,1.54,2.56\\nUser 893,0.77,1.64,2.85,0.53,1.04,1.94,3.2,2.95,1.25,2.32\\nUser 894,0.48,1.96,0.18,0.55,0.56,1.3,3.18,2.83,1.54,2.46\\nUser 895,0.51,1.76,0.22,0.49,0.66,1.46,3.18,2.77,2.4,2.74\\nUser 896,0.8,0.96,0.29,0.61,0.16,1.62,3.18,2.87,2.24,3.04\\nUser 897,1.09,0.72,1.02,0.94,1.26,3.2,3.19,3.04,1.54,2.46\\nUser 898,1.02,1.04,0.74,0.35,0.7,1.6,3.18,3.02,2.34,3.34\\nUser 899,0.8,1.08,0.75,0.35,0.82,1.22,3.18,2.67,1.06,3.2\\nUser 900,0.54,1.36,1.02,0.48,0.42,1.48,3.18,2.66,1.28,2.88\\nUser 901,1.12,1.28,1.44,0.37,0.78,1.5,3.18,2.78,2.08,3.44\\nUser 902,0.67,1.4,2.32,0.55,0.94,2.38,3.19,2.71,1.5,2.38\\nUser 903,1.22,0.72,1.18,1.09,0.74,2.6,3.19,3.14,2.27,2.46\\nUser 904,0.67,2.88,0.26,1.91,1.74,1.6,3.18,2.64,1.63,2.46\\nUser 905,0.7,1.04,1.47,0.31,0.98,1.62,3.18,2.72,1.09,3.34\\nUser 906,1.79,0.6,1.6,0.42,1.02,2.1,3.19,2.91,1.66,2.5\\nUser 907,0.7,1.68,0.3,0.59,0.26,1.16,3.18,2.94,1.57,3.14\\nUser 908,0.77,1.64,2.85,0.53,1.04,1.94,3.2,2.95,1.25,2.32\\nUser 909,0.51,1.2,1.07,0.49,1.14,2.04,3.18,3.22,1.47,2.82\\nUser 910,0.74,1.4,1.1,0.34,1.2,1.54,3.18,2.49,1.73,2.94\\nUser 911,0.83,1.36,0.21,0.53,0.16,0.38,3.18,2.93,2.02,2.78\\nUser 912,0.9,1.24,1.15,0.46,1.26,2.24,3.18,2.93,1.82,2.82\\nUser 913,1.15,0.96,0.29,0.29,0.86,1.36,3.17,2.97,1.89,3.42\\nUser 914,0.7,1.52,1.65,0.67,0.74,1.32,3.19,2.78,1.5,2.66\\nUser 915,0.42,1.08,0.74,0.91,0.9,2.3,3.18,2.87,1.25,2.96\\nUser 916,0.7,1.8,3.62,1.37,1.46,1.62,3.19,2.75,1.12,3.42\\nUser 917,0.77,1.2,1.63,0.8,1.18,2.38,3.19,2.54,1.47,2.38\\nUser 918,0.77,1.28,1.01,0.34,0.9,1.72,3.18,3.13,1.31,2.78\\nUser 919,0.93,1.08,0.27,0.27,0.34,1.02,3.17,2.86,1.63,3.36\\nUser 920,0.61,1.28,0.59,0.47,0.7,1.02,3.18,2.58,1.82,2.8\\nUser 921,1.25,1.36,1.6,0.64,0.94,2.38,3.19,2.9,1.92,2.72\\nUser 922,1.18,1.32,0.19,0.32,0.34,1.08,3.17,2.99,1.22,3.12\\nUser 923,1.06,0.88,0.83,0.54,0.64,2.02,3.18,2.86,1.5,2.74\\nUser 924,0.9,1.36,1.42,0.55,0.86,1.48,3.18,2.89,1.73,2.94\\nUser 925,0.74,1.44,2.75,0.45,0.98,1.74,3.2,2.87,1.38,2.34\\nUser 926,0.83,1.36,2.3,0.77,0.94,2.52,3.19,2.73,1.7,2.42\\nUser 927,0.77,2.48,1.7,0.51,1.36,2.04,3.19,2.81,1.41,2.34\\nUser 928,0.99,1.2,0.14,0.51,0.42,1.46,3.18,2.62,1.25,2.7\\nUser 929,0.64,1.32,0.27,0.57,0.74,2.38,3.18,2.81,1.38,2.4\\nUser 930,0.83,1.24,0.35,0.5,0.78,1.7,3.18,2.97,2.05,2.9\\nUser 931,1.12,1.6,1.01,0.45,0.94,2.16,3.18,2.8,1.09,3.18\\nUser 932,0.83,1.08,2.91,0.55,1.38,2.24,3.2,2.98,1.41,2.5\\nUser 933,0.9,1.2,1.33,0.3,0.98,1.5,3.18,2.66,1.22,3.28\\nUser 934,0.67,1.12,0.43,0.39,0.62,1.48,3.18,2.98,2.05,2.72\\nUser 935,0.61,1.16,0.19,0.53,0.78,1.22,3.17,2.86,1.7,3.02\\nUser 936,0.64,1.08,1.54,0.42,0.5,1.4,3.18,2.7,1.18,2.8\\nUser 937,0.83,0.96,1.15,0.43,0.74,1.82,3.18,2.98,1.92,2.78\\nUser 938,0.9,1.64,1.12,0.53,1.58,2.58,3.18,2.79,1.54,2.5\\nUser 939,0.8,1.52,1.26,0.51,1.44,2.78,3.18,2.82,1.47,2.42\\nUser 940,0.74,1.2,1.14,0.42,1.68,3.14,3.18,2.72,1.09,2.46\\nUser 941,1.22,1,1.57,0.46,0.74,2.54,3.19,2.91,1.95,2.46\\nUser 942,0.35,1.96,0.72,0.55,0.72,1.78,3.18,2.88,1.34,2.82\\nUser 943,0.7,1.8,2.27,0.43,1.42,1.88,3.2,2.7,1.47,2.46\\nUser 944,0.64,1.68,0.24,0.47,0.94,1.66,3.18,2.77,1.57,3.04\\nUser 945,0.67,1.48,0.4,0.55,1.86,1.84,3.18,2.96,2.4,3.04\\nUser 946,0.58,0.88,0.24,0.49,1.2,2.06,3.18,2.83,1.54,2.72\\nUser 947,1.15,1.48,0.77,0.22,1.04,1.52,3.17,2.74,1.57,3.38\\nUser 948,0.54,1.28,0.24,0.57,0.46,1.34,3.18,2.79,1.86,2.54\\nUser 949,0.93,2.12,0.27,0.46,1.1,2.56,3.18,2.9,1.89,2.78\\nUser 950,0.83,1.72,1.42,0.95,1.34,2.28,3.19,2.54,1.6,2.4\\nUser 951,0.64,1.28,0.8,0.18,0.82,1.34,3.18,2.66,1.25,2.94\\nUser 952,1.06,0.96,2.57,0.51,0.82,1.96,3.19,2.74,1.66,2.46\\nUser 953,0.93,2.08,1.26,0.56,0.94,2.56,3.18,2.81,1.63,2.54\\nUser 954,1.87,0.8,1.66,0.98,0.46,1.26,3.19,2.78,1.28,2.5\\nUser 955,1.25,0.84,1.71,1.12,0.34,1.22,3.19,2.7,1.5,2.48\\nUser 956,0.61,1.08,2.22,0.65,1.2,2.06,3.19,2.62,1.31,2.34\\nUser 957,0.86,1.8,1.33,0.57,1.38,2.62,3.18,2.82,1.54,2.54\\nUser 958,1.34,1.16,0.66,0.34,0.82,1.34,3.17,2.66,1.02,3.42\\nUser 959,0.61,1.44,0.3,0.4,0.8,1.28,3.18,2.8,1.73,2.88\\nUser 960,1.41,1.04,0.32,0.62,0.54,2.4,3.18,3.18,1.82,2.66\\nUser 961,0.58,1.24,1.95,0.61,1.22,1.86,3.19,2.72,1.7,2.38\\nUser 962,0.85,1.12,1.1,0.41,1.22,2,3.18,2.98,1.41,2.88\\nUser 963,0.61,1.4,0.24,0.42,0.98,1.42,3.17,2.82,2.18,3.2\\nUser 964,0.96,1.16,2.7,0.62,0.62,1.8,3.2,2.81,1.22,2.4\\nUser 965,1.25,1.24,0.43,0.62,0.72,2.7,3.18,3.07,1.82,2.8\\nUser 966,0.64,0.96,0.22,0.38,1.74,2.26,3.17,3.19,1.79,3.28\\nUser 967,0.91,1.96,1.82,0.4,1.52,1.82,3.19,2.74,1.73,2.38\\nUser 968,0.74,1.36,0.64,0.54,0.64,1.7,3.18,2.85,1.66,2.58\\nUser 969,0.51,1.2,0.22,0.73,0.9,2.22,3.18,2.77,1.34,3.05\\nUser 970,0.8,1.32,0.4,0.61,0.32,0.96,3.18,2.57,1.54,2.54\\nUser 971,0.58,1.96,0.24,0.47,1.04,1.74,3.18,2.7,1.57,2.62\\nUser 972,1.28,1.24,0.14,0.55,0.62,2.26,3.18,2.86,2.46,2.54\\nUser 973,1.22,1.16,0.38,1.55,0.4,1.24,3.18,2.82,1.92,2.54\\nUser 974,0.38,1.96,0.19,0.48,1.14,2.14,3.18,2.78,1.54,2.58\\nUser 975,1.02,2.44,1.89,0.47,1.76,2.5,3.19,2.66,1.73,2.48\\nUser 976,0.74,1.12,0.3,0.53,0.88,1.38,3.17,2.78,0.99,3.2\\nUser 977,1.25,0.92,1.12,0.38,0.78,1.68,3.18,2.79,1.34,2.8\\nUser 978,0.61,1.32,0.67,0.43,1.3,1.78,3.17,2.81,1.34,3.02\\nUser 979,0.93,0.2,0.13,0.43,0.3,0.4,3.18,2.98,1.12,2.46\\nUser 980,0.93,0.56,1.13,0.51,1.34,2.36,3.18,2.87,1.34,2.4\\n'"
            ]
          },
          "metadata": {
            "tags": []
          },
          "execution_count": 1
        }
      ]
    },
    {
      "cell_type": "code",
      "metadata": {
        "id": "Xbeg_m77gzCz"
      },
      "source": [
        "docs = corpus.split(\"\\n\")"
      ],
      "execution_count": 2,
      "outputs": []
    },
    {
      "cell_type": "code",
      "metadata": {
        "colab": {
          "base_uri": "https://localhost:8080/"
        },
        "id": "OYigbAHjhWE1",
        "outputId": "0ef32032-68ba-42fd-d842-4916f2e2dc6d"
      },
      "source": [
        "docs\n"
      ],
      "execution_count": 3,
      "outputs": [
        {
          "output_type": "execute_result",
          "data": {
            "text/plain": [
              "['User ID,Category 1,Category 2,Category 3,Category 4,Category 5,Category 6,Category 7,Category 8,Category 9,Category 10',\n",
              " 'User 1,0.93,1.8,2.29,0.62,0.8,2.42,3.19,2.79,1.82,2.42',\n",
              " 'User 2,1.02,2.2,2.66,0.64,1.42,3.18,3.21,2.63,1.86,2.32',\n",
              " 'User 3,1.22,0.8,0.54,0.53,0.24,1.54,3.18,2.8,1.31,2.5',\n",
              " 'User 4,0.45,1.8,0.29,0.57,0.46,1.52,3.18,2.96,1.57,2.86',\n",
              " 'User 5,0.51,1.2,1.18,0.57,1.54,2.02,3.18,2.78,1.18,2.54',\n",
              " 'User 6,0.99,1.28,0.72,0.27,0.74,1.26,3.17,2.89,1.66,3.66',\n",
              " 'User 7,0.9,1.36,0.26,0.32,0.86,1.58,3.17,2.66,1.22,3.22',\n",
              " 'User 8,0.74,1.4,0.22,0.41,0.82,1.5,3.17,2.81,1.54,2.88',\n",
              " 'User 9,1.12,1.76,1.04,0.64,0.82,2.14,3.18,2.79,1.41,2.54',\n",
              " 'User 10,0.7,1.36,0.22,0.26,1.5,1.54,3.17,2.82,2.24,3.12',\n",
              " 'User 11,1.47,1,0.7,0.75,1.66,2.76,3.18,2.89,1.66,2.62',\n",
              " 'User 12,0.96,2.96,0.29,0.38,0.88,2.08,3.17,2.93,1.66,3.42',\n",
              " 'User 13,0.74,1.44,2.75,0.45,0.98,1.74,3.2,2.87,1.38,2.34',\n",
              " 'User 14,0.58,1.64,2.27,0.45,1.26,1.72,3.19,2.91,2.3,2.74',\n",
              " 'User 15,0.96,1.68,2.29,0.51,1.2,2.84,3.2,2.82,2.02,2.46',\n",
              " 'User 16,1.25,2.52,1.76,0.5,1.46,2.08,3.19,2.74,1.41,2.32',\n",
              " 'User 17,0.86,1.04,1.76,0.34,0.06,1.1,3.18,2.73,1.15,2.98',\n",
              " 'User 18,0.61,1.96,2.49,0.66,1.34,1.78,3.2,3.04,1.15,2.42',\n",
              " 'User 19,0.67,1.36,1.36,0.38,0.82,3.38,3.18,2.86,1.79,2.8',\n",
              " 'User 20,0.8,1.04,2.1,0.58,1.18,1.98,3.19,2.93,1.22,2.48',\n",
              " 'User 21,0.86,1.44,1.12,0.41,1.2,2.18,3.18,2.7,1.06,2.94',\n",
              " 'User 22,0.96,1.44,0.14,0.42,1.06,2.08,3.17,2.74,1.15,3.22',\n",
              " 'User 23,0.93,1.16,0.29,0.41,1.02,1.36,3.16,2.74,1.34,3.66',\n",
              " 'User 24,0.54,1.44,0.3,0.41,1.02,1.46,3.17,2.71,1.73,3.04',\n",
              " 'User 25,1.22,0.96,1.15,0.54,1.1,2.02,3.18,2.77,1.92,2.46',\n",
              " 'User 26,0.61,2.84,2.8,0.48,0.56,1.52,3.19,2.54,1.6,2.54',\n",
              " 'User 27,0.77,1.68,2.24,0.75,1.28,2.64,3.19,2.57,1.34,2.38',\n",
              " 'User 28,0.99,1.28,1.22,0.59,0.94,1.9,3.18,2.79,1.22,2.4',\n",
              " 'User 29,0.58,1.2,0.18,0.38,0.54,0.76,3.17,2.69,1.63,2.94',\n",
              " 'User 30,0.64,1.16,3.12,0.45,1.84,3.16,3.2,2.75,1.54,2.46',\n",
              " 'User 31,0.74,1.28,2.14,0.5,0.94,2.26,3.2,2.78,1.5,2.34',\n",
              " 'User 32,0.7,2.24,2.32,0.63,0.72,2.12,3.19,2.65,1.28,2.42',\n",
              " 'User 33,0.64,2,1.6,0.41,2.08,2.22,3.19,2.8,1.76,2.72',\n",
              " 'User 34,1.06,1.12,0.21,0.58,0.98,2.5,3.18,2.9,1.92,2.74',\n",
              " 'User 35,0.96,1.16,0.45,0.29,0.98,1.42,3.18,2.94,2.02,3.02',\n",
              " 'User 36,0.88,0.96,1.18,0.43,0.74,1.52,3.18,3.01,1.63,2.94',\n",
              " 'User 37,0.7,1.28,1.15,0.32,0.4,1.1,3.18,2.78,1.76,2.9',\n",
              " 'User 38,1.02,1.36,0.91,0.5,0.72,1.22,3.18,2.91,1.92,3.2',\n",
              " 'User 39,0.7,1.52,2.37,0.62,0.86,1.68,3.2,2.86,1.6,2.58',\n",
              " 'User 40,1.38,1.08,0.18,0.62,0.14,1.46,3.18,2.88,1.66,2.42',\n",
              " 'User 41,0.99,1.24,0.15,0.24,1.38,1.98,3.17,2.61,1.02,3.06',\n",
              " 'User 42,0.58,1.48,0.19,0.41,0.5,0.98,3.16,2.74,1.57,3.38',\n",
              " 'User 43,0.67,1.24,0.61,0.24,1.06,1.9,3.18,2.82,1.25,2.88',\n",
              " 'User 44,1.02,2,0.42,0.56,0.46,2.06,3.18,2.86,2.05,2.66',\n",
              " 'User 45,0.64,1.64,0.34,0.62,0.64,2.22,3.18,3.1,1.98,2.8',\n",
              " 'User 46,1.7,1.4,0.61,0.39,0.7,1.46,3.17,2.9,1.82,3.38',\n",
              " 'User 47,0.38,1.08,0.77,0.34,1.06,1.46,3.18,3.15,2.18,3.22',\n",
              " 'User 48,0.9,1.2,1.24,0.35,0.88,1.86,3.18,2.86,1.47,2.94',\n",
              " 'User 49,0.45,2.96,0.26,0.4,0.56,1.68,3.18,2.9,1.44,2.72',\n",
              " 'User 50,0.61,1.08,2.22,0.65,1.2,2.06,3.19,2.62,1.31,2.34',\n",
              " 'User 51,1.02,1.2,0.3,0.38,1.1,1.9,3.17,2.93,1.34,3.42',\n",
              " 'User 52,0.42,1.48,2.06,0.48,0.96,1.4,3.18,2.71,1.76,2.86',\n",
              " 'User 53,0.8,1.88,0.66,0.47,2.54,2.18,3.18,2.59,1.89,3.02',\n",
              " 'User 54,1.02,0.64,1.12,0.51,0.8,1.82,3.18,2.82,1.5,2.56',\n",
              " 'User 55,1.02,1.2,0.37,0.58,0.54,1.7,3.17,2.78,1.66,3.42',\n",
              " 'User 56,0.61,1.68,0.46,0.37,0.86,1.1,3.17,2.94,1.31,3.12',\n",
              " 'User 57,0.8,1.16,2.43,0.54,1.06,2.28,3.19,2.86,1.44,2.48',\n",
              " 'User 58,0.93,1.48,0.78,0.39,0.7,1.7,3.18,2.82,1.41,2.88',\n",
              " 'User 59,0.64,1.2,2.27,0.64,1.42,2.83,3.2,2.79,1.47,2.38',\n",
              " 'User 60,0.83,1.4,1.23,0.64,1.2,2.54,3.18,2.81,1.6,2.54',\n",
              " 'User 61,1.06,1.92,3.11,0.55,1.46,3.24,3.2,2.62,1.28,2.34',\n",
              " 'User 62,1.98,0.96,0.18,0.45,0.16,0.82,3.18,3.03,1.02,2.78',\n",
              " 'User 63,0.9,1.12,0.22,0.45,0.32,1.1,3.18,2.82,2.08,2.96',\n",
              " 'User 64,0.51,1.6,0.37,0.42,0.48,1.36,3.18,3.1,1.34,3.04',\n",
              " 'User 65,1.41,1.12,0.68,0.37,1.14,1.76,3.18,2.9,1.5,3.01',\n",
              " 'User 66,1.47,0.72,0.53,0.62,0.48,1.9,3.18,2.78,1.63,2.88',\n",
              " 'User 67,0.99,1.28,2.32,0.43,0.16,1.06,3.18,2.79,1.09,3.34',\n",
              " 'User 68,0.93,1,0.61,0.5,0.8,1.52,3.18,2.77,1.28,2.94',\n",
              " 'User 69,0.51,1.08,1.92,0.34,1.04,1.3,3.18,2.8,1.09,2.88',\n",
              " 'User 70,0.54,1.44,0.72,0.48,0.7,1.36,3.18,2.74,1.5,2.54',\n",
              " 'User 71,1.6,0.8,0.38,0.67,0.5,1.5,3.18,2.82,1.28,2.46',\n",
              " 'User 72,0.83,1.04,2.94,0.96,0.88,1.86,3.2,2.82,1.25,2.34',\n",
              " 'User 73,0.74,2.24,0.14,0.47,1.22,1.88,3.17,2.81,1.98,2.58',\n",
              " 'User 74,0.9,1.08,2.48,0.41,0.82,1.78,3.18,2.83,1.41,3.46',\n",
              " 'User 75,1.31,1.36,1.47,0.56,0.78,2,3.19,2.86,1.63,2.42',\n",
              " 'User 76,0.99,2.96,1.71,0.45,1.36,1.96,3.19,2.69,1.38,2.32',\n",
              " 'User 77,1.28,1.12,1.04,0.42,0.7,1.3,3.18,2.81,1.86,3.36',\n",
              " 'User 78,0.8,1.76,2.53,0.65,1.04,2.22,3.19,2.79,1.63,2.46',\n",
              " 'User 79,0.83,1.08,0.67,0.35,0.54,1.06,3.17,2.78,1.25,3.06',\n",
              " 'User 80,0.7,1.04,0.19,0.47,0.78,2.42,3.17,2.7,1.12,2.98',\n",
              " 'User 81,2.08,0.92,0.8,0.4,0.54,1.7,3.17,3.07,1.54,3.42',\n",
              " 'User 82,0.74,1.32,0.93,0.46,0.66,1.82,3.18,2.83,1.86,2.54',\n",
              " 'User 83,0.7,1.52,0.45,1.65,0.32,0.86,3.17,2.62,2.05,3.04',\n",
              " 'User 84,1.25,0.92,0.86,0.58,0.66,1.98,3.18,2.88,1.12,2.66',\n",
              " 'User 85,1.92,0.28,1.12,0.5,0.88,1.96,3.18,2.96,1.86,2.58',\n",
              " 'User 86,0.74,1.84,0.24,0.34,0.8,1.66,3.17,2.87,1.5,3.34',\n",
              " 'User 87,0.7,0.76,0.72,1.1,0.42,1.54,3.18,2.69,1.41,2.56',\n",
              " 'User 88,0.64,1.08,0.19,0.39,0.5,0.9,3.17,2.79,1.18,3.12',\n",
              " 'User 89,0.64,2.36,0.14,1.68,1.02,1.76,3.18,2.71,1.22,2.42',\n",
              " 'User 90,0.67,2.08,1.04,0.54,0.74,1.64,3.18,2.86,1.57,2.64',\n",
              " 'User 91,1.38,1.12,0.72,0.53,0.88,1.36,3.18,2.81,1.79,3.26',\n",
              " 'User 92,0.56,1.16,0.13,0.49,0.54,0.9,3.17,2.91,1.54,2.64',\n",
              " 'User 93,1.1,2.04,2.45,0.54,1.44,2.28,3.19,2.74,1.63,2.42',\n",
              " 'User 94,0.64,1.2,2.27,0.64,1.42,2.83,3.2,2.79,1.47,2.38',\n",
              " 'User 95,0.99,2,2.13,0.64,1.82,2.6,3.19,2.67,1.5,2.46',\n",
              " 'User 96,1.12,0.96,0.3,0.46,0.56,1.92,3.18,2.98,1.22,2.94',\n",
              " 'User 97,0.9,1.44,2.34,0.55,0.94,2.14,3.19,2.79,1.79,2.82',\n",
              " 'User 98,0.9,0.56,1.38,0.37,0.8,1.9,3.18,2.91,1.41,2.54',\n",
              " 'User 99,1.02,0.88,2.67,0.53,1.02,1.78,3.19,2.86,2.14,2.78',\n",
              " 'User 100,0.67,1.6,0.21,0.47,2.16,1.96,3.17,2.86,3.04,3.1',\n",
              " 'User 101,0.9,0.96,0.38,0.5,0.78,2.1,3.18,2.9,1.79,2.82',\n",
              " 'User 102,0.64,1.12,0.4,0.37,0.64,1.12,3.18,2.94,1.76,3.06',\n",
              " 'User 103,0.99,2.12,1.41,0.65,0.96,2.94,3.19,2.82,1.41,2.42',\n",
              " 'User 104,0.88,1.2,0.16,0.45,0.5,1,3.18,2.67,1.79,2.86',\n",
              " 'User 105,1.47,0.84,0.64,0.39,0.32,1.18,3.17,2.9,1.73,3.46',\n",
              " 'User 106,0.86,0.88,2.85,0.39,0.42,1.54,3.2,2.73,1.7,2.46',\n",
              " 'User 107,1.07,0.56,0.93,0.53,1.3,2.62,3.18,2.94,2.27,2.74',\n",
              " 'User 108,0.99,1.2,0.38,0.43,0.8,1.1,3.16,2.74,1.15,3.42',\n",
              " 'User 109,1.76,0.04,0.43,0.39,1.5,1.62,3.17,2.8,0.96,3.18',\n",
              " 'User 110,0.8,2.16,1.12,0.53,1.54,2.34,3.18,2.83,2.24,2.78',\n",
              " 'User 111,0.9,1.8,1.25,0.67,0.86,1.86,3.19,2.96,2.46,2.98',\n",
              " 'User 112,0.9,1.08,1.65,0.34,0.7,1.44,3.18,2.85,1.15,2.86',\n",
              " 'User 113,0.9,1.84,0.51,0.66,1.04,1.78,3.18,2.79,1.86,2.54',\n",
              " 'User 114,0.35,1.36,1.41,0.49,1.1,1.5,3.18,3.04,1.28,2.48',\n",
              " 'User 115,0.83,1.04,2.94,0.96,0.88,1.86,3.2,2.82,1.25,2.34',\n",
              " 'User 116,1.15,1.28,0.18,0.61,0.7,2.3,3.18,3.01,1.73,2.34',\n",
              " 'User 117,0.64,1.72,1.25,0.51,0.72,2.04,3.19,2.83,1.76,2.4',\n",
              " 'User 118,0.61,1.32,0.78,0.54,1.12,1.74,3.18,2.78,1.79,2.94',\n",
              " 'User 119,0.54,1.2,1.17,0.45,1.04,1.38,3.18,2.58,1.82,2.94',\n",
              " 'User 120,1.06,1.6,1.1,0.43,0.86,1.84,3.18,2.7,0.96,3.18',\n",
              " 'User 121,0.86,1.96,1.25,0.56,1.66,2.9,3.18,2.82,1.44,2.5',\n",
              " 'User 122,0.77,1.04,0.26,0.66,1.42,2,3.18,2.82,1.6,2.64',\n",
              " 'User 123,0.93,2.68,1.3,0.42,1.42,2.22,3.19,2.58,1.31,2.38',\n",
              " 'User 124,1.98,0.48,0.75,0.69,0.88,2.62,3.18,2.86,1.54,2.38',\n",
              " 'User 125,0.74,1.52,1.38,0.59,1.1,2,3.18,2.72,1.47,2.74',\n",
              " 'User 126,0.64,1.36,0.19,0.46,0.78,1.58,3.18,2.79,1.31,2.82',\n",
              " 'User 127,0.51,1.44,0.42,0.33,0.74,1.3,3.18,2.77,1.18,2.98',\n",
              " 'User 128,1.06,1.68,1.02,0.66,0.72,2.02,3.18,2.81,1.41,2.56',\n",
              " 'User 129,1.09,1.48,0.99,0.35,1.12,1.78,3.17,2.89,1.31,3.34',\n",
              " 'User 130,0.54,1.2,0.45,0.39,0.88,1.66,3.18,2.7,1.57,2.78',\n",
              " 'User 131,0.9,0.88,1.52,0.46,0.8,1.48,3.18,2.71,0.99,2.88',\n",
              " 'User 132,0.83,1.68,1.14,0.51,1.66,2.78,3.18,2.85,1.7,2.54',\n",
              " 'User 133,0.93,1.64,1.73,0.55,1.46,1.98,3.18,2.74,1.89,2.94',\n",
              " 'User 134,0.38,1.28,1.54,0.62,1.7,2.16,3.18,3.02,1.31,2.5',\n",
              " 'User 135,0.51,1.64,0.27,0.3,0.78,1.86,3.17,2.69,2.5,3.34',\n",
              " 'User 136,0.8,0.96,0.73,0.61,1.1,2.82,3.18,2.99,2.14,2.54',\n",
              " 'User 137,1.15,1.72,1.62,0.61,0.78,1.94,3.19,3.02,1.47,2.54',\n",
              " 'User 138,0.51,1.16,1.66,0.53,1.58,1.9,3.18,2.85,1.28,2.88',\n",
              " 'User 139,0.96,1.4,0.74,0.37,0.86,1.98,3.18,2.8,1.44,3.06',\n",
              " 'User 140,1.09,1.32,0.74,0.39,0.5,1.06,3.18,3.01,1.86,3.2',\n",
              " 'User 141,0.74,1.28,0.26,0.3,1.14,1.96,3.17,2.93,1.73,3.34',\n",
              " 'User 142,0.8,1.12,0.19,0.46,0.82,1.48,3.18,2.82,1.7,2.96',\n",
              " 'User 143,0.86,1.96,0.61,0.42,1.22,1.86,3.17,2.7,1.22,3.1',\n",
              " 'User 144,0.61,1.04,0.34,0.45,0.22,1.9,3.18,2.71,2.37,2.62',\n",
              " 'User 145,0.9,1.4,0.19,0.59,1.04,1.88,3.17,3.06,2.21,3.02',\n",
              " 'User 146,0.96,2.96,0.29,0.38,0.88,2.08,3.17,2.93,1.66,3.42',\n",
              " 'User 147,1.09,0.6,0.19,0.61,1.62,2.44,3.18,2.74,1.38,2.46',\n",
              " 'User 148,0.8,1.24,1.98,0.67,1.38,2.42,3.19,3.12,1.5,2.62',\n",
              " 'User 149,0.86,1.28,1.01,0.55,1.26,2.12,3.18,2.86,1.92,2.94',\n",
              " 'User 150,0.77,1.52,1.33,0.51,1.34,2.46,3.18,2.8,1.6,2.54',\n",
              " 'User 151,1.18,1.12,1.01,0.39,1.2,2.02,3.18,2.93,1.47,3.1',\n",
              " 'User 152,0.74,1.64,0.18,0.55,0.94,2,3.18,2.74,1.5,2.98',\n",
              " 'User 153,0.64,1.6,0.21,0.54,0.62,1.22,3.18,2.85,1.44,2.66',\n",
              " 'User 154,0.64,1.56,0.22,0.57,0.5,2.02,3.18,2.66,1.34,2.78',\n",
              " 'User 155,1.09,1.44,0.22,0.37,0.34,1.94,3.18,2.73,1.66,2.62',\n",
              " 'User 156,1.02,1.16,1.22,0.29,0.94,1.66,3.18,2.8,2.08,3.42',\n",
              " 'User 157,0.9,1.64,0.32,0.5,1.34,2.02,3.18,3.06,1.57,2.86',\n",
              " 'User 158,2.05,1.12,0.7,0.37,0.5,1.04,3.17,2.77,1.98,3.44',\n",
              " 'User 159,1.18,2.04,1.89,0.5,1.66,2.18,3.19,2.83,1.41,2.34',\n",
              " 'User 160,1.06,1.76,1.02,0.27,0.24,1.16,3.18,2.63,1.28,3.36',\n",
              " 'User 161,0.58,1.12,1.57,0.45,0.78,1.5,3.18,2.77,1.44,2.9',\n",
              " 'User 162,1.15,1.08,0.51,0.37,0.34,0.98,3.17,2.58,2.21,3.36',\n",
              " 'User 163,0.9,1.84,0.51,0.66,1.04,1.78,3.18,2.79,1.86,2.54',\n",
              " 'User 164,0.7,1.28,0.93,0.47,0.54,1.58,3.18,2.82,1.76,2.98',\n",
              " 'User 165,0.8,1.16,1.09,0.23,0.82,1.5,3.18,2.78,0.93,2.88',\n",
              " 'User 166,0.9,1.64,0.21,0.5,0.3,1.68,3.18,2.91,1.44,2.74',\n",
              " 'User 167,0.7,0.8,2.56,0.5,1.1,1.5,3.19,2.86,1.47,2.38',\n",
              " 'User 168,0.61,1.04,0.83,0.46,0.82,1.86,3.18,2.9,2.18,2.54',\n",
              " 'User 169,0.67,2.04,2.82,0.51,0.9,1.66,3.2,2.85,1.5,2.34',\n",
              " 'User 170,0.7,1.28,1.49,0.46,0.58,1.46,3.18,2.97,1.73,2.86',\n",
              " 'User 171,0.93,1.16,0.26,0.51,1.42,2.4,3.18,2.97,2.18,2.8',\n",
              " 'User 172,1.9,0.4,0.45,0.48,0.7,1.06,3.18,2.98,1.22,2.48',\n",
              " 'User 173,0.74,1.96,0.14,0.65,0.4,0.98,3.18,2.73,1.22,2.78',\n",
              " 'User 174,1.06,1.28,0.22,0.49,0.74,1.24,3.17,2.94,1.6,3.28',\n",
              " 'User 175,0.96,1.08,0.8,0.66,0.72,2.02,3.18,2.86,1.57,3.26',\n",
              " 'User 176,0.42,1.88,0.26,1.05,1.06,2.1,3.18,2.86,1.15,2.62',\n",
              " 'User 177,1.02,1.16,0.78,0.41,1.1,2,3.18,3.01,1.38,3.26',\n",
              " 'User 178,0.99,1.08,0.93,0.41,0.62,1.46,3.18,2.97,1.73,2.94',\n",
              " 'User 179,0.7,0.96,0.22,0.47,0.46,2.12,3.18,2.89,1.7,2.98',\n",
              " 'User 180,0.77,1.24,0.21,0.54,0.88,1.42,3.18,2.86,1.76,2.88',\n",
              " 'User 181,0.58,1.44,0.19,0.53,0.24,0.94,3.18,3.29,2.18,2.9',\n",
              " 'User 182,0.8,1.2,1.25,0.43,1.78,2.62,3.18,2.75,1.6,2.7',\n",
              " 'User 183,1.28,1.48,1.42,0.61,0.96,1.98,3.18,2.81,1.6,2.48',\n",
              " 'User 184,1.38,1.12,1.8,0.37,0.82,1.16,3.18,2.69,1.22,3.3',\n",
              " 'User 185,1.06,1.04,2.5,0.56,1.78,2.8,3.2,2.72,2.18,2.54',\n",
              " 'User 186,0.96,1.2,0.36,0.43,0.22,2.8,3.18,2.85,1.98,2.64',\n",
              " 'User 187,0.58,1.12,0.27,0.47,1.42,2.14,3.18,2.78,1.44,2.72',\n",
              " 'User 188,1.41,1.32,0.19,0.56,0.32,1.56,3.18,3.07,1.41,3.06',\n",
              " 'User 189,1.02,1.04,1.33,0.61,0.86,2.4,3.19,2.89,1.63,2.46',\n",
              " 'User 190,0.93,0.6,0.18,0.33,0.32,1.1,3.17,2.94,1.28,3.04',\n",
              " 'User 191,0.51,1.08,2.48,0.57,0.66,1.8,3.19,2.58,1.38,2.32',\n",
              " 'User 192,0.83,1.32,1.89,0.65,1.28,1.7,3.19,2.75,1.76,2.66',\n",
              " 'User 193,1.7,0.64,0.43,0.41,0.9,1.7,3.16,2.85,1.7,3.52',\n",
              " 'User 194,0.9,1.56,0.22,0.35,1.26,1.96,3.16,2.74,2.05,3.44',\n",
              " 'User 195,0.34,1.16,0.18,0.4,1.18,1.86,3.18,2.82,1.76,2.86',\n",
              " 'User 196,0.8,1,0.22,0.34,0.94,1.4,3.17,2.94,1.41,2.96',\n",
              " 'User 197,0.7,1.04,1.41,0.31,0.62,1.5,3.18,2.65,1.31,3.04',\n",
              " 'User 198,1.28,0.68,2.06,0.38,1.58,2.48,3.19,2.74,1.57,2.5',\n",
              " 'User 199,0.64,1.48,0.99,0.31,0.64,1.3,3.18,3.01,1.57,3.26',\n",
              " 'User 200,1.25,2.16,0.22,1.79,0.9,1.76,3.18,2.77,1.7,2.4',\n",
              " 'User 201,1.06,1.28,2.5,0.62,1.66,3.02,3.19,2.89,1.79,2.78',\n",
              " 'User 202,1.12,1.56,0.38,0.55,0.66,2.1,3.18,2.85,1.73,2.96',\n",
              " 'User 203,0.7,0.92,2.77,0.54,0.98,1.58,3.2,2.74,1.47,2.34',\n",
              " 'User 204,1.06,1.12,0.22,0.39,0.7,1.46,3.18,2.91,1.82,2.82',\n",
              " 'User 205,0.83,0.88,0.82,0.42,0.62,1.74,3.18,2.93,1.02,2.7',\n",
              " 'User 206,0.99,2.08,0.27,0.33,0.14,0.82,3.18,2.73,1.38,2.78',\n",
              " 'User 207,0.99,1.28,0.19,0.27,0.54,2.22,3.18,2.71,1.73,2.62',\n",
              " 'User 208,0.8,0.84,0.24,0.5,0.56,1.44,3.18,2.94,1.89,2.94',\n",
              " 'User 209,0.77,0.88,1.71,0.48,0.7,1.08,3.18,2.54,1.15,2.58',\n",
              " 'User 210,1.06,1.12,0.98,0.21,1.1,1.38,3.17,2.88,1.02,3.26',\n",
              " 'User 211,0.54,1.44,1.31,0.32,1.18,1.48,3.18,2.79,1.31,3.3',\n",
              " 'User 212,0.93,1.36,1.94,0.34,0.9,2.36,3.19,2.78,1.5,2.82',\n",
              " 'User 213,0.83,2.04,0.42,0.51,0.7,2.12,3.18,2.66,1.6,2.98',\n",
              " 'User 214,0.51,1.32,0.24,0.38,0.42,1.3,3.18,2.79,1.34,2.58',\n",
              " 'User 215,0.61,1.56,0.16,0.37,0.38,0.94,3.17,2.94,1.22,3.46',\n",
              " 'User 216,0.7,1.28,1.66,0.49,1.68,2.68,3.19,2.77,1.7,2.54',\n",
              " 'User 217,0.61,1.52,0.18,0.26,0.8,1.4,3.17,2.77,1.22,3.04',\n",
              " 'User 218,0.9,1.2,0.5,0.45,0.64,1.54,3.18,2.71,1.38,2.3',\n",
              " 'User 219,1.02,0.72,1.2,0.47,1.9,2.98,3.18,2.79,1.31,2.38',\n",
              " 'User 220,0.9,0.88,2.05,0.45,1.36,2,3.18,2.87,1.38,2.86',\n",
              " 'User 221,0.77,1.08,0.29,0.58,1.38,2.54,3.18,2.87,1.6,2.88',\n",
              " 'User 222,1.25,1.12,1.47,0.41,0.26,1.22,3.18,2.73,1.12,3.22',\n",
              " 'User 223,1.15,2.32,2.4,0.5,1.12,1.54,3.19,2.8,1.63,2.4',\n",
              " 'User 224,0.93,1.32,0.14,0.47,0.54,1.56,3.17,2.86,1.6,3.04',\n",
              " 'User 225,0.61,1.2,2.05,0.61,1.3,3.06,3.19,2.79,1.57,2.42',\n",
              " 'User 226,1.02,1.96,0.27,0.35,1.18,1.46,3.17,2.73,1.47,3.34',\n",
              " 'User 227,0.9,2.24,0.27,1.78,1.3,1.42,3.18,2.75,1.18,2.46',\n",
              " 'User 228,0.67,1.2,1.39,0.41,1.26,1.7,3.18,2.82,1.25,2.82',\n",
              " 'User 229,0.54,2.96,0.58,0.57,0.78,1.7,3.18,2.91,1.28,3.3',\n",
              " 'User 230,0.61,1.04,1.98,0.55,1.34,1.96,3.19,2.94,1.15,2.38',\n",
              " 'User 231,0.61,1,0.22,0.58,1.1,1.42,3.18,3.14,2.11,2.8',\n",
              " 'User 232,0.58,1.44,2.1,0.64,1.92,2.18,3.2,3.04,1.12,2.42',\n",
              " 'User 233,0.83,1.96,0.51,0.31,0.74,1.16,3.18,2.7,1.02,3.02',\n",
              " 'User 234,0.48,1.96,0.24,0.35,0.46,1.62,3.18,2.7,1.28,2.74',\n",
              " 'User 235,0.61,0.84,0.15,0.38,2.38,2.12,3.18,2.97,1.34,2.14',\n",
              " 'User 236,0.34,1.16,0.18,0.4,1.18,1.86,3.18,2.82,1.76,2.86',\n",
              " 'User 237,1.41,1.08,1.34,0.65,1.6,2.14,3.18,2.81,1.15,3.14',\n",
              " 'User 238,0.58,1.84,0.22,0.73,0.98,2.14,3.18,2.99,1.44,2.96',\n",
              " 'User 239,0.96,0.88,1.02,0.64,1.18,2.24,3.18,2.78,1.12,2.7',\n",
              " 'User 240,2.08,0.48,0.18,0.15,0.1,0.14,3.18,2.95,1.15,3.6',\n",
              " 'User 241,0.7,0.92,2.77,0.54,0.98,1.58,3.2,2.74,1.47,2.34',\n",
              " 'User 242,1.25,2.48,1.76,0.54,1.76,2.38,3.19,2.81,1.6,2.32',\n",
              " 'User 243,0.74,1.6,1.2,0.56,0.32,1.02,3.19,2.72,2.69,2.58',\n",
              " 'User 244,0.74,1.84,1.02,0.41,0.46,1.14,3.18,2.75,2.5,3.12',\n",
              " 'User 245,0.83,1.56,0.22,0.23,0.32,0.88,3.17,2.89,2.4,3.02',\n",
              " 'User 246,0.64,1.2,0.98,0.42,0.82,1.6,3.18,2.88,1.63,2.88',\n",
              " 'User 247,1.33,0.52,0.22,0.46,0.3,0.86,3.18,2.93,1.66,2.8',\n",
              " 'User 248,1.5,1.96,2.08,2.73,1.12,2.94,3.2,2.63,1.63,2.46',\n",
              " 'User 249,0.96,0.64,0.67,0.33,0.98,1.34,3.17,2.94,1.15,3.14',\n",
              " 'User 250,0.34,1.16,0.18,0.4,1.18,1.86,3.18,2.82,1.76,2.86',\n",
              " 'User 251,0.51,1,1.57,0.56,1.58,1.82,3.18,2.81,1.22,2.66',\n",
              " 'User 252,0.67,1.16,0.26,0.39,0.78,1.58,3.18,2.94,1.6,2.94',\n",
              " 'User 253,0.51,1.28,2,0.4,0.48,2.08,3.19,2.56,1.15,2.4',\n",
              " 'User 254,0.58,1.2,2.05,0.71,0.5,2.28,3.19,2.66,1.66,2.4',\n",
              " 'User 255,0.61,2.4,0.64,0.42,0.16,1.62,3.18,2.59,1.89,2.78',\n",
              " 'User 256,1.09,1.76,0.67,0.54,1.36,1.92,3.17,2.67,2.43,3.28',\n",
              " 'User 257,0.9,0.88,0.29,0.39,0.86,1.54,3.17,2.98,1.41,3.36',\n",
              " 'User 258,0.93,1.96,0.22,1.62,1.38,1.98,3.18,2.74,1.57,2.4',\n",
              " 'User 259,2.22,0.24,1.09,0.48,0.24,1.12,3.18,3.06,1.41,2.72',\n",
              " 'User 260,0.61,1.32,1.62,0.72,1.68,1.78,3.18,2.54,1.31,2.42',\n",
              " 'User 261,0.77,0.72,1.07,0.53,0.88,2.14,3.19,2.85,1.79,2.62',\n",
              " 'User 262,0.96,1.44,1.09,0.63,1.18,3.12,3.19,3.1,2.05,2.72',\n",
              " 'User 263,1.58,0.88,0.29,0.53,0.82,1.86,3.18,3.02,1.73,2.78',\n",
              " 'User 264,0.61,1.72,1.74,0.51,1.42,2.06,3.19,3.13,2.46,2.78',\n",
              " 'User 265,1.06,1.2,0.48,0.41,0.8,1.66,3.17,2.94,1.28,3.5',\n",
              " 'User 266,1.22,1.36,1.33,0.59,1.18,2.24,3.19,2.77,1.66,2.46',\n",
              " 'User 267,1.12,1.16,2.3,0.5,1.44,2.36,3.2,2.82,1.86,2.38',\n",
              " 'User 268,1.09,1.96,1.17,0.59,0.8,1.94,3.19,2.82,1.95,2.72',\n",
              " 'User 269,0.45,1.4,0.22,0.45,0.64,1.7,3.18,2.64,2.18,2.78',\n",
              " 'User 270,0.77,1.52,1.28,0.48,1.5,2.5,3.18,2.86,1.47,2.46',\n",
              " 'User 271,0.8,1.64,0.29,0.42,1.38,2.2,3.17,2.93,1.25,3.26',\n",
              " 'User 272,0.58,1.28,1.15,0.54,0.46,1.46,3.18,3.04,1.41,2.78',\n",
              " 'User 273,0.7,1.12,1.92,0.64,1.82,1.9,3.19,2.66,0.96,2.46',\n",
              " 'User 274,0.77,1.6,2.86,0.56,1.34,2.46,3.2,2.97,1.34,2.56',\n",
              " 'User 275,1.15,1.76,1.33,2.91,0.74,1.9,3.18,2.78,1.38,2.72',\n",
              " 'User 276,0.93,1,0.22,0.38,0.8,1.52,3.16,2.74,1.38,3.52',\n",
              " 'User 277,0.83,1.68,1.55,0.5,0.8,1.86,3.18,2.82,1.5,2.42',\n",
              " 'User 278,0.83,1.24,0.38,0.49,1.54,2.38,3.18,3.04,2.18,2.82',\n",
              " 'User 279,1.12,1.56,0.14,0.48,0.4,0.82,3.18,2.63,0.9,2.78',\n",
              " 'User 280,0.99,0.36,0.22,0.46,1.5,1.94,3.18,2.83,1.47,2.66',\n",
              " 'User 281,1.15,1.28,1.68,0.51,0.94,1.8,3.18,2.74,1.06,3.1',\n",
              " 'User 282,0.51,1.2,1.07,0.49,1.14,2.04,3.18,3.22,1.47,2.82',\n",
              " 'User 283,0.58,1.84,2.18,0.59,1.02,1.58,3.19,2.8,1.6,2.66',\n",
              " 'User 284,0.74,1.28,1.36,0.66,1.26,2.48,3.18,2.83,1.28,2.64',\n",
              " 'User 285,0.9,1.52,0.32,0.59,0.62,2.08,3.17,2.78,1.66,2.96',\n",
              " 'User 286,0.51,1.44,0.26,0.48,0.34,0.82,3.18,2.86,1.73,2.88',\n",
              " 'User 287,0.93,1.76,0.58,2.25,2,2.44,3.18,2.67,1.22,2.42',\n",
              " 'User 288,0.77,1.96,0.93,0.61,0.66,1.6,3.18,2.67,3.14,2.8',\n",
              " 'User 289,1.18,1.2,0.99,0.46,1.3,1.86,3.17,2.82,0.86,3.62',\n",
              " 'User 290,0.96,1.32,0.56,0.42,0.98,2.06,3.17,2.82,1.18,3.3',\n",
              " 'User 291,1.09,1.12,2.35,0.54,1.3,2.64,3.19,2.87,1.47,2.54',\n",
              " 'User 292,1.09,1.16,0.35,0.41,0.66,1.34,3.17,2.72,1.41,3.14',\n",
              " 'User 293,0.67,1.52,0.35,0.3,1.06,1.38,3.18,2.89,1.28,2.96',\n",
              " 'User 294,0.77,0.76,0.8,0.49,0.46,1.34,3.18,3.26,1.82,2.66',\n",
              " 'User 295,0.58,1.2,0.18,0.38,0.54,0.76,3.17,2.69,1.63,2.94',\n",
              " 'User 296,0.67,0.84,0.82,1.11,0.56,1.4,3.18,2.73,1.47,2.56',\n",
              " 'User 297,0.7,1.28,0.26,0.51,1.06,1.6,3.18,2.65,1.41,2.8',\n",
              " 'User 298,0.77,1.16,1.62,0.57,0.56,1.4,3.18,2.78,1.12,2.54',\n",
              " 'User 299,1.79,0.88,1.42,0.39,0.72,1.78,3.19,2.85,1.63,2.42',\n",
              " 'User 300,0.8,1.92,0.35,0.48,0.74,2.18,3.19,2.83,1.89,2.58',\n",
              " 'User 301,0.61,1.12,0.22,0.53,0.58,1.2,3.17,2.82,1.63,3.12',\n",
              " 'User 302,0.42,1.16,2.22,0.64,0.88,1.26,3.19,2.82,1.25,2.5',\n",
              " 'User 303,0.74,0.96,2.27,0.61,0.5,1.26,3.19,2.82,1.6,2.56',\n",
              " 'User 304,0.61,1.4,0.27,0.41,0.88,1.34,3.18,2.86,1.73,2.88',\n",
              " 'User 305,1.02,1.04,1.97,0.5,0.64,2.74,3.18,2.77,1.86,2.64',\n",
              " 'User 306,0.83,1.64,0.35,0.56,0.78,1.48,3.18,2.63,1.41,2.66',\n",
              " 'User 307,1.02,1.28,0.77,0.47,1.06,2.48,3.18,2.86,1.73,2.94',\n",
              " 'User 308,0.7,1.48,2.43,0.58,1.82,2.38,3.2,3.02,2.72,2.48',\n",
              " 'User 309,1.55,0,0.24,0.74,0.22,1.38,3.18,3.22,1.28,2.58',\n",
              " 'User 310,0.51,1.2,2.19,0.64,0.88,2.24,3.19,2.58,1.41,2.32',\n",
              " 'User 311,0.51,1.76,0.22,0.49,0.66,1.46,3.18,2.77,2.4,2.74',\n",
              " 'User 312,0.54,1.52,0.24,0.37,0.74,1.5,3.18,2.89,1.76,3.04',\n",
              " 'User 313,0.38,1.16,1.65,0.45,1.1,1.3,3.18,2.83,1.22,2.62',\n",
              " 'User 314,0.77,1.48,1.19,0.49,1.58,2.5,3.18,2.85,1.6,2.5',\n",
              " 'User 315,0.58,1.8,0.7,0.53,1.52,2.22,3.18,2.78,1.98,2.98',\n",
              " 'User 316,1.09,0.76,0.93,0.47,0.58,1.94,3.18,2.8,2.02,2.64',\n",
              " 'User 317,0.96,1.32,2.05,0.47,1.6,2.24,3.19,2.75,1.79,2.62',\n",
              " 'User 318,0.67,1.28,0.14,0.43,1.02,1.62,3.17,2.88,1.47,2.82',\n",
              " 'User 319,0.74,1,2.77,0.53,0.4,1.46,3.19,2.8,1.34,2.46',\n",
              " 'User 320,0.93,1.2,0.18,0.25,0.54,1.46,3.16,2.97,1.22,3.42',\n",
              " 'User 321,1.02,1,0.27,0.39,0.98,1.82,3.18,3.09,1.6,2.88',\n",
              " 'User 322,1.09,1,0.77,0.43,0.42,1.62,3.18,2.98,2.27,3.36',\n",
              " 'User 323,3.22,1.84,0.22,0.53,0.9,2.46,3.19,2.69,1.57,2.72',\n",
              " 'User 324,0.48,1.16,0.21,0.33,0.26,0.86,3.18,2.98,1.25,2.7',\n",
              " 'User 325,0.45,1.2,0.86,0.51,0.7,1.4,3.18,2.95,1.44,2.48',\n",
              " 'User 326,0.96,0.88,1.63,0.56,1.52,2.54,3.19,2.74,1.28,2.48',\n",
              " 'User 327,0.54,1.6,2.33,0.54,1.26,2.08,3.2,2.97,2.5,2.42',\n",
              " 'User 328,0.86,1.72,1.2,0.56,1.74,3.24,3.18,2.78,1.5,2.4',\n",
              " 'User 329,1.41,1.96,1.23,0.51,0.42,2.26,3.18,2.77,1.18,2.32',\n",
              " 'User 330,0.8,1.16,1.2,0.56,1.02,2.1,3.19,3.05,1.22,2.56',\n",
              " 'User 331,0.74,1.44,0.24,0.34,1.98,1.62,3.17,2.88,3.17,3.22',\n",
              " 'User 332,0.67,1.36,1.9,0.45,1.46,1.86,3.18,2.69,0.99,2.74',\n",
              " 'User 333,1.47,0.72,0.53,0.62,0.48,1.9,3.18,2.78,1.63,2.88',\n",
              " 'User 334,0.7,0.76,0.18,0.73,0.96,2.54,3.18,2.71,1.6,2.54',\n",
              " 'User 335,0.74,1.84,0.16,0.62,0.24,0.96,3.18,2.62,1.57,2.42',\n",
              " 'User 336,0.74,1.08,1.57,0.63,1.98,1.78,3.18,2.81,1.28,2.72',\n",
              " 'User 337,0.48,1.88,1.82,0.4,1.3,1.7,3.18,2.7,1.09,2.8',\n",
              " 'User 338,0.38,1.32,0.46,0.5,0.56,0.98,3.17,2.82,1.02,3.44',\n",
              " 'User 339,0.77,1.36,0.43,0.54,1.72,2.91,3.18,2.94,1.86,2.58',\n",
              " 'User 340,1.57,1.28,0.83,0.49,0.48,1.38,3.18,2.88,1.44,2.86',\n",
              " 'User 341,0.77,2.2,1.3,0.46,1.78,2.88,3.18,2.88,1.6,2.46',\n",
              " 'User 342,0.64,1.52,1.89,0.63,1.36,2.26,3.2,2.97,2.62,2.38',\n",
              " 'User 343,0.99,1.52,1.68,0.35,1.42,1.86,3.18,2.97,1.47,3.12',\n",
              " 'User 344,1.25,1.24,2.3,0.49,0.74,2.16,3.2,2.82,1.73,2.42',\n",
              " 'User 345,0.7,0.96,0.74,0.5,1.04,2.12,3.18,2.66,0.9,3.06',\n",
              " 'User 346,0.58,1.2,0.16,0.35,0.62,0.98,3.17,2.87,1.66,3.02',\n",
              " 'User 347,0.93,1.88,0.48,0.59,1.26,1.94,3.18,2.93,2.4,2.66',\n",
              " 'User 348,0.54,1.32,0.96,0.41,0.8,1.48,3.18,2.95,1.86,2.7',\n",
              " 'User 349,0.67,1.08,2.9,0.48,1.1,1.94,3.2,2.94,1.15,2.32',\n",
              " 'User 350,0.8,1.12,2.3,0.63,1.46,2.74,3.19,2.78,1.22,2.4',\n",
              " 'User 351,1.57,0.92,1.06,0.39,0.16,2.1,3.18,2.71,1.54,2.98',\n",
              " 'User 352,0.99,1.12,0.24,0.42,0.32,1.58,3.18,2.95,1.63,2.78',\n",
              " 'User 353,1.18,0.88,1.33,0.29,0.96,2.88,3.19,2.96,1.92,2.56',\n",
              " 'User 354,0.58,0.88,0.88,0.42,0.26,1.14,3.18,3.07,1.41,3.26',\n",
              " 'User 355,0.83,1.48,0.88,0.29,0.82,1.4,3.17,2.72,1.06,3.36',\n",
              " 'User 356,0.86,1.04,0.56,0.81,0.7,0.92,3.17,2.75,1.22,3.06',\n",
              " 'User 357,0.54,1.36,0.24,1.04,1.12,1.8,3.18,2.89,1.57,2.56',\n",
              " 'User 358,1.09,1.36,2.02,0.55,0.18,0.54,3.18,2.83,1.28,3.12',\n",
              " 'User 359,0.67,0.96,0.37,0.54,1.6,2.52,3.18,3.25,2.3,2.7',\n",
              " 'User 360,1.76,1.2,1.3,0.3,0.38,0.94,3.18,2.62,1.15,3.14',\n",
              " 'User 361,0.58,1.48,0.19,0.56,0.16,1.26,3.18,2.82,1.66,2.7',\n",
              " 'User 362,1.09,1.6,1.3,0.53,1.82,2.26,3.18,2.8,1.6,2.54',\n",
              " 'User 363,0.99,2,2.13,0.64,1.82,2.6,3.19,2.67,1.5,2.46',\n",
              " 'User 364,0.83,1.16,0.16,0.37,0.72,1.28,3.17,3.01,1.41,3.28',\n",
              " 'User 365,0.46,1.96,0.86,0.55,1.44,2.18,3.18,3.17,1.41,2.88',\n",
              " 'User 366,1.12,2.12,1.62,0.61,0.98,2.02,3.19,2.73,1.28,2.5',\n",
              " 'User 367,1.31,0.88,0.77,0.59,1.3,1.9,3.18,2.79,1.98,2.46',\n",
              " 'User 368,0.74,1,0.22,0.56,1.14,1.88,3.18,3.04,1.73,2.72',\n",
              " 'User 369,0.93,1,1.7,0.45,0.86,1.6,3.18,2.94,1.09,2.7',\n",
              " 'User 370,0.58,1.2,0.19,0.53,1.3,2.66,3.18,2.7,1.22,2.48',\n",
              " 'User 371,1.02,0.92,1.54,0.3,0.7,1.58,3.18,2.82,1.7,3.26',\n",
              " 'User 372,0.35,1.36,2.25,0.46,1.1,1.52,3.19,2.73,1.89,2.94',\n",
              " 'User 373,1.47,1.04,1.01,1.68,1.3,2.12,3.18,2.79,1.5,2.66',\n",
              " 'User 374,1.79,1.04,1.74,0.69,1.46,2.58,3.19,2.86,1.41,2.5',\n",
              " 'User 375,0.74,1.24,0.72,0.53,1.12,1.66,3.18,2.94,2.05,2.88',\n",
              " 'User 376,0.9,1.84,2.46,0.67,0.86,2.36,3.2,2.9,1.86,2.4',\n",
              " 'User 377,1.41,0.96,1.94,0.64,1.82,2.8,3.19,2.71,1.6,2.54',\n",
              " 'User 378,0.7,2.96,0.43,0.5,1.12,1.92,3.17,2.94,1.31,3.26',\n",
              " 'User 379,0.77,0.96,0.29,0.54,0.78,1.22,3.18,2.94,1.38,2.64',\n",
              " 'User 380,0.48,1.68,0.27,0.51,1.3,2.06,3.18,2.66,1.92,2.78',\n",
              " 'User 381,0.67,1.48,0.51,0.24,0.54,1.06,3.17,3.02,1.5,3.2',\n",
              " 'User 382,0.64,1.6,0.3,0.17,0.54,1.3,3.17,2.99,1.76,3.22',\n",
              " 'User 383,0.86,1.6,0.19,0.87,1.12,1.66,3.18,2.95,1.5,2.7',\n",
              " 'User 384,0.83,2,1.82,0.33,0.66,1.24,3.18,2.87,1.57,2.8',\n",
              " 'User 385,0.64,1.2,0.14,0.22,0.1,0.38,3.17,2.85,1.15,3.2',\n",
              " 'User 386,0.8,1.48,2.16,0.69,1.38,2.56,3.19,2.66,1.41,2.42',\n",
              " 'User 387,0.8,2,1.22,0.54,1.44,2.46,3.18,2.82,1.44,2.46',\n",
              " 'User 388,1.06,0.84,0.16,0.61,1.04,1.98,3.18,2.78,1.44,2.5',\n",
              " 'User 389,0.8,1.48,0.42,0.57,0.64,1.76,3.18,2.7,1.7,2.98',\n",
              " 'User 390,0.64,1.76,0.16,0.65,0.64,1.48,3.18,2.74,1.02,2.98',\n",
              " 'User 391,0.8,1.96,1.44,0.5,0.82,2.46,3.19,2.97,1.57,2.66',\n",
              " 'User 392,0.83,1.24,0.58,0.29,0.58,1.34,3.17,2.66,1.5,3.22',\n",
              " 'User 393,0.96,1.96,1.31,0.63,1.3,2.5,3.19,3.13,1.86,2.58',\n",
              " 'User 394,0.86,0.96,0.19,0.5,0.54,1.36,3.18,2.91,1.34,2.9',\n",
              " 'User 395,1.76,0.56,1.33,0.37,0.94,2.18,3.18,3.14,1.63,3.34',\n",
              " 'User 396,0.74,1.4,1.65,0.48,1.44,1.86,3.19,2.87,1.5,2.46',\n",
              " 'User 397,1.15,1.4,1.38,0.43,0.98,1.66,3.18,2.66,1.02,3.3',\n",
              " 'User 398,1.57,1.96,1.12,0.49,0.78,1.98,3.18,2.86,1.06,2.66',\n",
              " 'User 399,0.74,1.16,0.5,0.26,0.5,1.18,3.17,2.89,1.63,2.98',\n",
              " 'User 400,0.77,1.64,1.39,0.41,0.78,1.98,3.18,2.86,1.98,2.64',\n",
              " 'User 401,0.9,1.04,0.27,0.48,0.9,1.74,3.18,3.05,1.6,2.86',\n",
              " 'User 402,0.77,1.12,1.84,0.57,0.9,2.18,3.19,2.94,1.44,2.54',\n",
              " 'User 403,0.8,1.16,0.18,0.78,1.04,1.66,3.18,2.97,1.86,2.94',\n",
              " 'User 404,0.45,1.52,0.16,0.47,0.58,1.08,3.17,2.7,1.73,3.04',\n",
              " 'User 405,0.96,1.96,1.97,0.56,1.34,1.92,3.19,2.74,1.82,2.72',\n",
              " 'User 406,1.06,1.76,1.42,0.63,1.38,2.18,3.18,2.75,1.54,2.56',\n",
              " 'User 407,0.64,1.08,1.74,0.43,0.78,1.74,3.18,2.77,1.41,2.8',\n",
              " 'User 408,0.8,1.12,2.3,0.63,1.46,2.74,3.19,2.78,1.22,2.4',\n",
              " 'User 409,1.18,2.8,1.94,0.45,0.56,2.1,3.19,2.66,2.34,2.48',\n",
              " 'User 410,0.64,1.72,2.4,0.61,1.6,2.46,3.2,2.91,2.53,2.34',\n",
              " 'User 411,0.7,1.24,1.01,0.33,1.1,1.74,3.18,2.74,1.57,2.88',\n",
              " 'User 412,0.96,1.88,0.22,0.56,1.34,2.5,3.18,2.83,1.44,2.54',\n",
              " 'User 413,0.74,2.72,1.76,0.54,0.98,1.78,3.19,2.66,1.22,2.34',\n",
              " 'User 414,1.44,2.6,1.55,0.91,0.3,2.12,3.18,2.7,1.54,2.5',\n",
              " 'User 415,0.9,1.24,0.34,0.53,0.74,2.78,3.18,2.87,2.05,2.62',\n",
              " 'User 416,0.58,1.24,2.77,0.63,0.86,2.62,3.2,2.78,1.47,2.4',\n",
              " 'User 417,0.77,1.8,0.61,0.31,0.56,1.7,3.18,3.15,1.57,2.98',\n",
              " 'User 418,0.86,1.48,0.14,0.29,0.3,0.66,3.16,2.93,1.06,3.5',\n",
              " 'User 419,0.64,1.24,0.26,0.43,0.9,1.54,3.17,2.89,1.25,3.2',\n",
              " 'User 420,1.39,1.52,1.47,0.66,1.76,3.24,3.19,2.87,1.73,2.42',\n",
              " 'User 421,0.8,1.56,3.03,0.43,1.12,2.06,3.2,2.64,1.5,2.4',\n",
              " 'User 422,1.12,1,0.9,0.37,0.62,1.6,3.18,2.61,2.11,2.74',\n",
              " 'User 423,0.51,2.92,0.16,1.58,1.54,2,3.18,2.74,0.96,2.46',\n",
              " 'User 424,0.64,1.6,0.24,0.42,0.94,1.42,3.18,3.07,1.6,3.04',\n",
              " 'User 425,0.64,1.6,1.23,0.37,1.36,2.34,3.18,2.86,0.86,3.04',\n",
              " 'User 426,1.97,0.4,0.22,0.78,0.66,2.06,3.18,2.85,1.54,2.58',\n",
              " 'User 427,1.02,2.48,1.7,0.41,1.5,2.04,3.19,2.78,1.41,2.38',\n",
              " 'User 428,0.7,1.28,0.35,0.32,0.96,1.22,3.17,2.9,1.89,3.18',\n",
              " 'User 429,0.9,1.32,0.19,0.45,0.42,1.3,3.17,2.73,1.25,3.12',\n",
              " 'User 430,1.02,1.2,0.3,0.38,1.1,1.9,3.17,2.93,1.34,3.42',\n",
              " 'User 431,0.42,0.88,2.03,0.66,0.64,2.44,3.18,2.95,1.34,3.12',\n",
              " 'User 432,0.99,1.36,1.09,0.67,1.36,2.86,3.18,2.96,1.79,2.74',\n",
              " 'User 433,0.74,2,1.66,0.49,1.62,1.76,3.18,2.54,1.47,2.42',\n",
              " 'User 434,1.31,2.64,1.73,0.58,2.06,2.58,3.19,2.71,1.47,2.32',\n",
              " 'User 435,0.83,2.32,1.26,0.47,1.66,2.4,3.19,2.73,1.22,2.4',\n",
              " 'User 436,1.12,1.44,0.26,0.43,0.3,1.66,3.18,2.89,1.54,2.94',\n",
              " 'User 437,0.54,1.36,0.32,0.46,1.02,1.48,3.17,2.88,1.44,3.44',\n",
              " 'User 438,1.06,1.08,0.13,2.11,0.32,2.5,3.18,2.78,1.98,2.5',\n",
              " 'User 439,0.48,1.56,0.29,0.49,0.56,2.12,3.18,3.13,1.5,2.66',\n",
              " 'User 440,0.8,0.72,0.22,0.64,0.34,1.82,3.18,2.77,1.34,2.54',\n",
              " 'User 441,0.93,1.28,0.93,0.46,0.42,1.5,3.18,2.7,1.86,2.98',\n",
              " 'User 442,0.77,1.2,0.19,0.42,0.3,1.26,3.17,2.63,1.15,3.34',\n",
              " 'User 443,0.77,1.4,0.19,0.43,0.58,2.22,3.17,2.75,1.54,2.82',\n",
              " 'User 444,1.06,1.36,0.32,0.5,1.62,2.28,3.17,2.89,1.7,3.54',\n",
              " 'User 445,0.72,0.96,1.57,0.62,1.58,1.86,3.18,2.82,1.25,2.72',\n",
              " 'User 446,1.25,0.96,0.43,0.19,0.58,1.06,3.17,2.7,1.18,3.06',\n",
              " 'User 447,0.7,2.88,1.09,0.48,0.88,2.24,3.18,2.78,1.15,2.46',\n",
              " 'User 448,0.74,1.12,1.54,0.29,0.7,1.62,3.18,2.91,1.22,3.02',\n",
              " 'User 449,0.61,1.04,1.42,0.45,1.12,2.42,3.18,2.82,1.47,2.64',\n",
              " 'User 450,0.86,1,0.93,0.43,1.38,2.06,3.18,2.91,1.22,2.5',\n",
              " 'User 451,0.42,1.08,0.42,0.4,0.86,1.02,3.18,2.86,2.43,3.02',\n",
              " 'User 452,0.54,1.08,0.74,0.57,0.62,1.3,3.18,2.74,1.5,2.54',\n",
              " 'User 453,1.09,0.92,1.01,0.45,0.98,1.9,3.18,2.83,2.08,2.66',\n",
              " 'User 454,0.67,1.36,1.9,0.49,0.98,2.84,3.18,2.74,1.6,2.56',\n",
              " 'User 455,1.22,0.92,1.04,0.57,0.48,1.36,3.18,2.75,1.76,2.98',\n",
              " 'User 456,0.96,1.68,1.18,0.29,1.36,2.34,3.18,2.7,1.02,3.04',\n",
              " 'User 457,0.96,0.68,0.45,0.46,0.64,1.66,3.18,2.67,1.47,2.4',\n",
              " 'User 458,0.9,1.04,0.3,0.56,0.32,1.14,3.18,2.8,1.22,2.5',\n",
              " 'User 459,0.9,1.04,2,0.53,1.28,2.38,3.19,2.75,1.66,2.4',\n",
              " 'User 460,0.7,1.96,0.61,0.48,0.7,1.4,3.18,2.75,1.25,2.8',\n",
              " 'User 461,0.67,1.2,0.9,0.5,1.14,2.14,3.18,3.2,1.31,2.82',\n",
              " 'User 462,0.99,1.24,0.15,0.24,1.38,1.98,3.17,2.61,1.02,3.06',\n",
              " 'User 463,0.83,1.32,0.24,0.54,1.18,2.22,3.18,2.78,1.41,2.8',\n",
              " 'User 464,0.99,1.24,1.58,0.46,0.26,2.34,3.18,3.07,1.76,3.04',\n",
              " 'User 465,1.78,1.04,0.72,0.61,0.46,1.68,3.18,2.88,1.47,2.42',\n",
              " 'User 466,0.74,1.32,2.05,0.64,1.18,2.26,3.19,3.04,1.34,2.62',\n",
              " 'User 467,1.55,1.16,0.66,0.3,0.5,1.34,3.18,2.67,1.22,3.3',\n",
              " 'User 468,0.7,1.36,0.29,0.65,0.78,1.38,3.18,3.38,1.82,2.74',\n",
              " 'User 469,1.31,0.96,0.86,0.4,0.88,1.54,3.17,2.78,1.41,3.44',\n",
              " 'User 470,1.09,1.4,0.29,0.48,0.22,2.22,3.17,2.77,1.31,3.22',\n",
              " 'User 471,0.74,1.08,2.26,0.38,1.2,2.22,3.2,2.42,1.38,2.58',\n",
              " 'User 472,0.74,1.28,0.3,0.43,1.06,1.58,3.17,2.95,1.7,3.14',\n",
              " 'User 473,0.58,1.48,0.21,0.46,0.4,1.28,3.17,2.72,1.95,3.22',\n",
              " 'User 474,0.72,1.52,0.19,0.85,1.26,1.74,3.18,2.94,1.28,2.74',\n",
              " 'User 475,0.96,1.08,1.86,0.32,0.58,1.3,3.18,2.63,1.22,3.12',\n",
              " 'User 476,1.38,1.12,1.92,0.64,0.62,2.32,3.19,2.94,1.76,2.48',\n",
              " 'User 477,0.64,1.16,1.89,0.4,0.56,1.24,3.18,2.82,1.09,3.18',\n",
              " 'User 478,0.8,1.12,1.16,0.32,0.38,1.04,3.18,2.62,1.18,3.06',\n",
              " 'User 479,0.83,0.84,2.59,0.85,1.1,2.62,3.19,2.69,1.6,2.62',\n",
              " 'User 480,0.77,1.16,1.36,0.42,3.3,2.78,3.18,2.58,1.22,2.94',\n",
              " 'User 481,0.64,0.6,1.06,0.53,0.7,1.5,3.18,2.66,1.86,2.64',\n",
              " 'User 482,0.42,1.36,1.49,0.71,1.06,1.68,3.19,2.86,1.25,2.56',\n",
              " 'User 483,1.38,1.28,0.22,0.55,0.26,0.9,3.18,2.74,1.31,3.04',\n",
              " 'User 484,0.58,2.96,1.9,0.53,1.44,2.24,3.19,3.18,2.18,2.7',\n",
              " 'User 485,0.83,1.72,1.88,0.51,1.42,2.64,3.19,2.9,1.76,2.54',\n",
              " 'User 486,0.7,1.2,1.42,0.27,0.46,1.58,3.18,2.66,1.09,2.8',\n",
              " 'User 487,0.96,1.28,0.21,0.62,0.72,2.44,3.18,2.94,1.38,2.7',\n",
              " 'User 488,0.7,1,0.18,0.57,2.58,2.34,3.17,3.06,1.98,2.96',\n",
              " 'User 489,1.18,1.32,0.62,0.31,1.06,1.74,3.17,2.91,1.25,3.38',\n",
              " 'User 490,0.99,0.92,0.32,0.79,0.78,1.78,3.18,2.77,1.98,2.62',\n",
              " 'User 491,1.38,1.12,1.8,0.37,0.82,1.16,3.18,2.69,1.22,3.3',\n",
              " 'User 492,1.18,1.28,0.26,0.33,1.1,1.36,3.17,3.03,1.76,3.38',\n",
              " 'User 493,0.7,1.16,0.14,0.39,0.9,1.18,3.17,2.79,1.15,2.96',\n",
              " 'User 494,1.09,2.64,2.54,0.53,0.7,2.18,3.19,2.79,1.6,2.34',\n",
              " 'User 495,0.93,2.2,0.35,0.57,0.46,1.58,3.18,2.78,2.21,2.74',\n",
              " 'User 496,0.77,1.36,0.18,0.39,1.3,2.1,3.16,2.95,1.02,3.5',\n",
              " 'User 497,0.51,0.88,0.26,0.48,0.96,1.42,3.17,2.88,1.02,3.04',\n",
              " 'User 498,0.61,1.24,2.32,0.51,1.04,2.58,3.19,2.75,1.6,2.46',\n",
              " 'User 499,0.77,1.16,2.13,0.45,1.3,1.74,3.18,2.96,1.47,2.94',\n",
              " 'User 500,0.9,1.12,0.67,0.5,1.38,2.1,3.18,2.98,1.41,2.86',\n",
              " 'User 501,0.96,2,1.94,0.51,1.02,1.7,3.19,2.7,1.7,2.38',\n",
              " 'User 502,2.72,1.96,1.39,0.32,1.06,2.46,3.18,2.86,1.15,2.86',\n",
              " 'User 503,0.9,1.08,2.48,0.41,0.82,1.78,3.18,2.83,1.41,3.46',\n",
              " 'User 504,0.64,1.28,0.48,0.35,0.7,1.58,3.18,3.01,2.18,2.98',\n",
              " 'User 505,0.99,1.04,0.35,0.58,0.74,2.22,3.18,2.99,1.5,2.78',\n",
              " 'User 506,2.5,2,0.24,0.51,0.8,1.78,3.17,2.89,1.54,3.12',\n",
              " 'User 507,0.86,1.04,1.31,0.48,0.56,1.78,3.18,3.05,2.05,2.62',\n",
              " 'User 508,0.7,1,1.78,0.64,2.98,2.36,3.18,2.74,1.15,2.5',\n",
              " 'User 509,0.86,0.76,1.06,0.51,2.62,2.34,3.18,2.81,1.09,2.7',\n",
              " 'User 510,1.12,2.04,0.19,0.33,0.26,1.36,3.17,3.07,1.34,3.18',\n",
              " 'User 511,1.22,1.16,2.18,0.55,1.38,2.52,3.19,2.66,1.92,2.54',\n",
              " 'User 512,0.96,1.2,0.19,0.33,0.66,1.24,3.16,2.94,1.28,3.62',\n",
              " 'User 513,0.67,1.24,0.96,0.53,0.78,1.44,3.18,2.9,1.6,2.88',\n",
              " 'User 514,0.77,1.88,2.43,0.65,1.06,3.12,3.2,2.69,2.11,2.4',\n",
              " 'User 515,0.86,1.2,0.35,0.42,0.96,1.72,3.17,2.57,0.96,3.06',\n",
              " 'User 516,0.9,1,2.84,0.5,1.28,2.14,3.2,2.97,1.54,2.54',\n",
              " 'User 517,1.31,0,0.26,0.72,0.96,1.16,3.18,2.9,2.14,2.88',\n",
              " 'User 518,0.64,1.04,2.03,0.53,1.6,1.9,3.18,2.9,1.12,2.88',\n",
              " 'User 519,0.96,1.28,0.22,0.37,0.82,2.14,3.18,2.62,1.34,2.8',\n",
              " 'User 520,0.77,1.08,0.3,0.55,1.06,2.26,3.18,3.23,1.73,2.66',\n",
              " 'User 521,0.51,1.36,0.13,0.33,0.7,1.02,3.18,2.89,1.63,2.7',\n",
              " 'User 522,0.86,1.04,1.89,0.61,1.46,2.3,3.19,2.77,1.92,2.62',\n",
              " 'User 523,0.51,1.08,2.48,0.57,0.66,1.8,3.19,2.58,1.38,2.32',\n",
              " 'User 524,0.74,0.96,0.26,0.42,0.86,1.54,3.17,2.86,1.63,3.04',\n",
              " 'User 525,0.7,1.64,2.46,0.57,1.46,2.54,3.2,2.95,1.89,2.38',\n",
              " 'User 526,0.86,1.36,1.68,0.49,1.3,3.04,3.19,2.7,1.31,2.78',\n",
              " 'User 527,0.7,1.12,1.23,0.49,1.52,2.34,3.18,2.78,1.76,2.66',\n",
              " 'User 528,0.77,1.4,0.16,0.59,0.94,1.94,3.18,3.06,1.41,2.66',\n",
              " 'User 529,1.34,1.64,0.37,0.39,0.58,1.94,3.18,2.72,1.66,2.94',\n",
              " 'User 530,0.53,0.96,0.18,0.58,0.66,1.4,3.18,2.95,1.5,2.42',\n",
              " 'User 531,0.86,0.6,0.24,0.64,0.94,1.7,3.18,2.78,1.44,2.34',\n",
              " 'User 532,1.12,0.16,0.19,0.69,0.62,1.44,3.18,2.9,1.73,2.46',\n",
              " 'User 533,0.83,1.2,1.25,0.56,1.04,2.02,3.18,2.66,1.86,2.66',\n",
              " 'User 534,0.8,1.08,1.45,0.45,0.98,1.7,3.18,2.9,1.09,3.02',\n",
              " 'User 535,0.9,0.88,1.84,0.41,0.72,2,3.18,2.66,1.06,2.82',\n",
              " 'User 536,0.58,1.12,1.57,0.45,0.78,1.5,3.18,2.77,1.44,2.9',\n",
              " 'User 537,0.74,2.24,2.63,0.72,1.4,3.76,3.2,2.75,1.63,2.48',\n",
              " 'User 538,0.64,1.04,2.35,0.51,1.42,1.66,3.19,2.66,2.21,2.5',\n",
              " 'User 539,0.61,1.84,0.61,0.47,2.18,2.5,3.18,2.83,1.92,2.98',\n",
              " 'User 540,0.96,1.16,0.36,0.42,0.22,2.8,3.18,2.83,1.98,2.64',\n",
              " 'User 541,0.8,1.36,0.75,0.35,0.9,1.78,3.18,2.86,1.22,2.82',\n",
              " 'User 542,1.44,0.28,0.18,0.34,0.26,1.74,3.17,2.64,0.9,2.88',\n",
              " 'User 543,0.83,1.08,0.24,0.46,0.5,1.52,3.18,2.98,1.98,2.8',\n",
              " 'User 544,0.7,1.56,0.96,0.4,1.18,1.88,3.17,2.77,1.06,3.34',\n",
              " 'User 545,0.99,1.04,1.17,0.57,0.98,2.1,3.19,2.74,1.38,2.4',\n",
              " 'User 546,0.86,2.96,0.24,0.41,0.72,1.62,3.18,2.98,1.54,2.98',\n",
              " 'User 547,0.61,1.64,0.18,0.46,1.02,1.9,3.17,2.59,1.34,3.04',\n",
              " 'User 548,0.96,1.48,0.21,0.58,0.42,1.28,3.18,2.95,1.98,2.66',\n",
              " 'User 549,0.96,1.92,1.18,0.61,0.9,1.98,3.18,2.82,1.7,2.62',\n",
              " 'User 550,0.96,1.32,0.34,0.48,0.82,1.7,3.17,2.95,1.34,3.34',\n",
              " 'User 551,1.23,1,0.59,0.35,1.02,1.62,3.18,2.85,2.02,2.98',\n",
              " 'User 552,1.06,1.04,2.5,0.56,1.78,2.8,3.2,2.72,2.18,2.54',\n",
              " 'User 553,0.9,0.88,1.17,0.47,0.7,2.1,3.18,3.06,2.05,2.62',\n",
              " 'User 554,1.63,1.2,0.67,0.75,1.02,2.2,3.18,2.85,1.34,2.42',\n",
              " 'User 555,0.67,2.4,0.34,0.53,1.26,2.2,3.18,2.71,1.73,2.7',\n",
              " 'User 556,0.7,0.88,2.66,0.5,1.04,1.46,3.19,2.88,1.54,2.4',\n",
              " 'User 557,0.58,1.48,0.24,0.49,0.42,1.38,3.18,2.82,1.6,2.88',\n",
              " 'User 558,0.96,0.88,0.22,0.53,0.42,1.8,3.18,2.74,2.46,2.78',\n",
              " 'User 559,0.96,1,0.3,0.33,0.88,1.58,3.17,2.98,2.11,3.34',\n",
              " 'User 560,1.06,0.8,0.29,0.35,1.3,2.12,3.18,3.03,1.7,2.94',\n",
              " 'User 561,0.74,0.8,1.82,0.5,1.2,1.74,3.18,2.63,1.63,2.58',\n",
              " 'User 562,0.93,1.6,3.11,0.49,0.96,2.08,3.2,2.61,1.5,2.38',\n",
              " 'User 563,0.9,0.88,1.94,0.55,1.12,2.18,3.18,2.85,1.47,2.7',\n",
              " 'User 564,0.7,1.52,1.46,0.5,0.94,1.7,3.18,2.64,0.96,2.94',\n",
              " 'User 565,0.77,1.56,0.24,0.62,0.98,2.1,3.18,2.86,1.66,2.48',\n",
              " 'User 566,0.99,1.08,1.41,0.24,1.52,2.08,3.18,2.74,1.22,2.94',\n",
              " 'User 567,0.74,1.68,2.89,0.57,0.94,1.92,3.2,2.86,1.34,2.34',\n",
              " 'User 568,0.7,1.6,2.36,0.48,1.18,1.73,3.2,2.98,1.31,2.42',\n",
              " 'User 569,1.15,2.12,2.06,0.56,1.68,1.86,3.19,2.62,1.44,2.42',\n",
              " 'User 570,0.58,1.2,0.32,0.43,1.04,2.54,3.18,2.95,1.18,3.26',\n",
              " 'User 571,0.9,2.16,2.06,0.56,1.66,2.17,3.19,2.72,1.44,2.42',\n",
              " 'User 572,0.74,1.36,0.21,0.29,0.62,1.48,3.17,2.98,1.18,3.38',\n",
              " 'User 573,0.77,1.08,1.82,0.39,1.06,2.32,3.19,2.85,1.41,2.4',\n",
              " 'User 574,0.67,1.76,0.3,0.41,0.26,1.58,3.18,2.67,2.24,3.42',\n",
              " 'User 575,0.96,1.44,0.72,0.62,0.82,2.7,3.18,3.02,1.82,2.78',\n",
              " 'User 576,0.74,1.28,1.36,0.66,1.26,2.48,3.18,2.83,1.28,2.64',\n",
              " 'User 577,0.77,0.88,0.24,0.43,1.02,2.1,3.18,3.03,1.76,2.64',\n",
              " 'User 578,0.64,1.48,0.24,0.56,0.74,1.72,3.18,2.8,1.66,2.88',\n",
              " 'User 579,0.67,1.48,0.26,0.56,0.62,1.26,3.18,2.81,1.54,2.9',\n",
              " 'User 580,0.86,0.96,0.74,1.12,0.96,1.7,3.18,2.8,1.57,2.56',\n",
              " 'User 581,0.83,1.36,1.07,0.33,0.56,2.16,3.18,2.74,1.6,2.82',\n",
              " 'User 582,0.64,1.36,1.52,0.47,1.02,2.68,3.18,2.79,1.41,2.7',\n",
              " 'User 583,0.9,1.2,0.85,0.62,1.18,2.14,3.18,2.78,1.54,2.74',\n",
              " 'User 584,0.67,1.6,0.19,0.45,1.02,1.42,3.18,2.86,1.73,2.88',\n",
              " 'User 585,1.06,1.28,0.16,0.47,1.04,1.6,3.17,2.72,1.18,3.26',\n",
              " 'User 586,1.47,1.04,0.43,0.48,0.74,1.1,3.17,3.01,1.63,3.2',\n",
              " 'User 587,0.48,1.12,0.7,0.33,0.38,1.42,3.18,2.88,1.47,2.78',\n",
              " 'User 588,0.96,1.6,0.29,0.32,0.62,1.62,3.18,2.79,1.25,2.9',\n",
              " 'User 589,0.58,1.04,2.77,0.58,0.46,1.98,3.19,2.66,1.38,2.5',\n",
              " 'User 590,0.93,2.08,0.27,0.39,1.1,2.58,3.18,2.89,1.89,2.78',\n",
              " 'User 591,0.96,1.12,0.91,0.5,0.82,1.66,3.18,2.81,1.63,2.72',\n",
              " 'User 592,0.83,1.32,0.18,0.31,1.22,1.5,3.17,2.98,1.38,3.04',\n",
              " 'User 593,0.7,2.28,0.22,2.38,0.38,1.28,3.18,2.81,1.38,2.66',\n",
              " 'User 594,0.83,1.96,1.33,0.54,1.44,2.54,3.18,2.87,1.28,2.74',\n",
              " 'User 595,1.12,0.8,0.91,0.39,0.48,1.56,3.18,2.96,1.38,2.7',\n",
              " 'User 596,1.76,0.6,1.57,0.35,0.5,1.66,3.18,2.98,1.5,2.72',\n",
              " 'User 597,0.96,1.32,0.37,0.49,0.74,1.66,3.17,2.97,1.41,3.36',\n",
              " 'User 598,0.77,1.08,0.22,0.65,0.88,2.02,3.18,2.86,1.79,2.54',\n",
              " 'User 599,0.86,0.96,2.02,0.5,1.28,1.58,3.19,2.7,1.79,2.66',\n",
              " 'User 600,1.12,2.96,0.16,0.5,0.48,1.76,3.18,2.78,1.76,2.72',\n",
              " 'User 601,0.64,1.36,0.91,0.4,0.86,1.1,3.18,2.83,1.47,3.06',\n",
              " 'User 602,1.15,0.8,0.26,3.1,0.64,1.86,3.18,2.77,2.02,2.62',\n",
              " 'User 603,0.67,2.2,2.34,0.61,0.9,2.12,3.19,2.61,1.41,2.46',\n",
              " 'User 604,0.77,1.48,0.29,0.35,0.16,0.82,3.17,2.94,1.09,3.26',\n",
              " 'User 605,1.22,0.68,1.41,0.91,1.34,2.82,3.19,3.09,2.11,2.5',\n",
              " 'User 606,0.64,1.2,0.94,0.39,0.94,2.02,3.19,3.09,1.28,2.26',\n",
              " 'User 607,1.09,1,1.02,0.4,1.02,1.38,3.18,2.58,0.74,3.26',\n",
              " 'User 608,1.31,1.36,0.75,0.48,0.5,1.7,3.18,2.89,1.34,2.78',\n",
              " 'User 609,1.06,3.12,1.58,0.48,0.56,3.34,3.18,2.67,1.76,2.94',\n",
              " 'User 610,0.7,1.32,0.34,0.59,0.4,1.02,3.18,2.85,1.31,2.82',\n",
              " 'User 611,0.66,0.64,2.01,0.58,0.82,1.54,3.18,3.02,1.22,2.88',\n",
              " 'User 612,0.74,1.04,1.3,0.62,1.26,2.42,3.18,2.78,1.57,2.5',\n",
              " 'User 613,0.83,0.92,0.82,0.39,1.28,2.14,3.18,3.39,1.63,2.8',\n",
              " 'User 614,0.67,1.28,0.26,0.51,1.02,1.26,3.17,2.87,3.01,3.3',\n",
              " 'User 615,1.87,0.28,1.14,0.5,0.9,1.94,3.18,2.97,1.82,2.58',\n",
              " 'User 616,0.54,1.16,0.38,0.33,1.38,1.58,3.17,2.7,1.06,3.44',\n",
              " 'User 617,0.7,1.44,0.22,0.64,0.56,2.04,3.18,2.85,1.7,2.78',\n",
              " 'User 618,1.82,1.56,0.62,0.39,0.58,1.62,3.18,2.93,2.14,3.42',\n",
              " 'User 619,1.25,1.04,0.43,0.43,1.04,2.5,3.18,3.03,1.6,2.88',\n",
              " 'User 620,0.96,1.32,0.56,0.38,0.66,1.54,3.17,2.85,1.41,3.12',\n",
              " 'User 621,0.74,1.32,0.16,0.49,1.22,1.46,3.17,2.7,2.08,2.88',\n",
              " 'User 622,0.8,1.8,1.25,0.55,1.38,2.5,3.18,2.85,1.7,2.42',\n",
              " 'User 623,0.99,1.32,2.03,0.43,0.88,1.54,3.18,2.7,2.08,2.78',\n",
              " 'User 624,0.74,0.96,0.62,0.51,0.96,1.84,3.18,2.8,2.05,3.02',\n",
              " 'User 625,0.9,1.48,1.46,0.42,0.42,1.02,3.18,2.71,1.73,2.96',\n",
              " 'User 626,1.66,0.24,0.43,0.59,0.8,1.06,3.18,2.95,1.38,2.48',\n",
              " 'User 627,0.8,1.92,1.6,0.5,2.08,3.2,3.19,2.89,1.5,2.54',\n",
              " 'User 628,0.75,1.08,1.88,0.34,0.9,1.58,3.18,2.73,1.6,2.5',\n",
              " 'User 629,0.7,0.88,0.19,0.43,0.14,1.66,3.17,2.75,1.18,2.98',\n",
              " 'User 630,0.58,1.44,0.21,0.41,1.06,1.56,3.18,2.9,3.04,2.54',\n",
              " 'User 631,0.7,1.36,0.19,0.41,0.86,1.28,3.17,2.72,2.37,3.1',\n",
              " 'User 632,2.05,1.2,0.19,0.34,0.48,1.02,3.17,2.81,1.92,3.44',\n",
              " 'User 633,0.51,1.2,0.42,0.49,0.9,1.2,3.17,2.56,1.5,2.98',\n",
              " 'User 634,0.61,1.2,2.05,0.61,1.3,3.06,3.19,2.79,1.57,2.42',\n",
              " 'User 635,0.83,1.96,0.83,0.46,0.5,1.34,3.18,2.78,1.09,2.7',\n",
              " 'User 636,0.8,1.12,1.6,0.63,1.5,1.74,3.18,2.86,1.12,2.9',\n",
              " 'User 637,0.86,1.4,1.25,0.55,2.02,2.62,3.18,2.88,1.38,2.54',\n",
              " 'User 638,1.38,0.96,1.07,0.66,1.06,2.18,3.18,2.85,1.31,2.64',\n",
              " 'User 639,1.06,1.44,0.42,0.58,0.7,1.68,3.17,2.95,1.7,3.38',\n",
              " 'User 640,0.51,1.96,0.21,0.42,0.72,1.38,3.18,2.87,1.82,2.82',\n",
              " 'User 641,1.73,0.84,2.61,0.63,1.1,2.42,3.19,2.98,1.73,2.78',\n",
              " 'User 642,0.54,2.96,0.38,0.61,1.62,2.42,3.18,3.22,2.43,2.8',\n",
              " 'User 643,1.09,2.76,0.21,0.66,0.32,2.28,3.18,2.72,1.5,2.58',\n",
              " 'User 644,0.74,1.56,0.24,0.61,0.7,1.42,3.18,2.82,1.5,2.96',\n",
              " 'User 645,0.93,2.24,1.9,0.49,1.76,3.06,3.19,2.69,2.02,2.48',\n",
              " 'User 646,0.61,1.56,0.19,0.41,0.86,1.14,3.18,2.81,1.6,2.8',\n",
              " 'User 647,0.94,0.8,0.35,0.56,0.48,1.78,3.18,2.86,2.18,2.66',\n",
              " 'User 648,0.64,1.52,0.21,0.39,0.98,1.38,3.16,2.77,1.66,3.38',\n",
              " 'User 649,0.38,1.44,0.34,0.5,1.26,1.94,3.18,2.9,2.37,3.04',\n",
              " 'User 650,1.09,1.96,1.17,0.51,1.62,2.74,3.18,2.74,1.28,2.4',\n",
              " 'User 651,0.58,1.24,0.26,0.56,0.96,1.7,3.18,3.2,2.14,2.78',\n",
              " 'User 652,0.8,1.32,0.34,0.24,0.46,1.02,3.17,2.9,1.44,3.28',\n",
              " 'User 653,0.61,1.56,0.19,0.41,0.86,1.14,3.18,2.81,1.6,2.8',\n",
              " 'User 654,0.7,1.32,0.32,0.51,0.82,1.34,3.18,3.04,1.76,3.04',\n",
              " 'User 655,0.48,1.12,2.35,0.58,0.78,1.98,3.19,2.63,1.25,2.4',\n",
              " 'User 656,0.74,1.56,2.27,0.66,1.3,2.56,3.19,2.65,1.54,2.4',\n",
              " 'User 657,0.7,1.64,1.07,0.39,1.04,1.54,3.18,2.82,1.47,3.06',\n",
              " 'User 658,1.34,0.76,1.1,0.47,1.66,2,3.18,2.87,1.18,2.66',\n",
              " 'User 659,0.72,1.6,0.67,0.34,0.78,1.58,3.17,3.18,1.15,3.42',\n",
              " 'User 660,0.8,1.8,0.37,0.51,1.06,1.58,3.17,2.81,1.54,3.18',\n",
              " 'User 661,0.99,1.96,2.46,0.53,0.34,1.58,3.2,2.82,1.44,2.54',\n",
              " 'User 662,1.09,0.64,1.12,0.42,0.7,1.54,3.18,3.07,1.44,2.66',\n",
              " 'User 663,0.7,0.8,2.56,0.5,1.1,1.5,3.19,2.86,1.47,2.38',\n",
              " 'User 664,0.93,0.92,0.18,0.5,1.02,2.4,3.17,2.91,1.09,3.18',\n",
              " 'User 665,1.06,1.28,1.3,0.43,0.24,0.46,3.17,2.86,1.15,3.38',\n",
              " 'User 666,1.5,1.16,2.37,0.27,0.58,1.9,3.18,2.78,1.54,3.2',\n",
              " 'User 667,1.95,1.52,1.94,3.44,0.64,2.94,3.2,2.62,1.54,2.46',\n",
              " 'User 668,1.25,1.04,1.58,0.67,0.88,2.42,3.18,2.7,1.34,2.9',\n",
              " 'User 669,0.54,1.16,0.8,0.32,0.66,1.44,3.17,2.79,1.09,3.28',\n",
              " 'User 670,0.51,1.48,0.21,0.41,1.2,1.66,3.17,2.83,1.63,3.3',\n",
              " 'User 671,1.63,0.96,0.34,0.49,0.38,2.06,3.17,2.86,1.92,3.46',\n",
              " 'User 672,0.77,1.6,2.46,0.59,2.16,2.64,3.19,2.85,2.21,2.5',\n",
              " 'User 673,1.76,0.68,1.31,0.46,0.34,0.8,3.18,2.74,0.96,2.54',\n",
              " 'User 674,0.86,1,0.29,0.47,0.24,1.46,3.18,2.74,1.73,2.4',\n",
              " 'User 675,0.83,0.6,0.19,0.61,0.94,1.66,3.18,2.74,1.47,2.34',\n",
              " 'User 676,0.58,1.96,0.18,0.38,0.74,1.08,3.18,2.66,2.18,2.78',\n",
              " 'User 677,0.77,1.16,0.32,0.26,0.5,1.14,3.17,2.89,1.44,3.34',\n",
              " 'User 678,2.26,0.4,2.08,0.5,1.18,2.86,3.19,2.75,1.6,2.42',\n",
              " 'User 679,1.66,1.04,0.91,0.43,0.72,1.74,3.17,2.77,0.86,3.46',\n",
              " 'User 680,0.8,1.56,0.34,0.41,0.8,1.66,3.17,2.91,1.38,3.26',\n",
              " 'User 681,1.02,1.04,0.24,0.65,0.46,1.88,3.18,2.88,1.15,2.86',\n",
              " 'User 682,0.96,1.16,0.45,0.29,0.98,1.42,3.18,2.94,2.02,3.02',\n",
              " 'User 683,0.83,0.96,1.47,0.5,1.46,2.02,3.18,2.94,1.22,2.5',\n",
              " 'User 684,0.96,1.96,0.26,0.51,0.82,1.34,3.18,3.02,1.89,2.72',\n",
              " 'User 685,0.86,1.84,1.78,0.61,1.18,2.36,3.19,2.82,2.14,2.5',\n",
              " 'User 686,0.9,1,2.06,0.62,0.9,2.52,3.19,2.89,1.38,2.4',\n",
              " 'User 687,0.77,1.36,0.75,0.46,1.14,2.14,3.18,2.85,1.89,2.82',\n",
              " 'User 688,1.02,1.4,0.22,0.57,0.22,2.18,3.18,2.88,1.34,2.86',\n",
              " 'User 689,0.9,1.68,0.29,0.35,0.8,1.24,3.18,2.74,1.25,3.04',\n",
              " 'User 690,0.7,1.28,0.94,0.62,1.06,2.02,3.18,2.85,1.82,2.88',\n",
              " 'User 691,0.83,0.72,0.22,0.39,0.48,1.8,3.18,2.95,1.12,2.72',\n",
              " 'User 692,0.77,1.48,0.98,0.31,1.02,1.5,3.17,2.83,1.09,3.3',\n",
              " 'User 693,0.93,1.28,0.22,0.25,0.46,0.62,3.17,2.98,1.12,3.06',\n",
              " 'User 694,0.77,1.88,0.21,0.49,0.48,1.74,3.18,2.83,1.44,2.94',\n",
              " 'User 695,0.96,1.8,0.56,2.25,2.02,2.4,3.18,2.69,1.25,2.42',\n",
              " 'User 696,0.7,1.32,0.27,0.47,1.78,2.18,3.18,2.95,1.79,2.78',\n",
              " 'User 697,1.66,2.16,1.26,0.41,0.62,2.26,3.18,2.9,1.5,3.26',\n",
              " 'User 698,1.34,0.8,0.22,0.69,0.4,2.24,3.18,2.72,1.28,2.5',\n",
              " 'User 699,0.83,1.04,0.35,0.4,0.26,0.96,3.17,2.77,1.54,3.24',\n",
              " 'User 700,0.74,1.96,1.25,0.4,0.58,1.26,3.18,2.7,1.09,3.2',\n",
              " 'User 701,0.45,1.96,0.94,0.61,0.58,1.58,3.18,2.98,1.15,2.5',\n",
              " 'User 702,0.7,1.96,1.66,0.55,1.38,2.6,3.19,2.94,1.41,2.72',\n",
              " 'User 703,1.09,2.96,1.79,0.79,1.18,2,3.19,2.66,2.59,2.46',\n",
              " 'User 704,0.67,1.96,0.29,0.43,1.18,2.02,3.17,2.95,1.41,3.36',\n",
              " 'User 705,1.54,1.28,0.22,0.24,0.58,1.62,3.17,2.8,1.7,3.38',\n",
              " 'User 706,0.64,1.52,0.16,0.42,0.56,0.98,3.18,2.86,1.18,2.94',\n",
              " 'User 707,0.8,0.96,0.27,0.55,0.7,1.66,3.18,2.99,1.92,2.7',\n",
              " 'User 708,0.83,0.76,1.31,0.58,1.42,2.5,3.18,2.81,1.66,2.58',\n",
              " 'User 709,1.31,0.2,0.24,0.72,0.46,1.6,3.18,2.86,1.79,2.46',\n",
              " 'User 710,0.7,1.44,0.88,0.33,0.8,1.4,3.18,2.85,1.5,3.14',\n",
              " 'User 711,1.34,1.04,1.47,0.66,0.9,2.66,3.19,2.79,1.76,2.48',\n",
              " 'User 712,0.54,1.28,0.26,0.61,1.26,2,3.18,2.93,2.43,2.56',\n",
              " 'User 713,1.28,1.28,0.27,0.4,1.04,1.12,3.17,3.19,1.54,3.38',\n",
              " 'User 714,1.02,1.24,0.27,0.41,1.22,2.6,3.18,2.7,1.54,2.8',\n",
              " 'User 715,0.96,1.96,0.75,0.41,0.46,1.4,3.18,2.9,2.18,3.3',\n",
              " 'User 716,1.06,1.64,0.32,0.31,0.38,1.06,3.17,2.9,2.02,3.3',\n",
              " 'User 717,0.54,1.08,0.24,0.42,0.54,1.3,3.18,3.07,1.34,2.94',\n",
              " 'User 718,0.7,2.12,2.42,0.59,0.58,1.82,3.19,2.62,1.12,2.5',\n",
              " 'User 719,1.31,0.92,2.37,0.62,0.74,2.32,3.2,2.82,1.57,2.58',\n",
              " 'User 720,1.02,0.92,2.59,0.63,0.96,2.34,3.19,2.9,1.73,2.42',\n",
              " 'User 721,0.45,1.36,0.21,0.63,1.34,2.04,3.18,2.93,2.56,2.56',\n",
              " 'User 722,0.99,1.12,0.22,0.4,0.74,1.42,3.16,2.66,1.28,3.52',\n",
              " 'User 723,1.09,0.8,0.93,0.71,1.38,2.7,3.18,2.82,1.41,2.62',\n",
              " 'User 724,1.22,0.56,0.62,0.69,0.72,1.5,3.18,2.73,1.09,2.46',\n",
              " 'User 725,0.74,1.2,0.29,0.38,0.42,1.22,3.17,2.91,1.28,3.14',\n",
              " 'User 726,0.8,2.04,1.28,0.54,1.62,2.52,3.18,2.86,1.57,2.46',\n",
              " 'User 727,0.58,0.76,0.75,0.53,1.52,2.14,3.18,2.95,2.11,2.8',\n",
              " 'User 728,0.99,1.36,1.18,0.67,0.96,2.32,3.19,3.07,1.98,2.96',\n",
              " 'User 729,0.86,2.96,0.21,1.98,0.9,1.62,3.18,2.7,1.47,2.46',\n",
              " 'User 730,1.63,1.16,1.81,0.39,1.62,2.98,3.19,2.79,1.79,2.54',\n",
              " 'User 731,1.09,1.44,1.42,0.33,1.18,1.7,3.18,2.91,1.12,3.18',\n",
              " 'User 732,0.61,1.24,0.26,0.71,0.82,2.3,3.18,2.98,1.41,3.12',\n",
              " 'User 733,1.06,0.56,0.77,0.59,0.72,1.7,3.18,2.86,1.54,2.5',\n",
              " 'User 734,0.61,1.4,2.16,0.43,1.3,1.58,3.18,2.66,2.02,2.86',\n",
              " 'User 735,0.61,1.32,0.21,0.35,0.58,1.16,3.17,2.74,1.98,3.28',\n",
              " 'User 736,0.7,1.08,0.26,0.65,1.2,1.3,3.18,2.93,1.41,2.64',\n",
              " 'User 737,0.93,1.92,0.37,0.56,0.96,2.38,3.18,2.82,2.05,2.82',\n",
              " 'User 738,0.8,1.12,1.78,0.64,1.2,2.34,3.19,3.04,1.38,2.54',\n",
              " 'User 739,0.64,1.24,1.18,0.61,0.86,2.82,3.18,2.94,1.89,2.78',\n",
              " 'User 740,1.18,1.36,0.51,0.32,1.12,2.16,3.17,2.67,1.06,3.3',\n",
              " 'User 741,0.9,2.04,1.26,0.64,1.3,2.74,3.18,2.82,1.66,2.5',\n",
              " 'User 742,0.86,0.72,1.23,0.55,1.2,2.48,3.18,2.87,1.5,2.4',\n",
              " 'User 743,0.74,1,0.26,0.41,0.74,1.9,3.18,2.94,1.73,2.74',\n",
              " 'User 744,1.09,1.2,0.29,0.51,1.18,1.9,3.18,2.66,1.44,2.88',\n",
              " 'User 745,0.83,1.36,1.02,0.39,0.7,1.32,3.18,2.87,1.31,2.46',\n",
              " 'User 746,0.82,2.6,0.19,0.9,0.46,1.82,3.18,2.85,1.34,2.5',\n",
              " 'User 747,0.9,1.44,0.29,0.47,1.02,1.2,3.17,2.9,3.14,3.18',\n",
              " 'User 748,0.96,2.84,0.21,1.83,1.18,1.98,3.18,2.74,1.34,2.38',\n",
              " 'User 749,0.67,1.12,0.43,0.38,1.02,1.26,3.17,2.66,1.38,3.14',\n",
              " 'User 750,0.99,1.04,0.77,0.42,0.96,1.98,3.18,2.86,1.31,2.78',\n",
              " 'User 751,0.74,1.52,2.29,0.66,1.46,2.58,3.19,2.74,1.41,2.4',\n",
              " 'User 752,1.02,1.52,0.76,0.38,0.62,1.26,3.17,3.04,1.34,3.14',\n",
              " 'User 753,1.22,1.36,1.33,0.59,1.18,2.24,3.19,2.77,1.66,2.46',\n",
              " 'User 754,1.12,1.04,1.09,0.39,0.96,1.6,3.18,3.01,1.28,3.06',\n",
              " 'User 755,1.28,1.68,0.99,0.75,1.1,2.34,3.18,2.78,1.73,2.5',\n",
              " 'User 756,1.28,1.28,0.96,0.39,1.34,1.7,3.18,3.12,1.86,3.34',\n",
              " 'User 757,1.33,0.76,0.26,0.45,0.72,1.18,3.18,3.14,1.31,2.66',\n",
              " 'User 758,0.7,1.12,0.35,0.46,0.64,1.66,3.18,2.83,1.54,2.8',\n",
              " 'User 759,0.74,1.6,1.58,0.41,0.64,1.18,3.18,2.69,1.34,2.8',\n",
              " 'User 760,1.7,0.96,0.13,0.33,0.78,1.14,3.18,2.81,1.02,2.42',\n",
              " 'User 761,0.77,1.04,1.31,0.62,1.26,2.42,3.18,2.78,1.6,2.54',\n",
              " 'User 762,0.99,1.48,0.99,0.59,0.34,2.18,3.18,2.88,1.25,2.34',\n",
              " 'User 763,1.09,1.56,0.83,0.46,1.2,2.18,3.18,2.94,1.5,3.3',\n",
              " 'User 764,1.02,1.28,1.33,0.49,0.86,1.4,3.18,2.88,1.5,2.98',\n",
              " 'User 765,0.74,1.48,1.26,0.57,1.6,2,3.18,2.54,1.57,2.48',\n",
              " 'User 766,1.02,1.32,1.58,0.37,0.58,1.2,3.18,2.75,1.38,3.22',\n",
              " 'User 767,0.7,1.68,0.37,0.61,0.72,1.52,3.18,2.66,1.38,2.66',\n",
              " 'User 768,1.02,0.96,0.99,0.55,0.82,3.04,3.18,2.87,1.98,2.5',\n",
              " 'User 769,1.02,0.96,0.21,0.69,1.14,2.72,3.18,3.19,1.63,2.46',\n",
              " 'User 770,1.34,0.56,1.71,0.53,0.48,1.26,3.18,2.86,1.06,2.86',\n",
              " 'User 771,0.74,1.6,1.2,0.46,1.34,2.02,3.18,2.77,0.86,3.04',\n",
              " 'User 772,0.64,1.4,0.98,0.29,0.26,0.54,3.18,2.48,1.66,2.9',\n",
              " 'User 773,0.8,0.96,1.18,0.5,0.56,1.5,3.18,3.01,1.86,2.8',\n",
              " 'User 774,0.99,1.2,0.14,0.51,0.42,1.46,3.18,2.62,1.25,2.7',\n",
              " 'User 775,0.42,1.52,0.29,0.53,0.38,1.52,3.18,2.95,2.88,3.12',\n",
              " 'User 776,1.41,0.72,1.23,1.1,0.74,2.8,3.19,3.17,2.3,2.46',\n",
              " 'User 777,0.67,1.6,0.27,0.35,1.28,1.78,3.18,3.04,1.57,3.06',\n",
              " 'User 778,0.74,1.68,1.18,0.5,1.5,2.52,3.18,2.86,1.54,2.48',\n",
              " 'User 779,1.25,0.96,0.16,0.55,0.22,1.58,3.18,2.66,0.99,2.7',\n",
              " 'User 780,0.74,1.36,0.21,0.29,0.62,1.48,3.17,2.98,1.18,3.38',\n",
              " 'User 781,0.86,1.2,2.08,0.54,1.84,2.14,3.19,2.81,1.6,2.56',\n",
              " 'User 782,0.8,1.28,1.95,0.47,1.14,1.7,3.18,2.87,1.7,2.78',\n",
              " 'User 783,0.74,1.28,0.21,0.55,1.58,1.5,3.18,2.75,1.76,2.94',\n",
              " 'User 784,1.01,1.08,0.25,0.3,0.4,0.94,3.17,2.99,1.28,3.18',\n",
              " 'User 785,0.9,1.16,0.43,0.43,0.7,1.42,3.17,2.95,1.31,3.1',\n",
              " 'User 786,0.8,0.84,2.49,0.45,0.74,2.12,3.19,3.1,2.05,2.56',\n",
              " 'User 787,0.77,1.32,1.97,0.53,0.82,1.94,3.19,2.98,1.28,2.54',\n",
              " 'User 788,0.51,1.96,0.19,0.63,0.48,2,3.18,2.87,1.5,2.98',\n",
              " 'User 789,0.9,1.08,0.75,0.34,1.5,1.86,3.17,2.81,1.34,3.34',\n",
              " 'User 790,0.74,1.24,1.71,0.43,1.58,2.48,3.19,2.78,1.76,2.54',\n",
              " 'User 791,0.86,1.2,2.22,0.33,0.9,1.74,3.18,2.98,1.6,3.2',\n",
              " 'User 792,0.83,1.32,2.86,0.56,1.1,2.6,3.2,2.72,1.41,2.42',\n",
              " 'User 793,1.02,2,1.71,0.54,1.52,2.74,3.19,2.74,1.92,2.5',\n",
              " 'User 794,1.82,1.16,0.35,0.46,0.4,1.02,3.18,2.95,2.37,2.72',\n",
              " 'User 795,0.8,0.88,0.53,0.55,1.1,2.14,3.18,2.81,1.6,2.8',\n",
              " 'User 796,2.14,1.92,2.02,0.59,1.52,2.96,3.19,2.82,1.66,2.48',\n",
              " 'User 797,0.51,1.48,0.24,0.42,0.72,1.46,3.18,3.01,1.6,2.62',\n",
              " 'User 798,0.83,1.28,0.21,0.55,0.62,1.02,3.17,2.63,1.47,3.2',\n",
              " 'User 799,0.9,1.36,2.21,0.47,0.86,2.14,3.19,2.78,1.28,2.64',\n",
              " 'User 800,0.67,1.44,2.9,0.53,0.86,1.78,3.2,2.9,1.54,2.34',\n",
              " 'User 801,1.22,1.12,0.45,0.49,0.46,0.9,3.17,2.86,1.5,3.52',\n",
              " 'User 802,1.09,1.04,1.65,0.47,1.36,2.22,3.18,2.74,1.12,3.1',\n",
              " 'User 803,1.17,0.32,2.16,0.47,0.98,1.9,3.19,3.07,1.25,2.64',\n",
              " 'User 804,1.31,0.04,0.98,0.55,0.54,0.94,3.18,2.83,1.34,2.66',\n",
              " 'User 805,0.64,1.64,1.46,0.5,1.34,2.22,3.18,2.79,1.86,2.62',\n",
              " 'User 806,0.8,1.96,2.69,0.55,1.34,3.04,3.2,2.7,1.66,2.46',\n",
              " 'User 807,0.67,1.12,0.24,0.58,1.22,1.9,3.18,2.87,1.34,2.7',\n",
              " 'User 808,0.8,1.04,2,0.56,1.4,1.6,3.19,2.74,1.44,2.5',\n",
              " 'User 809,0.96,2,1.94,0.51,1.02,1.7,3.19,2.7,1.7,2.38',\n",
              " 'User 810,1.15,2.08,1.62,0.57,0.78,1.86,3.19,2.73,1.28,2.5',\n",
              " 'User 811,0.83,0.96,0.21,0.61,1.76,2,3.18,2.86,1.98,2.78',\n",
              " 'User 812,0.99,1.2,1.6,0.53,1.3,2.82,3.18,3.33,1.76,3.18',\n",
              " 'User 813,0.96,3.64,1.31,0.39,1.34,2.66,3.18,3.02,1.57,3.12',\n",
              " 'User 814,1.25,0.96,0.77,0.42,1.2,1.84,3.18,2.87,1.38,2.98',\n",
              " 'User 815,0.58,1.56,2.44,0.54,1.2,2.1,3.2,2.97,2.46,2.42',\n",
              " 'User 816,0.93,1.2,1.46,0.58,0.66,2.22,3.18,2.88,1.79,3.02',\n",
              " 'User 817,0.9,0.96,2.85,0.54,1.12,1.48,3.2,2.75,1.44,2.38',\n",
              " 'User 818,0.58,1.32,1.28,0.58,0.42,1.74,3.19,2.91,1.41,2.32',\n",
              " 'User 819,0.7,1,2.74,0.57,1.18,1.84,3.2,2.94,1.18,2.34',\n",
              " 'User 820,0.51,1.08,2.48,0.57,0.66,1.8,3.19,2.58,1.38,2.32',\n",
              " 'User 821,0.58,1.52,1.3,0.56,1.18,2.34,3.18,2.94,1.73,2.62',\n",
              " 'User 822,0.83,1.36,1.02,0.57,0.96,2.18,3.18,2.83,2.24,3.06',\n",
              " 'User 823,0.64,1.56,0.16,0.47,0.98,2.06,3.17,2.74,1.38,3.18',\n",
              " 'User 824,1.47,0.96,1.84,0.58,1.5,2.28,3.18,2.74,1.79,2.62',\n",
              " 'User 825,0.7,0.96,0.78,1.05,0.8,1.64,3.18,2.7,1.47,2.3',\n",
              " 'User 826,0.67,1.36,1.28,0.65,0.5,1.34,3.18,2.66,1.89,2.5',\n",
              " 'User 827,0.48,1.36,1.82,0.57,0.66,1.28,3.19,2.86,1.57,2.66',\n",
              " 'User 828,1.18,1.24,0.75,0.43,0.08,1.7,3.18,2.58,2.3,3.22',\n",
              " 'User 829,0.48,1.12,2.35,0.58,0.78,1.98,3.19,2.63,1.25,2.4',\n",
              " 'User 830,0.93,1.76,0.58,2.29,2,2.42,3.18,2.69,1.31,2.42',\n",
              " 'User 831,0.74,1,1.27,0.48,0.42,1.44,3.18,3.06,1.95,2.74',\n",
              " 'User 832,0.67,1.68,0.19,0.51,0.64,1.68,3.18,2.74,2.78,2.9',\n",
              " 'User 833,0.86,1.12,0.13,0.27,0.78,1.7,3.17,2.67,1.12,3.3',\n",
              " 'User 834,1.01,1.52,0.42,0.38,0.26,0.92,3.17,2.78,1.89,2.88',\n",
              " 'User 835,0.7,0.88,2.66,0.5,1.04,1.46,3.19,2.88,1.54,2.4',\n",
              " 'User 836,1.02,1.44,2.38,0.47,1.26,2.54,3.19,2.74,0.99,2.66',\n",
              " 'User 837,1.09,1.2,1.5,0.65,0.9,2.38,3.18,2.8,1.41,2.78',\n",
              " 'User 838,1.02,1.56,0.53,1.3,0.64,1.86,3.18,2.74,1.44,2.46',\n",
              " 'User 839,0.67,1.12,0.22,0.53,0.7,0.88,3.18,3.05,1.54,2.96',\n",
              " 'User 840,0.64,1.2,0.75,0.47,1.06,1.98,3.18,2.81,1.12,2.72',\n",
              " 'User 841,0.7,1.96,0.96,0.33,0.82,1.7,3.18,3.03,1.15,3.02',\n",
              " 'User 842,0.83,1.12,1.5,0.32,0.34,1.62,3.18,2.82,1.09,3.22',\n",
              " 'User 843,1.06,1.28,1.78,0.41,0.66,1.58,3.18,2.8,1.09,2.8',\n",
              " 'User 844,0.64,1.24,0.16,0.35,0.58,0.98,3.17,2.88,1.66,3.02',\n",
              " 'User 845,0.64,1.2,0.24,0.35,0.56,0.76,3.17,3.06,1.76,2.94',\n",
              " 'User 846,0.96,1.44,1.6,0.48,0.88,2.26,3.19,2.87,1.63,2.48',\n",
              " 'User 847,0.83,1.24,0.26,0.37,0.96,1.46,3.17,2.64,1.38,3.18',\n",
              " 'User 848,0.9,1.36,0.74,0.62,0.58,1.74,3.18,2.85,1.47,3.2',\n",
              " 'User 849,0.77,1.52,2.04,0.39,0.22,0.98,3.18,2.75,1.82,3.44',\n",
              " 'User 850,0.61,1.52,0.82,0.22,0.58,1.1,3.17,2.71,1.15,3.34',\n",
              " 'User 851,0.58,1.04,0.22,0.47,1.06,1.88,3.18,2.97,2.3,2.54',\n",
              " 'User 852,0.96,1.96,1.5,0.53,1.26,2.5,3.19,2.79,1.54,2.66',\n",
              " 'User 853,0.99,1.88,0.48,0.61,1.22,1.92,3.18,2.93,2.43,2.66',\n",
              " 'User 854,1.18,0.92,1.52,0.65,1.44,2.22,3.18,2.87,1.34,2.66',\n",
              " 'User 855,1.09,1.96,1.28,0.53,1.46,2.98,3.18,2.74,1.66,2.86',\n",
              " 'User 856,1.54,1.44,0.56,0.34,0.82,1.8,3.17,2.79,1.22,3.26',\n",
              " 'User 857,1.18,0.92,1.52,0.65,1.44,2.22,3.18,2.87,1.34,2.66',\n",
              " 'User 858,0.58,1.64,2.27,0.45,1.26,1.72,3.19,2.91,2.3,2.74',\n",
              " 'User 859,0.58,1.44,0.38,0.56,1.02,1.64,3.18,3.2,1.47,2.74',\n",
              " 'User 860,1.09,1.24,2.62,0.58,0.54,1.94,3.19,2.72,1.73,2.42',\n",
              " 'User 861,1.09,1.12,1.94,0.56,0.82,1.98,3.19,2.86,1.57,2.74',\n",
              " 'User 862,0.64,1.56,0.42,0.5,0.8,2.4,3.18,3.07,1.41,2.88',\n",
              " 'User 863,0.7,1.52,2.37,0.62,0.86,1.68,3.2,2.86,1.6,2.58',\n",
              " 'User 864,0.77,1.04,0.27,0.38,1.62,1.78,3.17,2.83,2.59,3.18',\n",
              " 'User 865,1.09,1.84,0.75,0.33,0.56,1.26,3.17,2.93,1.98,3.28',\n",
              " 'User 866,0.51,1,0.21,0.39,0.74,1.64,3.18,2.9,1.76,3.04',\n",
              " 'User 867,0.77,1.16,2.19,0.4,1.42,1.78,3.18,2.82,1.22,2.82',\n",
              " 'User 868,0.93,0.64,0.22,0.43,3.26,3.13,3.18,2.8,1.5,2.66',\n",
              " 'User 869,0.45,1.64,0.14,0.42,0.58,1.26,3.18,2.89,1.38,2.9',\n",
              " 'User 870,1.89,0.28,1.12,0.51,0.96,1.96,3.18,2.97,1.82,2.58',\n",
              " 'User 871,1.02,1.32,0.4,0.59,1.06,2.93,3.18,2.8,1.92,2.66',\n",
              " 'User 872,0.83,1.12,0.27,0.49,0.64,1.3,3.17,2.79,1.41,3.34',\n",
              " 'User 873,1.41,0.96,1.79,0.35,1.1,2.22,3.18,2.78,1.38,3.02',\n",
              " 'User 874,0.48,1.16,0.8,0.66,0.74,1.4,3.18,3.13,1.41,2.72',\n",
              " 'User 875,0.8,1.28,0.14,0.39,1.06,1.52,3.17,2.94,1.86,2.88',\n",
              " 'User 876,0.48,1.32,0.75,0.67,0.82,1.58,3.18,3.05,1.25,2.4',\n",
              " 'User 877,0.9,1.96,1.23,0.51,1.28,2.6,3.18,2.7,1.76,2.94',\n",
              " 'User 878,1.34,1.36,0.38,0.25,0.9,1.3,3.17,2.86,1.22,3.42',\n",
              " 'User 879,0.99,1.16,0.22,0.42,0.88,1.7,3.17,2.78,1.15,3.26',\n",
              " 'User 880,0.86,1.28,1.09,0.54,1.26,2.58,3.18,2.87,1.25,3.04',\n",
              " 'User 881,0.67,1.28,0.35,0.42,0.74,1.88,3.18,2.85,1.82,2.66',\n",
              " 'User 882,0.38,1.52,0.14,0.39,0.96,1.14,3.17,2.49,1.76,3.2',\n",
              " 'User 883,0.96,2.96,0.74,0.47,0.96,2.12,3.18,2.86,1.44,2.64',\n",
              " 'User 884,0.58,1.2,2.05,0.71,0.5,2.28,3.19,2.66,1.66,2.4',\n",
              " 'User 885,1.18,1.48,0.78,0.47,1.06,2.89,3.18,2.75,1.6,2.62',\n",
              " 'User 886,0.9,1.4,2.45,0.64,0.82,1.56,3.2,2.9,1.6,2.56',\n",
              " 'User 887,0.7,1.28,0.38,0.51,0.78,1.34,3.18,2.74,1.92,3.02',\n",
              " 'User 888,0.58,1.68,0.82,0.41,0.18,1.02,3.18,2.81,1.66,3.12',\n",
              " 'User 889,1.5,2.6,1.33,0.95,0.72,2.42,3.19,2.66,1.12,2.46',\n",
              " 'User 890,0.83,1.6,0.18,0.48,0.24,0.8,3.18,2.57,1.6,2.82',\n",
              " 'User 891,0.7,1.4,0.88,0.62,0.98,2.44,3.18,2.74,1.6,2.74',\n",
              " 'User 892,1.02,1.68,0.21,0.53,0.38,2.48,3.18,2.74,1.54,2.56',\n",
              " 'User 893,0.77,1.64,2.85,0.53,1.04,1.94,3.2,2.95,1.25,2.32',\n",
              " 'User 894,0.48,1.96,0.18,0.55,0.56,1.3,3.18,2.83,1.54,2.46',\n",
              " 'User 895,0.51,1.76,0.22,0.49,0.66,1.46,3.18,2.77,2.4,2.74',\n",
              " 'User 896,0.8,0.96,0.29,0.61,0.16,1.62,3.18,2.87,2.24,3.04',\n",
              " 'User 897,1.09,0.72,1.02,0.94,1.26,3.2,3.19,3.04,1.54,2.46',\n",
              " 'User 898,1.02,1.04,0.74,0.35,0.7,1.6,3.18,3.02,2.34,3.34',\n",
              " 'User 899,0.8,1.08,0.75,0.35,0.82,1.22,3.18,2.67,1.06,3.2',\n",
              " 'User 900,0.54,1.36,1.02,0.48,0.42,1.48,3.18,2.66,1.28,2.88',\n",
              " 'User 901,1.12,1.28,1.44,0.37,0.78,1.5,3.18,2.78,2.08,3.44',\n",
              " 'User 902,0.67,1.4,2.32,0.55,0.94,2.38,3.19,2.71,1.5,2.38',\n",
              " 'User 903,1.22,0.72,1.18,1.09,0.74,2.6,3.19,3.14,2.27,2.46',\n",
              " 'User 904,0.67,2.88,0.26,1.91,1.74,1.6,3.18,2.64,1.63,2.46',\n",
              " 'User 905,0.7,1.04,1.47,0.31,0.98,1.62,3.18,2.72,1.09,3.34',\n",
              " 'User 906,1.79,0.6,1.6,0.42,1.02,2.1,3.19,2.91,1.66,2.5',\n",
              " 'User 907,0.7,1.68,0.3,0.59,0.26,1.16,3.18,2.94,1.57,3.14',\n",
              " 'User 908,0.77,1.64,2.85,0.53,1.04,1.94,3.2,2.95,1.25,2.32',\n",
              " 'User 909,0.51,1.2,1.07,0.49,1.14,2.04,3.18,3.22,1.47,2.82',\n",
              " 'User 910,0.74,1.4,1.1,0.34,1.2,1.54,3.18,2.49,1.73,2.94',\n",
              " 'User 911,0.83,1.36,0.21,0.53,0.16,0.38,3.18,2.93,2.02,2.78',\n",
              " 'User 912,0.9,1.24,1.15,0.46,1.26,2.24,3.18,2.93,1.82,2.82',\n",
              " 'User 913,1.15,0.96,0.29,0.29,0.86,1.36,3.17,2.97,1.89,3.42',\n",
              " 'User 914,0.7,1.52,1.65,0.67,0.74,1.32,3.19,2.78,1.5,2.66',\n",
              " 'User 915,0.42,1.08,0.74,0.91,0.9,2.3,3.18,2.87,1.25,2.96',\n",
              " 'User 916,0.7,1.8,3.62,1.37,1.46,1.62,3.19,2.75,1.12,3.42',\n",
              " 'User 917,0.77,1.2,1.63,0.8,1.18,2.38,3.19,2.54,1.47,2.38',\n",
              " 'User 918,0.77,1.28,1.01,0.34,0.9,1.72,3.18,3.13,1.31,2.78',\n",
              " 'User 919,0.93,1.08,0.27,0.27,0.34,1.02,3.17,2.86,1.63,3.36',\n",
              " 'User 920,0.61,1.28,0.59,0.47,0.7,1.02,3.18,2.58,1.82,2.8',\n",
              " 'User 921,1.25,1.36,1.6,0.64,0.94,2.38,3.19,2.9,1.92,2.72',\n",
              " 'User 922,1.18,1.32,0.19,0.32,0.34,1.08,3.17,2.99,1.22,3.12',\n",
              " 'User 923,1.06,0.88,0.83,0.54,0.64,2.02,3.18,2.86,1.5,2.74',\n",
              " 'User 924,0.9,1.36,1.42,0.55,0.86,1.48,3.18,2.89,1.73,2.94',\n",
              " 'User 925,0.74,1.44,2.75,0.45,0.98,1.74,3.2,2.87,1.38,2.34',\n",
              " 'User 926,0.83,1.36,2.3,0.77,0.94,2.52,3.19,2.73,1.7,2.42',\n",
              " 'User 927,0.77,2.48,1.7,0.51,1.36,2.04,3.19,2.81,1.41,2.34',\n",
              " 'User 928,0.99,1.2,0.14,0.51,0.42,1.46,3.18,2.62,1.25,2.7',\n",
              " 'User 929,0.64,1.32,0.27,0.57,0.74,2.38,3.18,2.81,1.38,2.4',\n",
              " 'User 930,0.83,1.24,0.35,0.5,0.78,1.7,3.18,2.97,2.05,2.9',\n",
              " 'User 931,1.12,1.6,1.01,0.45,0.94,2.16,3.18,2.8,1.09,3.18',\n",
              " 'User 932,0.83,1.08,2.91,0.55,1.38,2.24,3.2,2.98,1.41,2.5',\n",
              " 'User 933,0.9,1.2,1.33,0.3,0.98,1.5,3.18,2.66,1.22,3.28',\n",
              " 'User 934,0.67,1.12,0.43,0.39,0.62,1.48,3.18,2.98,2.05,2.72',\n",
              " 'User 935,0.61,1.16,0.19,0.53,0.78,1.22,3.17,2.86,1.7,3.02',\n",
              " 'User 936,0.64,1.08,1.54,0.42,0.5,1.4,3.18,2.7,1.18,2.8',\n",
              " 'User 937,0.83,0.96,1.15,0.43,0.74,1.82,3.18,2.98,1.92,2.78',\n",
              " 'User 938,0.9,1.64,1.12,0.53,1.58,2.58,3.18,2.79,1.54,2.5',\n",
              " 'User 939,0.8,1.52,1.26,0.51,1.44,2.78,3.18,2.82,1.47,2.42',\n",
              " 'User 940,0.74,1.2,1.14,0.42,1.68,3.14,3.18,2.72,1.09,2.46',\n",
              " 'User 941,1.22,1,1.57,0.46,0.74,2.54,3.19,2.91,1.95,2.46',\n",
              " 'User 942,0.35,1.96,0.72,0.55,0.72,1.78,3.18,2.88,1.34,2.82',\n",
              " 'User 943,0.7,1.8,2.27,0.43,1.42,1.88,3.2,2.7,1.47,2.46',\n",
              " 'User 944,0.64,1.68,0.24,0.47,0.94,1.66,3.18,2.77,1.57,3.04',\n",
              " 'User 945,0.67,1.48,0.4,0.55,1.86,1.84,3.18,2.96,2.4,3.04',\n",
              " 'User 946,0.58,0.88,0.24,0.49,1.2,2.06,3.18,2.83,1.54,2.72',\n",
              " 'User 947,1.15,1.48,0.77,0.22,1.04,1.52,3.17,2.74,1.57,3.38',\n",
              " 'User 948,0.54,1.28,0.24,0.57,0.46,1.34,3.18,2.79,1.86,2.54',\n",
              " 'User 949,0.93,2.12,0.27,0.46,1.1,2.56,3.18,2.9,1.89,2.78',\n",
              " 'User 950,0.83,1.72,1.42,0.95,1.34,2.28,3.19,2.54,1.6,2.4',\n",
              " 'User 951,0.64,1.28,0.8,0.18,0.82,1.34,3.18,2.66,1.25,2.94',\n",
              " 'User 952,1.06,0.96,2.57,0.51,0.82,1.96,3.19,2.74,1.66,2.46',\n",
              " 'User 953,0.93,2.08,1.26,0.56,0.94,2.56,3.18,2.81,1.63,2.54',\n",
              " 'User 954,1.87,0.8,1.66,0.98,0.46,1.26,3.19,2.78,1.28,2.5',\n",
              " 'User 955,1.25,0.84,1.71,1.12,0.34,1.22,3.19,2.7,1.5,2.48',\n",
              " 'User 956,0.61,1.08,2.22,0.65,1.2,2.06,3.19,2.62,1.31,2.34',\n",
              " 'User 957,0.86,1.8,1.33,0.57,1.38,2.62,3.18,2.82,1.54,2.54',\n",
              " 'User 958,1.34,1.16,0.66,0.34,0.82,1.34,3.17,2.66,1.02,3.42',\n",
              " 'User 959,0.61,1.44,0.3,0.4,0.8,1.28,3.18,2.8,1.73,2.88',\n",
              " 'User 960,1.41,1.04,0.32,0.62,0.54,2.4,3.18,3.18,1.82,2.66',\n",
              " 'User 961,0.58,1.24,1.95,0.61,1.22,1.86,3.19,2.72,1.7,2.38',\n",
              " 'User 962,0.85,1.12,1.1,0.41,1.22,2,3.18,2.98,1.41,2.88',\n",
              " 'User 963,0.61,1.4,0.24,0.42,0.98,1.42,3.17,2.82,2.18,3.2',\n",
              " 'User 964,0.96,1.16,2.7,0.62,0.62,1.8,3.2,2.81,1.22,2.4',\n",
              " 'User 965,1.25,1.24,0.43,0.62,0.72,2.7,3.18,3.07,1.82,2.8',\n",
              " 'User 966,0.64,0.96,0.22,0.38,1.74,2.26,3.17,3.19,1.79,3.28',\n",
              " 'User 967,0.91,1.96,1.82,0.4,1.52,1.82,3.19,2.74,1.73,2.38',\n",
              " 'User 968,0.74,1.36,0.64,0.54,0.64,1.7,3.18,2.85,1.66,2.58',\n",
              " 'User 969,0.51,1.2,0.22,0.73,0.9,2.22,3.18,2.77,1.34,3.05',\n",
              " 'User 970,0.8,1.32,0.4,0.61,0.32,0.96,3.18,2.57,1.54,2.54',\n",
              " 'User 971,0.58,1.96,0.24,0.47,1.04,1.74,3.18,2.7,1.57,2.62',\n",
              " 'User 972,1.28,1.24,0.14,0.55,0.62,2.26,3.18,2.86,2.46,2.54',\n",
              " 'User 973,1.22,1.16,0.38,1.55,0.4,1.24,3.18,2.82,1.92,2.54',\n",
              " 'User 974,0.38,1.96,0.19,0.48,1.14,2.14,3.18,2.78,1.54,2.58',\n",
              " 'User 975,1.02,2.44,1.89,0.47,1.76,2.5,3.19,2.66,1.73,2.48',\n",
              " 'User 976,0.74,1.12,0.3,0.53,0.88,1.38,3.17,2.78,0.99,3.2',\n",
              " 'User 977,1.25,0.92,1.12,0.38,0.78,1.68,3.18,2.79,1.34,2.8',\n",
              " 'User 978,0.61,1.32,0.67,0.43,1.3,1.78,3.17,2.81,1.34,3.02',\n",
              " 'User 979,0.93,0.2,0.13,0.43,0.3,0.4,3.18,2.98,1.12,2.46',\n",
              " 'User 980,0.93,0.56,1.13,0.51,1.34,2.36,3.18,2.87,1.34,2.4',\n",
              " '']"
            ]
          },
          "metadata": {
            "tags": []
          },
          "execution_count": 3
        }
      ]
    },
    {
      "cell_type": "code",
      "metadata": {
        "id": "RRaqjNP8hXmm"
      },
      "source": [
        "from sklearn.feature_extraction.text import TfidfVectorizer"
      ],
      "execution_count": 4,
      "outputs": []
    },
    {
      "cell_type": "code",
      "metadata": {
        "colab": {
          "base_uri": "https://localhost:8080/"
        },
        "id": "jCNQsaEhhnrO",
        "outputId": "c9d69a3c-085c-4db8-b8f6-d6aa2508f70f"
      },
      "source": [
        "vec = TfidfVectorizer(min_df=2 ,max_df=2)\n",
        "vec"
      ],
      "execution_count": 18,
      "outputs": [
        {
          "output_type": "execute_result",
          "data": {
            "text/plain": [
              "TfidfVectorizer(analyzer='word', binary=False, decode_error='strict',\n",
              "                dtype=<class 'numpy.float64'>, encoding='utf-8',\n",
              "                input='content', lowercase=True, max_df=2, max_features=None,\n",
              "                min_df=2, ngram_range=(1, 1), norm='l2', preprocessor=None,\n",
              "                smooth_idf=True, stop_words=None, strip_accents=None,\n",
              "                sublinear_tf=False, token_pattern='(?u)\\\\b\\\\w\\\\w+\\\\b',\n",
              "                tokenizer=None, use_idf=True, vocabulary=None)"
            ]
          },
          "metadata": {
            "tags": []
          },
          "execution_count": 18
        }
      ]
    },
    {
      "cell_type": "code",
      "metadata": {
        "id": "f4DjnDXIhrHj"
      },
      "source": [
        "x = vec.fit_transform(docs)"
      ],
      "execution_count": 15,
      "outputs": []
    },
    {
      "cell_type": "code",
      "metadata": {
        "colab": {
          "base_uri": "https://localhost:8080/"
        },
        "id": "8pFLdfQ7h0Gh",
        "outputId": "a380f148-389a-444f-c08d-1ad601b697f0"
      },
      "source": [
        "x"
      ],
      "execution_count": 16,
      "outputs": [
        {
          "output_type": "execute_result",
          "data": {
            "text/plain": [
              "<982x1 sparse matrix of type '<class 'numpy.float64'>'\n",
              "\twith 2 stored elements in Compressed Sparse Row format>"
            ]
          },
          "metadata": {
            "tags": []
          },
          "execution_count": 16
        }
      ]
    },
    {
      "cell_type": "code",
      "metadata": {
        "colab": {
          "base_uri": "https://localhost:8080/"
        },
        "id": "1US0DRz2h1bG",
        "outputId": "0b8f5b20-b7cd-4e08-ce25-4498bb036e62"
      },
      "source": [
        "x.toarray()"
      ],
      "execution_count": 17,
      "outputs": [
        {
          "output_type": "execute_result",
          "data": {
            "text/plain": [
              "array([[1.],\n",
              "       [0.],\n",
              "       [0.],\n",
              "       [0.],\n",
              "       [0.],\n",
              "       [0.],\n",
              "       [0.],\n",
              "       [0.],\n",
              "       [0.],\n",
              "       [0.],\n",
              "       [1.],\n",
              "       [0.],\n",
              "       [0.],\n",
              "       [0.],\n",
              "       [0.],\n",
              "       [0.],\n",
              "       [0.],\n",
              "       [0.],\n",
              "       [0.],\n",
              "       [0.],\n",
              "       [0.],\n",
              "       [0.],\n",
              "       [0.],\n",
              "       [0.],\n",
              "       [0.],\n",
              "       [0.],\n",
              "       [0.],\n",
              "       [0.],\n",
              "       [0.],\n",
              "       [0.],\n",
              "       [0.],\n",
              "       [0.],\n",
              "       [0.],\n",
              "       [0.],\n",
              "       [0.],\n",
              "       [0.],\n",
              "       [0.],\n",
              "       [0.],\n",
              "       [0.],\n",
              "       [0.],\n",
              "       [0.],\n",
              "       [0.],\n",
              "       [0.],\n",
              "       [0.],\n",
              "       [0.],\n",
              "       [0.],\n",
              "       [0.],\n",
              "       [0.],\n",
              "       [0.],\n",
              "       [0.],\n",
              "       [0.],\n",
              "       [0.],\n",
              "       [0.],\n",
              "       [0.],\n",
              "       [0.],\n",
              "       [0.],\n",
              "       [0.],\n",
              "       [0.],\n",
              "       [0.],\n",
              "       [0.],\n",
              "       [0.],\n",
              "       [0.],\n",
              "       [0.],\n",
              "       [0.],\n",
              "       [0.],\n",
              "       [0.],\n",
              "       [0.],\n",
              "       [0.],\n",
              "       [0.],\n",
              "       [0.],\n",
              "       [0.],\n",
              "       [0.],\n",
              "       [0.],\n",
              "       [0.],\n",
              "       [0.],\n",
              "       [0.],\n",
              "       [0.],\n",
              "       [0.],\n",
              "       [0.],\n",
              "       [0.],\n",
              "       [0.],\n",
              "       [0.],\n",
              "       [0.],\n",
              "       [0.],\n",
              "       [0.],\n",
              "       [0.],\n",
              "       [0.],\n",
              "       [0.],\n",
              "       [0.],\n",
              "       [0.],\n",
              "       [0.],\n",
              "       [0.],\n",
              "       [0.],\n",
              "       [0.],\n",
              "       [0.],\n",
              "       [0.],\n",
              "       [0.],\n",
              "       [0.],\n",
              "       [0.],\n",
              "       [0.],\n",
              "       [0.],\n",
              "       [0.],\n",
              "       [0.],\n",
              "       [0.],\n",
              "       [0.],\n",
              "       [0.],\n",
              "       [0.],\n",
              "       [0.],\n",
              "       [0.],\n",
              "       [0.],\n",
              "       [0.],\n",
              "       [0.],\n",
              "       [0.],\n",
              "       [0.],\n",
              "       [0.],\n",
              "       [0.],\n",
              "       [0.],\n",
              "       [0.],\n",
              "       [0.],\n",
              "       [0.],\n",
              "       [0.],\n",
              "       [0.],\n",
              "       [0.],\n",
              "       [0.],\n",
              "       [0.],\n",
              "       [0.],\n",
              "       [0.],\n",
              "       [0.],\n",
              "       [0.],\n",
              "       [0.],\n",
              "       [0.],\n",
              "       [0.],\n",
              "       [0.],\n",
              "       [0.],\n",
              "       [0.],\n",
              "       [0.],\n",
              "       [0.],\n",
              "       [0.],\n",
              "       [0.],\n",
              "       [0.],\n",
              "       [0.],\n",
              "       [0.],\n",
              "       [0.],\n",
              "       [0.],\n",
              "       [0.],\n",
              "       [0.],\n",
              "       [0.],\n",
              "       [0.],\n",
              "       [0.],\n",
              "       [0.],\n",
              "       [0.],\n",
              "       [0.],\n",
              "       [0.],\n",
              "       [0.],\n",
              "       [0.],\n",
              "       [0.],\n",
              "       [0.],\n",
              "       [0.],\n",
              "       [0.],\n",
              "       [0.],\n",
              "       [0.],\n",
              "       [0.],\n",
              "       [0.],\n",
              "       [0.],\n",
              "       [0.],\n",
              "       [0.],\n",
              "       [0.],\n",
              "       [0.],\n",
              "       [0.],\n",
              "       [0.],\n",
              "       [0.],\n",
              "       [0.],\n",
              "       [0.],\n",
              "       [0.],\n",
              "       [0.],\n",
              "       [0.],\n",
              "       [0.],\n",
              "       [0.],\n",
              "       [0.],\n",
              "       [0.],\n",
              "       [0.],\n",
              "       [0.],\n",
              "       [0.],\n",
              "       [0.],\n",
              "       [0.],\n",
              "       [0.],\n",
              "       [0.],\n",
              "       [0.],\n",
              "       [0.],\n",
              "       [0.],\n",
              "       [0.],\n",
              "       [0.],\n",
              "       [0.],\n",
              "       [0.],\n",
              "       [0.],\n",
              "       [0.],\n",
              "       [0.],\n",
              "       [0.],\n",
              "       [0.],\n",
              "       [0.],\n",
              "       [0.],\n",
              "       [0.],\n",
              "       [0.],\n",
              "       [0.],\n",
              "       [0.],\n",
              "       [0.],\n",
              "       [0.],\n",
              "       [0.],\n",
              "       [0.],\n",
              "       [0.],\n",
              "       [0.],\n",
              "       [0.],\n",
              "       [0.],\n",
              "       [0.],\n",
              "       [0.],\n",
              "       [0.],\n",
              "       [0.],\n",
              "       [0.],\n",
              "       [0.],\n",
              "       [0.],\n",
              "       [0.],\n",
              "       [0.],\n",
              "       [0.],\n",
              "       [0.],\n",
              "       [0.],\n",
              "       [0.],\n",
              "       [0.],\n",
              "       [0.],\n",
              "       [0.],\n",
              "       [0.],\n",
              "       [0.],\n",
              "       [0.],\n",
              "       [0.],\n",
              "       [0.],\n",
              "       [0.],\n",
              "       [0.],\n",
              "       [0.],\n",
              "       [0.],\n",
              "       [0.],\n",
              "       [0.],\n",
              "       [0.],\n",
              "       [0.],\n",
              "       [0.],\n",
              "       [0.],\n",
              "       [0.],\n",
              "       [0.],\n",
              "       [0.],\n",
              "       [0.],\n",
              "       [0.],\n",
              "       [0.],\n",
              "       [0.],\n",
              "       [0.],\n",
              "       [0.],\n",
              "       [0.],\n",
              "       [0.],\n",
              "       [0.],\n",
              "       [0.],\n",
              "       [0.],\n",
              "       [0.],\n",
              "       [0.],\n",
              "       [0.],\n",
              "       [0.],\n",
              "       [0.],\n",
              "       [0.],\n",
              "       [0.],\n",
              "       [0.],\n",
              "       [0.],\n",
              "       [0.],\n",
              "       [0.],\n",
              "       [0.],\n",
              "       [0.],\n",
              "       [0.],\n",
              "       [0.],\n",
              "       [0.],\n",
              "       [0.],\n",
              "       [0.],\n",
              "       [0.],\n",
              "       [0.],\n",
              "       [0.],\n",
              "       [0.],\n",
              "       [0.],\n",
              "       [0.],\n",
              "       [0.],\n",
              "       [0.],\n",
              "       [0.],\n",
              "       [0.],\n",
              "       [0.],\n",
              "       [0.],\n",
              "       [0.],\n",
              "       [0.],\n",
              "       [0.],\n",
              "       [0.],\n",
              "       [0.],\n",
              "       [0.],\n",
              "       [0.],\n",
              "       [0.],\n",
              "       [0.],\n",
              "       [0.],\n",
              "       [0.],\n",
              "       [0.],\n",
              "       [0.],\n",
              "       [0.],\n",
              "       [0.],\n",
              "       [0.],\n",
              "       [0.],\n",
              "       [0.],\n",
              "       [0.],\n",
              "       [0.],\n",
              "       [0.],\n",
              "       [0.],\n",
              "       [0.],\n",
              "       [0.],\n",
              "       [0.],\n",
              "       [0.],\n",
              "       [0.],\n",
              "       [0.],\n",
              "       [0.],\n",
              "       [0.],\n",
              "       [0.],\n",
              "       [0.],\n",
              "       [0.],\n",
              "       [0.],\n",
              "       [0.],\n",
              "       [0.],\n",
              "       [0.],\n",
              "       [0.],\n",
              "       [0.],\n",
              "       [0.],\n",
              "       [0.],\n",
              "       [0.],\n",
              "       [0.],\n",
              "       [0.],\n",
              "       [0.],\n",
              "       [0.],\n",
              "       [0.],\n",
              "       [0.],\n",
              "       [0.],\n",
              "       [0.],\n",
              "       [0.],\n",
              "       [0.],\n",
              "       [0.],\n",
              "       [0.],\n",
              "       [0.],\n",
              "       [0.],\n",
              "       [0.],\n",
              "       [0.],\n",
              "       [0.],\n",
              "       [0.],\n",
              "       [0.],\n",
              "       [0.],\n",
              "       [0.],\n",
              "       [0.],\n",
              "       [0.],\n",
              "       [0.],\n",
              "       [0.],\n",
              "       [0.],\n",
              "       [0.],\n",
              "       [0.],\n",
              "       [0.],\n",
              "       [0.],\n",
              "       [0.],\n",
              "       [0.],\n",
              "       [0.],\n",
              "       [0.],\n",
              "       [0.],\n",
              "       [0.],\n",
              "       [0.],\n",
              "       [0.],\n",
              "       [0.],\n",
              "       [0.],\n",
              "       [0.],\n",
              "       [0.],\n",
              "       [0.],\n",
              "       [0.],\n",
              "       [0.],\n",
              "       [0.],\n",
              "       [0.],\n",
              "       [0.],\n",
              "       [0.],\n",
              "       [0.],\n",
              "       [0.],\n",
              "       [0.],\n",
              "       [0.],\n",
              "       [0.],\n",
              "       [0.],\n",
              "       [0.],\n",
              "       [0.],\n",
              "       [0.],\n",
              "       [0.],\n",
              "       [0.],\n",
              "       [0.],\n",
              "       [0.],\n",
              "       [0.],\n",
              "       [0.],\n",
              "       [0.],\n",
              "       [0.],\n",
              "       [0.],\n",
              "       [0.],\n",
              "       [0.],\n",
              "       [0.],\n",
              "       [0.],\n",
              "       [0.],\n",
              "       [0.],\n",
              "       [0.],\n",
              "       [0.],\n",
              "       [0.],\n",
              "       [0.],\n",
              "       [0.],\n",
              "       [0.],\n",
              "       [0.],\n",
              "       [0.],\n",
              "       [0.],\n",
              "       [0.],\n",
              "       [0.],\n",
              "       [0.],\n",
              "       [0.],\n",
              "       [0.],\n",
              "       [0.],\n",
              "       [0.],\n",
              "       [0.],\n",
              "       [0.],\n",
              "       [0.],\n",
              "       [0.],\n",
              "       [0.],\n",
              "       [0.],\n",
              "       [0.],\n",
              "       [0.],\n",
              "       [0.],\n",
              "       [0.],\n",
              "       [0.],\n",
              "       [0.],\n",
              "       [0.],\n",
              "       [0.],\n",
              "       [0.],\n",
              "       [0.],\n",
              "       [0.],\n",
              "       [0.],\n",
              "       [0.],\n",
              "       [0.],\n",
              "       [0.],\n",
              "       [0.],\n",
              "       [0.],\n",
              "       [0.],\n",
              "       [0.],\n",
              "       [0.],\n",
              "       [0.],\n",
              "       [0.],\n",
              "       [0.],\n",
              "       [0.],\n",
              "       [0.],\n",
              "       [0.],\n",
              "       [0.],\n",
              "       [0.],\n",
              "       [0.],\n",
              "       [0.],\n",
              "       [0.],\n",
              "       [0.],\n",
              "       [0.],\n",
              "       [0.],\n",
              "       [0.],\n",
              "       [0.],\n",
              "       [0.],\n",
              "       [0.],\n",
              "       [0.],\n",
              "       [0.],\n",
              "       [0.],\n",
              "       [0.],\n",
              "       [0.],\n",
              "       [0.],\n",
              "       [0.],\n",
              "       [0.],\n",
              "       [0.],\n",
              "       [0.],\n",
              "       [0.],\n",
              "       [0.],\n",
              "       [0.],\n",
              "       [0.],\n",
              "       [0.],\n",
              "       [0.],\n",
              "       [0.],\n",
              "       [0.],\n",
              "       [0.],\n",
              "       [0.],\n",
              "       [0.],\n",
              "       [0.],\n",
              "       [0.],\n",
              "       [0.],\n",
              "       [0.],\n",
              "       [0.],\n",
              "       [0.],\n",
              "       [0.],\n",
              "       [0.],\n",
              "       [0.],\n",
              "       [0.],\n",
              "       [0.],\n",
              "       [0.],\n",
              "       [0.],\n",
              "       [0.],\n",
              "       [0.],\n",
              "       [0.],\n",
              "       [0.],\n",
              "       [0.],\n",
              "       [0.],\n",
              "       [0.],\n",
              "       [0.],\n",
              "       [0.],\n",
              "       [0.],\n",
              "       [0.],\n",
              "       [0.],\n",
              "       [0.],\n",
              "       [0.],\n",
              "       [0.],\n",
              "       [0.],\n",
              "       [0.],\n",
              "       [0.],\n",
              "       [0.],\n",
              "       [0.],\n",
              "       [0.],\n",
              "       [0.],\n",
              "       [0.],\n",
              "       [0.],\n",
              "       [0.],\n",
              "       [0.],\n",
              "       [0.],\n",
              "       [0.],\n",
              "       [0.],\n",
              "       [0.],\n",
              "       [0.],\n",
              "       [0.],\n",
              "       [0.],\n",
              "       [0.],\n",
              "       [0.],\n",
              "       [0.],\n",
              "       [0.],\n",
              "       [0.],\n",
              "       [0.],\n",
              "       [0.],\n",
              "       [0.],\n",
              "       [0.],\n",
              "       [0.],\n",
              "       [0.],\n",
              "       [0.],\n",
              "       [0.],\n",
              "       [0.],\n",
              "       [0.],\n",
              "       [0.],\n",
              "       [0.],\n",
              "       [0.],\n",
              "       [0.],\n",
              "       [0.],\n",
              "       [0.],\n",
              "       [0.],\n",
              "       [0.],\n",
              "       [0.],\n",
              "       [0.],\n",
              "       [0.],\n",
              "       [0.],\n",
              "       [0.],\n",
              "       [0.],\n",
              "       [0.],\n",
              "       [0.],\n",
              "       [0.],\n",
              "       [0.],\n",
              "       [0.],\n",
              "       [0.],\n",
              "       [0.],\n",
              "       [0.],\n",
              "       [0.],\n",
              "       [0.],\n",
              "       [0.],\n",
              "       [0.],\n",
              "       [0.],\n",
              "       [0.],\n",
              "       [0.],\n",
              "       [0.],\n",
              "       [0.],\n",
              "       [0.],\n",
              "       [0.],\n",
              "       [0.],\n",
              "       [0.],\n",
              "       [0.],\n",
              "       [0.],\n",
              "       [0.],\n",
              "       [0.],\n",
              "       [0.],\n",
              "       [0.],\n",
              "       [0.],\n",
              "       [0.],\n",
              "       [0.],\n",
              "       [0.],\n",
              "       [0.],\n",
              "       [0.],\n",
              "       [0.],\n",
              "       [0.],\n",
              "       [0.],\n",
              "       [0.],\n",
              "       [0.],\n",
              "       [0.],\n",
              "       [0.],\n",
              "       [0.],\n",
              "       [0.],\n",
              "       [0.],\n",
              "       [0.],\n",
              "       [0.],\n",
              "       [0.],\n",
              "       [0.],\n",
              "       [0.],\n",
              "       [0.],\n",
              "       [0.],\n",
              "       [0.],\n",
              "       [0.],\n",
              "       [0.],\n",
              "       [0.],\n",
              "       [0.],\n",
              "       [0.],\n",
              "       [0.],\n",
              "       [0.],\n",
              "       [0.],\n",
              "       [0.],\n",
              "       [0.],\n",
              "       [0.],\n",
              "       [0.],\n",
              "       [0.],\n",
              "       [0.],\n",
              "       [0.],\n",
              "       [0.],\n",
              "       [0.],\n",
              "       [0.],\n",
              "       [0.],\n",
              "       [0.],\n",
              "       [0.],\n",
              "       [0.],\n",
              "       [0.],\n",
              "       [0.],\n",
              "       [0.],\n",
              "       [0.],\n",
              "       [0.],\n",
              "       [0.],\n",
              "       [0.],\n",
              "       [0.],\n",
              "       [0.],\n",
              "       [0.],\n",
              "       [0.],\n",
              "       [0.],\n",
              "       [0.],\n",
              "       [0.],\n",
              "       [0.],\n",
              "       [0.],\n",
              "       [0.],\n",
              "       [0.],\n",
              "       [0.],\n",
              "       [0.],\n",
              "       [0.],\n",
              "       [0.],\n",
              "       [0.],\n",
              "       [0.],\n",
              "       [0.],\n",
              "       [0.],\n",
              "       [0.],\n",
              "       [0.],\n",
              "       [0.],\n",
              "       [0.],\n",
              "       [0.],\n",
              "       [0.],\n",
              "       [0.],\n",
              "       [0.],\n",
              "       [0.],\n",
              "       [0.],\n",
              "       [0.],\n",
              "       [0.],\n",
              "       [0.],\n",
              "       [0.],\n",
              "       [0.],\n",
              "       [0.],\n",
              "       [0.],\n",
              "       [0.],\n",
              "       [0.],\n",
              "       [0.],\n",
              "       [0.],\n",
              "       [0.],\n",
              "       [0.],\n",
              "       [0.],\n",
              "       [0.],\n",
              "       [0.],\n",
              "       [0.],\n",
              "       [0.],\n",
              "       [0.],\n",
              "       [0.],\n",
              "       [0.],\n",
              "       [0.],\n",
              "       [0.],\n",
              "       [0.],\n",
              "       [0.],\n",
              "       [0.],\n",
              "       [0.],\n",
              "       [0.],\n",
              "       [0.],\n",
              "       [0.],\n",
              "       [0.],\n",
              "       [0.],\n",
              "       [0.],\n",
              "       [0.],\n",
              "       [0.],\n",
              "       [0.],\n",
              "       [0.],\n",
              "       [0.],\n",
              "       [0.],\n",
              "       [0.],\n",
              "       [0.],\n",
              "       [0.],\n",
              "       [0.],\n",
              "       [0.],\n",
              "       [0.],\n",
              "       [0.],\n",
              "       [0.],\n",
              "       [0.],\n",
              "       [0.],\n",
              "       [0.],\n",
              "       [0.],\n",
              "       [0.],\n",
              "       [0.],\n",
              "       [0.],\n",
              "       [0.],\n",
              "       [0.],\n",
              "       [0.],\n",
              "       [0.],\n",
              "       [0.],\n",
              "       [0.],\n",
              "       [0.],\n",
              "       [0.],\n",
              "       [0.],\n",
              "       [0.],\n",
              "       [0.],\n",
              "       [0.],\n",
              "       [0.],\n",
              "       [0.],\n",
              "       [0.],\n",
              "       [0.],\n",
              "       [0.],\n",
              "       [0.],\n",
              "       [0.],\n",
              "       [0.],\n",
              "       [0.],\n",
              "       [0.],\n",
              "       [0.],\n",
              "       [0.],\n",
              "       [0.],\n",
              "       [0.],\n",
              "       [0.],\n",
              "       [0.],\n",
              "       [0.],\n",
              "       [0.],\n",
              "       [0.],\n",
              "       [0.],\n",
              "       [0.],\n",
              "       [0.],\n",
              "       [0.],\n",
              "       [0.],\n",
              "       [0.],\n",
              "       [0.],\n",
              "       [0.],\n",
              "       [0.],\n",
              "       [0.],\n",
              "       [0.],\n",
              "       [0.],\n",
              "       [0.],\n",
              "       [0.],\n",
              "       [0.],\n",
              "       [0.],\n",
              "       [0.],\n",
              "       [0.],\n",
              "       [0.],\n",
              "       [0.],\n",
              "       [0.],\n",
              "       [0.],\n",
              "       [0.],\n",
              "       [0.],\n",
              "       [0.],\n",
              "       [0.],\n",
              "       [0.],\n",
              "       [0.],\n",
              "       [0.],\n",
              "       [0.],\n",
              "       [0.],\n",
              "       [0.],\n",
              "       [0.],\n",
              "       [0.],\n",
              "       [0.],\n",
              "       [0.],\n",
              "       [0.],\n",
              "       [0.],\n",
              "       [0.],\n",
              "       [0.],\n",
              "       [0.],\n",
              "       [0.],\n",
              "       [0.],\n",
              "       [0.],\n",
              "       [0.],\n",
              "       [0.],\n",
              "       [0.],\n",
              "       [0.],\n",
              "       [0.],\n",
              "       [0.],\n",
              "       [0.],\n",
              "       [0.],\n",
              "       [0.],\n",
              "       [0.],\n",
              "       [0.],\n",
              "       [0.],\n",
              "       [0.],\n",
              "       [0.],\n",
              "       [0.],\n",
              "       [0.],\n",
              "       [0.],\n",
              "       [0.],\n",
              "       [0.],\n",
              "       [0.],\n",
              "       [0.],\n",
              "       [0.],\n",
              "       [0.],\n",
              "       [0.],\n",
              "       [0.],\n",
              "       [0.],\n",
              "       [0.],\n",
              "       [0.],\n",
              "       [0.],\n",
              "       [0.],\n",
              "       [0.],\n",
              "       [0.],\n",
              "       [0.],\n",
              "       [0.],\n",
              "       [0.],\n",
              "       [0.],\n",
              "       [0.],\n",
              "       [0.],\n",
              "       [0.],\n",
              "       [0.],\n",
              "       [0.],\n",
              "       [0.],\n",
              "       [0.],\n",
              "       [0.],\n",
              "       [0.],\n",
              "       [0.],\n",
              "       [0.],\n",
              "       [0.],\n",
              "       [0.],\n",
              "       [0.],\n",
              "       [0.],\n",
              "       [0.],\n",
              "       [0.],\n",
              "       [0.],\n",
              "       [0.],\n",
              "       [0.],\n",
              "       [0.],\n",
              "       [0.],\n",
              "       [0.],\n",
              "       [0.],\n",
              "       [0.],\n",
              "       [0.],\n",
              "       [0.],\n",
              "       [0.],\n",
              "       [0.],\n",
              "       [0.],\n",
              "       [0.],\n",
              "       [0.],\n",
              "       [0.],\n",
              "       [0.],\n",
              "       [0.],\n",
              "       [0.],\n",
              "       [0.],\n",
              "       [0.],\n",
              "       [0.],\n",
              "       [0.],\n",
              "       [0.],\n",
              "       [0.],\n",
              "       [0.],\n",
              "       [0.],\n",
              "       [0.],\n",
              "       [0.],\n",
              "       [0.],\n",
              "       [0.],\n",
              "       [0.],\n",
              "       [0.],\n",
              "       [0.],\n",
              "       [0.],\n",
              "       [0.],\n",
              "       [0.],\n",
              "       [0.],\n",
              "       [0.],\n",
              "       [0.],\n",
              "       [0.],\n",
              "       [0.],\n",
              "       [0.],\n",
              "       [0.],\n",
              "       [0.],\n",
              "       [0.],\n",
              "       [0.],\n",
              "       [0.],\n",
              "       [0.],\n",
              "       [0.],\n",
              "       [0.],\n",
              "       [0.],\n",
              "       [0.],\n",
              "       [0.],\n",
              "       [0.],\n",
              "       [0.],\n",
              "       [0.],\n",
              "       [0.],\n",
              "       [0.],\n",
              "       [0.],\n",
              "       [0.],\n",
              "       [0.],\n",
              "       [0.],\n",
              "       [0.],\n",
              "       [0.],\n",
              "       [0.],\n",
              "       [0.],\n",
              "       [0.],\n",
              "       [0.],\n",
              "       [0.],\n",
              "       [0.],\n",
              "       [0.],\n",
              "       [0.],\n",
              "       [0.],\n",
              "       [0.],\n",
              "       [0.],\n",
              "       [0.],\n",
              "       [0.],\n",
              "       [0.],\n",
              "       [0.],\n",
              "       [0.],\n",
              "       [0.],\n",
              "       [0.],\n",
              "       [0.],\n",
              "       [0.],\n",
              "       [0.],\n",
              "       [0.],\n",
              "       [0.],\n",
              "       [0.],\n",
              "       [0.],\n",
              "       [0.],\n",
              "       [0.],\n",
              "       [0.],\n",
              "       [0.],\n",
              "       [0.],\n",
              "       [0.],\n",
              "       [0.],\n",
              "       [0.],\n",
              "       [0.],\n",
              "       [0.],\n",
              "       [0.],\n",
              "       [0.],\n",
              "       [0.],\n",
              "       [0.],\n",
              "       [0.],\n",
              "       [0.],\n",
              "       [0.],\n",
              "       [0.],\n",
              "       [0.],\n",
              "       [0.],\n",
              "       [0.],\n",
              "       [0.],\n",
              "       [0.],\n",
              "       [0.],\n",
              "       [0.],\n",
              "       [0.],\n",
              "       [0.],\n",
              "       [0.],\n",
              "       [0.],\n",
              "       [0.],\n",
              "       [0.],\n",
              "       [0.],\n",
              "       [0.],\n",
              "       [0.],\n",
              "       [0.],\n",
              "       [0.],\n",
              "       [0.],\n",
              "       [0.],\n",
              "       [0.],\n",
              "       [0.],\n",
              "       [0.],\n",
              "       [0.]])"
            ]
          },
          "metadata": {
            "tags": []
          },
          "execution_count": 17
        }
      ]
    },
    {
      "cell_type": "code",
      "metadata": {
        "id": "m8iGpLFph3pd"
      },
      "source": [
        ""
      ],
      "execution_count": null,
      "outputs": []
    }
  ]
}