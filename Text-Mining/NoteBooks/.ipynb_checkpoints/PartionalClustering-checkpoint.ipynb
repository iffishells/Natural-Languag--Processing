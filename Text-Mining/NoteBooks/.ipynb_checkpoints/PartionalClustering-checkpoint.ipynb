{
 "cells": [
  {
   "cell_type": "code",
   "execution_count": 20,
   "metadata": {},
   "outputs": [
    {
     "name": "stdout",
     "output_type": "stream",
     "text": [
      "  (0, 1)\t0.9486832980505138\n",
      "  (0, 6)\t0.31622776601683794\n",
      "  (1, 2)\t0.5426069004353046\n",
      "  (1, 1)\t0.3756534976810389\n",
      "  (1, 6)\t0.7513069953620778\n",
      "  (2, 1)\t0.8\n",
      "  (2, 6)\t0.6\n",
      "  (3, 0)\t0.3120999883140057\n",
      "  (3, 4)\t0.5269925111989872\n",
      "  (3, 3)\t0.7904887667984807\n",
      "  (4, 5)\t0.6834283294374781\n",
      "  (4, 0)\t0.34171416471873906\n",
      "  (4, 4)\t0.5769971564247937\n",
      "  (4, 3)\t0.28849857821239683\n",
      "  (5, 5)\t0.3862669126467143\n",
      "  (5, 4)\t0.6522261387718127\n",
      "  (5, 3)\t0.6522261387718127\n",
      "KMeans(n_clusters=2)\n",
      "[0 0 0 1 1]\n",
      "[1]\n"
     ]
    }
   ],
   "source": [
    "# -*- coding: utf-8 -*-\n",
    "\"\"\"\n",
    "Created on Fri Jun 19 18:22:32 2020\n",
    "\n",
    "@author: Dr. Taimoor\n",
    "\"\"\"\n",
    "#Reading the input data\n",
    "corpus = ['milk bread bread bread', \n",
    "          'break milk milk bread',\n",
    "         'milk milk milk bread bread bread bread',\n",
    "         'cat cat cat dog dog bark',\n",
    "         'dog dog cat bark mew mew',\n",
    "         'cat dog cat dog mew']\n",
    "\n",
    "#Structuring input data\n",
    "from sklearn.feature_extraction.text import TfidfVectorizer\n",
    "tfidf = TfidfVectorizer()\n",
    "matrix_input = tfidf.fit_transform(corpus)\n",
    "\n",
    "print(matrix_input)\n",
    "\n",
    "#importing KMeans and training model\n",
    "from sklearn.cluster import KMeans\n",
    "km = KMeans(n_clusters = 2)\n",
    "print(km)\n",
    "km.fit(matrix_input[:-1])\n",
    "\n",
    "#printing cluster labels of documents in the training data\n",
    "print(km.labels_)\n",
    "\n",
    "#printing label for the unseen document\n",
    "print(km.predict(matrix_input[-1:]))"
   ]
  },
  {
   "cell_type": "code",
   "execution_count": 36,
   "metadata": {},
   "outputs": [
    {
     "name": "stdout",
     "output_type": "stream",
     "text": [
      "[0 0 0 1 1]\n",
      "[1]\n",
      "(array([[0.        , 1.73205081]]), array([[3, 5]]))\n"
     ]
    },
    {
     "data": {
      "text/plain": [
       "(array([array([0.])], dtype=object), array([array([3])], dtype=object))"
      ]
     },
     "execution_count": 36,
     "metadata": {},
     "output_type": "execute_result"
    }
   ],
   "source": [
    "# -*- coding: utf-8 -*-\n",
    "\"\"\"\n",
    "Created on Mon Sep  9 12:08:10 2019\n",
    "\n",
    "@author: taimo\n",
    "\"\"\"\n",
    "\n",
    "corpus = ['milk bread bread bread', \n",
    "          'break milk milk bread',\n",
    "         'milk milk milk bread bread bread bread',\n",
    "         'cat cat cat dog dog bark',\n",
    "         'dog dog cat bark mew mew',\n",
    "         'cat dog cat dog mew']\n",
    "    \n",
    "from sklearn.feature_extraction.text import CountVectorizer\n",
    "vec = CountVectorizer()\n",
    "\n",
    "matrix_X = vec.fit_transform(corpus)\n",
    "\n",
    "from sklearn.cluster import KMeans\n",
    "kmeans = KMeans(n_clusters = 2, max_iter = 300, tol = 1e-4)\n",
    "kmeans.fit(matrix_X[:5])\n",
    "print(kmeans.labels_)\n",
    "print(kmeans.predict(matrix_X[5]))\n",
    "\n",
    "from sklearn.neighbors import NearestNeighbors\n",
    "kn = NearestNeighbors()\n",
    "kn.fit(matrix_X)\n",
    "print(kn.kneighbors(matrix_X[3], 2))\n",
    "kn.radius_neighbors(matrix_X[3], radius = 1.7)"
   ]
  },
  {
   "cell_type": "code",
   "execution_count": null,
   "metadata": {},
   "outputs": [],
   "source": []
  },
  {
   "cell_type": "raw",
   "metadata": {},
   "source": []
  },
  {
   "cell_type": "code",
   "execution_count": 11,
   "metadata": {},
   "outputs": [],
   "source": []
  },
  {
   "cell_type": "code",
   "execution_count": 19,
   "metadata": {},
   "outputs": [
    {
     "name": "stdout",
     "output_type": "stream",
     "text": [
      "Predict Value :  [0]\n"
     ]
    }
   ],
   "source": []
  },
  {
   "cell_type": "code",
   "execution_count": null,
   "metadata": {},
   "outputs": [],
   "source": []
  }
 ],
 "metadata": {
  "kernelspec": {
   "display_name": "Python 3",
   "language": "python",
   "name": "python3"
  },
  "language_info": {
   "codemirror_mode": {
    "name": "ipython",
    "version": 3
   },
   "file_extension": ".py",
   "mimetype": "text/x-python",
   "name": "python",
   "nbconvert_exporter": "python",
   "pygments_lexer": "ipython3",
   "version": "3.8.3"
  }
 },
 "nbformat": 4,
 "nbformat_minor": 4
}
