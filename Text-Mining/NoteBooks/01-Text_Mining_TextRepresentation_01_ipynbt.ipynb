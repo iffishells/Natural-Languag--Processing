{
  "nbformat": 4,
  "nbformat_minor": 0,
  "metadata": {
    "colab": {
      "name": "Text-Mining-TextRepresentation-01.ipynbt",
      "provenance": [],
      "collapsed_sections": [],
      "authorship_tag": "ABX9TyMd/U6+CB+Y2JKX6StAvtHG",
      "include_colab_link": true
    },
    "kernelspec": {
      "name": "python3",
      "display_name": "Python 3"
    },
    "language_info": {
      "name": "python"
    }
  },
  "cells": [
    {
      "cell_type": "markdown",
      "metadata": {
        "id": "view-in-github",
        "colab_type": "text"
      },
      "source": [
        "<a href=\"https://colab.research.google.com/github/iffishells/Data-Science/blob/main/Text_Mining_TextRepresentation_01_ipynbt.ipynb\" target=\"_parent\"><img src=\"https://colab.research.google.com/assets/colab-badge.svg\" alt=\"Open In Colab\"/></a>"
      ]
    },
    {
      "cell_type": "markdown",
      "metadata": {
        "id": "Hd80vLwGg-X3"
      },
      "source": [
        "# ***Text Representation***"
      ]
    },
    {
      "cell_type": "markdown",
      "metadata": {
        "id": "ftjPeZEaQUg9"
      },
      "source": [
        "# ***For one Document***"
      ]
    },
    {
      "cell_type": "code",
      "metadata": {
        "id": "B1dRESHVg3Ay"
      },
      "source": [
        "corpus  = [\"I am interested in Data Science InshaAllah i will done it.\"]"
      ],
      "execution_count": 1,
      "outputs": []
    },
    {
      "cell_type": "code",
      "metadata": {
        "id": "-D4DG2JLiLfk"
      },
      "source": [
        "# !pip install sklearn # onnce\n",
        "# !pip install -U scikit-learn"
      ],
      "execution_count": 3,
      "outputs": []
    },
    {
      "cell_type": "code",
      "metadata": {
        "id": "1bEMWHf8hSnC"
      },
      "source": [
        "from sklearn.feature_extraction.text import CountVectorizer"
      ],
      "execution_count": 4,
      "outputs": []
    },
    {
      "cell_type": "code",
      "metadata": {
        "id": "OVz4_mTiiBIa",
        "colab": {
          "base_uri": "https://localhost:8080/"
        },
        "outputId": "7542da2d-3337-4578-c995-b6dfe94ec415"
      },
      "source": [
        "vec = CountVectorizer()  # vector\n",
        "\n",
        "x = vec.fit_transform(corpus)\n",
        "x\n",
        "\n",
        "# 1 X 9 1 is documents and 9 is the number of the featuers\n",
        "# because in the documents row are the number of the documents\n",
        "# and columns are the number of the features\n",
        "\n"
      ],
      "execution_count": 8,
      "outputs": [
        {
          "output_type": "execute_result",
          "data": {
            "text/plain": [
              "<1x9 sparse matrix of type '<class 'numpy.int64'>'\n",
              "\twith 9 stored elements in Compressed Sparse Row format>"
            ]
          },
          "metadata": {
            "tags": []
          },
          "execution_count": 8
        }
      ]
    },
    {
      "cell_type": "code",
      "metadata": {
        "colab": {
          "base_uri": "https://localhost:8080/"
        },
        "id": "egG5ijwQNZek",
        "outputId": "86077ee1-7c55-4e9a-dc8f-9192d2acad86"
      },
      "source": [
        "## binary representation not the frequeny !\n",
        "x.toarray()"
      ],
      "execution_count": 16,
      "outputs": [
        {
          "output_type": "execute_result",
          "data": {
            "text/plain": [
              "array([[1, 1, 1, 1, 1, 1, 1, 1, 1]])"
            ]
          },
          "metadata": {
            "tags": []
          },
          "execution_count": 16
        }
      ]
    },
    {
      "cell_type": "code",
      "metadata": {
        "colab": {
          "base_uri": "https://localhost:8080/"
        },
        "id": "eWggtrDNOOXN",
        "outputId": "a30b2f3e-cd7a-44ec-cf31-a653b7ecc90a"
      },
      "source": [
        "# Get the features name form the documents\n",
        "vec.get_feature_names()"
      ],
      "execution_count": 17,
      "outputs": [
        {
          "output_type": "execute_result",
          "data": {
            "text/plain": [
              "['am',\n",
              " 'data',\n",
              " 'done',\n",
              " 'in',\n",
              " 'inshaallah',\n",
              " 'interested',\n",
              " 'it',\n",
              " 'science',\n",
              " 'will']"
            ]
          },
          "metadata": {
            "tags": []
          },
          "execution_count": 17
        }
      ]
    },
    {
      "cell_type": "code",
      "metadata": {
        "colab": {
          "base_uri": "https://localhost:8080/"
        },
        "id": "9vRD3c5pOU29",
        "outputId": "be2283bb-26db-4501-e1a8-e197d769ef9f"
      },
      "source": [
        "# len of features name form the documents\n",
        "len(vec.get_feature_names())"
      ],
      "execution_count": 12,
      "outputs": [
        {
          "output_type": "execute_result",
          "data": {
            "text/plain": [
              "9"
            ]
          },
          "metadata": {
            "tags": []
          },
          "execution_count": 12
        }
      ]
    },
    {
      "cell_type": "code",
      "metadata": {
        "colab": {
          "base_uri": "https://localhost:8080/"
        },
        "id": "wP45DRqFOdL1",
        "outputId": "057a253a-5a45-4d8b-fe20-627deddb53c0"
      },
      "source": [
        "## vacubulary of the documents\n",
        "# key are the name of the features \n",
        "# value are the frequncy of the word\n",
        "vec.vocabulary_"
      ],
      "execution_count": 18,
      "outputs": [
        {
          "output_type": "execute_result",
          "data": {
            "text/plain": [
              "{'am': 0,\n",
              " 'data': 1,\n",
              " 'done': 2,\n",
              " 'in': 3,\n",
              " 'inshaallah': 4,\n",
              " 'interested': 5,\n",
              " 'it': 6,\n",
              " 'science': 7,\n",
              " 'will': 8}"
            ]
          },
          "metadata": {
            "tags": []
          },
          "execution_count": 18
        }
      ]
    },
    {
      "cell_type": "code",
      "metadata": {
        "colab": {
          "base_uri": "https://localhost:8080/"
        },
        "id": "wiJ-TPkdOnBZ",
        "outputId": "b2a0d622-2669-4488-eee4-40b93e9aec82"
      },
      "source": [
        "len(vec.vocabulary_)"
      ],
      "execution_count": 19,
      "outputs": [
        {
          "output_type": "execute_result",
          "data": {
            "text/plain": [
              "9"
            ]
          },
          "metadata": {
            "tags": []
          },
          "execution_count": 19
        }
      ]
    },
    {
      "cell_type": "markdown",
      "metadata": {
        "id": "BvMcmfl4QfDo"
      },
      "source": [
        "# ***Multi Documents***"
      ]
    },
    {
      "cell_type": "code",
      "metadata": {
        "id": "-95voQoVOt9Q"
      },
      "source": [
        "corpus = [\"text text text mining is interesting\",\n",
        "          'test mining is the same as data mining',\n",
        "          \"text and data have few difference\"]\n"
      ],
      "execution_count": 43,
      "outputs": []
    },
    {
      "cell_type": "code",
      "metadata": {
        "id": "stpKKOtoQxGJ"
      },
      "source": [
        "from sklearn.feature_extraction.text import CountVectorizer\n"
      ],
      "execution_count": 44,
      "outputs": []
    },
    {
      "cell_type": "code",
      "metadata": {
        "id": "_YQrkOuSQ3Lb"
      },
      "source": [
        "\n",
        "vec  = CountVectorizer()"
      ],
      "execution_count": 45,
      "outputs": []
    },
    {
      "cell_type": "code",
      "metadata": {
        "id": "v34wmbHBREzt"
      },
      "source": [
        "x = vec.fit_transform(corpus)"
      ],
      "execution_count": 46,
      "outputs": []
    },
    {
      "cell_type": "code",
      "metadata": {
        "colab": {
          "base_uri": "https://localhost:8080/"
        },
        "id": "ZOpx2eLeRheA",
        "outputId": "f49ad31d-8fb8-4b46-d5aa-46a057115a26"
      },
      "source": [
        "x.toarray()"
      ],
      "execution_count": 47,
      "outputs": [
        {
          "output_type": "execute_result",
          "data": {
            "text/plain": [
              "array([[0, 0, 0, 0, 0, 0, 1, 1, 1, 0, 0, 3, 0],\n",
              "       [0, 1, 1, 0, 0, 0, 0, 1, 2, 1, 1, 0, 1],\n",
              "       [1, 0, 1, 1, 1, 1, 0, 0, 0, 0, 0, 1, 0]])"
            ]
          },
          "metadata": {
            "tags": []
          },
          "execution_count": 47
        }
      ]
    },
    {
      "cell_type": "code",
      "metadata": {
        "colab": {
          "base_uri": "https://localhost:8080/"
        },
        "id": "efBAHIqJRnMv",
        "outputId": "de2db19f-5344-4f00-8399-19c25d7c6cfe"
      },
      "source": [
        "vec.get_feature_names()"
      ],
      "execution_count": 48,
      "outputs": [
        {
          "output_type": "execute_result",
          "data": {
            "text/plain": [
              "['and',\n",
              " 'as',\n",
              " 'data',\n",
              " 'difference',\n",
              " 'few',\n",
              " 'have',\n",
              " 'interesting',\n",
              " 'is',\n",
              " 'mining',\n",
              " 'same',\n",
              " 'test',\n",
              " 'text',\n",
              " 'the']"
            ]
          },
          "metadata": {
            "tags": []
          },
          "execution_count": 48
        }
      ]
    },
    {
      "cell_type": "code",
      "metadata": {
        "colab": {
          "base_uri": "https://localhost:8080/"
        },
        "id": "mbuAr7DFRuvF",
        "outputId": "e217926c-31af-442a-d9b8-49f104ce1577"
      },
      "source": [
        "len(vec.get_feature_names())"
      ],
      "execution_count": 49,
      "outputs": [
        {
          "output_type": "execute_result",
          "data": {
            "text/plain": [
              "13"
            ]
          },
          "metadata": {
            "tags": []
          },
          "execution_count": 49
        }
      ]
    },
    {
      "cell_type": "code",
      "metadata": {
        "colab": {
          "base_uri": "https://localhost:8080/"
        },
        "id": "fWi_KvtzR4zq",
        "outputId": "607a7137-b5f4-4cea-b12e-08f407142bbe"
      },
      "source": [
        "vec.vocabulary_"
      ],
      "execution_count": 50,
      "outputs": [
        {
          "output_type": "execute_result",
          "data": {
            "text/plain": [
              "{'and': 0,\n",
              " 'as': 1,\n",
              " 'data': 2,\n",
              " 'difference': 3,\n",
              " 'few': 4,\n",
              " 'have': 5,\n",
              " 'interesting': 6,\n",
              " 'is': 7,\n",
              " 'mining': 8,\n",
              " 'same': 9,\n",
              " 'test': 10,\n",
              " 'text': 11,\n",
              " 'the': 12}"
            ]
          },
          "metadata": {
            "tags": []
          },
          "execution_count": 50
        }
      ]
    },
    {
      "cell_type": "markdown",
      "metadata": {
        "id": "qIC0ciJzSdqK"
      },
      "source": [
        "# ***Parameters***"
      ]
    },
    {
      "cell_type": "code",
      "metadata": {
        "colab": {
          "base_uri": "https://localhost:8080/"
        },
        "id": "p6EOzLlqR7SG",
        "outputId": "4a9fa2a8-08fb-4e68-f26c-aafcd4272787"
      },
      "source": [
        "# by setting the parameters you can extract the imformation\n",
        "# according to your requirement like 'max_features ' mean how \n",
        "# you many want features\n",
        "\n",
        "vec = CountVectorizer(binary ='true',\n",
        "                      max_df=3,\n",
        "                      min_df=1,\n",
        "                      max_features=3,\n",
        "                      ngram_range=(1,3))\n",
        "\n",
        "\n",
        "vec.fit_transform(corpus)\n"
      ],
      "execution_count": 65,
      "outputs": [
        {
          "output_type": "execute_result",
          "data": {
            "text/plain": [
              "<3x3 sparse matrix of type '<class 'numpy.int64'>'\n",
              "\twith 6 stored elements in Compressed Sparse Row format>"
            ]
          },
          "metadata": {
            "tags": []
          },
          "execution_count": 65
        }
      ]
    },
    {
      "cell_type": "code",
      "metadata": {
        "colab": {
          "base_uri": "https://localhost:8080/"
        },
        "id": "BN1hE0GYSvc8",
        "outputId": "4b913b19-5554-43a6-8436-97cac7429360"
      },
      "source": [
        "vec.get_feature_names()"
      ],
      "execution_count": 66,
      "outputs": [
        {
          "output_type": "execute_result",
          "data": {
            "text/plain": [
              "['is', 'mining is', 'text']"
            ]
          },
          "metadata": {
            "tags": []
          },
          "execution_count": 66
        }
      ]
    },
    {
      "cell_type": "code",
      "metadata": {
        "colab": {
          "base_uri": "https://localhost:8080/"
        },
        "id": "AKV4aiDfTD-a",
        "outputId": "48cc1e92-87e2-4acc-f0f7-e5dbb1afbb0e"
      },
      "source": [
        "vec.vocabulary_"
      ],
      "execution_count": 67,
      "outputs": [
        {
          "output_type": "execute_result",
          "data": {
            "text/plain": [
              "{'is': 0, 'mining is': 1, 'text': 2}"
            ]
          },
          "metadata": {
            "tags": []
          },
          "execution_count": 67
        }
      ]
    },
    {
      "cell_type": "code",
      "metadata": {
        "id": "zkmdcQz3TKPj"
      },
      "source": [
        ""
      ],
      "execution_count": null,
      "outputs": []
    }
  ]
}